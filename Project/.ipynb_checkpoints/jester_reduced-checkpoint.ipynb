{
 "cells": [
  {
   "cell_type": "code",
   "execution_count": 7,
   "metadata": {
    "scrolled": false
   },
   "outputs": [],
   "source": [
    "from keras.preprocessing.image import ImageDataGenerator\n",
    "from keras.models import Sequential\n",
    "from keras.layers.core import Dense, Dropout, Activation, Flatten, Reshape\n",
    "from keras.layers.convolutional import Conv3D, MaxPooling3D,Conv2D,AveragePooling2D,AveragePooling3D\n",
    "from keras.layers import Dense, GlobalAveragePooling3D,GlobalAveragePooling2D\n",
    "from keras.callbacks import EarlyStopping, ModelCheckpoint, LearningRateScheduler,ReduceLROnPlateau\n",
    "from keras.optimizers import SGD, RMSprop, Adadelta\n",
    "from keras.utils import np_utils, generic_utils, Sequence\n",
    "from keras.layers.normalization import BatchNormalization\n",
    "from keras.layers.convolutional_recurrent import ConvLSTM2D\n",
    "import keras\n",
    "\n",
    "import os\n",
    "import matplotlib\n",
    "import matplotlib.pyplot as plt\n",
    "import numpy as np\n",
    "import cv2\n",
    "from sklearn.model_selection import train_test_split\n",
    "from sklearn import model_selection\n",
    "from sklearn import preprocessing\n",
    "import os\n",
    "save_dir = os.path.join(os.getcwd(),'save_model')"
   ]
  },
  {
   "cell_type": "code",
   "execution_count": 8,
   "metadata": {
    "scrolled": false
   },
   "outputs": [],
   "source": [
    "# image specification\n",
    "img_cols,img_rows=100,176\n",
    "nb_frames = 64    # img_depth or number of frames used for each video\n",
    "# CNN Training parameters\n",
    "nb_classes = 27\n",
    "channels = 2"
   ]
  },
  {
   "cell_type": "code",
   "execution_count": 9,
   "metadata": {
    "scrolled": false
   },
   "outputs": [
    {
     "data": {
      "text/plain": [
       "118562"
      ]
     },
     "execution_count": 9,
     "metadata": {},
     "output_type": "execute_result"
    }
   ],
   "source": [
    "import pandas as pd\n",
    "from sklearn.preprocessing import LabelEncoder\n",
    "\n",
    "# integer encode\n",
    "labels = pd.read_csv('E:\\Jupyter\\Project\\jester-v1-labels.csv',sep=';',header=None,names=['Class'])     # reading the csv file\n",
    "label_encoder = LabelEncoder()\n",
    "labels['Label'] = label_encoder.fit_transform(labels['Class'])\n",
    "\n",
    "#train\n",
    "train = pd.read_csv('E:\\Jupyter\\Project\\jester-v1-train.csv',sep=';',header=None,names=['Video','Class'])     # reading the csv file\n",
    "train['Label'] = label_encoder.fit_transform(train['Class'])\n",
    "\n",
    "#validation\n",
    "validation = pd.read_csv('E:\\Jupyter\\Project\\jester-v1-validation.csv',sep=';',header=None,names=['Video','Class'])     # reading the csv file\n",
    "validation['Label'] = label_encoder.fit_transform(validation['Class'])\n",
    "\n",
    "#test\n",
    "#test = pd.read_csv('E:\\Jupyter\\Project\\jester-v1-test.csv',sep=';',header=None,names=['Video'])     # reading the csv file\n",
    "\n",
    "#print labels\n",
    "#labels\n",
    "\"\"\"\n",
    "partition_dict = {\n",
    "    \"train\": train[\"Video\"].tolist(),\n",
    "    \"validation\": validation[\"Video\"].tolist()\n",
    "}\"\"\"\n",
    "temp = pd.concat([train, validation])\n",
    "temp = temp.set_index(\"Video\")\n",
    "#temp = train.set_index(\"Video\")\n",
    "temp.transpose()\n",
    "labels_dict = temp[\"Label\"].to_dict()\n",
    "len(train)"
   ]
  },
  {
   "cell_type": "code",
   "execution_count": 10,
   "metadata": {},
   "outputs": [
    {
     "data": {
      "text/plain": [
       "3063"
      ]
     },
     "execution_count": 10,
     "metadata": {},
     "output_type": "execute_result"
    }
   ],
   "source": [
    "#train\n",
    "labels = labels[labels[\"Class\"].isin([\"No gesture\",\"Swiping Left\",\"Swiping Right\",\"Stop Sign\",\"Rolling Hand Forward\",\"Rolling Hand Backward\"])]\n",
    "labels['Label'] = label_encoder.fit_transform(labels['Class'])\n",
    "\n",
    "#train\n",
    "train = train[train[\"Class\"].isin([\"No gesture\",\"Swiping Left\",\"Swiping Right\",\"Stop Sign\",\"Rolling Hand Forward\",\"Rolling Hand Backward\"])]\n",
    "train['Label'] = label_encoder.fit_transform(train['Class'])\n",
    "\n",
    "#validation\n",
    "validation = validation[validation[\"Class\"].isin([\"No gesture\",\"Swiping Left\",\"Swiping Right\",\"Stop Sign\",\"Rolling Hand Forward\",\"Rolling Hand Backward\"])]\n",
    "validation['Label'] = label_encoder.fit_transform(validation['Class'])\n",
    "\n",
    "#test\n",
    "#test = pd.read_csv('E:\\Jupyter\\Project\\jester-v1-test.csv',sep=';',header=None,names=['Video'])     # reading the csv file\n",
    "\n",
    "#print labels\n",
    "#labels\n",
    "\"\"\"\n",
    "partition_dict = {\n",
    "    \"train\": train[\"Video\"].tolist(),\n",
    "    \"validation\": validation[\"Video\"].tolist()\n",
    "}\"\"\"\n",
    "temp = pd.concat([train, validation])\n",
    "temp = temp.set_index(\"Video\")\n",
    "#temp = train.set_index(\"Video\")\n",
    "temp.transpose()\n",
    "labels_dict = {}\n",
    "labels_dict = temp[\"Label\"].to_dict()\n",
    "len(train)\n",
    "len(validation)"
   ]
  },
  {
   "cell_type": "code",
   "execution_count": 11,
   "metadata": {
    "scrolled": false
   },
   "outputs": [],
   "source": [
    "import random\n",
    "def data_gen(train_list, batch_size=64):\n",
    "    while True:\n",
    "        current_vid=0\n",
    "        X_tr_array = np.zeros([batch_size,nb_frames,img_cols,img_rows,channels])\n",
    "        Y_train = np.zeros([batch_size, nb_classes])\n",
    "        for vid_ID in random.sample(train_list,batch_size):\n",
    "            frame_count=0\n",
    "            pos_dir = os.path.join(\"E:/Jupyter/Project/generated_images_timeSampled/pos\",str(vid_ID))\n",
    "            neg_dir = os.path.join(\"E:/Jupyter/Project/generated_images_timeSampled/neg\",str(vid_ID))\n",
    "            for img_ID in sorted(os.listdir(pos_dir)):\n",
    "                pos = os.path.join(pos_dir,img_ID)\n",
    "                neg = os.path.join(neg_dir,img_ID)\n",
    "                p_img = cv2.imread(pos,0)\n",
    "                X_tr_array[current_vid,frame_count,:,:,0]=p_img\n",
    "                n_img = cv2.imread(neg,0)\n",
    "                X_tr_array[current_vid,frame_count,:,:,1]=n_img\n",
    "                #frame = cv2.merge((p_img,n_img))\n",
    "                #X_tr_array[current_vid,frame_count]=frame\n",
    "                frame_count+=1\n",
    "            Y_train[current_vid]=np_utils.to_categorical(labels_dict[vid_ID], nb_classes)\n",
    "            current_vid+=1\n",
    "\n",
    "        yield X_tr_array,Y_train"
   ]
  },
  {
   "cell_type": "code",
   "execution_count": 6,
   "metadata": {
    "scrolled": false
   },
   "outputs": [],
   "source": [
    "# Define model\n",
    "import tensorflow as tf\n",
    "keras=tf.contrib.keras\n",
    "l2=keras.regularizers.l2\n",
    "weight_decay = 0.00005\n",
    "from keras import regularizers\n",
    "\n",
    "model = Sequential()\n",
    "model.add(MaxPooling3D(pool_size=(1, 2, 2),input_shape=(nb_frames,  img_cols, img_rows, channels)))\n",
    "\n",
    "model.add(Conv3D(16,(1,5,5),activation='relu',kernel_regularizer=regularizers.l2(weight_decay), name='Conv_spatial_1'))\n",
    "model.add(Conv3D(16,(1,3,3),activation='relu',kernel_regularizer=regularizers.l2(weight_decay), name='Conv_spatial_12'))\n",
    "model.add(Conv3D(16,(1,1,1),activation='relu',kernel_regularizer=regularizers.l2(weight_decay), name='Conv_spatial_13'))\n",
    "model.add(Conv3D(16,(5,1,1),activation='relu',kernel_regularizer=regularizers.l2(weight_decay), name='Conv_temporal_1'))\n",
    "model.add(MaxPooling3D(pool_size=(1, 2, 2), name='MaxPool_1'))\n",
    "\n",
    "model.add(Conv3D(64,(1,5,5), activation='relu',kernel_regularizer=regularizers.l2(weight_decay), name='Conv_spatial_2'))\n",
    "model.add(Conv3D(64,(1,3,3), activation='relu',kernel_regularizer=regularizers.l2(weight_decay), name='Conv_spatial_22'))\n",
    "model.add(Conv3D(64,(1,1,1),activation='relu',kernel_regularizer=regularizers.l2(weight_decay), name='Conv_spatial_23'))\n",
    "model.add(Conv3D(64,(3,1,1), activation='relu',kernel_regularizer=regularizers.l2(weight_decay), name='Conv_temporal_2'))\n",
    "model.add(MaxPooling3D(pool_size=(1, 2, 3), name='MaxPool_2'))\n",
    "\n",
    "model.add(Conv3D(128,(1,5,5), activation='relu',kernel_regularizer=regularizers.l2(weight_decay), name='Conv_spatial_3'))\n",
    "model.add(Conv3D(128,(1,3,3), activation='relu',kernel_regularizer=regularizers.l2(weight_decay), name='Conv_spatial_32'))\n",
    "model.add(Conv3D(128,(1,1,1),activation='relu',kernel_regularizer=regularizers.l2(weight_decay), name='Conv_spatial_33'))\n",
    "model.add(Conv3D(128,(3,1,1), activation='relu',kernel_regularizer=regularizers.l2(weight_decay), name='Conv_temporal_3'))\n",
    "model.add(MaxPooling3D(pool_size=(1, 1, 2), name='MaxPool_3'))\n",
    "\n",
    "model.add(ConvLSTM2D(filters=128, kernel_size=(3,3),\n",
    "                     strides=(1,1),padding='same',\n",
    "                     kernel_initializer='he_normal', recurrent_initializer='he_normal',\n",
    "                     kernel_regularizer=l2(weight_decay), recurrent_regularizer=l2(weight_decay),\n",
    "                     return_sequences=True, name='LSTM_1'))\n",
    "model.add(ConvLSTM2D(filters=128, kernel_size=(3,3),\n",
    "                     strides=(1,1),padding='same',\n",
    "                     kernel_initializer='he_normal', recurrent_initializer='he_normal',\n",
    "                     kernel_regularizer=l2(weight_decay), recurrent_regularizer=l2(weight_decay),\n",
    "                     return_sequences=True, name='LSTM_2'))\n",
    "model.add(ConvLSTM2D(filters=128, kernel_size=(3,3),\n",
    "                     strides=(1,1),padding='same',\n",
    "                     kernel_initializer='he_normal', recurrent_initializer='he_normal',\n",
    "                     kernel_regularizer=l2(weight_decay), recurrent_regularizer=l2(weight_decay),\n",
    "                     return_sequences=True, name='LSTM_3'))\n",
    "\n",
    "model.add(Flatten(name='Flatten'))\n",
    "model.add(Dense(512, activation='relu',kernel_regularizer=regularizers.l2(weight_decay), name='FC_1'))\n",
    "model.add(Dropout(0.5, name='Dropout_1'))\n",
    "\n",
    "model.add(Dense(256, activation='relu',kernel_regularizer=regularizers.l2(weight_decay), name='FC_2'))\n",
    "model.add(Dropout(0.5, name='Dropout_2'))\n",
    "\n",
    "model.add(Dense(nb_classes,kernel_initializer='normal',kernel_regularizer=regularizers.l2(weight_decay), name='FC_3'))\n",
    "\n",
    "model.add(Activation('softmax'))"
   ]
  },
  {
   "cell_type": "code",
   "execution_count": 7,
   "metadata": {
    "scrolled": false
   },
   "outputs": [
    {
     "name": "stdout",
     "output_type": "stream",
     "text": [
      "_________________________________________________________________\n",
      "Layer (type)                 Output Shape              Param #   \n",
      "=================================================================\n",
      "max_pooling3d_1 (MaxPooling3 (None, 64, 50, 88, 2)     0         \n",
      "_________________________________________________________________\n",
      "Conv_spatial_1 (Conv3D)      (None, 64, 46, 84, 16)    816       \n",
      "_________________________________________________________________\n",
      "Conv_spatial_12 (Conv3D)     (None, 64, 44, 82, 16)    2320      \n",
      "_________________________________________________________________\n",
      "Conv_spatial_13 (Conv3D)     (None, 64, 44, 82, 16)    272       \n",
      "_________________________________________________________________\n",
      "Conv_temporal_1 (Conv3D)     (None, 60, 44, 82, 16)    1296      \n",
      "_________________________________________________________________\n",
      "MaxPool_1 (MaxPooling3D)     (None, 60, 22, 41, 16)    0         \n",
      "_________________________________________________________________\n",
      "Conv_spatial_2 (Conv3D)      (None, 60, 18, 37, 64)    25664     \n",
      "_________________________________________________________________\n",
      "Conv_spatial_22 (Conv3D)     (None, 60, 16, 35, 64)    36928     \n",
      "_________________________________________________________________\n",
      "Conv_spatial_23 (Conv3D)     (None, 60, 16, 35, 64)    4160      \n",
      "_________________________________________________________________\n",
      "Conv_temporal_2 (Conv3D)     (None, 58, 16, 35, 64)    12352     \n",
      "_________________________________________________________________\n",
      "MaxPool_2 (MaxPooling3D)     (None, 58, 8, 11, 64)     0         \n",
      "_________________________________________________________________\n",
      "Conv_spatial_3 (Conv3D)      (None, 58, 4, 7, 128)     204928    \n",
      "_________________________________________________________________\n",
      "Conv_spatial_32 (Conv3D)     (None, 58, 2, 5, 128)     147584    \n",
      "_________________________________________________________________\n",
      "Conv_spatial_33 (Conv3D)     (None, 58, 2, 5, 128)     16512     \n",
      "_________________________________________________________________\n",
      "Conv_temporal_3 (Conv3D)     (None, 56, 2, 5, 128)     49280     \n",
      "_________________________________________________________________\n",
      "MaxPool_3 (MaxPooling3D)     (None, 56, 2, 2, 128)     0         \n",
      "_________________________________________________________________\n",
      "LSTM_1 (ConvLSTM2D)          (None, 56, 2, 2, 128)     1180160   \n",
      "_________________________________________________________________\n",
      "LSTM_2 (ConvLSTM2D)          (None, 56, 2, 2, 128)     1180160   \n",
      "_________________________________________________________________\n",
      "LSTM_3 (ConvLSTM2D)          (None, 56, 2, 2, 128)     1180160   \n",
      "_________________________________________________________________\n",
      "Flatten (Flatten)            (None, 28672)             0         \n",
      "_________________________________________________________________\n",
      "FC_1 (Dense)                 (None, 512)               14680576  \n",
      "_________________________________________________________________\n",
      "Dropout_1 (Dropout)          (None, 512)               0         \n",
      "_________________________________________________________________\n",
      "FC_2 (Dense)                 (None, 256)               131328    \n",
      "_________________________________________________________________\n",
      "Dropout_2 (Dropout)          (None, 256)               0         \n",
      "_________________________________________________________________\n",
      "FC_3 (Dense)                 (None, 27)                6939      \n",
      "_________________________________________________________________\n",
      "activation_1 (Activation)    (None, 27)                0         \n",
      "=================================================================\n",
      "Total params: 18,861,435\n",
      "Trainable params: 18,861,435\n",
      "Non-trainable params: 0\n",
      "_________________________________________________________________\n"
     ]
    }
   ],
   "source": [
    "model.summary()"
   ]
  },
  {
   "cell_type": "code",
   "execution_count": 8,
   "metadata": {
    "scrolled": false
   },
   "outputs": [
    {
     "name": "stdout",
     "output_type": "stream",
     "text": [
      "E:\\Jupyter\\Project\n"
     ]
    }
   ],
   "source": [
    "import os\n",
    "save_dir = os.path.join(os.getcwd(),'save_model')\n",
    "print(os.getcwd())\n",
    "model_name = \"deeper_reduce\"\n",
    "if not os.path.isdir(save_dir):\n",
    "    os.makedirs(save_dir)\n",
    "model_path = os.path.join(save_dir, model_name)\n",
    "checkpoint = ModelCheckpoint(model_path, monitor = 'val_acc', \n",
    "                            save_best_only=True, verbose=1)\n",
    "#earlystop\n",
    "earlystop = EarlyStopping(monitor='val_loss', patience=50, verbose =1)"
   ]
  },
  {
   "cell_type": "code",
   "execution_count": 9,
   "metadata": {
    "scrolled": false
   },
   "outputs": [],
   "source": [
    "sgd = SGD(lr=0.002,  momentum=0.9, nesterov=False)\n",
    "rms = RMSprop(decay=1e-6)\n",
    "ada = Adadelta(lr=0.1,decay=1e-6)\n",
    "model.compile(loss='categorical_crossentropy', \n",
    "              optimizer=sgd,\n",
    "              #optimizer=ada,\n",
    "              #optimizer = Adam(lr=0.0001),\n",
    "              metrics=['acc'])"
   ]
  },
  {
   "cell_type": "code",
   "execution_count": 10,
   "metadata": {
    "scrolled": true
   },
   "outputs": [
    {
     "name": "stdout",
     "output_type": "stream",
     "text": [
      "Epoch 1/200\n",
      "97/97 [==============================] - 207s 2s/step - loss: 2.4384 - acc: 0.2796 - val_loss: 1.8555 - val_acc: 0.3864\n",
      "\n",
      "Epoch 00001: val_acc improved from -inf to 0.38636, saving model to E:\\Jupyter\\Project\\save_model\\deeper_reduce\n",
      "Epoch 2/200\n",
      "97/97 [==============================] - 194s 2s/step - loss: 1.9125 - acc: 0.4169 - val_loss: 1.5989 - val_acc: 0.5341\n",
      "\n",
      "Epoch 00002: val_acc improved from 0.38636 to 0.53409, saving model to E:\\Jupyter\\Project\\save_model\\deeper_reduce\n",
      "Epoch 3/200\n",
      "97/97 [==============================] - 193s 2s/step - loss: 1.5868 - acc: 0.5625 - val_loss: 1.3425 - val_acc: 0.6023\n",
      "\n",
      "Epoch 00003: val_acc improved from 0.53409 to 0.60227, saving model to E:\\Jupyter\\Project\\save_model\\deeper_reduce\n",
      "Epoch 4/200\n",
      "97/97 [==============================] - 192s 2s/step - loss: 1.4694 - acc: 0.5844 - val_loss: 1.2163 - val_acc: 0.6307\n",
      "\n",
      "Epoch 00004: val_acc improved from 0.60227 to 0.63068, saving model to E:\\Jupyter\\Project\\save_model\\deeper_reduce\n",
      "Epoch 5/200\n",
      "97/97 [==============================] - 192s 2s/step - loss: 1.4065 - acc: 0.6128 - val_loss: 1.3315 - val_acc: 0.6136\n",
      "\n",
      "Epoch 00005: val_acc did not improve from 0.63068\n",
      "Epoch 6/200\n",
      "97/97 [==============================] - 193s 2s/step - loss: 1.2767 - acc: 0.6482 - val_loss: 1.1345 - val_acc: 0.6477\n",
      "\n",
      "Epoch 00006: val_acc improved from 0.63068 to 0.64773, saving model to E:\\Jupyter\\Project\\save_model\\deeper_reduce\n",
      "Epoch 7/200\n",
      "97/97 [==============================] - 193s 2s/step - loss: 1.1957 - acc: 0.6849 - val_loss: 1.0502 - val_acc: 0.7273\n",
      "\n",
      "Epoch 00007: val_acc improved from 0.64773 to 0.72727, saving model to E:\\Jupyter\\Project\\save_model\\deeper_reduce\n",
      "Epoch 8/200\n",
      "97/97 [==============================] - 192s 2s/step - loss: 1.1829 - acc: 0.6965 - val_loss: 1.1500 - val_acc: 0.7045\n",
      "\n",
      "Epoch 00008: val_acc did not improve from 0.72727\n",
      "Epoch 9/200\n",
      "97/97 [==============================] - 192s 2s/step - loss: 1.1517 - acc: 0.7036 - val_loss: 1.3989 - val_acc: 0.6591\n",
      "\n",
      "Epoch 00009: val_acc did not improve from 0.72727\n",
      "Epoch 10/200\n",
      "97/97 [==============================] - 191s 2s/step - loss: 1.1632 - acc: 0.6836 - val_loss: 1.1435 - val_acc: 0.6875\n",
      "\n",
      "Epoch 00010: val_acc did not improve from 0.72727\n",
      "Epoch 11/200\n",
      "97/97 [==============================] - 193s 2s/step - loss: 1.1241 - acc: 0.7101 - val_loss: 0.9952 - val_acc: 0.7784\n",
      "\n",
      "Epoch 00011: val_acc improved from 0.72727 to 0.77841, saving model to E:\\Jupyter\\Project\\save_model\\deeper_reduce\n",
      "Epoch 12/200\n",
      "97/97 [==============================] - 192s 2s/step - loss: 1.1112 - acc: 0.7165 - val_loss: 1.0316 - val_acc: 0.7500\n",
      "\n",
      "Epoch 00012: val_acc did not improve from 0.77841\n",
      "Epoch 13/200\n",
      "97/97 [==============================] - 192s 2s/step - loss: 1.1118 - acc: 0.7204 - val_loss: 1.0578 - val_acc: 0.7727\n",
      "\n",
      "Epoch 00013: val_acc did not improve from 0.77841\n",
      "Epoch 14/200\n",
      "97/97 [==============================] - 192s 2s/step - loss: 1.0892 - acc: 0.7352 - val_loss: 0.9869 - val_acc: 0.8011\n",
      "\n",
      "Epoch 00014: val_acc improved from 0.77841 to 0.80114, saving model to E:\\Jupyter\\Project\\save_model\\deeper_reduce\n",
      "Epoch 15/200\n",
      "97/97 [==============================] - 191s 2s/step - loss: 1.0791 - acc: 0.7352 - val_loss: 1.0682 - val_acc: 0.7443\n",
      "\n",
      "Epoch 00015: val_acc did not improve from 0.80114\n",
      "Epoch 16/200\n",
      "97/97 [==============================] - 192s 2s/step - loss: 1.0080 - acc: 0.7526 - val_loss: 0.9275 - val_acc: 0.8125\n",
      "\n",
      "Epoch 00016: val_acc improved from 0.80114 to 0.81250, saving model to E:\\Jupyter\\Project\\save_model\\deeper_reduce\n",
      "Epoch 17/200\n",
      "97/97 [==============================] - 192s 2s/step - loss: 1.0117 - acc: 0.7745 - val_loss: 1.0262 - val_acc: 0.7670\n",
      "\n",
      "Epoch 00017: val_acc did not improve from 0.81250\n",
      "Epoch 18/200\n",
      "97/97 [==============================] - 192s 2s/step - loss: 1.0095 - acc: 0.7539 - val_loss: 1.0116 - val_acc: 0.7898\n",
      "\n",
      "Epoch 00018: val_acc did not improve from 0.81250\n",
      "Epoch 19/200\n",
      "97/97 [==============================] - 191s 2s/step - loss: 1.0244 - acc: 0.7648 - val_loss: 1.0606 - val_acc: 0.7330\n",
      "\n",
      "Epoch 00019: val_acc did not improve from 0.81250\n",
      "Epoch 20/200\n",
      "97/97 [==============================] - 192s 2s/step - loss: 0.9847 - acc: 0.7738 - val_loss: 0.9543 - val_acc: 0.7898\n",
      "\n",
      "Epoch 00020: val_acc did not improve from 0.81250\n",
      "Epoch 21/200\n",
      "97/97 [==============================] - 191s 2s/step - loss: 1.0385 - acc: 0.7410 - val_loss: 0.8565 - val_acc: 0.8295\n",
      "\n",
      "Epoch 00021: val_acc improved from 0.81250 to 0.82955, saving model to E:\\Jupyter\\Project\\save_model\\deeper_reduce\n",
      "Epoch 22/200\n",
      "97/97 [==============================] - 192s 2s/step - loss: 0.9587 - acc: 0.7803 - val_loss: 0.9864 - val_acc: 0.8125\n",
      "\n",
      "Epoch 00022: val_acc did not improve from 0.82955\n",
      "Epoch 23/200\n",
      "97/97 [==============================] - 193s 2s/step - loss: 0.9652 - acc: 0.7738 - val_loss: 0.9562 - val_acc: 0.8068\n",
      "\n",
      "Epoch 00023: val_acc did not improve from 0.82955\n",
      "Epoch 24/200\n",
      "97/97 [==============================] - 192s 2s/step - loss: 0.9544 - acc: 0.7938 - val_loss: 0.9794 - val_acc: 0.7955\n",
      "\n",
      "Epoch 00024: val_acc did not improve from 0.82955\n",
      "Epoch 25/200\n",
      "97/97 [==============================] - 192s 2s/step - loss: 0.9395 - acc: 0.7861 - val_loss: 0.9703 - val_acc: 0.8011\n",
      "\n",
      "Epoch 00025: val_acc did not improve from 0.82955\n",
      "Epoch 26/200\n",
      "97/97 [==============================] - 192s 2s/step - loss: 0.9609 - acc: 0.7854 - val_loss: 0.8213 - val_acc: 0.8409\n",
      "\n",
      "Epoch 00026: val_acc improved from 0.82955 to 0.84091, saving model to E:\\Jupyter\\Project\\save_model\\deeper_reduce\n",
      "Epoch 27/200\n",
      "97/97 [==============================] - 192s 2s/step - loss: 0.9573 - acc: 0.7970 - val_loss: 1.1223 - val_acc: 0.8011\n",
      "\n",
      "Epoch 00027: val_acc did not improve from 0.84091\n",
      "Epoch 28/200\n",
      "97/97 [==============================] - 191s 2s/step - loss: 0.9722 - acc: 0.7745 - val_loss: 0.8248 - val_acc: 0.8409\n",
      "\n",
      "Epoch 00028: val_acc did not improve from 0.84091\n",
      "Epoch 29/200\n",
      "97/97 [==============================] - 191s 2s/step - loss: 0.8892 - acc: 0.8164 - val_loss: 0.8590 - val_acc: 0.8068\n",
      "\n",
      "Epoch 00029: val_acc did not improve from 0.84091\n",
      "Epoch 30/200\n",
      "97/97 [==============================] - 192s 2s/step - loss: 0.8764 - acc: 0.8215 - val_loss: 0.7496 - val_acc: 0.8466\n",
      "\n",
      "Epoch 00030: val_acc improved from 0.84091 to 0.84659, saving model to E:\\Jupyter\\Project\\save_model\\deeper_reduce\n",
      "Epoch 31/200\n",
      "97/97 [==============================] - 192s 2s/step - loss: 0.8389 - acc: 0.8421 - val_loss: 0.9905 - val_acc: 0.8011\n",
      "\n",
      "Epoch 00031: val_acc did not improve from 0.84659\n",
      "Epoch 32/200\n",
      "97/97 [==============================] - 191s 2s/step - loss: 0.8405 - acc: 0.8331 - val_loss: 0.9301 - val_acc: 0.8125\n",
      "\n",
      "Epoch 00032: val_acc did not improve from 0.84659\n",
      "Epoch 33/200\n",
      "97/97 [==============================] - 192s 2s/step - loss: 0.8656 - acc: 0.8267 - val_loss: 0.7446 - val_acc: 0.8693\n",
      "\n",
      "Epoch 00033: val_acc improved from 0.84659 to 0.86932, saving model to E:\\Jupyter\\Project\\save_model\\deeper_reduce\n",
      "Epoch 34/200\n",
      "97/97 [==============================] - 192s 2s/step - loss: 0.8647 - acc: 0.8383 - val_loss: 0.7687 - val_acc: 0.9034\n",
      "\n",
      "Epoch 00034: val_acc improved from 0.86932 to 0.90341, saving model to E:\\Jupyter\\Project\\save_model\\deeper_reduce\n",
      "Epoch 35/200\n",
      "97/97 [==============================] - 192s 2s/step - loss: 0.8538 - acc: 0.8421 - val_loss: 0.8924 - val_acc: 0.8523\n",
      "\n",
      "Epoch 00035: val_acc did not improve from 0.90341\n",
      "Epoch 36/200\n",
      "97/97 [==============================] - 192s 2s/step - loss: 0.8672 - acc: 0.8389 - val_loss: 0.9786 - val_acc: 0.8409\n",
      "\n",
      "Epoch 00036: val_acc did not improve from 0.90341\n",
      "Epoch 37/200\n",
      "97/97 [==============================] - 193s 2s/step - loss: 0.8277 - acc: 0.8466 - val_loss: 0.7112 - val_acc: 0.8750\n",
      "\n",
      "Epoch 00037: val_acc did not improve from 0.90341\n",
      "Epoch 38/200\n",
      "97/97 [==============================] - 191s 2s/step - loss: 0.8115 - acc: 0.8576 - val_loss: 0.8978 - val_acc: 0.8523\n",
      "\n",
      "Epoch 00038: val_acc did not improve from 0.90341\n",
      "Epoch 39/200\n",
      "97/97 [==============================] - 193s 2s/step - loss: 0.8354 - acc: 0.8589 - val_loss: 0.7525 - val_acc: 0.8693\n",
      "\n",
      "Epoch 00039: val_acc did not improve from 0.90341\n",
      "Epoch 40/200\n",
      "97/97 [==============================] - 192s 2s/step - loss: 0.7980 - acc: 0.8640 - val_loss: 0.8160 - val_acc: 0.8239\n"
     ]
    },
    {
     "name": "stdout",
     "output_type": "stream",
     "text": [
      "\n",
      "Epoch 00040: val_acc did not improve from 0.90341\n",
      "Epoch 41/200\n",
      "97/97 [==============================] - 192s 2s/step - loss: 0.8455 - acc: 0.8396 - val_loss: 0.8731 - val_acc: 0.8864\n",
      "\n",
      "Epoch 00041: val_acc did not improve from 0.90341\n",
      "Epoch 42/200\n",
      "97/97 [==============================] - 192s 2s/step - loss: 0.8091 - acc: 0.8582 - val_loss: 0.7736 - val_acc: 0.8750\n",
      "\n",
      "Epoch 00042: val_acc did not improve from 0.90341\n",
      "Epoch 43/200\n",
      "97/97 [==============================] - 193s 2s/step - loss: 0.8008 - acc: 0.8653 - val_loss: 0.8539 - val_acc: 0.8409\n",
      "\n",
      "Epoch 00043: val_acc did not improve from 0.90341\n",
      "Epoch 44/200\n",
      "97/97 [==============================] - 192s 2s/step - loss: 0.8148 - acc: 0.8486 - val_loss: 0.6670 - val_acc: 0.9091\n",
      "\n",
      "Epoch 00044: val_acc improved from 0.90341 to 0.90909, saving model to E:\\Jupyter\\Project\\save_model\\deeper_reduce\n",
      "Epoch 45/200\n",
      "97/97 [==============================] - 192s 2s/step - loss: 0.8252 - acc: 0.8595 - val_loss: 0.9343 - val_acc: 0.8466\n",
      "\n",
      "Epoch 00045: val_acc did not improve from 0.90909\n",
      "Epoch 46/200\n",
      "97/97 [==============================] - 191s 2s/step - loss: 0.7739 - acc: 0.8718 - val_loss: 0.9764 - val_acc: 0.8523\n",
      "\n",
      "Epoch 00046: val_acc did not improve from 0.90909\n",
      "Epoch 47/200\n",
      "97/97 [==============================] - 192s 2s/step - loss: 0.8131 - acc: 0.8589 - val_loss: 0.8353 - val_acc: 0.8352\n",
      "\n",
      "Epoch 00047: val_acc did not improve from 0.90909\n",
      "Epoch 48/200\n",
      "97/97 [==============================] - 192s 2s/step - loss: 0.7815 - acc: 0.8718 - val_loss: 0.8358 - val_acc: 0.8636\n",
      "\n",
      "Epoch 00048: val_acc did not improve from 0.90909\n",
      "Epoch 49/200\n",
      "97/97 [==============================] - 192s 2s/step - loss: 0.7687 - acc: 0.8769 - val_loss: 0.6956 - val_acc: 0.9261\n",
      "\n",
      "Epoch 00049: val_acc improved from 0.90909 to 0.92614, saving model to E:\\Jupyter\\Project\\save_model\\deeper_reduce\n",
      "Epoch 50/200\n",
      "97/97 [==============================] - 192s 2s/step - loss: 0.7928 - acc: 0.8698 - val_loss: 0.8880 - val_acc: 0.8580\n",
      "\n",
      "Epoch 00050: val_acc did not improve from 0.92614\n",
      "Epoch 51/200\n",
      "97/97 [==============================] - 192s 2s/step - loss: 0.7738 - acc: 0.8827 - val_loss: 0.7109 - val_acc: 0.9034\n",
      "\n",
      "Epoch 00051: val_acc did not improve from 0.92614\n",
      "\n",
      "Epoch 00051: ReduceLROnPlateau reducing learning rate to 0.0008333333333333334.\n",
      "Epoch 52/200\n",
      "97/97 [==============================] - 191s 2s/step - loss: 0.7330 - acc: 0.8892 - val_loss: 0.7132 - val_acc: 0.8977\n",
      "\n",
      "Epoch 00052: val_acc did not improve from 0.92614\n",
      "Epoch 53/200\n",
      "97/97 [==============================] - 192s 2s/step - loss: 0.7035 - acc: 0.8918 - val_loss: 0.7456 - val_acc: 0.9091\n",
      "\n",
      "Epoch 00053: val_acc did not improve from 0.92614\n",
      "Epoch 54/200\n",
      "97/97 [==============================] - 193s 2s/step - loss: 0.6962 - acc: 0.8969 - val_loss: 0.8339 - val_acc: 0.8920\n",
      "\n",
      "Epoch 00054: val_acc did not improve from 0.92614\n",
      "Epoch 55/200\n",
      "97/97 [==============================] - 192s 2s/step - loss: 0.7025 - acc: 0.9040 - val_loss: 0.7813 - val_acc: 0.8807\n",
      "\n",
      "Epoch 00055: val_acc did not improve from 0.92614\n",
      "Epoch 56/200\n",
      "97/97 [==============================] - 192s 2s/step - loss: 0.6773 - acc: 0.9091 - val_loss: 0.6640 - val_acc: 0.9261\n",
      "\n",
      "Epoch 00056: val_acc did not improve from 0.92614\n",
      "Epoch 57/200\n",
      "97/97 [==============================] - 192s 2s/step - loss: 0.7225 - acc: 0.8950 - val_loss: 0.7588 - val_acc: 0.8807\n",
      "\n",
      "Epoch 00057: val_acc did not improve from 0.92614\n",
      "Epoch 58/200\n",
      "97/97 [==============================] - 192s 2s/step - loss: 0.6808 - acc: 0.9117 - val_loss: 0.6606 - val_acc: 0.8977\n",
      "\n",
      "Epoch 00058: val_acc did not improve from 0.92614\n",
      "Epoch 59/200\n",
      "97/97 [==============================] - 192s 2s/step - loss: 0.6663 - acc: 0.9175 - val_loss: 0.8139 - val_acc: 0.8864\n",
      "\n",
      "Epoch 00059: val_acc did not improve from 0.92614\n",
      "Epoch 60/200\n",
      "97/97 [==============================] - 192s 2s/step - loss: 0.6676 - acc: 0.9130 - val_loss: 0.6288 - val_acc: 0.9432\n",
      "\n",
      "Epoch 00060: val_acc improved from 0.92614 to 0.94318, saving model to E:\\Jupyter\\Project\\save_model\\deeper_reduce\n",
      "Epoch 61/200\n",
      "97/97 [==============================] - 192s 2s/step - loss: 0.7269 - acc: 0.8898 - val_loss: 0.7910 - val_acc: 0.9091\n",
      "\n",
      "Epoch 00061: val_acc did not improve from 0.94318\n",
      "Epoch 62/200\n",
      "97/97 [==============================] - 193s 2s/step - loss: 0.6521 - acc: 0.9201 - val_loss: 0.7561 - val_acc: 0.8693\n",
      "\n",
      "Epoch 00062: val_acc did not improve from 0.94318\n",
      "Epoch 63/200\n",
      "97/97 [==============================] - 193s 2s/step - loss: 0.6655 - acc: 0.9124 - val_loss: 0.7197 - val_acc: 0.8864\n",
      "\n",
      "Epoch 00063: val_acc did not improve from 0.94318\n",
      "Epoch 64/200\n",
      "97/97 [==============================] - 193s 2s/step - loss: 0.6713 - acc: 0.9053 - val_loss: 0.7053 - val_acc: 0.9318\n",
      "\n",
      "Epoch 00064: val_acc did not improve from 0.94318\n",
      "Epoch 65/200\n",
      "97/97 [==============================] - 191s 2s/step - loss: 0.6578 - acc: 0.9162 - val_loss: 0.7952 - val_acc: 0.8693\n",
      "\n",
      "Epoch 00065: val_acc did not improve from 0.94318\n",
      "Epoch 66/200\n",
      "97/97 [==============================] - 191s 2s/step - loss: 0.6782 - acc: 0.9079 - val_loss: 0.6463 - val_acc: 0.9432\n",
      "\n",
      "Epoch 00066: val_acc did not improve from 0.94318\n",
      "Epoch 67/200\n",
      "97/97 [==============================] - 193s 2s/step - loss: 0.6655 - acc: 0.9072 - val_loss: 0.6382 - val_acc: 0.9148\n",
      "\n",
      "Epoch 00067: val_acc did not improve from 0.94318\n",
      "\n",
      "Epoch 00067: ReduceLROnPlateau reducing learning rate to 0.0008333333333333334.\n",
      "Epoch 68/200\n",
      "97/97 [==============================] - 191s 2s/step - loss: 0.6375 - acc: 0.9240 - val_loss: 0.7729 - val_acc: 0.8807\n",
      "\n",
      "Epoch 00068: val_acc did not improve from 0.94318\n",
      "Epoch 69/200\n",
      "97/97 [==============================] - 191s 2s/step - loss: 0.6292 - acc: 0.9265 - val_loss: 0.7585 - val_acc: 0.8977\n",
      "\n",
      "Epoch 00069: val_acc did not improve from 0.94318\n",
      "Epoch 70/200\n",
      "97/97 [==============================] - 192s 2s/step - loss: 0.6512 - acc: 0.9137 - val_loss: 0.7503 - val_acc: 0.9034\n",
      "\n",
      "Epoch 00070: val_acc did not improve from 0.94318\n",
      "Epoch 71/200\n",
      "97/97 [==============================] - 192s 2s/step - loss: 0.6477 - acc: 0.9298 - val_loss: 0.6655 - val_acc: 0.9489\n",
      "\n",
      "Epoch 00071: val_acc improved from 0.94318 to 0.94886, saving model to E:\\Jupyter\\Project\\save_model\\deeper_reduce\n",
      "Epoch 72/200\n",
      "97/97 [==============================] - 194s 2s/step - loss: 0.6865 - acc: 0.9014 - val_loss: 0.7684 - val_acc: 0.8864\n",
      "\n",
      "Epoch 00072: val_acc did not improve from 0.94886\n",
      "Epoch 73/200\n",
      "97/97 [==============================] - 193s 2s/step - loss: 0.6562 - acc: 0.9272 - val_loss: 0.6414 - val_acc: 0.9318\n",
      "\n",
      "Epoch 00073: val_acc did not improve from 0.94886\n",
      "Epoch 74/200\n",
      "97/97 [==============================] - 192s 2s/step - loss: 0.6937 - acc: 0.9079 - val_loss: 0.6376 - val_acc: 0.9205\n",
      "\n",
      "Epoch 00074: val_acc did not improve from 0.94886\n",
      "\n",
      "Epoch 00074: ReduceLROnPlateau reducing learning rate to 0.0008333333333333334.\n",
      "Epoch 75/200\n",
      "97/97 [==============================] - 191s 2s/step - loss: 0.6612 - acc: 0.9175 - val_loss: 0.6954 - val_acc: 0.9261\n",
      "\n",
      "Epoch 00075: val_acc did not improve from 0.94886\n",
      "Epoch 76/200\n",
      "97/97 [==============================] - 191s 2s/step - loss: 0.6439 - acc: 0.9240 - val_loss: 0.6154 - val_acc: 0.9432\n",
      "\n",
      "Epoch 00076: val_acc did not improve from 0.94886\n",
      "Epoch 77/200\n",
      "97/97 [==============================] - 192s 2s/step - loss: 0.6398 - acc: 0.9265 - val_loss: 0.6754 - val_acc: 0.9205\n",
      "\n",
      "Epoch 00077: val_acc did not improve from 0.94886\n",
      "Epoch 78/200\n",
      "97/97 [==============================] - 192s 2s/step - loss: 0.6640 - acc: 0.9182 - val_loss: 0.7022 - val_acc: 0.8920\n",
      "\n",
      "Epoch 00078: val_acc did not improve from 0.94886\n",
      "Epoch 79/200\n",
      "97/97 [==============================] - 192s 2s/step - loss: 0.6252 - acc: 0.9259 - val_loss: 0.6608 - val_acc: 0.8864\n",
      "\n",
      "Epoch 00079: val_acc did not improve from 0.94886\n",
      "Epoch 80/200\n",
      "97/97 [==============================] - 193s 2s/step - loss: 0.6632 - acc: 0.9227 - val_loss: 0.8978 - val_acc: 0.8807\n",
      "\n",
      "Epoch 00080: val_acc did not improve from 0.94886\n",
      "Epoch 81/200\n",
      "97/97 [==============================] - 194s 2s/step - loss: 0.6718 - acc: 0.9059 - val_loss: 0.6472 - val_acc: 0.9034\n",
      "\n",
      "Epoch 00081: val_acc did not improve from 0.94886\n",
      "Epoch 82/200\n",
      "97/97 [==============================] - 192s 2s/step - loss: 0.6081 - acc: 0.9407 - val_loss: 0.6478 - val_acc: 0.9318\n"
     ]
    },
    {
     "name": "stdout",
     "output_type": "stream",
     "text": [
      "\n",
      "Epoch 00082: val_acc did not improve from 0.94886\n",
      "Epoch 83/200\n",
      "97/97 [==============================] - 192s 2s/step - loss: 0.6298 - acc: 0.9272 - val_loss: 0.6665 - val_acc: 0.9034\n",
      "\n",
      "Epoch 00083: val_acc did not improve from 0.94886\n",
      "\n",
      "Epoch 00083: ReduceLROnPlateau reducing learning rate to 0.0008333333333333334.\n",
      "Epoch 84/200\n",
      "97/97 [==============================] - 192s 2s/step - loss: 0.6514 - acc: 0.9227 - val_loss: 0.5945 - val_acc: 0.9489\n",
      "\n",
      "Epoch 00084: val_acc did not improve from 0.94886\n",
      "Epoch 85/200\n",
      "97/97 [==============================] - 192s 2s/step - loss: 0.6464 - acc: 0.9298 - val_loss: 0.7182 - val_acc: 0.9205\n",
      "\n",
      "Epoch 00085: val_acc did not improve from 0.94886\n",
      "Epoch 86/200\n",
      "97/97 [==============================] - 193s 2s/step - loss: 0.6504 - acc: 0.9188 - val_loss: 0.6239 - val_acc: 0.9432\n",
      "\n",
      "Epoch 00086: val_acc did not improve from 0.94886\n",
      "Epoch 87/200\n",
      "97/97 [==============================] - 191s 2s/step - loss: 0.6542 - acc: 0.9188 - val_loss: 0.6703 - val_acc: 0.9205\n",
      "\n",
      "Epoch 00087: val_acc did not improve from 0.94886\n",
      "Epoch 88/200\n",
      "97/97 [==============================] - 192s 2s/step - loss: 0.6251 - acc: 0.9336 - val_loss: 0.6801 - val_acc: 0.9205\n",
      "\n",
      "Epoch 00088: val_acc did not improve from 0.94886\n",
      "Epoch 89/200\n",
      "97/97 [==============================] - 192s 2s/step - loss: 0.6280 - acc: 0.9278 - val_loss: 0.6787 - val_acc: 0.9148\n",
      "\n",
      "Epoch 00089: val_acc did not improve from 0.94886\n",
      "Epoch 90/200\n",
      "97/97 [==============================] - 192s 2s/step - loss: 0.6056 - acc: 0.9330 - val_loss: 0.5896 - val_acc: 0.9375\n",
      "\n",
      "Epoch 00090: val_acc did not improve from 0.94886\n",
      "Epoch 91/200\n",
      "97/97 [==============================] - 193s 2s/step - loss: 0.6370 - acc: 0.9233 - val_loss: 0.7947 - val_acc: 0.8920\n",
      "\n",
      "Epoch 00091: val_acc did not improve from 0.94886\n",
      "Epoch 92/200\n",
      "97/97 [==============================] - 192s 2s/step - loss: 0.6203 - acc: 0.9311 - val_loss: 0.6968 - val_acc: 0.9091\n",
      "\n",
      "Epoch 00092: val_acc did not improve from 0.94886\n",
      "Epoch 93/200\n",
      "97/97 [==============================] - 192s 2s/step - loss: 0.6703 - acc: 0.9149 - val_loss: 0.6174 - val_acc: 0.9489\n",
      "\n",
      "Epoch 00093: val_acc did not improve from 0.94886\n",
      "Epoch 94/200\n",
      "97/97 [==============================] - 191s 2s/step - loss: 0.6192 - acc: 0.9343 - val_loss: 0.6660 - val_acc: 0.9148\n",
      "\n",
      "Epoch 00094: val_acc did not improve from 0.94886\n",
      "Epoch 95/200\n",
      "97/97 [==============================] - 193s 2s/step - loss: 0.6375 - acc: 0.9246 - val_loss: 0.5664 - val_acc: 0.9545\n",
      "\n",
      "Epoch 00095: val_acc improved from 0.94886 to 0.95455, saving model to E:\\Jupyter\\Project\\save_model\\deeper_reduce\n",
      "Epoch 96/200\n",
      "97/97 [==============================] - 194s 2s/step - loss: 0.6182 - acc: 0.9311 - val_loss: 0.7146 - val_acc: 0.9205\n",
      "\n",
      "Epoch 00096: val_acc did not improve from 0.95455\n",
      "Epoch 97/200\n",
      "97/97 [==============================] - 193s 2s/step - loss: 0.6254 - acc: 0.9246 - val_loss: 0.6579 - val_acc: 0.9545\n",
      "\n",
      "Epoch 00097: val_acc did not improve from 0.95455\n",
      "Epoch 98/200\n",
      "97/97 [==============================] - 192s 2s/step - loss: 0.6357 - acc: 0.9304 - val_loss: 0.6617 - val_acc: 0.9091\n",
      "\n",
      "Epoch 00098: val_acc did not improve from 0.95455\n",
      "Epoch 99/200\n",
      "97/97 [==============================] - 192s 2s/step - loss: 0.6241 - acc: 0.9317 - val_loss: 0.8524 - val_acc: 0.8352\n",
      "\n",
      "Epoch 00099: val_acc did not improve from 0.95455\n",
      "Epoch 100/200\n",
      "97/97 [==============================] - 193s 2s/step - loss: 0.6542 - acc: 0.9233 - val_loss: 0.7558 - val_acc: 0.9148\n",
      "\n",
      "Epoch 00100: val_acc did not improve from 0.95455\n",
      "Epoch 101/200\n",
      "97/97 [==============================] - 192s 2s/step - loss: 0.6205 - acc: 0.9323 - val_loss: 0.7919 - val_acc: 0.8977\n",
      "\n",
      "Epoch 00101: val_acc did not improve from 0.95455\n",
      "Epoch 102/200\n",
      "97/97 [==============================] - 192s 2s/step - loss: 0.6273 - acc: 0.9265 - val_loss: 0.7697 - val_acc: 0.8864\n",
      "\n",
      "Epoch 00102: val_acc did not improve from 0.95455\n",
      "\n",
      "Epoch 00102: ReduceLROnPlateau reducing learning rate to 0.0008333333333333334.\n",
      "Epoch 103/200\n",
      "97/97 [==============================] - 193s 2s/step - loss: 0.6142 - acc: 0.9220 - val_loss: 0.5821 - val_acc: 0.9261\n",
      "\n",
      "Epoch 00103: val_acc did not improve from 0.95455\n",
      "Epoch 104/200\n",
      "97/97 [==============================] - 193s 2s/step - loss: 0.6296 - acc: 0.9156 - val_loss: 0.6099 - val_acc: 0.9375\n",
      "\n",
      "Epoch 00104: val_acc did not improve from 0.95455\n",
      "Epoch 105/200\n",
      "97/97 [==============================] - 193s 2s/step - loss: 0.6249 - acc: 0.9227 - val_loss: 0.7664 - val_acc: 0.8807\n",
      "\n",
      "Epoch 00105: val_acc did not improve from 0.95455\n",
      "Epoch 106/200\n",
      "97/97 [==============================] - 192s 2s/step - loss: 0.6534 - acc: 0.9272 - val_loss: 0.7393 - val_acc: 0.9034\n",
      "\n",
      "Epoch 00106: val_acc did not improve from 0.95455\n",
      "Epoch 107/200\n",
      "97/97 [==============================] - 192s 2s/step - loss: 0.6237 - acc: 0.9253 - val_loss: 0.6474 - val_acc: 0.9318\n",
      "\n",
      "Epoch 00107: val_acc did not improve from 0.95455\n",
      "Epoch 108/200\n",
      "97/97 [==============================] - 191s 2s/step - loss: 0.5997 - acc: 0.9388 - val_loss: 0.5585 - val_acc: 0.9489\n",
      "\n",
      "Epoch 00108: val_acc did not improve from 0.95455\n",
      "Epoch 109/200\n",
      "97/97 [==============================] - 192s 2s/step - loss: 0.6123 - acc: 0.9291 - val_loss: 0.6631 - val_acc: 0.9148\n",
      "\n",
      "Epoch 00109: val_acc did not improve from 0.95455\n",
      "Epoch 110/200\n",
      "97/97 [==============================] - 192s 2s/step - loss: 0.6343 - acc: 0.9220 - val_loss: 0.6878 - val_acc: 0.9205\n",
      "\n",
      "Epoch 00110: val_acc did not improve from 0.95455\n",
      "Epoch 111/200\n",
      "97/97 [==============================] - 193s 2s/step - loss: 0.6220 - acc: 0.9330 - val_loss: 0.6522 - val_acc: 0.9205\n",
      "\n",
      "Epoch 00111: val_acc did not improve from 0.95455\n",
      "Epoch 112/200\n",
      "97/97 [==============================] - 192s 2s/step - loss: 0.6366 - acc: 0.9272 - val_loss: 0.6457 - val_acc: 0.9545\n",
      "\n",
      "Epoch 00112: val_acc did not improve from 0.95455\n",
      "Epoch 113/200\n",
      "97/97 [==============================] - 192s 2s/step - loss: 0.6010 - acc: 0.9414 - val_loss: 0.7001 - val_acc: 0.9034\n",
      "\n",
      "Epoch 00113: val_acc did not improve from 0.95455\n",
      "Epoch 114/200\n",
      "97/97 [==============================] - 193s 2s/step - loss: 0.6054 - acc: 0.9298 - val_loss: 0.6361 - val_acc: 0.9205\n",
      "\n",
      "Epoch 00114: val_acc did not improve from 0.95455\n",
      "Epoch 115/200\n",
      "97/97 [==============================] - 192s 2s/step - loss: 0.6162 - acc: 0.9356 - val_loss: 0.7912 - val_acc: 0.8977\n",
      "\n",
      "Epoch 00115: val_acc did not improve from 0.95455\n",
      "\n",
      "Epoch 00115: ReduceLROnPlateau reducing learning rate to 0.0008333333333333334.\n",
      "Epoch 116/200\n",
      "97/97 [==============================] - 192s 2s/step - loss: 0.6405 - acc: 0.9195 - val_loss: 0.7808 - val_acc: 0.8977\n",
      "\n",
      "Epoch 00116: val_acc did not improve from 0.95455\n",
      "Epoch 117/200\n",
      "97/97 [==============================] - 193s 2s/step - loss: 0.5761 - acc: 0.9446 - val_loss: 0.6546 - val_acc: 0.9375\n",
      "\n",
      "Epoch 00117: val_acc did not improve from 0.95455\n",
      "Epoch 118/200\n",
      "97/97 [==============================] - 192s 2s/step - loss: 0.6143 - acc: 0.9343 - val_loss: 0.6020 - val_acc: 0.9318\n",
      "\n",
      "Epoch 00118: val_acc did not improve from 0.95455\n",
      "Epoch 119/200\n",
      "97/97 [==============================] - 193s 2s/step - loss: 0.6409 - acc: 0.9259 - val_loss: 0.7123 - val_acc: 0.9034\n",
      "\n",
      "Epoch 00119: val_acc did not improve from 0.95455\n",
      "Epoch 120/200\n",
      "97/97 [==============================] - 191s 2s/step - loss: 0.6183 - acc: 0.9253 - val_loss: 0.7442 - val_acc: 0.9205\n",
      "\n",
      "Epoch 00120: val_acc did not improve from 0.95455\n",
      "Epoch 121/200\n",
      "97/97 [==============================] - 192s 2s/step - loss: 0.6021 - acc: 0.9349 - val_loss: 0.6470 - val_acc: 0.9205\n",
      "\n",
      "Epoch 00121: val_acc did not improve from 0.95455\n",
      "Epoch 122/200\n",
      "97/97 [==============================] - 192s 2s/step - loss: 0.6139 - acc: 0.9265 - val_loss: 0.6594 - val_acc: 0.9318\n",
      "\n",
      "Epoch 00122: val_acc did not improve from 0.95455\n",
      "\n",
      "Epoch 00122: ReduceLROnPlateau reducing learning rate to 0.0008333333333333334.\n",
      "Epoch 123/200\n",
      "97/97 [==============================] - 192s 2s/step - loss: 0.6081 - acc: 0.9349 - val_loss: 0.6645 - val_acc: 0.9148\n",
      "\n",
      "Epoch 00123: val_acc did not improve from 0.95455\n",
      "Epoch 124/200\n",
      "97/97 [==============================] - 193s 2s/step - loss: 0.5957 - acc: 0.9330 - val_loss: 0.6777 - val_acc: 0.9205\n",
      "\n",
      "Epoch 00124: val_acc did not improve from 0.95455\n",
      "Epoch 125/200\n"
     ]
    },
    {
     "name": "stdout",
     "output_type": "stream",
     "text": [
      "97/97 [==============================] - 192s 2s/step - loss: 0.6016 - acc: 0.9356 - val_loss: 0.6310 - val_acc: 0.9375\n",
      "\n",
      "Epoch 00125: val_acc did not improve from 0.95455\n",
      "Epoch 126/200\n",
      "97/97 [==============================] - 192s 2s/step - loss: 0.6143 - acc: 0.9394 - val_loss: 0.6718 - val_acc: 0.9205\n",
      "\n",
      "Epoch 00126: val_acc did not improve from 0.95455\n",
      "Epoch 127/200\n",
      "97/97 [==============================] - 192s 2s/step - loss: 0.5876 - acc: 0.9433 - val_loss: 0.7118 - val_acc: 0.9091\n",
      "\n",
      "Epoch 00127: val_acc did not improve from 0.95455\n",
      "Epoch 128/200\n",
      "97/97 [==============================] - 194s 2s/step - loss: 0.6256 - acc: 0.9291 - val_loss: 0.5830 - val_acc: 0.9375\n",
      "\n",
      "Epoch 00128: val_acc did not improve from 0.95455\n",
      "Epoch 129/200\n",
      "97/97 [==============================] - 192s 2s/step - loss: 0.5812 - acc: 0.9510 - val_loss: 0.6862 - val_acc: 0.9148\n",
      "\n",
      "Epoch 00129: val_acc did not improve from 0.95455\n",
      "\n",
      "Epoch 00129: ReduceLROnPlateau reducing learning rate to 0.0008333333333333334.\n",
      "Epoch 130/200\n",
      "97/97 [==============================] - 192s 2s/step - loss: 0.6010 - acc: 0.9369 - val_loss: 0.5789 - val_acc: 0.9318\n",
      "\n",
      "Epoch 00130: val_acc did not improve from 0.95455\n",
      "Epoch 131/200\n",
      "97/97 [==============================] - 192s 2s/step - loss: 0.6024 - acc: 0.9388 - val_loss: 0.8301 - val_acc: 0.9091\n",
      "\n",
      "Epoch 00131: val_acc did not improve from 0.95455\n",
      "Epoch 132/200\n",
      "97/97 [==============================] - 193s 2s/step - loss: 0.6292 - acc: 0.9233 - val_loss: 0.6671 - val_acc: 0.9432\n",
      "\n",
      "Epoch 00132: val_acc did not improve from 0.95455\n",
      "Epoch 133/200\n",
      "97/97 [==============================] - 192s 2s/step - loss: 0.5857 - acc: 0.9414 - val_loss: 0.5580 - val_acc: 0.9489\n",
      "\n",
      "Epoch 00133: val_acc did not improve from 0.95455\n",
      "Epoch 134/200\n",
      "97/97 [==============================] - 192s 2s/step - loss: 0.5917 - acc: 0.9336 - val_loss: 0.6255 - val_acc: 0.9205\n",
      "\n",
      "Epoch 00134: val_acc did not improve from 0.95455\n",
      "Epoch 135/200\n",
      "97/97 [==============================] - 192s 2s/step - loss: 0.5906 - acc: 0.9356 - val_loss: 0.6050 - val_acc: 0.9432\n",
      "\n",
      "Epoch 00135: val_acc did not improve from 0.95455\n",
      "Epoch 136/200\n",
      "97/97 [==============================] - 193s 2s/step - loss: 0.6384 - acc: 0.9304 - val_loss: 0.7170 - val_acc: 0.9034\n",
      "\n",
      "Epoch 00136: val_acc did not improve from 0.95455\n",
      "Epoch 137/200\n",
      "97/97 [==============================] - 192s 2s/step - loss: 0.5867 - acc: 0.9394 - val_loss: 0.5776 - val_acc: 0.9545\n",
      "\n",
      "Epoch 00137: val_acc did not improve from 0.95455\n",
      "Epoch 138/200\n",
      "97/97 [==============================] - 191s 2s/step - loss: 0.5978 - acc: 0.9427 - val_loss: 0.5832 - val_acc: 0.9375\n",
      "\n",
      "Epoch 00138: val_acc did not improve from 0.95455\n",
      "Epoch 139/200\n",
      "97/97 [==============================] - 193s 2s/step - loss: 0.6071 - acc: 0.9330 - val_loss: 0.6628 - val_acc: 0.9432\n",
      "\n",
      "Epoch 00139: val_acc did not improve from 0.95455\n",
      "Epoch 140/200\n",
      "97/97 [==============================] - 191s 2s/step - loss: 0.6136 - acc: 0.9304 - val_loss: 0.6250 - val_acc: 0.9432\n",
      "\n",
      "Epoch 00140: val_acc did not improve from 0.95455\n",
      "\n",
      "Epoch 00140: ReduceLROnPlateau reducing learning rate to 0.0008333333333333334.\n",
      "Epoch 141/200\n",
      "97/97 [==============================] - 192s 2s/step - loss: 0.5934 - acc: 0.9349 - val_loss: 0.5732 - val_acc: 0.9489\n",
      "\n",
      "Epoch 00141: val_acc did not improve from 0.95455\n",
      "Epoch 142/200\n",
      "97/97 [==============================] - 192s 2s/step - loss: 0.6006 - acc: 0.9420 - val_loss: 0.6878 - val_acc: 0.9148\n",
      "\n",
      "Epoch 00142: val_acc did not improve from 0.95455\n",
      "Epoch 143/200\n",
      "97/97 [==============================] - 192s 2s/step - loss: 0.6036 - acc: 0.9375 - val_loss: 0.6536 - val_acc: 0.9375\n",
      "\n",
      "Epoch 00143: val_acc did not improve from 0.95455\n",
      "Epoch 144/200\n",
      "97/97 [==============================] - 193s 2s/step - loss: 0.6143 - acc: 0.9278 - val_loss: 0.6209 - val_acc: 0.9261\n",
      "\n",
      "Epoch 00144: val_acc did not improve from 0.95455\n",
      "Epoch 145/200\n",
      "97/97 [==============================] - 192s 2s/step - loss: 0.5806 - acc: 0.9407 - val_loss: 0.6171 - val_acc: 0.9261\n",
      "\n",
      "Epoch 00145: val_acc did not improve from 0.95455\n",
      "Epoch 146/200\n",
      "97/97 [==============================] - 192s 2s/step - loss: 0.5679 - acc: 0.9523 - val_loss: 0.7475 - val_acc: 0.9205\n",
      "\n",
      "Epoch 00146: val_acc did not improve from 0.95455\n",
      "Epoch 147/200\n",
      "97/97 [==============================] - 192s 2s/step - loss: 0.5739 - acc: 0.9459 - val_loss: 0.6392 - val_acc: 0.9205\n",
      "\n",
      "Epoch 00147: val_acc did not improve from 0.95455\n",
      "\n",
      "Epoch 00147: ReduceLROnPlateau reducing learning rate to 0.0008333333333333334.\n",
      "Epoch 148/200\n",
      "97/97 [==============================] - 191s 2s/step - loss: 0.5867 - acc: 0.9427 - val_loss: 0.5134 - val_acc: 0.9716\n",
      "\n",
      "Epoch 00148: val_acc improved from 0.95455 to 0.97159, saving model to E:\\Jupyter\\Project\\save_model\\deeper_reduce\n",
      "Epoch 149/200\n",
      "97/97 [==============================] - 192s 2s/step - loss: 0.5866 - acc: 0.9369 - val_loss: 0.7695 - val_acc: 0.9091\n",
      "\n",
      "Epoch 00149: val_acc did not improve from 0.97159\n",
      "Epoch 150/200\n",
      "97/97 [==============================] - 192s 2s/step - loss: 0.6412 - acc: 0.9220 - val_loss: 0.6900 - val_acc: 0.9375\n",
      "\n",
      "Epoch 00150: val_acc did not improve from 0.97159\n",
      "Epoch 151/200\n",
      "97/97 [==============================] - 192s 2s/step - loss: 0.5919 - acc: 0.9369 - val_loss: 0.6519 - val_acc: 0.9375\n",
      "\n",
      "Epoch 00151: val_acc did not improve from 0.97159\n",
      "Epoch 152/200\n",
      "97/97 [==============================] - 191s 2s/step - loss: 0.6123 - acc: 0.9304 - val_loss: 0.6198 - val_acc: 0.9318\n",
      "\n",
      "Epoch 00152: val_acc did not improve from 0.97159\n",
      "Epoch 153/200\n",
      "97/97 [==============================] - 193s 2s/step - loss: 0.5839 - acc: 0.9407 - val_loss: 0.6319 - val_acc: 0.9375\n",
      "\n",
      "Epoch 00153: val_acc did not improve from 0.97159\n",
      "Epoch 154/200\n",
      "97/97 [==============================] - 192s 2s/step - loss: 0.5879 - acc: 0.9414 - val_loss: 0.7520 - val_acc: 0.9148\n",
      "\n",
      "Epoch 00154: val_acc did not improve from 0.97159\n",
      "Epoch 155/200\n",
      "97/97 [==============================] - 192s 2s/step - loss: 0.6007 - acc: 0.9381 - val_loss: 0.6655 - val_acc: 0.9375\n",
      "\n",
      "Epoch 00155: val_acc did not improve from 0.97159\n",
      "\n",
      "Epoch 00155: ReduceLROnPlateau reducing learning rate to 0.0008333333333333334.\n",
      "Epoch 156/200\n",
      "97/97 [==============================] - 191s 2s/step - loss: 0.5914 - acc: 0.9433 - val_loss: 0.6892 - val_acc: 0.8977\n",
      "\n",
      "Epoch 00156: val_acc did not improve from 0.97159\n",
      "Epoch 157/200\n",
      "97/97 [==============================] - 192s 2s/step - loss: 0.5571 - acc: 0.9543 - val_loss: 0.5896 - val_acc: 0.9489\n",
      "\n",
      "Epoch 00157: val_acc did not improve from 0.97159\n",
      "Epoch 158/200\n",
      "97/97 [==============================] - 192s 2s/step - loss: 0.5954 - acc: 0.9452 - val_loss: 0.6964 - val_acc: 0.9034\n",
      "\n",
      "Epoch 00158: val_acc did not improve from 0.97159\n",
      "Epoch 159/200\n",
      "97/97 [==============================] - 192s 2s/step - loss: 0.5674 - acc: 0.9497 - val_loss: 0.7276 - val_acc: 0.9091\n",
      "\n",
      "Epoch 00159: val_acc did not improve from 0.97159\n",
      "Epoch 160/200\n",
      "97/97 [==============================] - 192s 2s/step - loss: 0.6126 - acc: 0.9356 - val_loss: 0.7688 - val_acc: 0.9034\n",
      "\n",
      "Epoch 00160: val_acc did not improve from 0.97159\n",
      "Epoch 161/200\n",
      "97/97 [==============================] - 192s 2s/step - loss: 0.5777 - acc: 0.9478 - val_loss: 0.6910 - val_acc: 0.9318\n",
      "\n",
      "Epoch 00161: val_acc did not improve from 0.97159\n",
      "Epoch 162/200\n",
      "97/97 [==============================] - 192s 2s/step - loss: 0.5880 - acc: 0.9491 - val_loss: 0.6920 - val_acc: 0.9148\n",
      "\n",
      "Epoch 00162: val_acc did not improve from 0.97159\n",
      "\n",
      "Epoch 00162: ReduceLROnPlateau reducing learning rate to 0.0008333333333333334.\n",
      "Epoch 163/200\n",
      "97/97 [==============================] - 192s 2s/step - loss: 0.5849 - acc: 0.9427 - val_loss: 0.6861 - val_acc: 0.9091\n",
      "\n",
      "Epoch 00163: val_acc did not improve from 0.97159\n",
      "Epoch 164/200\n",
      "97/97 [==============================] - 192s 2s/step - loss: 0.5522 - acc: 0.9485 - val_loss: 0.6864 - val_acc: 0.9318\n",
      "\n",
      "Epoch 00164: val_acc did not improve from 0.97159\n",
      "Epoch 165/200\n",
      "97/97 [==============================] - 192s 2s/step - loss: 0.5756 - acc: 0.9388 - val_loss: 0.6235 - val_acc: 0.9489\n",
      "\n",
      "Epoch 00165: val_acc did not improve from 0.97159\n",
      "Epoch 166/200\n",
      "97/97 [==============================] - 192s 2s/step - loss: 0.5559 - acc: 0.9562 - val_loss: 0.7649 - val_acc: 0.8977\n",
      "\n",
      "Epoch 00166: val_acc did not improve from 0.97159\n",
      "Epoch 167/200\n"
     ]
    },
    {
     "name": "stdout",
     "output_type": "stream",
     "text": [
      "97/97 [==============================] - 192s 2s/step - loss: 0.5801 - acc: 0.9446 - val_loss: 0.6433 - val_acc: 0.9091\n",
      "\n",
      "Epoch 00167: val_acc did not improve from 0.97159\n",
      "Epoch 168/200\n",
      "97/97 [==============================] - 192s 2s/step - loss: 0.5515 - acc: 0.9568 - val_loss: 0.8846 - val_acc: 0.8807\n",
      "\n",
      "Epoch 00168: val_acc did not improve from 0.97159\n",
      "Epoch 169/200\n",
      "97/97 [==============================] - 192s 2s/step - loss: 0.5513 - acc: 0.9465 - val_loss: 0.6061 - val_acc: 0.9489\n",
      "\n",
      "Epoch 00169: val_acc did not improve from 0.97159\n",
      "\n",
      "Epoch 00169: ReduceLROnPlateau reducing learning rate to 0.0008333333333333334.\n",
      "Epoch 170/200\n",
      "97/97 [==============================] - 192s 2s/step - loss: 0.5687 - acc: 0.9459 - val_loss: 0.5715 - val_acc: 0.9375\n",
      "\n",
      "Epoch 00170: val_acc did not improve from 0.97159\n",
      "Epoch 171/200\n",
      "97/97 [==============================] - 192s 2s/step - loss: 0.5913 - acc: 0.9394 - val_loss: 0.5545 - val_acc: 0.9489\n",
      "\n",
      "Epoch 00171: val_acc did not improve from 0.97159\n",
      "Epoch 172/200\n",
      "97/97 [==============================] - 193s 2s/step - loss: 0.5954 - acc: 0.9388 - val_loss: 0.5979 - val_acc: 0.9432\n",
      "\n",
      "Epoch 00172: val_acc did not improve from 0.97159\n",
      "Epoch 173/200\n",
      "97/97 [==============================] - 192s 2s/step - loss: 0.5674 - acc: 0.9478 - val_loss: 0.7120 - val_acc: 0.9205\n",
      "\n",
      "Epoch 00173: val_acc did not improve from 0.97159\n",
      "Epoch 174/200\n",
      "97/97 [==============================] - 191s 2s/step - loss: 0.5734 - acc: 0.9427 - val_loss: 0.5475 - val_acc: 0.9432\n",
      "\n",
      "Epoch 00174: val_acc did not improve from 0.97159\n",
      "Epoch 175/200\n",
      "97/97 [==============================] - 192s 2s/step - loss: 0.5584 - acc: 0.9504 - val_loss: 0.5780 - val_acc: 0.9545\n",
      "\n",
      "Epoch 00175: val_acc did not improve from 0.97159\n",
      "Epoch 176/200\n",
      "97/97 [==============================] - 192s 2s/step - loss: 0.5838 - acc: 0.9446 - val_loss: 0.6433 - val_acc: 0.9375\n",
      "\n",
      "Epoch 00176: val_acc did not improve from 0.97159\n",
      "\n",
      "Epoch 00176: ReduceLROnPlateau reducing learning rate to 0.0008333333333333334.\n",
      "Epoch 177/200\n",
      "97/97 [==============================] - 192s 2s/step - loss: 0.5915 - acc: 0.9439 - val_loss: 0.7331 - val_acc: 0.8977\n",
      "\n",
      "Epoch 00177: val_acc did not improve from 0.97159\n",
      "Epoch 178/200\n",
      "97/97 [==============================] - 192s 2s/step - loss: 0.6048 - acc: 0.9369 - val_loss: 0.5992 - val_acc: 0.9148\n",
      "\n",
      "Epoch 00178: val_acc did not improve from 0.97159\n",
      "Epoch 179/200\n",
      "97/97 [==============================] - 193s 2s/step - loss: 0.5479 - acc: 0.9581 - val_loss: 0.6289 - val_acc: 0.9375\n",
      "\n",
      "Epoch 00179: val_acc did not improve from 0.97159\n",
      "Epoch 180/200\n",
      "97/97 [==============================] - 192s 2s/step - loss: 0.5838 - acc: 0.9439 - val_loss: 0.6186 - val_acc: 0.9261\n",
      "\n",
      "Epoch 00180: val_acc did not improve from 0.97159\n",
      "Epoch 181/200\n",
      "97/97 [==============================] - 192s 2s/step - loss: 0.5686 - acc: 0.9497 - val_loss: 0.6107 - val_acc: 0.9545\n",
      "\n",
      "Epoch 00181: val_acc did not improve from 0.97159\n",
      "Epoch 182/200\n",
      "97/97 [==============================] - 192s 2s/step - loss: 0.5968 - acc: 0.9407 - val_loss: 0.5937 - val_acc: 0.9318\n",
      "\n",
      "Epoch 00182: val_acc did not improve from 0.97159\n",
      "Epoch 183/200\n",
      "97/97 [==============================] - 192s 2s/step - loss: 0.5838 - acc: 0.9478 - val_loss: 0.6469 - val_acc: 0.9318\n",
      "\n",
      "Epoch 00183: val_acc did not improve from 0.97159\n",
      "\n",
      "Epoch 00183: ReduceLROnPlateau reducing learning rate to 0.0008333333333333334.\n",
      "Epoch 184/200\n",
      "97/97 [==============================] - 193s 2s/step - loss: 0.5908 - acc: 0.9388 - val_loss: 0.6616 - val_acc: 0.9205\n",
      "\n",
      "Epoch 00184: val_acc did not improve from 0.97159\n",
      "Epoch 185/200\n",
      "97/97 [==============================] - 192s 2s/step - loss: 0.5604 - acc: 0.9485 - val_loss: 0.7639 - val_acc: 0.8920\n",
      "\n",
      "Epoch 00185: val_acc did not improve from 0.97159\n",
      "Epoch 186/200\n",
      "97/97 [==============================] - 192s 2s/step - loss: 0.5576 - acc: 0.9478 - val_loss: 0.7595 - val_acc: 0.8920\n",
      "\n",
      "Epoch 00186: val_acc did not improve from 0.97159\n",
      "Epoch 187/200\n",
      "97/97 [==============================] - 192s 2s/step - loss: 0.5620 - acc: 0.9478 - val_loss: 0.6844 - val_acc: 0.9489\n",
      "\n",
      "Epoch 00187: val_acc did not improve from 0.97159\n",
      "Epoch 188/200\n",
      "97/97 [==============================] - 192s 2s/step - loss: 0.5862 - acc: 0.9439 - val_loss: 0.6094 - val_acc: 0.9318\n",
      "\n",
      "Epoch 00188: val_acc did not improve from 0.97159\n",
      "Epoch 189/200\n",
      "97/97 [==============================] - 193s 2s/step - loss: 0.5963 - acc: 0.9375 - val_loss: 0.6446 - val_acc: 0.9261\n",
      "\n",
      "Epoch 00189: val_acc did not improve from 0.97159\n",
      "Epoch 190/200\n",
      "97/97 [==============================] - 192s 2s/step - loss: 0.5907 - acc: 0.9381 - val_loss: 0.7419 - val_acc: 0.8864\n",
      "\n",
      "Epoch 00190: val_acc did not improve from 0.97159\n",
      "\n",
      "Epoch 00190: ReduceLROnPlateau reducing learning rate to 0.0008333333333333334.\n",
      "Epoch 191/200\n",
      "97/97 [==============================] - 192s 2s/step - loss: 0.5911 - acc: 0.9414 - val_loss: 0.5282 - val_acc: 0.9602\n",
      "\n",
      "Epoch 00191: val_acc did not improve from 0.97159\n",
      "Epoch 192/200\n",
      "97/97 [==============================] - 192s 2s/step - loss: 0.5490 - acc: 0.9588 - val_loss: 0.7741 - val_acc: 0.9091\n",
      "\n",
      "Epoch 00192: val_acc did not improve from 0.97159\n",
      "Epoch 193/200\n",
      "97/97 [==============================] - 193s 2s/step - loss: 0.5906 - acc: 0.9381 - val_loss: 0.6487 - val_acc: 0.9205\n",
      "\n",
      "Epoch 00193: val_acc did not improve from 0.97159\n",
      "Epoch 194/200\n",
      "97/97 [==============================] - 192s 2s/step - loss: 0.5847 - acc: 0.9381 - val_loss: 0.6197 - val_acc: 0.9432\n",
      "\n",
      "Epoch 00194: val_acc did not improve from 0.97159\n",
      "Epoch 195/200\n",
      "97/97 [==============================] - 191s 2s/step - loss: 0.5712 - acc: 0.9394 - val_loss: 0.5352 - val_acc: 0.9545\n",
      "\n",
      "Epoch 00195: val_acc did not improve from 0.97159\n",
      "Epoch 196/200\n",
      "97/97 [==============================] - 192s 2s/step - loss: 0.5424 - acc: 0.9588 - val_loss: 0.7160 - val_acc: 0.9205\n",
      "\n",
      "Epoch 00196: val_acc did not improve from 0.97159\n",
      "Epoch 197/200\n",
      "97/97 [==============================] - 192s 2s/step - loss: 0.5860 - acc: 0.9433 - val_loss: 0.7158 - val_acc: 0.9148\n",
      "\n",
      "Epoch 00197: val_acc did not improve from 0.97159\n",
      "\n",
      "Epoch 00197: ReduceLROnPlateau reducing learning rate to 0.0008333333333333334.\n",
      "Epoch 198/200\n",
      "97/97 [==============================] - 193s 2s/step - loss: 0.5683 - acc: 0.9478 - val_loss: 0.8346 - val_acc: 0.8977\n",
      "\n",
      "Epoch 00198: val_acc did not improve from 0.97159\n",
      "Epoch 199/200\n",
      "97/97 [==============================] - 192s 2s/step - loss: 0.5437 - acc: 0.9568 - val_loss: 0.7654 - val_acc: 0.8750\n",
      "\n",
      "Epoch 00199: val_acc did not improve from 0.97159\n",
      "Epoch 200/200\n",
      "97/97 [==============================] - 192s 2s/step - loss: 0.5761 - acc: 0.9555 - val_loss: 0.6622 - val_acc: 0.9205\n",
      "\n",
      "Epoch 00200: val_acc did not improve from 0.97159\n"
     ]
    }
   ],
   "source": [
    "nb_epoch = 200\n",
    "batch_size = 16\n",
    "#steps_per_epoch=int((len(X_val_new)*1.5)/batch_size)\n",
    "lr_reducer = ReduceLROnPlateau(monitor='val_loss', factor=0.05, \n",
    "                               cooldown=0, patience=7, min_lr=0.005/(2^4),verbose=1)\n",
    "hist = model.fit_generator(data_gen(train[\"Video\"].tolist()[0:],batch_size),\n",
    "                           validation_data=data_gen(validation[\"Video\"].tolist()[0:],batch_size),\n",
    "                           steps_per_epoch=len(train[\"Video\"].tolist()[0:])//(16*batch_size),\n",
    "                           validation_steps=len(validation[\"Video\"].tolist()[0:])//(16*batch_size),\n",
    "                           epochs = nb_epoch,\n",
    "                           callbacks=[checkpoint,lr_reducer]\n",
    "                          )"
   ]
  },
  {
   "cell_type": "code",
   "execution_count": 11,
   "metadata": {
    "scrolled": true
   },
   "outputs": [],
   "source": [
    "training_loss = hist.history['loss']\n",
    "val_loss = hist.history['val_loss']\n",
    "training_acc = hist.history['acc']\n",
    "val_acc = hist.history['val_acc']"
   ]
  },
  {
   "cell_type": "code",
   "execution_count": 12,
   "metadata": {
    "scrolled": false
   },
   "outputs": [
    {
     "data": {
      "text/plain": [
       "\"for entry in hist1.history['loss']:\\n    training_loss.append(entry)\\nfor entry in hist1.history['val_loss']:\\n    val_loss.append(entry)\\nfor entry in hist1.history['acc']:\\n    training_acc.append(entry)\\nfor entry in hist1.history['val_acc']:\\n    val_acc.append(entry)\""
      ]
     },
     "execution_count": 12,
     "metadata": {},
     "output_type": "execute_result"
    }
   ],
   "source": [
    "\"\"\"for entry in hist1.history['loss']:\n",
    "    training_loss.append(entry)\n",
    "for entry in hist1.history['val_loss']:\n",
    "    val_loss.append(entry)\n",
    "for entry in hist1.history['acc']:\n",
    "    training_acc.append(entry)\n",
    "for entry in hist1.history['val_acc']:\n",
    "    val_acc.append(entry)\"\"\""
   ]
  },
  {
   "cell_type": "code",
   "execution_count": 13,
   "metadata": {
    "scrolled": false
   },
   "outputs": [
    {
     "data": {
      "image/png": "[encoded data removed]",
      "text/plain": [
       "<Figure size 432x288 with 1 Axes>"
      ]
     },
     "metadata": {
      "needs_background": "light"
     },
     "output_type": "display_data"
    },
    {
     "data": {
      "text/plain": [
       "\"with open('deeploss_tr.pkl','rb') as fid:\\n    training_loss = pickle.load(fid)\""
      ]
     },
     "execution_count": 13,
     "metadata": {},
     "output_type": "execute_result"
    }
   ],
   "source": [
    "import pickle\n",
    "plt.plot(training_loss, label=\"training_loss\")\n",
    "plt.plot(val_loss, label=\"validation_loss\")\n",
    "plt.xlabel(\"Epochs\")\n",
    "plt.ylabel(\"Loss\")\n",
    "plt.title(\"Learning Curve\")\n",
    "plt.legend(loc='best')\n",
    "plt.show()\n",
    "\n",
    "with open('E:/Jupyter/Project/save_model/deeperreduceloss_tr.pkl','wb') as fid:\n",
    "    pickle.dump(training_loss, fid)\n",
    "with open('E:/Jupyter/Project/save_model/deeperreduceloss_val.pkl','wb') as fid:\n",
    "    pickle.dump(val_loss, fid)\n",
    "\"\"\"with open('deeploss_tr.pkl','rb') as fid:\n",
    "    training_loss = pickle.load(fid)\"\"\""
   ]
  },
  {
   "cell_type": "code",
   "execution_count": 14,
   "metadata": {
    "scrolled": false
   },
   "outputs": [
    {
     "data": {
      "image/png": "[encoded data removed]",
      "text/plain": [
       "<Figure size 432x288 with 1 Axes>"
      ]
     },
     "metadata": {
      "needs_background": "light"
     },
     "output_type": "display_data"
    }
   ],
   "source": [
    "\n",
    "plt.plot(training_acc, label=\"training_accuracy\")\n",
    "plt.plot(val_acc, label=\"validation_accuracy\")\n",
    "plt.xlabel(\"Epochs\")\n",
    "plt.ylabel(\"accuracy\")\n",
    "plt.title(\"Learning Curve\")\n",
    "plt.legend(loc='best')\n",
    "plt.show()\n",
    "\n",
    "with open('E:/Jupyter/Project/save_model/deeperreduceacc_tr.pkl','wb') as fid:\n",
    "    pickle.dump(training_acc, fid)\n",
    "with open('E:/Jupyter/Project/save_model/deeperreduceacc_val.pkl','wb') as fid:\n",
    "    pickle.dump(val_acc, fid)"
   ]
  },
  {
   "cell_type": "code",
   "execution_count": 6,
   "metadata": {
    "scrolled": false
   },
   "outputs": [],
   "source": [
    "from keras.models import Model, load_model\n",
    "model1_name = \"deeper_reduce\"\n",
    "model1_path = os.path.join(save_dir, model1_name)\n",
    "model1 = load_model(model1_path)"
   ]
  },
  {
   "cell_type": "code",
   "execution_count": 13,
   "metadata": {
    "scrolled": false
   },
   "outputs": [
    {
     "ename": "FileNotFoundError",
     "evalue": "[WinError 3] The system cannot find the path specified: 'E:/Jupyter/Project/generated_images_timeSampled/pos\\\\46550'",
     "output_type": "error",
     "traceback": [
      "\u001b[1;31m---------------------------------------------------------------------------\u001b[0m",
      "\u001b[1;31mFileNotFoundError\u001b[0m                         Traceback (most recent call last)",
      "\u001b[1;32m<ipython-input-13-14b1a82ba2d0>\u001b[0m in \u001b[0;36m<module>\u001b[1;34m\u001b[0m\n\u001b[0;32m      1\u001b[0m \u001b[0mbatch_size\u001b[0m \u001b[1;33m=\u001b[0m \u001b[1;36m16\u001b[0m\u001b[1;33m\u001b[0m\u001b[1;33m\u001b[0m\u001b[0m\n\u001b[0;32m      2\u001b[0m model1.evaluate_generator(data_gen(validation[\"Video\"].tolist()[0:],batch_size),\n\u001b[1;32m----> 3\u001b[1;33m                          len(validation[\"Video\"].tolist()[0:])//(batch_size))\n\u001b[0m",
      "\u001b[1;32mC:\\ProgramData\\Anaconda3\\lib\\site-packages\\keras\\legacy\\interfaces.py\u001b[0m in \u001b[0;36mwrapper\u001b[1;34m(*args, **kwargs)\u001b[0m\n\u001b[0;32m     89\u001b[0m                 warnings.warn('Update your `' + object_name + '` call to the ' +\n\u001b[0;32m     90\u001b[0m                               'Keras 2 API: ' + signature, stacklevel=2)\n\u001b[1;32m---> 91\u001b[1;33m             \u001b[1;32mreturn\u001b[0m \u001b[0mfunc\u001b[0m\u001b[1;33m(\u001b[0m\u001b[1;33m*\u001b[0m\u001b[0margs\u001b[0m\u001b[1;33m,\u001b[0m \u001b[1;33m**\u001b[0m\u001b[0mkwargs\u001b[0m\u001b[1;33m)\u001b[0m\u001b[1;33m\u001b[0m\u001b[1;33m\u001b[0m\u001b[0m\n\u001b[0m\u001b[0;32m     92\u001b[0m         \u001b[0mwrapper\u001b[0m\u001b[1;33m.\u001b[0m\u001b[0m_original_function\u001b[0m \u001b[1;33m=\u001b[0m \u001b[0mfunc\u001b[0m\u001b[1;33m\u001b[0m\u001b[1;33m\u001b[0m\u001b[0m\n\u001b[0;32m     93\u001b[0m         \u001b[1;32mreturn\u001b[0m \u001b[0mwrapper\u001b[0m\u001b[1;33m\u001b[0m\u001b[1;33m\u001b[0m\u001b[0m\n",
      "\u001b[1;32mC:\\ProgramData\\Anaconda3\\lib\\site-packages\\keras\\engine\\training.py\u001b[0m in \u001b[0;36mevaluate_generator\u001b[1;34m(self, generator, steps, max_queue_size, workers, use_multiprocessing, verbose)\u001b[0m\n\u001b[0;32m   1470\u001b[0m             \u001b[0mworkers\u001b[0m\u001b[1;33m=\u001b[0m\u001b[0mworkers\u001b[0m\u001b[1;33m,\u001b[0m\u001b[1;33m\u001b[0m\u001b[1;33m\u001b[0m\u001b[0m\n\u001b[0;32m   1471\u001b[0m             \u001b[0muse_multiprocessing\u001b[0m\u001b[1;33m=\u001b[0m\u001b[0muse_multiprocessing\u001b[0m\u001b[1;33m,\u001b[0m\u001b[1;33m\u001b[0m\u001b[1;33m\u001b[0m\u001b[0m\n\u001b[1;32m-> 1472\u001b[1;33m             verbose=verbose)\n\u001b[0m\u001b[0;32m   1473\u001b[0m \u001b[1;33m\u001b[0m\u001b[0m\n\u001b[0;32m   1474\u001b[0m     \u001b[1;33m@\u001b[0m\u001b[0minterfaces\u001b[0m\u001b[1;33m.\u001b[0m\u001b[0mlegacy_generator_methods_support\u001b[0m\u001b[1;33m\u001b[0m\u001b[1;33m\u001b[0m\u001b[0m\n",
      "\u001b[1;32mC:\\ProgramData\\Anaconda3\\lib\\site-packages\\keras\\engine\\training_generator.py\u001b[0m in \u001b[0;36mevaluate_generator\u001b[1;34m(model, generator, steps, max_queue_size, workers, use_multiprocessing, verbose)\u001b[0m\n\u001b[0;32m    328\u001b[0m \u001b[1;33m\u001b[0m\u001b[0m\n\u001b[0;32m    329\u001b[0m         \u001b[1;32mwhile\u001b[0m \u001b[0msteps_done\u001b[0m \u001b[1;33m<\u001b[0m \u001b[0msteps\u001b[0m\u001b[1;33m:\u001b[0m\u001b[1;33m\u001b[0m\u001b[1;33m\u001b[0m\u001b[0m\n\u001b[1;32m--> 330\u001b[1;33m             \u001b[0mgenerator_output\u001b[0m \u001b[1;33m=\u001b[0m \u001b[0mnext\u001b[0m\u001b[1;33m(\u001b[0m\u001b[0moutput_generator\u001b[0m\u001b[1;33m)\u001b[0m\u001b[1;33m\u001b[0m\u001b[1;33m\u001b[0m\u001b[0m\n\u001b[0m\u001b[0;32m    331\u001b[0m             \u001b[1;32mif\u001b[0m \u001b[1;32mnot\u001b[0m \u001b[0mhasattr\u001b[0m\u001b[1;33m(\u001b[0m\u001b[0mgenerator_output\u001b[0m\u001b[1;33m,\u001b[0m \u001b[1;34m'__len__'\u001b[0m\u001b[1;33m)\u001b[0m\u001b[1;33m:\u001b[0m\u001b[1;33m\u001b[0m\u001b[1;33m\u001b[0m\u001b[0m\n\u001b[0;32m    332\u001b[0m                 raise ValueError('Output of generator should be a tuple '\n",
      "\u001b[1;32mC:\\ProgramData\\Anaconda3\\lib\\site-packages\\keras\\utils\\data_utils.py\u001b[0m in \u001b[0;36mget\u001b[1;34m(self)\u001b[0m\n\u001b[0;32m    707\u001b[0m                     \u001b[1;34m\"`use_multiprocessing=False, workers > 1`.\"\u001b[0m\u001b[1;33m\u001b[0m\u001b[1;33m\u001b[0m\u001b[0m\n\u001b[0;32m    708\u001b[0m                     \"For more information see issue #1638.\")\n\u001b[1;32m--> 709\u001b[1;33m             \u001b[0msix\u001b[0m\u001b[1;33m.\u001b[0m\u001b[0mreraise\u001b[0m\u001b[1;33m(\u001b[0m\u001b[1;33m*\u001b[0m\u001b[0msys\u001b[0m\u001b[1;33m.\u001b[0m\u001b[0mexc_info\u001b[0m\u001b[1;33m(\u001b[0m\u001b[1;33m)\u001b[0m\u001b[1;33m)\u001b[0m\u001b[1;33m\u001b[0m\u001b[1;33m\u001b[0m\u001b[0m\n\u001b[0m",
      "\u001b[1;32mC:\\ProgramData\\Anaconda3\\lib\\site-packages\\six.py\u001b[0m in \u001b[0;36mreraise\u001b[1;34m(tp, value, tb)\u001b[0m\n\u001b[0;32m    691\u001b[0m             \u001b[1;32mif\u001b[0m \u001b[0mvalue\u001b[0m\u001b[1;33m.\u001b[0m\u001b[0m__traceback__\u001b[0m \u001b[1;32mis\u001b[0m \u001b[1;32mnot\u001b[0m \u001b[0mtb\u001b[0m\u001b[1;33m:\u001b[0m\u001b[1;33m\u001b[0m\u001b[1;33m\u001b[0m\u001b[0m\n\u001b[0;32m    692\u001b[0m                 \u001b[1;32mraise\u001b[0m \u001b[0mvalue\u001b[0m\u001b[1;33m.\u001b[0m\u001b[0mwith_traceback\u001b[0m\u001b[1;33m(\u001b[0m\u001b[0mtb\u001b[0m\u001b[1;33m)\u001b[0m\u001b[1;33m\u001b[0m\u001b[1;33m\u001b[0m\u001b[0m\n\u001b[1;32m--> 693\u001b[1;33m             \u001b[1;32mraise\u001b[0m \u001b[0mvalue\u001b[0m\u001b[1;33m\u001b[0m\u001b[1;33m\u001b[0m\u001b[0m\n\u001b[0m\u001b[0;32m    694\u001b[0m         \u001b[1;32mfinally\u001b[0m\u001b[1;33m:\u001b[0m\u001b[1;33m\u001b[0m\u001b[1;33m\u001b[0m\u001b[0m\n\u001b[0;32m    695\u001b[0m             \u001b[0mvalue\u001b[0m \u001b[1;33m=\u001b[0m \u001b[1;32mNone\u001b[0m\u001b[1;33m\u001b[0m\u001b[1;33m\u001b[0m\u001b[0m\n",
      "\u001b[1;32mC:\\ProgramData\\Anaconda3\\lib\\site-packages\\keras\\utils\\data_utils.py\u001b[0m in \u001b[0;36mget\u001b[1;34m(self)\u001b[0m\n\u001b[0;32m    683\u001b[0m         \u001b[1;32mtry\u001b[0m\u001b[1;33m:\u001b[0m\u001b[1;33m\u001b[0m\u001b[1;33m\u001b[0m\u001b[0m\n\u001b[0;32m    684\u001b[0m             \u001b[1;32mwhile\u001b[0m \u001b[0mself\u001b[0m\u001b[1;33m.\u001b[0m\u001b[0mis_running\u001b[0m\u001b[1;33m(\u001b[0m\u001b[1;33m)\u001b[0m\u001b[1;33m:\u001b[0m\u001b[1;33m\u001b[0m\u001b[1;33m\u001b[0m\u001b[0m\n\u001b[1;32m--> 685\u001b[1;33m                 \u001b[0minputs\u001b[0m \u001b[1;33m=\u001b[0m \u001b[0mself\u001b[0m\u001b[1;33m.\u001b[0m\u001b[0mqueue\u001b[0m\u001b[1;33m.\u001b[0m\u001b[0mget\u001b[0m\u001b[1;33m(\u001b[0m\u001b[0mblock\u001b[0m\u001b[1;33m=\u001b[0m\u001b[1;32mTrue\u001b[0m\u001b[1;33m)\u001b[0m\u001b[1;33m.\u001b[0m\u001b[0mget\u001b[0m\u001b[1;33m(\u001b[0m\u001b[1;33m)\u001b[0m\u001b[1;33m\u001b[0m\u001b[1;33m\u001b[0m\u001b[0m\n\u001b[0m\u001b[0;32m    686\u001b[0m                 \u001b[0mself\u001b[0m\u001b[1;33m.\u001b[0m\u001b[0mqueue\u001b[0m\u001b[1;33m.\u001b[0m\u001b[0mtask_done\u001b[0m\u001b[1;33m(\u001b[0m\u001b[1;33m)\u001b[0m\u001b[1;33m\u001b[0m\u001b[1;33m\u001b[0m\u001b[0m\n\u001b[0;32m    687\u001b[0m                 \u001b[1;32mif\u001b[0m \u001b[0minputs\u001b[0m \u001b[1;32mis\u001b[0m \u001b[1;32mnot\u001b[0m \u001b[1;32mNone\u001b[0m\u001b[1;33m:\u001b[0m\u001b[1;33m\u001b[0m\u001b[1;33m\u001b[0m\u001b[0m\n",
      "\u001b[1;32mC:\\ProgramData\\Anaconda3\\lib\\multiprocessing\\pool.py\u001b[0m in \u001b[0;36mget\u001b[1;34m(self, timeout)\u001b[0m\n\u001b[0;32m    642\u001b[0m             \u001b[1;32mreturn\u001b[0m \u001b[0mself\u001b[0m\u001b[1;33m.\u001b[0m\u001b[0m_value\u001b[0m\u001b[1;33m\u001b[0m\u001b[1;33m\u001b[0m\u001b[0m\n\u001b[0;32m    643\u001b[0m         \u001b[1;32melse\u001b[0m\u001b[1;33m:\u001b[0m\u001b[1;33m\u001b[0m\u001b[1;33m\u001b[0m\u001b[0m\n\u001b[1;32m--> 644\u001b[1;33m             \u001b[1;32mraise\u001b[0m \u001b[0mself\u001b[0m\u001b[1;33m.\u001b[0m\u001b[0m_value\u001b[0m\u001b[1;33m\u001b[0m\u001b[1;33m\u001b[0m\u001b[0m\n\u001b[0m\u001b[0;32m    645\u001b[0m \u001b[1;33m\u001b[0m\u001b[0m\n\u001b[0;32m    646\u001b[0m     \u001b[1;32mdef\u001b[0m \u001b[0m_set\u001b[0m\u001b[1;33m(\u001b[0m\u001b[0mself\u001b[0m\u001b[1;33m,\u001b[0m \u001b[0mi\u001b[0m\u001b[1;33m,\u001b[0m \u001b[0mobj\u001b[0m\u001b[1;33m)\u001b[0m\u001b[1;33m:\u001b[0m\u001b[1;33m\u001b[0m\u001b[1;33m\u001b[0m\u001b[0m\n",
      "\u001b[1;32mC:\\ProgramData\\Anaconda3\\lib\\multiprocessing\\pool.py\u001b[0m in \u001b[0;36mworker\u001b[1;34m(inqueue, outqueue, initializer, initargs, maxtasks, wrap_exception)\u001b[0m\n\u001b[0;32m    117\u001b[0m         \u001b[0mjob\u001b[0m\u001b[1;33m,\u001b[0m \u001b[0mi\u001b[0m\u001b[1;33m,\u001b[0m \u001b[0mfunc\u001b[0m\u001b[1;33m,\u001b[0m \u001b[0margs\u001b[0m\u001b[1;33m,\u001b[0m \u001b[0mkwds\u001b[0m \u001b[1;33m=\u001b[0m \u001b[0mtask\u001b[0m\u001b[1;33m\u001b[0m\u001b[1;33m\u001b[0m\u001b[0m\n\u001b[0;32m    118\u001b[0m         \u001b[1;32mtry\u001b[0m\u001b[1;33m:\u001b[0m\u001b[1;33m\u001b[0m\u001b[1;33m\u001b[0m\u001b[0m\n\u001b[1;32m--> 119\u001b[1;33m             \u001b[0mresult\u001b[0m \u001b[1;33m=\u001b[0m \u001b[1;33m(\u001b[0m\u001b[1;32mTrue\u001b[0m\u001b[1;33m,\u001b[0m \u001b[0mfunc\u001b[0m\u001b[1;33m(\u001b[0m\u001b[1;33m*\u001b[0m\u001b[0margs\u001b[0m\u001b[1;33m,\u001b[0m \u001b[1;33m**\u001b[0m\u001b[0mkwds\u001b[0m\u001b[1;33m)\u001b[0m\u001b[1;33m)\u001b[0m\u001b[1;33m\u001b[0m\u001b[1;33m\u001b[0m\u001b[0m\n\u001b[0m\u001b[0;32m    120\u001b[0m         \u001b[1;32mexcept\u001b[0m \u001b[0mException\u001b[0m \u001b[1;32mas\u001b[0m \u001b[0me\u001b[0m\u001b[1;33m:\u001b[0m\u001b[1;33m\u001b[0m\u001b[1;33m\u001b[0m\u001b[0m\n\u001b[0;32m    121\u001b[0m             \u001b[1;32mif\u001b[0m \u001b[0mwrap_exception\u001b[0m \u001b[1;32mand\u001b[0m \u001b[0mfunc\u001b[0m \u001b[1;32mis\u001b[0m \u001b[1;32mnot\u001b[0m \u001b[0m_helper_reraises_exception\u001b[0m\u001b[1;33m:\u001b[0m\u001b[1;33m\u001b[0m\u001b[1;33m\u001b[0m\u001b[0m\n",
      "\u001b[1;32mC:\\ProgramData\\Anaconda3\\lib\\site-packages\\keras\\utils\\data_utils.py\u001b[0m in \u001b[0;36mnext_sample\u001b[1;34m(uid)\u001b[0m\n\u001b[0;32m    624\u001b[0m         \u001b[0mThe\u001b[0m \u001b[0mnext\u001b[0m \u001b[0mvalue\u001b[0m \u001b[0mof\u001b[0m \u001b[0mgenerator\u001b[0m\u001b[0;31m \u001b[0m\u001b[0;31m`\u001b[0m\u001b[0muid\u001b[0m\u001b[0;31m`\u001b[0m\u001b[1;33m.\u001b[0m\u001b[1;33m\u001b[0m\u001b[1;33m\u001b[0m\u001b[0m\n\u001b[0;32m    625\u001b[0m     \"\"\"\n\u001b[1;32m--> 626\u001b[1;33m     \u001b[1;32mreturn\u001b[0m \u001b[0msix\u001b[0m\u001b[1;33m.\u001b[0m\u001b[0mnext\u001b[0m\u001b[1;33m(\u001b[0m\u001b[0m_SHARED_SEQUENCES\u001b[0m\u001b[1;33m[\u001b[0m\u001b[0muid\u001b[0m\u001b[1;33m]\u001b[0m\u001b[1;33m)\u001b[0m\u001b[1;33m\u001b[0m\u001b[1;33m\u001b[0m\u001b[0m\n\u001b[0m\u001b[0;32m    627\u001b[0m \u001b[1;33m\u001b[0m\u001b[0m\n\u001b[0;32m    628\u001b[0m \u001b[1;33m\u001b[0m\u001b[0m\n",
      "\u001b[1;32m<ipython-input-11-a1d93362b7cc>\u001b[0m in \u001b[0;36mdata_gen\u001b[1;34m(train_list, batch_size)\u001b[0m\n\u001b[0;32m      9\u001b[0m             \u001b[0mpos_dir\u001b[0m \u001b[1;33m=\u001b[0m \u001b[0mos\u001b[0m\u001b[1;33m.\u001b[0m\u001b[0mpath\u001b[0m\u001b[1;33m.\u001b[0m\u001b[0mjoin\u001b[0m\u001b[1;33m(\u001b[0m\u001b[1;34m\"E:/Jupyter/Project/generated_images_timeSampled/pos\"\u001b[0m\u001b[1;33m,\u001b[0m\u001b[0mstr\u001b[0m\u001b[1;33m(\u001b[0m\u001b[0mvid_ID\u001b[0m\u001b[1;33m)\u001b[0m\u001b[1;33m)\u001b[0m\u001b[1;33m\u001b[0m\u001b[1;33m\u001b[0m\u001b[0m\n\u001b[0;32m     10\u001b[0m             \u001b[0mneg_dir\u001b[0m \u001b[1;33m=\u001b[0m \u001b[0mos\u001b[0m\u001b[1;33m.\u001b[0m\u001b[0mpath\u001b[0m\u001b[1;33m.\u001b[0m\u001b[0mjoin\u001b[0m\u001b[1;33m(\u001b[0m\u001b[1;34m\"E:/Jupyter/Project/generated_images_timeSampled/neg\"\u001b[0m\u001b[1;33m,\u001b[0m\u001b[0mstr\u001b[0m\u001b[1;33m(\u001b[0m\u001b[0mvid_ID\u001b[0m\u001b[1;33m)\u001b[0m\u001b[1;33m)\u001b[0m\u001b[1;33m\u001b[0m\u001b[1;33m\u001b[0m\u001b[0m\n\u001b[1;32m---> 11\u001b[1;33m             \u001b[1;32mfor\u001b[0m \u001b[0mimg_ID\u001b[0m \u001b[1;32min\u001b[0m \u001b[0msorted\u001b[0m\u001b[1;33m(\u001b[0m\u001b[0mos\u001b[0m\u001b[1;33m.\u001b[0m\u001b[0mlistdir\u001b[0m\u001b[1;33m(\u001b[0m\u001b[0mpos_dir\u001b[0m\u001b[1;33m)\u001b[0m\u001b[1;33m)\u001b[0m\u001b[1;33m:\u001b[0m\u001b[1;33m\u001b[0m\u001b[1;33m\u001b[0m\u001b[0m\n\u001b[0m\u001b[0;32m     12\u001b[0m                 \u001b[0mpos\u001b[0m \u001b[1;33m=\u001b[0m \u001b[0mos\u001b[0m\u001b[1;33m.\u001b[0m\u001b[0mpath\u001b[0m\u001b[1;33m.\u001b[0m\u001b[0mjoin\u001b[0m\u001b[1;33m(\u001b[0m\u001b[0mpos_dir\u001b[0m\u001b[1;33m,\u001b[0m\u001b[0mimg_ID\u001b[0m\u001b[1;33m)\u001b[0m\u001b[1;33m\u001b[0m\u001b[1;33m\u001b[0m\u001b[0m\n\u001b[0;32m     13\u001b[0m                 \u001b[0mneg\u001b[0m \u001b[1;33m=\u001b[0m \u001b[0mos\u001b[0m\u001b[1;33m.\u001b[0m\u001b[0mpath\u001b[0m\u001b[1;33m.\u001b[0m\u001b[0mjoin\u001b[0m\u001b[1;33m(\u001b[0m\u001b[0mneg_dir\u001b[0m\u001b[1;33m,\u001b[0m\u001b[0mimg_ID\u001b[0m\u001b[1;33m)\u001b[0m\u001b[1;33m\u001b[0m\u001b[1;33m\u001b[0m\u001b[0m\n",
      "\u001b[1;31mFileNotFoundError\u001b[0m: [WinError 3] The system cannot find the path specified: 'E:/Jupyter/Project/generated_images_timeSampled/pos\\\\46550'"
     ]
    }
   ],
   "source": [
    "batch_size = 16\n",
    "model1.evaluate_generator(data_gen(validation[\"Video\"].tolist()[0:],batch_size),\n",
    "                         len(validation[\"Video\"].tolist()[0:])//(batch_size))"
   ]
  },
  {
   "cell_type": "code",
   "execution_count": 17,
   "metadata": {},
   "outputs": [
    {
     "data": {
      "text/plain": [
       "[0.6729618944422737, 0.9214659685863874]"
      ]
     },
     "execution_count": 17,
     "metadata": {},
     "output_type": "execute_result"
    }
   ],
   "source": [
    "model.evaluate_generator(data_gen(validation[\"Video\"].tolist()[0:],batch_size),\n",
    "                         len(validation[\"Video\"].tolist()[0:])//(batch_size))"
   ]
  },
  {
   "cell_type": "code",
   "execution_count": 18,
   "metadata": {},
   "outputs": [],
   "source": [
    "def data_predict_gen(train_list, niter, batch_size=64):\n",
    "    while True:\n",
    "        current_vid=0\n",
    "        X_tr_array = np.zeros([batch_size,nb_frames,img_cols,img_rows,channels])\n",
    "        Y_train = np.zeros([batch_size, nb_classes])\n",
    "        for vid_ID in train_list[niter*batch_size:(niter+1)*batch_size]:\n",
    "            frame_count=0\n",
    "            pos_dir = os.path.join(\"E:/Jupyter/Project/generated_images_timeSampled/pos\",str(vid_ID))\n",
    "            neg_dir = os.path.join(\"E:/Jupyter/Project/generated_images_timeSampled/neg\",str(vid_ID))\n",
    "            for img_ID in sorted(os.listdir(pos_dir)):\n",
    "                pos = os.path.join(pos_dir,img_ID)\n",
    "                neg = os.path.join(neg_dir,img_ID)\n",
    "                p_img = cv2.imread(pos,0)\n",
    "                X_tr_array[current_vid,frame_count,:,:,0]=p_img\n",
    "                n_img = cv2.imread(neg,0)\n",
    "                X_tr_array[current_vid,frame_count,:,:,1]=n_img\n",
    "                #frame = cv2.merge((p_img,n_img))\n",
    "                #X_tr_array[current_vid,frame_count]=frame\n",
    "                frame_count+=1\n",
    "            Y_train[current_vid]=np_utils.to_categorical(labels_dict[vid_ID], nb_classes)\n",
    "            current_vid+=1\n",
    "\n",
    "        yield X_tr_array,Y_train"
   ]
  },
  {
   "cell_type": "code",
   "execution_count": 47,
   "metadata": {
    "scrolled": true
   },
   "outputs": [
    {
     "name": "stderr",
     "output_type": "stream",
     "text": [
      "100%|████████████████████████████████████████████████████████████████████████████████| 191/191 [04:03<00:00,  1.23s/it]\n"
     ]
    },
    {
     "name": "stdout",
     "output_type": "stream",
     "text": [
      "[[513   0   0  18   2   0]\n",
      " [  2 427  49  10   3   0]\n",
      " [  3  40 463  10   3   1]\n",
      " [ 20   1   1 497  13   4]\n",
      " [  1   2   0  16 464   9]\n",
      " [  5   0   0   7  13 459]]\n"
     ]
    }
   ],
   "source": [
    "num_samples = 16\n",
    "batch_size = 16\n",
    "from tqdm import tqdm\n",
    "from sklearn.metrics import confusion_matrix\n",
    "ls_path = os.path.join(\"E:/Jupyter/Project/generated_images_timeSampled\")\n",
    "met = confusion_matrix([5],[5],labels.sort_values(by=['Label'])['Label'].tolist())\n",
    "met[5][5]-=1\n",
    "for n in tqdm(range(len(validation[\"Video\"].tolist()[0:])//(num_samples))):\n",
    "    current_vid=0\n",
    "    Y_train = np.zeros([batch_size, nb_classes])\n",
    "    for vid_ID in validation[\"Video\"].tolist()[n*batch_size:(n+1)*batch_size]:\n",
    "        Y_train[current_vid]=np_utils.to_categorical(labels_dict[vid_ID], nb_classes)\n",
    "        current_vid+=1\n",
    "    met1 = confusion_matrix(np.argmax(Y_train,axis =1), np.argmax(model1.predict_generator(data_predict_gen(validation[\"Video\"].tolist()[0:],n,num_samples),1),axis =1),labels.sort_values(by=['Label'])['Label'].tolist())\n",
    "    for x in range(met1.shape[0]):\n",
    "        for y in range(met1.shape[0]):\n",
    "            met[x][y]=met[x][y]+met1[x][y]\n",
    "print(met)"
   ]
  },
  {
   "cell_type": "code",
   "execution_count": 48,
   "metadata": {},
   "outputs": [
    {
     "name": "stdout",
     "output_type": "stream",
     "text": [
      "1.291576623916626\n"
     ]
    }
   ],
   "source": [
    "import time\n",
    "str_time=time.time()\n",
    "model1.predict_generator(data_predict_gen(validation[\"Video\"].tolist()[0:],n,num_samples),1)\n",
    "print(time.time()-str_time)"
   ]
  },
  {
   "cell_type": "code",
   "execution_count": 49,
   "metadata": {},
   "outputs": [],
   "source": [
    "import pickle\n",
    "with open('E:/Jupyter/Project/save_model/deeperreduceconf.pkl','wb') as fid:\n",
    "    pickle.dump(met, fid)"
   ]
  },
  {
   "cell_type": "code",
   "execution_count": 50,
   "metadata": {
    "scrolled": false
   },
   "outputs": [],
   "source": [
    "import itertools\n",
    "def confusion_matrix_plot(cm, classes, \n",
    "                          title='Full Label Set Normalized Confusion Matrix', \n",
    "                          normalize=True, \n",
    "                          cmap=plt.cm.Blues):\n",
    "    \"\"\"\n",
    "    This function prints and plots the confusion matrix.\n",
    "    Normalization can be applied by setting `normalize=True`.\n",
    "    \"\"\"\n",
    "    if normalize:\n",
    "        cm = cm.astype('float') / cm.sum(axis=1)[:, np.newaxis]\n",
    "        cm = np.around(cm, decimals=2)\n",
    "        cm *= 100\n",
    "        cm[np.isnan(cm)] = 0.0\n",
    "    plt.subplots(1, 1, figsize=(10, 30))\n",
    "    plt.imshow(cm, interpolation='nearest', cmap=cmap)\n",
    "    plt.title(title)\n",
    "    #plt.colorbar()\n",
    "    tick_marks = np.arange(len(classes))\n",
    "    plt.xticks(tick_marks, classes, rotation=270)\n",
    "    plt.yticks(tick_marks, classes)\n",
    "\n",
    "    fmt = '.0f'\n",
    "    thresh = cm.max() / 2.\n",
    "    for i, j in itertools.product(range(cm.shape[0]), range(cm.shape[1])):\n",
    "        plt.text(j, i, format(cm[i, j], fmt),\n",
    "                 horizontalalignment=\"center\",\n",
    "                 color=\"white\" if cm[i, j] > thresh else \"black\")\n",
    "\n",
    "    plt.tight_layout()\n",
    "    plt.ylabel('True label')\n",
    "    plt.xlabel('Predicted label')"
   ]
  },
  {
   "cell_type": "code",
   "execution_count": 51,
   "metadata": {
    "scrolled": false
   },
   "outputs": [
    {
     "data": {
      "image/png": "[encoded data removed]",
      "text/plain": [
       "<Figure size 720x2160 with 1 Axes>"
      ]
     },
     "metadata": {
      "needs_background": "light"
     },
     "output_type": "display_data"
    }
   ],
   "source": [
    "confusion_matrix_plot(met, classes=labels.sort_values(by=['Label'])['Class'].tolist())\n",
    "#plt.savefig(\"reduceconfusion.jpg\")"
   ]
  },
  {
   "cell_type": "code",
   "execution_count": 80,
   "metadata": {},
   "outputs": [
    {
     "name": "stdout",
     "output_type": "stream",
     "text": [
      "5\n"
     ]
    },
    {
     "data": {
      "image/png": "[encoded data removed]",
      "text/plain": [
       "<Figure size 432x288 with 1 Axes>"
      ]
     },
     "metadata": {
      "needs_background": "light"
     },
     "output_type": "display_data"
    },
    {
     "data": {
      "image/png": "[encoded data removed]",
      "text/plain": [
       "<Figure size 432x288 with 1 Axes>"
      ]
     },
     "metadata": {
      "needs_background": "light"
     },
     "output_type": "display_data"
    },
    {
     "data": {
      "image/png": "[encoded data removed]",
      "text/plain": [
       "<Figure size 432x288 with 1 Axes>"
      ]
     },
     "metadata": {
      "needs_background": "light"
     },
     "output_type": "display_data"
    },
    {
     "data": {
      "image/png": "[encoded data removed]",
      "text/plain": [
       "<Figure size 432x288 with 1 Axes>"
      ]
     },
     "metadata": {
      "needs_background": "light"
     },
     "output_type": "display_data"
    },
    {
     "data": {
      "image/png": "[encoded data removed]",
      "text/plain": [
       "<Figure size 432x288 with 1 Axes>"
      ]
     },
     "metadata": {
      "needs_background": "light"
     },
     "output_type": "display_data"
    },
    {
     "data": {
      "image/png": "[encoded data removed]",
      "text/plain": [
       "<Figure size 432x288 with 1 Axes>"
      ]
     },
     "metadata": {
      "needs_background": "light"
     },
     "output_type": "display_data"
    },
    {
     "data": {
      "image/png": "[encoded data removed]",
      "text/plain": [
       "<Figure size 432x288 with 1 Axes>"
      ]
     },
     "metadata": {
      "needs_background": "light"
     },
     "output_type": "display_data"
    },
    {
     "data": {
      "image/png": "[encoded data removed]",
      "text/plain": [
       "<Figure size 432x288 with 1 Axes>"
      ]
     },
     "metadata": {
      "needs_background": "light"
     },
     "output_type": "display_data"
    },
    {
     "data": {
      "image/png": "[encoded data removed]",
      "text/plain": [
       "<Figure size 432x288 with 1 Axes>"
      ]
     },
     "metadata": {
      "needs_background": "light"
     },
     "output_type": "display_data"
    },
    {
     "data": {
      "image/png": "[encoded data removed]",
      "text/plain": [
       "<Figure size 432x288 with 1 Axes>"
      ]
     },
     "metadata": {
      "needs_background": "light"
     },
     "output_type": "display_data"
    },
    {
     "data": {
      "image/png": "[encoded data removed]",
      "text/plain": [
       "<Figure size 432x288 with 1 Axes>"
      ]
     },
     "metadata": {
      "needs_background": "light"
     },
     "output_type": "display_data"
    },
    {
     "data": {
      "text/plain": [
       "<Figure size 432x288 with 0 Axes>"
      ]
     },
     "metadata": {},
     "output_type": "display_data"
    },
    {
     "data": {
      "text/plain": [
       "<Figure size 432x288 with 0 Axes>"
      ]
     },
     "metadata": {},
     "output_type": "display_data"
    }
   ],
   "source": [
    "import numpy as np\n",
    "import matplotlib.pyplot as plt\n",
    "import matplotlib.animation as animation\n",
    "\n",
    "X_tr_array = np.zeros([1,nb_frames,img_cols,img_rows,channels])\n",
    "Y_train = np.zeros([1, nb_classes])\n",
    "vid_ID = 95\n",
    "frame_count=0\n",
    "pos_dir = os.path.join(\"E:/Jupyter/Project/generated_images_timeSampled/pos\",str(vid_ID))\n",
    "neg_dir = os.path.join(\"E:/Jupyter/Project/generated_images_timeSampled/neg\",str(vid_ID))\n",
    "for img_ID in sorted(os.listdir(pos_dir)):\n",
    "    pos = os.path.join(pos_dir,img_ID)\n",
    "    neg = os.path.join(neg_dir,img_ID)\n",
    "    p_img = cv2.imread(pos,0)\n",
    "    X_tr_array[current_vid,frame_count,:,:,0]=p_img\n",
    "    n_img = cv2.imread(neg,0)\n",
    "    X_tr_array[current_vid,frame_count,:,:,1]=n_img\n",
    "    #frame = cv2.merge((p_img,n_img))\n",
    "    #X_tr_array[current_vid,frame_count]=frame\n",
    "    frame_count+=1\n",
    "print(labels_dict[vid_ID])\n",
    "\n",
    "layer_outputs = [layer.output for layer in model1.layers[:12]]\n",
    "activation_model = Model(inputs=model1.input, outputs=layer_outputs)\n",
    "activations=activation_model.predict(X_tr_array[0:1])\n",
    "fig = plt.figure()\n",
    "\n",
    "# ims is a list of lists, each row is a list of artists to draw in the\n",
    "# current frame; here we are just animating one artist, the image, in\n",
    "# each frame\n",
    "ims = []\n",
    "for i in range(X_tr_array[0:1].shape[1]):\n",
    "    im = plt.imshow(X_tr_array[0:1][0, i, :,:, 0], cmap='viridis')\n",
    "    ims.append([im])\n",
    "\n",
    "ani = animation.ArtistAnimation(fig, ims, interval=50, blit=True,\n",
    "                                repeat_delay=1000)\n",
    "if not os.path.exists(\"E:/Jupyter/Project/deep_reduce_activations\"):\n",
    "    os.makedirs(\"E:/Jupyter/Project/deep_reduce_activations\")\n",
    "ani.save(\"E:/Jupyter/Project/deep_reduce_activations/\"+'input' + '.mp4')\n",
    "\n",
    "layer_num = 0\n",
    "layer_names=[]\n",
    "for layer in model1.layers[:16]:\n",
    "    layer_names.append(layer.name)\n",
    "for layer_name, layer_activation in zip(layer_names, activations):\n",
    "\n",
    "    fig = plt.figure()\n",
    "\n",
    "    # ims is a list of lists, each row is a list of artists to draw in the\n",
    "    # current frame; here we are just animating one artist, the image, in\n",
    "    # each frame\n",
    "    ims = []\n",
    "    if layer_num<10:\n",
    "        x=layer_activation.shape[-1]\n",
    "        if x>32:\n",
    "            x=32\n",
    "        for layer_iteration in range(x):\n",
    "            ims = []\n",
    "            for i in range(layer_activation.shape[1]):\n",
    "                im = plt.imshow(layer_activation[0, i, :,:,layer_iteration], cmap='viridis')\n",
    "                ims.append([im])\n",
    "            ani = animation.ArtistAnimation(fig, ims, interval=50, blit=True,\n",
    "                                            repeat_delay=1000)\n",
    "            if not os.path.exists(\"E:/Jupyter/Project/deep_reduce_activations/\"+str(layer_num)):\n",
    "                os.makedirs(\"E:/Jupyter/Project/deep_reduce_activations/\"+str(layer_num))\n",
    "            ani.save(\"E:/Jupyter/Project/deep_reduce_activations/\"+str(layer_num) +\"/\"+layer_name+ 'activation' + str(layer_iteration) + '.mp4')\n",
    "    layer_num +=1"
   ]
  },
  {
   "cell_type": "code",
   "execution_count": 81,
   "metadata": {},
   "outputs": [],
   "source": [
    "from keras.models import Model, load_model\n",
    "model1_name = \"deeper_full\"\n",
    "model1_path = os.path.join(save_dir, model1_name)\n",
    "model1 = load_model(model1_path)"
   ]
  },
  {
   "cell_type": "code",
   "execution_count": 83,
   "metadata": {},
   "outputs": [
    {
     "name": "stdout",
     "output_type": "stream",
     "text": [
      "5\n"
     ]
    },
    {
     "data": {
      "image/png": "[encoded data removed]",
      "text/plain": [
       "<Figure size 432x288 with 1 Axes>"
      ]
     },
     "metadata": {
      "needs_background": "light"
     },
     "output_type": "display_data"
    },
    {
     "data": {
      "image/png": "[encoded data removed]",
      "text/plain": [
       "<Figure size 432x288 with 1 Axes>"
      ]
     },
     "metadata": {
      "needs_background": "light"
     },
     "output_type": "display_data"
    },
    {
     "data": {
      "image/png": "[encoded data removed]",
      "text/plain": [
       "<Figure size 432x288 with 1 Axes>"
      ]
     },
     "metadata": {
      "needs_background": "light"
     },
     "output_type": "display_data"
    },
    {
     "data": {
      "image/png": "[encoded data removed]",
      "text/plain": [
       "<Figure size 432x288 with 1 Axes>"
      ]
     },
     "metadata": {
      "needs_background": "light"
     },
     "output_type": "display_data"
    },
    {
     "data": {
      "image/png": "[encoded data removed]",
      "text/plain": [
       "<Figure size 432x288 with 1 Axes>"
      ]
     },
     "metadata": {
      "needs_background": "light"
     },
     "output_type": "display_data"
    },
    {
     "data": {
      "image/png": "[encoded data removed]",
      "text/plain": [
       "<Figure size 432x288 with 1 Axes>"
      ]
     },
     "metadata": {
      "needs_background": "light"
     },
     "output_type": "display_data"
    },
    {
     "data": {
      "image/png": "[encoded data removed]",
      "text/plain": [
       "<Figure size 432x288 with 1 Axes>"
      ]
     },
     "metadata": {
      "needs_background": "light"
     },
     "output_type": "display_data"
    },
    {
     "data": {
      "image/png": "[encoded data removed]",
      "text/plain": [
       "<Figure size 432x288 with 1 Axes>"
      ]
     },
     "metadata": {
      "needs_background": "light"
     },
     "output_type": "display_data"
    },
    {
     "data": {
      "image/png": "[encoded data removed]",
      "text/plain": [
       "<Figure size 432x288 with 1 Axes>"
      ]
     },
     "metadata": {
      "needs_background": "light"
     },
     "output_type": "display_data"
    },
    {
     "data": {
      "image/png": "[encoded data removed]",
      "text/plain": [
       "<Figure size 432x288 with 1 Axes>"
      ]
     },
     "metadata": {
      "needs_background": "light"
     },
     "output_type": "display_data"
    },
    {
     "data": {
      "image/png": "[encoded data removed]",
      "text/plain": [
       "<Figure size 432x288 with 1 Axes>"
      ]
     },
     "metadata": {
      "needs_background": "light"
     },
     "output_type": "display_data"
    },
    {
     "data": {
      "text/plain": [
       "<Figure size 432x288 with 0 Axes>"
      ]
     },
     "metadata": {},
     "output_type": "display_data"
    },
    {
     "data": {
      "text/plain": [
       "<Figure size 432x288 with 0 Axes>"
      ]
     },
     "metadata": {},
     "output_type": "display_data"
    }
   ],
   "source": [
    "import numpy as np\n",
    "import matplotlib.pyplot as plt\n",
    "import matplotlib.animation as animation\n",
    "\n",
    "X_tr_array = np.zeros([1,nb_frames,img_cols,img_rows,channels])\n",
    "Y_train = np.zeros([1, nb_classes])\n",
    "vid_ID = 95\n",
    "frame_count=0\n",
    "current_vid=0\n",
    "pos_dir = os.path.join(\"E:/Jupyter/Project/generated_images_timeSampled/pos\",str(vid_ID))\n",
    "neg_dir = os.path.join(\"E:/Jupyter/Project/generated_images_timeSampled/neg\",str(vid_ID))\n",
    "for img_ID in sorted(os.listdir(pos_dir)):\n",
    "    pos = os.path.join(pos_dir,img_ID)\n",
    "    neg = os.path.join(neg_dir,img_ID)\n",
    "    p_img = cv2.imread(pos,0)\n",
    "    X_tr_array[current_vid,frame_count,:,:,0]=p_img\n",
    "    n_img = cv2.imread(neg,0)\n",
    "    X_tr_array[current_vid,frame_count,:,:,1]=n_img\n",
    "    #frame = cv2.merge((p_img,n_img))\n",
    "    #X_tr_array[current_vid,frame_count]=frame\n",
    "    frame_count+=1\n",
    "print(labels_dict[vid_ID])\n",
    "\n",
    "layer_outputs = [layer.output for layer in model1.layers[:12]]\n",
    "activation_model = Model(inputs=model1.input, outputs=layer_outputs)\n",
    "activations=activation_model.predict(X_tr_array[0:1])\n",
    "fig = plt.figure()\n",
    "\n",
    "# ims is a list of lists, each row is a list of artists to draw in the\n",
    "# current frame; here we are just animating one artist, the image, in\n",
    "# each frame\n",
    "ims = []\n",
    "for i in range(X_tr_array[0:1].shape[1]):\n",
    "    im = plt.imshow(X_tr_array[0:1][0, i, :,:, 0], cmap='viridis')\n",
    "    ims.append([im])\n",
    "\n",
    "ani = animation.ArtistAnimation(fig, ims, interval=50, blit=True,\n",
    "                                repeat_delay=1000)\n",
    "if not os.path.exists(\"E:/Jupyter/Project/deep_activations\"):\n",
    "    os.makedirs(\"E:/Jupyter/Project/deep_activations\")\n",
    "ani.save(\"E:/Jupyter/Project/deep_activations/\"+'input' + '.mp4')\n",
    "\n",
    "layer_num = 0\n",
    "layer_names=[]\n",
    "for layer in model1.layers[:16]:\n",
    "    layer_names.append(layer.name)\n",
    "for layer_name, layer_activation in zip(layer_names, activations):\n",
    "\n",
    "    fig = plt.figure()\n",
    "\n",
    "    # ims is a list of lists, each row is a list of artists to draw in the\n",
    "    # current frame; here we are just animating one artist, the image, in\n",
    "    # each frame\n",
    "    ims = []\n",
    "    if layer_num<10:\n",
    "        x=layer_activation.shape[-1]\n",
    "        if x>32:\n",
    "            x=32\n",
    "        for layer_iteration in range(x):\n",
    "            ims = []\n",
    "            for i in range(layer_activation.shape[1]):\n",
    "                im = plt.imshow(layer_activation[0, i, :,:,layer_iteration], cmap='viridis')\n",
    "                ims.append([im])\n",
    "            ani = animation.ArtistAnimation(fig, ims, interval=50, blit=True,\n",
    "                                            repeat_delay=1000)\n",
    "            if not os.path.exists(\"E:/Jupyter/Project/deep_activations/\"+str(layer_num)):\n",
    "                os.makedirs(\"E:/Jupyter/Project/deep_activations/\"+str(layer_num))\n",
    "            ani.save(\"E:/Jupyter/Project/deep_activations/\"+str(layer_num) +\"/\"+layer_name+ 'activation' + str(layer_iteration) + '.mp4')\n",
    "    layer_num +=1"
   ]
  },
  {
   "cell_type": "code",
   "execution_count": null,
   "metadata": {},
   "outputs": [],
   "source": []
  }
 ],
 "metadata": {
  "kernelspec": {
   "display_name": "Python 3",
   "language": "python",
   "name": "python3"
  },
  "language_info": {
   "codemirror_mode": {
    "name": "ipython",
    "version": 3
   },
   "file_extension": ".py",
   "mimetype": "text/x-python",
   "name": "python",
   "nbconvert_exporter": "python",
   "pygments_lexer": "ipython3",
   "version": "3.6.8"
  }
 },
 "nbformat": 4,
 "nbformat_minor": 2
}
