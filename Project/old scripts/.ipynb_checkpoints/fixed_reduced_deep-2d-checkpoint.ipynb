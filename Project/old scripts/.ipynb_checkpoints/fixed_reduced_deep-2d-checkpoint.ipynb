{
 "cells": [
  {
   "cell_type": "code",
   "execution_count": 1,
   "metadata": {
    "scrolled": false
   },
   "outputs": [
    {
     "name": "stderr",
     "output_type": "stream",
     "text": [
      "Using TensorFlow backend.\n"
     ]
    }
   ],
   "source": [
    "from keras.preprocessing.image import ImageDataGenerator\n",
    "from keras.models import Sequential\n",
    "from keras.layers.core import Dense, Dropout, Activation, Flatten, Reshape\n",
    "from keras.layers.convolutional import Conv3D, MaxPooling3D,Conv2D,AveragePooling2D,AveragePooling3D\n",
    "from keras.layers import Dense, GlobalAveragePooling3D,GlobalAveragePooling2D\n",
    "from keras.callbacks import EarlyStopping, ModelCheckpoint, LearningRateScheduler,ReduceLROnPlateau\n",
    "from keras.optimizers import SGD, RMSprop, Adadelta\n",
    "from keras.utils import np_utils, generic_utils, Sequence\n",
    "from keras.layers.normalization import BatchNormalization\n",
    "from keras.layers.convolutional_recurrent import ConvLSTM2D\n",
    "import keras\n",
    "\n",
    "import os\n",
    "import matplotlib\n",
    "import matplotlib.pyplot as plt\n",
    "import numpy as np\n",
    "import cv2\n",
    "from sklearn.model_selection import train_test_split\n",
    "from sklearn import model_selection\n",
    "from sklearn import preprocessing"
   ]
  },
  {
   "cell_type": "code",
   "execution_count": 2,
   "metadata": {
    "scrolled": false
   },
   "outputs": [],
   "source": [
    "# image specification\n",
    "img_cols,img_rows=100,176\n",
    "nb_frames = 64    # img_depth or number of frames used for each video\n",
    "# CNN Training parameters\n",
    "nb_classes = 27\n",
    "channels = 2"
   ]
  },
  {
   "cell_type": "code",
   "execution_count": 3,
   "metadata": {
    "scrolled": false
   },
   "outputs": [
    {
     "data": {
      "text/plain": [
       "118562"
      ]
     },
     "execution_count": 3,
     "metadata": {},
     "output_type": "execute_result"
    }
   ],
   "source": [
    "import pandas as pd\n",
    "from sklearn.preprocessing import LabelEncoder\n",
    "\n",
    "# integer encode\n",
    "labels = pd.read_csv('E:\\Jupyter\\Project\\jester-v1-labels.csv',sep=';',header=None,names=['Class'])     # reading the csv file\n",
    "label_encoder = LabelEncoder()\n",
    "labels['Label'] = label_encoder.fit_transform(labels['Class'])\n",
    "\n",
    "#train\n",
    "train = pd.read_csv('E:\\Jupyter\\Project\\jester-v1-train.csv',sep=';',header=None,names=['Video','Class'])     # reading the csv file\n",
    "train['Label'] = label_encoder.fit_transform(train['Class'])\n",
    "\n",
    "#validation\n",
    "validation = pd.read_csv('E:\\Jupyter\\Project\\jester-v1-validation.csv',sep=';',header=None,names=['Video','Class'])     # reading the csv file\n",
    "validation['Label'] = label_encoder.fit_transform(validation['Class'])\n",
    "\n",
    "#test\n",
    "#test = pd.read_csv('E:\\Jupyter\\Project\\jester-v1-test.csv',sep=';',header=None,names=['Video'])     # reading the csv file\n",
    "\n",
    "#print labels\n",
    "#labels\n",
    "\"\"\"\n",
    "partition_dict = {\n",
    "    \"train\": train[\"Video\"].tolist(),\n",
    "    \"validation\": validation[\"Video\"].tolist()\n",
    "}\"\"\"\n",
    "temp = pd.concat([train, validation])\n",
    "temp = temp.set_index(\"Video\")\n",
    "#temp = train.set_index(\"Video\")\n",
    "temp.transpose()\n",
    "labels_dict = temp[\"Label\"].to_dict()\n",
    "len(train)"
   ]
  },
  {
   "cell_type": "code",
   "execution_count": 4,
   "metadata": {
    "scrolled": false
   },
   "outputs": [
    {
     "data": {
      "text/plain": [
       "25025"
      ]
     },
     "execution_count": 4,
     "metadata": {},
     "output_type": "execute_result"
    }
   ],
   "source": [
    "#train\n",
    "train = train[train[\"Class\"].isin([\"No gesture\",\"Swiping Left\",\"Swiping Right\",\"Stop Sign\",\"Rolling Hand Forward\",\"Rolling Hand Backward\"])]\n",
    "train['Label'] = label_encoder.fit_transform(train['Class'])\n",
    "\n",
    "#validation\n",
    "validation = validation[validation[\"Class\"].isin([\"No gesture\",\"Swiping Left\",\"Swiping Right\",\"Stop Sign\",\"Rolling Hand Forward\",\"Rolling Hand Backward\"])]\n",
    "validation['Label'] = label_encoder.fit_transform(validation['Class'])\n",
    "\n",
    "#test\n",
    "#test = pd.read_csv('E:\\Jupyter\\Project\\jester-v1-test.csv',sep=';',header=None,names=['Video'])     # reading the csv file\n",
    "\n",
    "#print labels\n",
    "#labels\n",
    "\"\"\"\n",
    "partition_dict = {\n",
    "    \"train\": train[\"Video\"].tolist(),\n",
    "    \"validation\": validation[\"Video\"].tolist()\n",
    "}\"\"\"\n",
    "temp = pd.concat([train, validation])\n",
    "temp = temp.set_index(\"Video\")\n",
    "#temp = train.set_index(\"Video\")\n",
    "temp.transpose()\n",
    "labels_dict = {}\n",
    "labels_dict = temp[\"Label\"].to_dict()\n",
    "len(train)"
   ]
  },
  {
   "cell_type": "code",
   "execution_count": 5,
   "metadata": {
    "scrolled": false
   },
   "outputs": [],
   "source": [
    "import random\n",
    "def data_gen(train_list, batch_size=64):\n",
    "    while True:\n",
    "        X_tr=[]\n",
    "        label=[]\n",
    "        for vid_ID in random.sample(train_list,batch_size):\n",
    "            frames = []\n",
    "            frame_count=0\n",
    "            pos_dir = os.path.join(\"E:/Jupyter/Project/generated_images_timeSampled/pos\",str(vid_ID))\n",
    "            neg_dir = os.path.join(\"E:/Jupyter/Project/generated_images_timeSampled/neg\",str(vid_ID))\n",
    "            for img_ID in sorted(os.listdir(pos_dir)):\n",
    "                if frame_count < nb_frames:\n",
    "                    pos = os.path.join(pos_dir,img_ID)\n",
    "                    neg = os.path.join(neg_dir,img_ID)\n",
    "                    p_img = cv2.imread(pos,0)\n",
    "                    p_img = cv2.resize(p_img,(img_rows,img_cols),interpolation=cv2.INTER_AREA)\n",
    "                    n_img = cv2.imread(neg,0)\n",
    "                    n_img = cv2.resize(n_img,(img_rows,img_cols),interpolation=cv2.INTER_AREA)\n",
    "                    frame = cv2.merge((p_img,n_img))\n",
    "                    frames.append(frame)\n",
    "                    frame_count+=1\n",
    "                else:\n",
    "                    break\n",
    "            while frame_count < nb_frames:\n",
    "                frames.append(np.zeros((img_cols,img_rows,channels), np.uint8))\n",
    "                frame_count+=1\n",
    "            input_img = np.array(frames)\n",
    "            ipt=np.rollaxis(np.rollaxis(input_img,2,0),2,0)\n",
    "            ipt=np.rollaxis(ipt,2,0)\n",
    "            X_tr.append(ipt)\n",
    "            label.append(labels_dict[vid_ID])\n",
    "\n",
    "        X_tr_array = np.array(X_tr)   # convert the frames read into array\n",
    "\n",
    "        Y_train = np_utils.to_categorical(label, nb_classes)\n",
    "\n",
    "        yield X_tr_array,Y_train"
   ]
  },
  {
   "cell_type": "code",
   "execution_count": 6,
   "metadata": {
    "scrolled": false
   },
   "outputs": [
    {
     "name": "stdout",
     "output_type": "stream",
     "text": [
      "(64, 64, 100, 176, 2)\n"
     ]
    }
   ],
   "source": [
    "print(next(data_gen(train[\"Video\"].tolist()))[0].shape)"
   ]
  },
  {
   "cell_type": "code",
   "execution_count": 8,
   "metadata": {
    "scrolled": false
   },
   "outputs": [],
   "source": [
    "# Define model\n",
    "import tensorflow as tf\n",
    "keras=tf.contrib.keras\n",
    "l2=keras.regularizers.l2\n",
    "weight_decay = 0.00005\n",
    "from keras import regularizers\n",
    "\n",
    "model = Sequential()\n",
    "\n",
    "model.add(MaxPooling3D(pool_size=(1, 2, 2),input_shape=(nb_frames,  img_cols, img_rows, channels)))\n",
    "\n",
    "model.add(Conv3D(16,(3,3,3),\n",
    "                        input_shape=(nb_frames, img_cols, img_rows, channels),\n",
    "                        activation='relu'))\n",
    "model.add(Conv3D(16,(3,3,3), strides=(2,2,2),padding='same', \n",
    "                    dilation_rate=(1,1,1), kernel_initializer='he_normal',\n",
    "                    kernel_regularizer=l2(weight_decay), use_bias=False, \n",
    "                    name='Conv3D_1', activation = 'relu'))\n",
    "model.add(Conv3D(4,(4,4,4), strides=(2,2,2),padding='same', \n",
    "                    dilation_rate=(1,1,1), kernel_initializer='he_normal',\n",
    "                    kernel_regularizer=l2(weight_decay), use_bias=False, \n",
    "                    name='Conv3D_2', activation = 'relu'))\n",
    "model.add(Conv3D(4,(1,1,1), strides=(1,1,1),padding='same', \n",
    "                    dilation_rate=(1,1,1), kernel_initializer='he_normal',\n",
    "                    kernel_regularizer=l2(weight_decay), use_bias=False, \n",
    "                    name='Conv3D_3', activation = 'relu'))\n",
    "model.add(Conv3D(4,(2,2,2), strides=(2,2,2),padding='same', \n",
    "                    dilation_rate=(1,1,1), kernel_initializer='he_normal',\n",
    "                    kernel_regularizer=l2(weight_decay), use_bias=False, \n",
    "                    name='Conv3D_4', activation = 'relu'))\n",
    "model.add(Conv3D(64,(3,3,3), strides=(1,1,1),padding='same', \n",
    "                    dilation_rate=(1,1,1), kernel_initializer='he_normal',\n",
    "                    kernel_regularizer=l2(weight_decay), use_bias=False, \n",
    "                    name='Conv3D_5', activation = 'relu'))\n",
    "model.add(Conv3D(8,(1,1,1), strides=(1,1,1),padding='same', \n",
    "                    dilation_rate=(1,1,1), kernel_initializer='he_normal',\n",
    "                    kernel_regularizer=l2(weight_decay), use_bias=False, \n",
    "                    name='Conv3D_6', activation = 'relu'))\n",
    "model.add(Conv3D(8,(1,1,1), strides=(1,1,1),padding='same', \n",
    "                    dilation_rate=(1,1,1), kernel_initializer='he_normal',\n",
    "                    kernel_regularizer=l2(weight_decay), use_bias=False, \n",
    "                    name='Conv3D_7', activation = 'relu'))\n",
    "model.add(Conv3D(8,(1,1,1), strides=(1,1,1),padding='same', \n",
    "                    dilation_rate=(1,1,1), kernel_initializer='he_normal',\n",
    "                    kernel_regularizer=l2(weight_decay), use_bias=False, \n",
    "                    name='Conv3D_8', activation = 'relu'))\n",
    "model.add(Conv3D(32,(2,2,2), strides=(2,2,2),padding='same', \n",
    "                    dilation_rate=(1,1,1), kernel_initializer='he_normal',\n",
    "                    kernel_regularizer=l2(weight_decay), use_bias=False, \n",
    "                    name='Conv3D_9', activation = 'relu'))\n",
    "model.add(Conv3D(128,(3,3,3), strides=(1,1,1),padding='same', \n",
    "                    dilation_rate=(1,1,1), kernel_initializer='he_normal',\n",
    "                    kernel_regularizer=l2(weight_decay), use_bias=False, \n",
    "                    name='Conv3D_10', activation = 'relu'))\n",
    "model.add(Conv3D(16,(1,1,1), strides=(1,1,1),padding='same', \n",
    "                    dilation_rate=(1,1,1), kernel_initializer='he_normal',\n",
    "                    kernel_regularizer=l2(weight_decay), use_bias=False, \n",
    "                    name='Conv3D_11', activation = 'relu'))\n",
    "model.add(Conv3D(16,(1,1,1), strides=(1,1,1),padding='same', \n",
    "                    dilation_rate=(1,1,1), kernel_initializer='he_normal',\n",
    "                    kernel_regularizer=l2(weight_decay), use_bias=False, \n",
    "                    name='Conv3D_12', activation = 'relu'))\n",
    "model.add(Conv3D(64,(2,2,2), strides=(2,2,2),padding='same', \n",
    "                    dilation_rate=(1,1,1), kernel_initializer='he_normal',\n",
    "                    kernel_regularizer=l2(weight_decay), use_bias=False, \n",
    "                    name='Conv3D_13', activation = 'relu'))\n",
    "model.add(Conv3D(16,(1,1,1), strides=(1,1,1),padding='same', \n",
    "                    dilation_rate=(1,1,1), kernel_initializer='he_normal',\n",
    "                    kernel_regularizer=l2(weight_decay), use_bias=False, \n",
    "                    name='Conv3D_14', activation = 'relu'))\n",
    "model.add(Conv3D(16,(1,1,1), strides=(1,1,1),padding='same', \n",
    "                    dilation_rate=(1,1,1), kernel_initializer='he_normal',\n",
    "                    kernel_regularizer=l2(weight_decay), use_bias=False, \n",
    "                    name='Conv3D_15', activation = 'relu'))\n",
    "model.add(ConvLSTM2D(filters=64, kernel_size=(3,3),\n",
    "                  strides=(1,1),padding='same',\n",
    "                      kernel_initializer='he_normal', recurrent_initializer='he_normal',\n",
    "                      kernel_regularizer=l2(weight_decay), recurrent_regularizer=l2(weight_decay),\n",
    "                      return_sequences=True, name='gatedclstm1'))\n",
    "\n",
    "model.add(ConvLSTM2D(filters=64, kernel_size=(3,3),\n",
    "                  strides=(1,1),padding='same',\n",
    "                      kernel_initializer='he_normal', recurrent_initializer='he_normal',\n",
    "                      kernel_regularizer=l2(weight_decay), recurrent_regularizer=l2(weight_decay),\n",
    "                      return_sequences=True, name='gatedclstm2'))\n",
    "\n",
    "model.add(ConvLSTM2D(filters=64, kernel_size=(3,3),\n",
    "                  strides=(1,1),padding='same',\n",
    "                      kernel_initializer='he_normal', recurrent_initializer='he_normal',\n",
    "                      kernel_regularizer=l2(weight_decay), recurrent_regularizer=l2(weight_decay),\n",
    "                      return_sequences=True, name='gatedclstm3'))\n",
    "\n",
    "\n",
    "model.add(Flatten())\n",
    "model.add(Dense(512, activation='relu',kernel_regularizer=regularizers.l2(weight_decay)))\n",
    "model.add(Dropout(0.5))\n",
    "\n",
    "model.add(Dense(256, activation='relu',kernel_regularizer=regularizers.l2(weight_decay)))\n",
    "model.add(Dropout(0.5))\n",
    "\n",
    "model.add(Dense(nb_classes,kernel_initializer='normal',kernel_regularizer=regularizers.l2(weight_decay)))\n",
    "\n",
    "model.add(Activation('softmax'))"
   ]
  },
  {
   "cell_type": "code",
   "execution_count": 9,
   "metadata": {
    "scrolled": false
   },
   "outputs": [
    {
     "name": "stdout",
     "output_type": "stream",
     "text": [
      "_________________________________________________________________\n",
      "Layer (type)                 Output Shape              Param #   \n",
      "=================================================================\n",
      "max_pooling3d_2 (MaxPooling3 (None, 64, 50, 88, 2)     0         \n",
      "_________________________________________________________________\n",
      "conv3d_2 (Conv3D)            (None, 62, 48, 86, 16)    880       \n",
      "_________________________________________________________________\n",
      "Conv3D_1 (Conv3D)            (None, 31, 24, 43, 16)    6912      \n",
      "_________________________________________________________________\n",
      "Conv3D_2 (Conv3D)            (None, 16, 12, 22, 4)     4096      \n",
      "_________________________________________________________________\n",
      "Conv3D_3 (Conv3D)            (None, 16, 12, 22, 4)     16        \n",
      "_________________________________________________________________\n",
      "Conv3D_4 (Conv3D)            (None, 8, 6, 11, 4)       128       \n",
      "_________________________________________________________________\n",
      "Conv3D_5 (Conv3D)            (None, 8, 6, 11, 64)      6912      \n",
      "_________________________________________________________________\n",
      "Conv3D_6 (Conv3D)            (None, 8, 6, 11, 8)       512       \n",
      "_________________________________________________________________\n",
      "Conv3D_7 (Conv3D)            (None, 8, 6, 11, 8)       64        \n",
      "_________________________________________________________________\n",
      "Conv3D_8 (Conv3D)            (None, 8, 6, 11, 8)       64        \n",
      "_________________________________________________________________\n",
      "Conv3D_9 (Conv3D)            (None, 4, 3, 6, 32)       2048      \n",
      "_________________________________________________________________\n",
      "Conv3D_10 (Conv3D)           (None, 4, 3, 6, 128)      110592    \n",
      "_________________________________________________________________\n",
      "Conv3D_11 (Conv3D)           (None, 4, 3, 6, 16)       2048      \n",
      "_________________________________________________________________\n",
      "Conv3D_12 (Conv3D)           (None, 4, 3, 6, 16)       256       \n",
      "_________________________________________________________________\n",
      "Conv3D_13 (Conv3D)           (None, 2, 2, 3, 64)       8192      \n",
      "_________________________________________________________________\n",
      "Conv3D_14 (Conv3D)           (None, 2, 2, 3, 16)       1024      \n",
      "_________________________________________________________________\n",
      "Conv3D_15 (Conv3D)           (None, 2, 2, 3, 16)       256       \n",
      "_________________________________________________________________\n",
      "gatedclstm1 (ConvLSTM2D)     (None, 2, 2, 3, 64)       184576    \n",
      "_________________________________________________________________\n",
      "gatedclstm2 (ConvLSTM2D)     (None, 2, 2, 3, 64)       295168    \n",
      "_________________________________________________________________\n",
      "gatedclstm3 (ConvLSTM2D)     (None, 2, 2, 3, 64)       295168    \n",
      "_________________________________________________________________\n",
      "flatten_2 (Flatten)          (None, 768)               0         \n",
      "_________________________________________________________________\n",
      "dense_1 (Dense)              (None, 512)               393728    \n",
      "_________________________________________________________________\n",
      "dropout_1 (Dropout)          (None, 512)               0         \n",
      "_________________________________________________________________\n",
      "dense_2 (Dense)              (None, 256)               131328    \n",
      "_________________________________________________________________\n",
      "dropout_2 (Dropout)          (None, 256)               0         \n",
      "_________________________________________________________________\n",
      "dense_3 (Dense)              (None, 27)                6939      \n",
      "_________________________________________________________________\n",
      "activation_1 (Activation)    (None, 27)                0         \n",
      "=================================================================\n",
      "Total params: 1,450,907\n",
      "Trainable params: 1,450,907\n",
      "Non-trainable params: 0\n",
      "_________________________________________________________________\n"
     ]
    }
   ],
   "source": [
    "model.summary()"
   ]
  },
  {
   "cell_type": "code",
   "execution_count": 10,
   "metadata": {
    "scrolled": false
   },
   "outputs": [
    {
     "name": "stdout",
     "output_type": "stream",
     "text": [
      "E:\\Jupyter\\Project\n"
     ]
    }
   ],
   "source": [
    "import os\n",
    "save_dir = os.path.join(os.getcwd(),'save_model')\n",
    "print(os.getcwd())\n",
    "model_name = \"deep\"\n",
    "if not os.path.isdir(save_dir):\n",
    "    os.makedirs(save_dir)\n",
    "model_path = os.path.join(save_dir, model_name)\n",
    "checkpoint = ModelCheckpoint(model_path, monitor = 'val_acc', \n",
    "                            save_best_only=True, verbose=1)\n",
    "#earlystop\n",
    "earlystop = EarlyStopping(monitor='val_loss', patience=50, verbose =1)"
   ]
  },
  {
   "cell_type": "code",
   "execution_count": 11,
   "metadata": {
    "scrolled": false
   },
   "outputs": [],
   "source": [
    "sgd = SGD(lr=0.002,  momentum=0.9, nesterov=False)\n",
    "rms = RMSprop(decay=1e-6)\n",
    "ada = Adadelta(lr=0.1,decay=1e-6)\n",
    "model.compile(loss='categorical_crossentropy', \n",
    "              optimizer=sgd,\n",
    "              #optimizer=ada,\n",
    "              #optimizer = Adam(lr=0.0001),\n",
    "              metrics=['acc'])"
   ]
  },
  {
   "cell_type": "code",
   "execution_count": 12,
   "metadata": {
    "scrolled": true
   },
   "outputs": [
    {
     "name": "stdout",
     "output_type": "stream",
     "text": [
      "Epoch 1/100\n",
      "48/48 [==============================] - 180s 4s/step - loss: 3.4677 - acc: 0.1445 - val_loss: 3.3662 - val_acc: 0.0781\n",
      "\n",
      "Epoch 00001: val_acc improved from -inf to 0.07812, saving model to E:\\Jupyter\\Project\\save_model\\deep\n",
      "Epoch 2/100\n",
      "48/48 [==============================] - 146s 3s/step - loss: 3.2414 - acc: 0.1842 - val_loss: 3.0846 - val_acc: 0.1250\n",
      "\n",
      "Epoch 00002: val_acc improved from 0.07812 to 0.12500, saving model to E:\\Jupyter\\Project\\save_model\\deep\n",
      "Epoch 3/100\n",
      "48/48 [==============================] - 149s 3s/step - loss: 2.7866 - acc: 0.1725 - val_loss: 2.4326 - val_acc: 0.1406\n",
      "\n",
      "Epoch 00003: val_acc improved from 0.12500 to 0.14062, saving model to E:\\Jupyter\\Project\\save_model\\deep\n",
      "Epoch 4/100\n",
      "48/48 [==============================] - 128s 3s/step - loss: 2.2689 - acc: 0.1497 - val_loss: 2.0330 - val_acc: 0.2188\n",
      "\n",
      "Epoch 00004: val_acc improved from 0.14062 to 0.21875, saving model to E:\\Jupyter\\Project\\save_model\\deep\n",
      "Epoch 5/100\n",
      "48/48 [==============================] - 122s 3s/step - loss: 2.1272 - acc: 0.1751 - val_loss: 2.0602 - val_acc: 0.2656\n",
      "\n",
      "Epoch 00005: val_acc improved from 0.21875 to 0.26562, saving model to E:\\Jupyter\\Project\\save_model\\deep\n",
      "Epoch 6/100\n",
      "48/48 [==============================] - 116s 2s/step - loss: 2.0975 - acc: 0.2116 - val_loss: 2.0171 - val_acc: 0.1875\n",
      "\n",
      "Epoch 00006: val_acc did not improve from 0.26562\n",
      "Epoch 7/100\n",
      "48/48 [==============================] - 110s 2s/step - loss: 2.0532 - acc: 0.2572 - val_loss: 1.9931 - val_acc: 0.2812\n",
      "\n",
      "Epoch 00007: val_acc improved from 0.26562 to 0.28125, saving model to E:\\Jupyter\\Project\\save_model\\deep\n",
      "Epoch 8/100\n",
      "48/48 [==============================] - 113s 2s/step - loss: 2.0166 - acc: 0.2995 - val_loss: 1.9457 - val_acc: 0.3906\n",
      "\n",
      "Epoch 00008: val_acc improved from 0.28125 to 0.39062, saving model to E:\\Jupyter\\Project\\save_model\\deep\n",
      "Epoch 9/100\n",
      "48/48 [==============================] - 115s 2s/step - loss: 1.9955 - acc: 0.2780 - val_loss: 1.8999 - val_acc: 0.4375\n",
      "\n",
      "Epoch 00009: val_acc improved from 0.39062 to 0.43750, saving model to E:\\Jupyter\\Project\\save_model\\deep\n",
      "Epoch 10/100\n",
      "48/48 [==============================] - 116s 2s/step - loss: 1.9616 - acc: 0.2760 - val_loss: 1.8665 - val_acc: 0.3594\n",
      "\n",
      "Epoch 00010: val_acc did not improve from 0.43750\n",
      "Epoch 11/100\n",
      "48/48 [==============================] - 114s 2s/step - loss: 1.9158 - acc: 0.3301 - val_loss: 1.8960 - val_acc: 0.2188\n",
      "\n",
      "Epoch 00011: val_acc did not improve from 0.43750\n",
      "Epoch 12/100\n",
      "48/48 [==============================] - 115s 2s/step - loss: 1.8908 - acc: 0.2949 - val_loss: 1.7672 - val_acc: 0.3594\n",
      "\n",
      "Epoch 00012: val_acc did not improve from 0.43750\n",
      "Epoch 13/100\n",
      "48/48 [==============================] - 120s 2s/step - loss: 1.8276 - acc: 0.3268 - val_loss: 1.7589 - val_acc: 0.3594\n",
      "\n",
      "Epoch 00013: val_acc did not improve from 0.43750\n",
      "Epoch 14/100\n",
      "48/48 [==============================] - 117s 2s/step - loss: 1.7960 - acc: 0.3275 - val_loss: 1.7212 - val_acc: 0.2812\n",
      "\n",
      "Epoch 00014: val_acc did not improve from 0.43750\n",
      "Epoch 15/100\n",
      "48/48 [==============================] - 115s 2s/step - loss: 1.7561 - acc: 0.3307 - val_loss: 1.7737 - val_acc: 0.3594\n",
      "\n",
      "Epoch 00015: val_acc did not improve from 0.43750\n",
      "Epoch 16/100\n",
      "48/48 [==============================] - 120s 3s/step - loss: 1.7208 - acc: 0.3750 - val_loss: 1.6426 - val_acc: 0.3438\n",
      "\n",
      "Epoch 00016: val_acc did not improve from 0.43750\n",
      "Epoch 17/100\n",
      "48/48 [==============================] - 114s 2s/step - loss: 1.6725 - acc: 0.3880 - val_loss: 1.6063 - val_acc: 0.3438\n",
      "\n",
      "Epoch 00017: val_acc did not improve from 0.43750\n",
      "Epoch 18/100\n",
      "48/48 [==============================] - 117s 2s/step - loss: 1.6521 - acc: 0.3711 - val_loss: 1.5112 - val_acc: 0.4844\n",
      "\n",
      "Epoch 00018: val_acc improved from 0.43750 to 0.48438, saving model to E:\\Jupyter\\Project\\save_model\\deep\n",
      "Epoch 19/100\n",
      "48/48 [==============================] - 114s 2s/step - loss: 1.6316 - acc: 0.3822 - val_loss: 1.4998 - val_acc: 0.4844\n",
      "\n",
      "Epoch 00019: val_acc did not improve from 0.48438\n",
      "Epoch 20/100\n",
      "48/48 [==============================] - 117s 2s/step - loss: 1.5633 - acc: 0.4355 - val_loss: 1.4399 - val_acc: 0.4688\n",
      "\n",
      "Epoch 00020: val_acc did not improve from 0.48438\n",
      "Epoch 21/100\n",
      "48/48 [==============================] - 114s 2s/step - loss: 1.5508 - acc: 0.4316 - val_loss: 1.5552 - val_acc: 0.3906\n",
      "\n",
      "Epoch 00021: val_acc did not improve from 0.48438\n",
      "Epoch 22/100\n",
      "48/48 [==============================] - 111s 2s/step - loss: 1.5839 - acc: 0.3971 - val_loss: 1.4242 - val_acc: 0.4688\n",
      "\n",
      "Epoch 00022: val_acc did not improve from 0.48438\n",
      "Epoch 23/100\n",
      "48/48 [==============================] - 114s 2s/step - loss: 1.4900 - acc: 0.4434 - val_loss: 1.5810 - val_acc: 0.3594\n",
      "\n",
      "Epoch 00023: val_acc did not improve from 0.48438\n",
      "Epoch 24/100\n",
      "48/48 [==============================] - 113s 2s/step - loss: 1.4548 - acc: 0.4779 - val_loss: 1.1915 - val_acc: 0.5938\n",
      "\n",
      "Epoch 00024: val_acc improved from 0.48438 to 0.59375, saving model to E:\\Jupyter\\Project\\save_model\\deep\n",
      "Epoch 25/100\n",
      "48/48 [==============================] - 114s 2s/step - loss: 1.4583 - acc: 0.4635 - val_loss: 1.6574 - val_acc: 0.3594\n",
      "\n",
      "Epoch 00025: val_acc did not improve from 0.59375\n",
      "Epoch 26/100\n",
      "48/48 [==============================] - 113s 2s/step - loss: 1.4117 - acc: 0.4922 - val_loss: 1.2501 - val_acc: 0.5156\n",
      "\n",
      "Epoch 00026: val_acc did not improve from 0.59375\n",
      "Epoch 27/100\n",
      "48/48 [==============================] - 116s 2s/step - loss: 1.3844 - acc: 0.4766 - val_loss: 1.3642 - val_acc: 0.5625\n",
      "\n",
      "Epoch 00027: val_acc did not improve from 0.59375\n",
      "Epoch 28/100\n",
      "48/48 [==============================] - 121s 3s/step - loss: 1.3821 - acc: 0.4622 - val_loss: 1.4805 - val_acc: 0.4375\n",
      "\n",
      "Epoch 00028: val_acc did not improve from 0.59375\n",
      "Epoch 29/100\n",
      "48/48 [==============================] - 111s 2s/step - loss: 1.3261 - acc: 0.4876 - val_loss: 1.2513 - val_acc: 0.5469\n",
      "\n",
      "Epoch 00029: val_acc did not improve from 0.59375\n",
      "Epoch 30/100\n",
      "48/48 [==============================] - 115s 2s/step - loss: 1.3145 - acc: 0.5156 - val_loss: 1.3416 - val_acc: 0.4844\n",
      "\n",
      "Epoch 00030: val_acc did not improve from 0.59375\n",
      "Epoch 31/100\n",
      "48/48 [==============================] - 117s 2s/step - loss: 1.2591 - acc: 0.5482 - val_loss: 1.2989 - val_acc: 0.5312\n",
      "\n",
      "Epoch 00031: val_acc did not improve from 0.59375\n",
      "Epoch 32/100\n",
      "48/48 [==============================] - 118s 2s/step - loss: 1.3015 - acc: 0.5137 - val_loss: 1.3194 - val_acc: 0.5000\n",
      "\n",
      "Epoch 00032: val_acc did not improve from 0.59375\n",
      "Epoch 33/100\n",
      "48/48 [==============================] - 117s 2s/step - loss: 1.2552 - acc: 0.5352 - val_loss: 1.5718 - val_acc: 0.4375\n",
      "\n",
      "Epoch 00033: val_acc did not improve from 0.59375\n",
      "Epoch 34/100\n",
      "48/48 [==============================] - 121s 3s/step - loss: 1.2426 - acc: 0.5208 - val_loss: 1.3171 - val_acc: 0.3906\n",
      "\n",
      "Epoch 00034: val_acc did not improve from 0.59375\n",
      "\n",
      "Epoch 00034: ReduceLROnPlateau reducing learning rate to 0.0008333333333333334.\n",
      "Epoch 35/100\n",
      "48/48 [==============================] - 117s 2s/step - loss: 1.1921 - acc: 0.5495 - val_loss: 1.2396 - val_acc: 0.5312\n",
      "\n",
      "Epoch 00035: val_acc did not improve from 0.59375\n",
      "Epoch 36/100\n",
      "48/48 [==============================] - 119s 2s/step - loss: 1.2033 - acc: 0.5436 - val_loss: 1.1844 - val_acc: 0.6094\n",
      "\n",
      "Epoch 00036: val_acc improved from 0.59375 to 0.60938, saving model to E:\\Jupyter\\Project\\save_model\\deep\n",
      "Epoch 37/100\n",
      "48/48 [==============================] - 117s 2s/step - loss: 1.2192 - acc: 0.5775 - val_loss: 1.0953 - val_acc: 0.5938\n",
      "\n",
      "Epoch 00037: val_acc did not improve from 0.60938\n",
      "Epoch 38/100\n",
      "48/48 [==============================] - 115s 2s/step - loss: 1.1966 - acc: 0.5690 - val_loss: 1.1690 - val_acc: 0.5156\n",
      "\n",
      "Epoch 00038: val_acc did not improve from 0.60938\n",
      "Epoch 39/100\n",
      "48/48 [==============================] - 113s 2s/step - loss: 1.1706 - acc: 0.5846 - val_loss: 1.1464 - val_acc: 0.5625\n",
      "\n",
      "Epoch 00039: val_acc did not improve from 0.60938\n",
      "Epoch 40/100\n",
      "48/48 [==============================] - 122s 3s/step - loss: 1.1498 - acc: 0.5898 - val_loss: 1.1714 - val_acc: 0.5781\n",
      "\n",
      "Epoch 00040: val_acc did not improve from 0.60938\n",
      "Epoch 41/100\n",
      "48/48 [==============================] - 117s 2s/step - loss: 1.1669 - acc: 0.5983 - val_loss: 1.2868 - val_acc: 0.5625\n",
      "\n",
      "Epoch 00041: val_acc did not improve from 0.60938\n",
      "Epoch 42/100\n"
     ]
    },
    {
     "name": "stdout",
     "output_type": "stream",
     "text": [
      "48/48 [==============================] - 114s 2s/step - loss: 1.1748 - acc: 0.5879 - val_loss: 1.1912 - val_acc: 0.7344\n",
      "\n",
      "Epoch 00042: val_acc improved from 0.60938 to 0.73438, saving model to E:\\Jupyter\\Project\\save_model\\deep\n",
      "Epoch 43/100\n",
      "48/48 [==============================] - 118s 2s/step - loss: 1.1700 - acc: 0.5911 - val_loss: 1.0704 - val_acc: 0.6719\n",
      "\n",
      "Epoch 00043: val_acc did not improve from 0.73438\n",
      "Epoch 44/100\n",
      "48/48 [==============================] - 116s 2s/step - loss: 1.1677 - acc: 0.5755 - val_loss: 1.1076 - val_acc: 0.6562\n",
      "\n",
      "Epoch 00044: val_acc did not improve from 0.73438\n",
      "Epoch 45/100\n",
      "48/48 [==============================] - 114s 2s/step - loss: 1.1466 - acc: 0.5781 - val_loss: 1.0521 - val_acc: 0.5625\n",
      "\n",
      "Epoch 00045: val_acc did not improve from 0.73438\n",
      "Epoch 46/100\n",
      "48/48 [==============================] - 117s 2s/step - loss: 1.1804 - acc: 0.5814 - val_loss: 1.2817 - val_acc: 0.5938\n",
      "\n",
      "Epoch 00046: val_acc did not improve from 0.73438\n",
      "Epoch 47/100\n",
      "48/48 [==============================] - 115s 2s/step - loss: 1.1097 - acc: 0.5996 - val_loss: 1.2421 - val_acc: 0.5625\n",
      "\n",
      "Epoch 00047: val_acc did not improve from 0.73438\n",
      "Epoch 48/100\n",
      "48/48 [==============================] - 118s 2s/step - loss: 1.1111 - acc: 0.6126 - val_loss: 1.0660 - val_acc: 0.6406\n",
      "\n",
      "Epoch 00048: val_acc did not improve from 0.73438\n",
      "Epoch 49/100\n",
      "48/48 [==============================] - 118s 2s/step - loss: 1.1677 - acc: 0.5814 - val_loss: 1.0085 - val_acc: 0.6719\n",
      "\n",
      "Epoch 00049: val_acc did not improve from 0.73438\n",
      "Epoch 50/100\n",
      "48/48 [==============================] - 115s 2s/step - loss: 1.1064 - acc: 0.6113 - val_loss: 1.0506 - val_acc: 0.7031\n",
      "\n",
      "Epoch 00050: val_acc did not improve from 0.73438\n",
      "Epoch 51/100\n",
      "48/48 [==============================] - 117s 2s/step - loss: 1.0836 - acc: 0.6322 - val_loss: 1.2113 - val_acc: 0.4844\n",
      "\n",
      "Epoch 00051: val_acc did not improve from 0.73438\n",
      "Epoch 52/100\n",
      "48/48 [==============================] - 115s 2s/step - loss: 1.1036 - acc: 0.6296 - val_loss: 1.1515 - val_acc: 0.6719\n",
      "\n",
      "Epoch 00052: val_acc did not improve from 0.73438\n",
      "Epoch 53/100\n",
      "48/48 [==============================] - 119s 2s/step - loss: 1.0907 - acc: 0.6276 - val_loss: 1.0630 - val_acc: 0.7188\n",
      "\n",
      "Epoch 00053: val_acc did not improve from 0.73438\n",
      "Epoch 54/100\n",
      "48/48 [==============================] - 115s 2s/step - loss: 1.0730 - acc: 0.6458 - val_loss: 1.2174 - val_acc: 0.5938\n",
      "\n",
      "Epoch 00054: val_acc did not improve from 0.73438\n",
      "Epoch 55/100\n",
      "48/48 [==============================] - 117s 2s/step - loss: 1.0663 - acc: 0.6328 - val_loss: 1.0790 - val_acc: 0.5938\n",
      "\n",
      "Epoch 00055: val_acc did not improve from 0.73438\n",
      "Epoch 56/100\n",
      "48/48 [==============================] - 116s 2s/step - loss: 1.0222 - acc: 0.6562 - val_loss: 0.9835 - val_acc: 0.6875\n",
      "\n",
      "Epoch 00056: val_acc did not improve from 0.73438\n",
      "Epoch 57/100\n",
      "48/48 [==============================] - 117s 2s/step - loss: 1.1128 - acc: 0.6328 - val_loss: 0.8828 - val_acc: 0.7188\n",
      "\n",
      "Epoch 00057: val_acc did not improve from 0.73438\n",
      "Epoch 58/100\n",
      "48/48 [==============================] - 118s 2s/step - loss: 1.0465 - acc: 0.6562 - val_loss: 1.1246 - val_acc: 0.5156\n",
      "\n",
      "Epoch 00058: val_acc did not improve from 0.73438\n",
      "Epoch 59/100\n",
      "48/48 [==============================] - 115s 2s/step - loss: 1.0340 - acc: 0.6517 - val_loss: 1.0780 - val_acc: 0.6094\n",
      "\n",
      "Epoch 00059: val_acc did not improve from 0.73438\n",
      "Epoch 60/100\n",
      "48/48 [==============================] - 115s 2s/step - loss: 1.0567 - acc: 0.6400 - val_loss: 0.9920 - val_acc: 0.7188\n",
      "\n",
      "Epoch 00060: val_acc did not improve from 0.73438\n",
      "Epoch 61/100\n",
      "48/48 [==============================] - 113s 2s/step - loss: 1.0538 - acc: 0.6602 - val_loss: 1.0113 - val_acc: 0.7500\n",
      "\n",
      "Epoch 00061: val_acc improved from 0.73438 to 0.75000, saving model to E:\\Jupyter\\Project\\save_model\\deep\n",
      "Epoch 62/100\n",
      "48/48 [==============================] - 116s 2s/step - loss: 1.0604 - acc: 0.6530 - val_loss: 0.9995 - val_acc: 0.6719\n",
      "\n",
      "Epoch 00062: val_acc did not improve from 0.75000\n",
      "Epoch 63/100\n",
      "48/48 [==============================] - 116s 2s/step - loss: 0.9925 - acc: 0.6699 - val_loss: 1.0090 - val_acc: 0.6875\n",
      "\n",
      "Epoch 00063: val_acc did not improve from 0.75000\n",
      "Epoch 64/100\n",
      "48/48 [==============================] - 119s 2s/step - loss: 1.0148 - acc: 0.6803 - val_loss: 1.1457 - val_acc: 0.5625\n",
      "\n",
      "Epoch 00064: val_acc did not improve from 0.75000\n",
      "Epoch 65/100\n",
      "48/48 [==============================] - 117s 2s/step - loss: 1.0002 - acc: 0.6751 - val_loss: 0.9577 - val_acc: 0.7188\n",
      "\n",
      "Epoch 00065: val_acc did not improve from 0.75000\n",
      "Epoch 66/100\n",
      "48/48 [==============================] - 110s 2s/step - loss: 0.9990 - acc: 0.6888 - val_loss: 1.1551 - val_acc: 0.5781\n",
      "\n",
      "Epoch 00066: val_acc did not improve from 0.75000\n",
      "Epoch 67/100\n",
      "48/48 [==============================] - 112s 2s/step - loss: 0.9912 - acc: 0.6862 - val_loss: 0.8868 - val_acc: 0.6875\n",
      "\n",
      "Epoch 00067: val_acc did not improve from 0.75000\n",
      "\n",
      "Epoch 00067: ReduceLROnPlateau reducing learning rate to 0.0008333333333333334.\n",
      "Epoch 68/100\n",
      "48/48 [==============================] - 112s 2s/step - loss: 0.9811 - acc: 0.6660 - val_loss: 1.2820 - val_acc: 0.5469\n",
      "\n",
      "Epoch 00068: val_acc did not improve from 0.75000\n",
      "Epoch 69/100\n",
      "48/48 [==============================] - 119s 2s/step - loss: 1.0173 - acc: 0.6667 - val_loss: 0.9025 - val_acc: 0.6875\n",
      "\n",
      "Epoch 00069: val_acc did not improve from 0.75000\n",
      "Epoch 70/100\n",
      "48/48 [==============================] - 113s 2s/step - loss: 0.9620 - acc: 0.6849 - val_loss: 1.0352 - val_acc: 0.7188\n",
      "\n",
      "Epoch 00070: val_acc did not improve from 0.75000\n",
      "Epoch 71/100\n",
      "48/48 [==============================] - 114s 2s/step - loss: 0.9895 - acc: 0.6829 - val_loss: 0.9734 - val_acc: 0.6406\n",
      "\n",
      "Epoch 00071: val_acc did not improve from 0.75000\n",
      "Epoch 72/100\n",
      "48/48 [==============================] - 115s 2s/step - loss: 0.9667 - acc: 0.6908 - val_loss: 0.8174 - val_acc: 0.6406\n",
      "\n",
      "Epoch 00072: val_acc did not improve from 0.75000\n",
      "Epoch 73/100\n",
      "48/48 [==============================] - 118s 2s/step - loss: 0.9220 - acc: 0.7168 - val_loss: 0.9277 - val_acc: 0.6719\n",
      "\n",
      "Epoch 00073: val_acc did not improve from 0.75000\n",
      "Epoch 74/100\n",
      "48/48 [==============================] - 111s 2s/step - loss: 0.9922 - acc: 0.6836 - val_loss: 0.9237 - val_acc: 0.7344\n",
      "\n",
      "Epoch 00074: val_acc did not improve from 0.75000\n",
      "Epoch 75/100\n",
      "48/48 [==============================] - 119s 2s/step - loss: 0.9510 - acc: 0.6927 - val_loss: 0.8358 - val_acc: 0.7969\n",
      "\n",
      "Epoch 00075: val_acc improved from 0.75000 to 0.79688, saving model to E:\\Jupyter\\Project\\save_model\\deep\n",
      "Epoch 76/100\n",
      "48/48 [==============================] - 117s 2s/step - loss: 0.9182 - acc: 0.6999 - val_loss: 0.8688 - val_acc: 0.6875\n",
      "\n",
      "Epoch 00076: val_acc did not improve from 0.79688\n",
      "Epoch 77/100\n",
      "48/48 [==============================] - 117s 2s/step - loss: 0.8939 - acc: 0.7161 - val_loss: 0.7342 - val_acc: 0.7812\n",
      "\n",
      "Epoch 00077: val_acc did not improve from 0.79688\n",
      "Epoch 78/100\n",
      "48/48 [==============================] - 114s 2s/step - loss: 0.9285 - acc: 0.6940 - val_loss: 0.8988 - val_acc: 0.7188\n",
      "\n",
      "Epoch 00078: val_acc did not improve from 0.79688\n",
      "Epoch 79/100\n",
      "48/48 [==============================] - 120s 2s/step - loss: 0.9408 - acc: 0.7012 - val_loss: 1.0450 - val_acc: 0.6719\n",
      "\n",
      "Epoch 00079: val_acc did not improve from 0.79688\n",
      "Epoch 80/100\n",
      "48/48 [==============================] - 118s 2s/step - loss: 0.8943 - acc: 0.7233 - val_loss: 0.8932 - val_acc: 0.6875\n",
      "\n",
      "Epoch 00080: val_acc did not improve from 0.79688\n",
      "Epoch 81/100\n",
      "48/48 [==============================] - 118s 2s/step - loss: 0.9737 - acc: 0.6842 - val_loss: 1.0253 - val_acc: 0.6406\n",
      "\n",
      "Epoch 00081: val_acc did not improve from 0.79688\n",
      "Epoch 82/100\n",
      "48/48 [==============================] - 114s 2s/step - loss: 0.9203 - acc: 0.7090 - val_loss: 0.9352 - val_acc: 0.7188\n",
      "\n",
      "Epoch 00082: val_acc did not improve from 0.79688\n",
      "Epoch 83/100\n",
      "48/48 [==============================] - 116s 2s/step - loss: 0.9317 - acc: 0.7070 - val_loss: 1.0421 - val_acc: 0.7344\n",
      "\n",
      "Epoch 00083: val_acc did not improve from 0.79688\n",
      "Epoch 84/100\n",
      "48/48 [==============================] - 121s 3s/step - loss: 0.9377 - acc: 0.6992 - val_loss: 0.7724 - val_acc: 0.7188\n",
      "\n",
      "Epoch 00084: val_acc did not improve from 0.79688\n",
      "Epoch 85/100\n"
     ]
    },
    {
     "name": "stdout",
     "output_type": "stream",
     "text": [
      "48/48 [==============================] - 117s 2s/step - loss: 0.8990 - acc: 0.7194 - val_loss: 1.1665 - val_acc: 0.6875\n",
      "\n",
      "Epoch 00085: val_acc did not improve from 0.79688\n",
      "Epoch 86/100\n",
      "48/48 [==============================] - 116s 2s/step - loss: 0.8950 - acc: 0.7090 - val_loss: 0.9275 - val_acc: 0.6406\n",
      "\n",
      "Epoch 00086: val_acc did not improve from 0.79688\n",
      "Epoch 87/100\n",
      "48/48 [==============================] - 116s 2s/step - loss: 0.9012 - acc: 0.7025 - val_loss: 0.8269 - val_acc: 0.7344\n",
      "\n",
      "Epoch 00087: val_acc did not improve from 0.79688\n",
      "\n",
      "Epoch 00087: ReduceLROnPlateau reducing learning rate to 0.0008333333333333334.\n",
      "Epoch 88/100\n",
      "48/48 [==============================] - 119s 2s/step - loss: 0.8755 - acc: 0.7096 - val_loss: 0.8156 - val_acc: 0.7812\n",
      "\n",
      "Epoch 00088: val_acc did not improve from 0.79688\n",
      "Epoch 89/100\n",
      "48/48 [==============================] - 116s 2s/step - loss: 0.9010 - acc: 0.7148 - val_loss: 0.8386 - val_acc: 0.7969\n",
      "\n",
      "Epoch 00089: val_acc did not improve from 0.79688\n",
      "Epoch 90/100\n",
      "48/48 [==============================] - 119s 2s/step - loss: 0.8842 - acc: 0.7214 - val_loss: 0.9212 - val_acc: 0.6875\n",
      "\n",
      "Epoch 00090: val_acc did not improve from 0.79688\n",
      "Epoch 91/100\n",
      "48/48 [==============================] - 112s 2s/step - loss: 0.9033 - acc: 0.7266 - val_loss: 0.8580 - val_acc: 0.7500\n",
      "\n",
      "Epoch 00091: val_acc did not improve from 0.79688\n",
      "Epoch 92/100\n",
      "48/48 [==============================] - 114s 2s/step - loss: 0.8856 - acc: 0.7077 - val_loss: 0.7581 - val_acc: 0.7344\n",
      "\n",
      "Epoch 00092: val_acc did not improve from 0.79688\n",
      "Epoch 93/100\n",
      "48/48 [==============================] - 117s 2s/step - loss: 0.9180 - acc: 0.7077 - val_loss: 0.7998 - val_acc: 0.7500\n",
      "\n",
      "Epoch 00093: val_acc did not improve from 0.79688\n",
      "Epoch 94/100\n",
      "48/48 [==============================] - 121s 3s/step - loss: 0.8863 - acc: 0.7109 - val_loss: 0.9268 - val_acc: 0.7656\n",
      "\n",
      "Epoch 00094: val_acc did not improve from 0.79688\n",
      "Epoch 95/100\n",
      "48/48 [==============================] - 128s 3s/step - loss: 0.8614 - acc: 0.7246 - val_loss: 0.8439 - val_acc: 0.7344\n",
      "\n",
      "Epoch 00095: val_acc did not improve from 0.79688\n",
      "Epoch 96/100\n",
      "48/48 [==============================] - 116s 2s/step - loss: 0.8458 - acc: 0.7305 - val_loss: 0.9708 - val_acc: 0.7031\n",
      "\n",
      "Epoch 00096: val_acc did not improve from 0.79688\n",
      "Epoch 97/100\n",
      "48/48 [==============================] - 116s 2s/step - loss: 0.8447 - acc: 0.7227 - val_loss: 0.6868 - val_acc: 0.7812\n",
      "\n",
      "Epoch 00097: val_acc did not improve from 0.79688\n",
      "Epoch 98/100\n",
      "48/48 [==============================] - 113s 2s/step - loss: 0.8517 - acc: 0.7376 - val_loss: 0.9690 - val_acc: 0.6406\n",
      "\n",
      "Epoch 00098: val_acc did not improve from 0.79688\n",
      "Epoch 99/100\n",
      "48/48 [==============================] - 113s 2s/step - loss: 0.8534 - acc: 0.7174 - val_loss: 0.7907 - val_acc: 0.7656\n",
      "\n",
      "Epoch 00099: val_acc did not improve from 0.79688\n",
      "Epoch 100/100\n",
      "48/48 [==============================] - 120s 2s/step - loss: 0.8324 - acc: 0.7350 - val_loss: 1.0736 - val_acc: 0.7188\n",
      "\n",
      "Epoch 00100: val_acc did not improve from 0.79688\n"
     ]
    }
   ],
   "source": [
    "nb_epoch = 100\n",
    "batch_size = 32\n",
    "#steps_per_epoch=int((len(X_val_new)*1.5)/batch_size)\n",
    "lr_reducer = ReduceLROnPlateau(monitor='val_loss', factor=0.05, \n",
    "                               cooldown=0, patience=10, min_lr=0.005/(2^4),verbose=1)\n",
    "hist = model.fit_generator(data_gen(train[\"Video\"].tolist()[0:],batch_size),\n",
    "                           validation_data=data_gen(validation[\"Video\"].tolist()[0:],batch_size),\n",
    "                           steps_per_epoch=len(train[\"Video\"].tolist()[0:])//(16*batch_size),\n",
    "                           validation_steps=len(validation[\"Video\"].tolist()[0:])//(32*batch_size),\n",
    "                           epochs = nb_epoch,\n",
    "                           callbacks=[checkpoint,lr_reducer]\n",
    "                          )"
   ]
  },
  {
   "cell_type": "code",
   "execution_count": 13,
   "metadata": {
    "scrolled": true
   },
   "outputs": [],
   "source": [
    "training_loss = hist.history['loss']\n",
    "val_loss = hist.history['val_loss']\n",
    "training_acc = hist.history['acc']\n",
    "val_acc = hist.history['val_acc']"
   ]
  },
  {
   "cell_type": "code",
   "execution_count": 14,
   "metadata": {
    "scrolled": false
   },
   "outputs": [
    {
     "name": "stdout",
     "output_type": "stream",
     "text": [
      "100\n",
      "100\n",
      "100\n",
      "100\n"
     ]
    }
   ],
   "source": [
    "\"\"\"for entry in hist1.history['loss']:\n",
    "    training_loss.append(entry)\n",
    "for entry in hist1.history['val_loss']:\n",
    "    val_loss.append(entry)\n",
    "for entry in hist1.history['acc']:\n",
    "    training_acc.append(entry)\n",
    "for entry in hist1.history['val_acc']:\n",
    "    val_acc.append(entry)\"\"\""
   ]
  },
  {
   "cell_type": "code",
   "execution_count": 15,
   "metadata": {
    "scrolled": false
   },
   "outputs": [
    {
     "data": {
      "image/png": "[encoded data removed]",
      "text/plain": [
       "<Figure size 432x288 with 1 Axes>"
      ]
     },
     "metadata": {
      "needs_background": "light"
     },
     "output_type": "display_data"
    },
    {
     "data": {
      "text/plain": [
       "\"with open('deeploss_tr.pkl','rb') as fid:\\n    training_loss = pickle.load(fid)\""
      ]
     },
     "execution_count": 15,
     "metadata": {},
     "output_type": "execute_result"
    }
   ],
   "source": [
    "import pickle\n",
    "plt.plot(training_loss, label=\"training_loss\")\n",
    "plt.plot(val_loss, label=\"validation_loss\")\n",
    "plt.xlabel(\"Epochs\")\n",
    "plt.ylabel(\"Loss\")\n",
    "plt.title(\"Learning Curve\")\n",
    "plt.legend(loc='best')\n",
    "plt.show()\n",
    "\n",
    "with open('E:/Jupyter/Project/save_model/deeploss_tr.pkl','wb') as fid:\n",
    "    pickle.dump(training_loss, fid)\n",
    "with open('E:/Jupyter/Project/save_model/deeploss_val.pkl','wb') as fid:\n",
    "    pickle.dump(val_loss, fid)\n",
    "\"\"\"with open('deeploss_tr.pkl','rb') as fid:\n",
    "    training_loss = pickle.load(fid)\"\"\""
   ]
  },
  {
   "cell_type": "code",
   "execution_count": null,
   "metadata": {
    "scrolled": false
   },
   "outputs": [
    {
     "data": {
      "image/png": "[encoded data removed]",
      "text/plain": [
       "<Figure size 432x288 with 1 Axes>"
      ]
     },
     "metadata": {
      "needs_background": "light"
     },
     "output_type": "display_data"
    }
   ],
   "source": [
    "\n",
    "plt.plot(training_acc, label=\"training_accuracy\")\n",
    "plt.plot(val_acc, label=\"validation_accuracy\")\n",
    "plt.xlabel(\"Epochs\")\n",
    "plt.ylabel(\"accuracy\")\n",
    "plt.title(\"Learning Curve\")\n",
    "plt.legend(loc='best')\n",
    "plt.show()\n",
    "\n",
    "with open('E:/Jupyter/Project/save_model/deepacc_tr.pkl','wb') as fid:\n",
    "    pickle.dump(training_acc, fid)\n",
    "with open('E:/Jupyter/Project/save_model/deepacc_val.pkl','wb') as fid:\n",
    "    pickle.dump(val_acc, fid)"
   ]
  },
  {
   "cell_type": "code",
   "execution_count": null,
   "metadata": {
    "scrolled": false
   },
   "outputs": [],
   "source": [
    "from keras.models import Model, load_model\n",
    "model1_name = \"deep\"\n",
    "model1_path = os.path.join(save_dir, model1_name)\n",
    "model1 = load_model(model1_path)"
   ]
  },
  {
   "cell_type": "code",
   "execution_count": null,
   "metadata": {
    "scrolled": false
   },
   "outputs": [
    {
     "name": "stderr",
     "output_type": "stream",
     "text": [
      "100%|██████████████████████████████████████████████████████████████████████████████| 1500/1500 [01:39<00:00, 15.08it/s]\n"
     ]
    },
    {
     "name": "stdout",
     "output_type": "stream",
     "text": [
      "(64, 100, 176, 2)\n",
      "1500\n"
     ]
    }
   ],
   "source": [
    "# Training data\n",
    "\n",
    "X_tr=[]           # variable to store entire dataset\n",
    "label=[]\n",
    "\n",
    "from tqdm import tqdm\n",
    "\n",
    "ls_path = os.path.join(\"E:/Jupyter/Project/generated_images_timeSampled\")\n",
    "\n",
    "for vid_ID in tqdm(validation[\"Video\"].tolist()[0:1500]):\n",
    "    frames = []\n",
    "    frame_count=0\n",
    "    pos_dir = os.path.join(os.path.join(ls_path,\"pos\"),str(vid_ID))\n",
    "    neg_dir = os.path.join(os.path.join(ls_path,\"pos\"),str(vid_ID))\n",
    "    for img_ID in sorted(os.listdir(pos_dir)):\n",
    "        if frame_count < nb_frames:\n",
    "            pos = os.path.join(pos_dir,img_ID)\n",
    "            neg = os.path.join(neg_dir,img_ID)\n",
    "            p_img = cv2.imread(pos,0)\n",
    "            p_img = cv2.resize(p_img,(img_rows,img_cols),interpolation=cv2.INTER_AREA)\n",
    "            n_img = cv2.imread(neg,0)\n",
    "            n_img = cv2.resize(n_img,(img_rows,img_cols),interpolation=cv2.INTER_AREA)\n",
    "            frame = cv2.merge((p_img,n_img))\n",
    "            frames.append(frame)\n",
    "            frame_count+=1\n",
    "        else:\n",
    "            break\n",
    "    while frame_count < nb_frames:\n",
    "        frames.append(np.zeros((img_cols,img_rows,channels), np.uint8))\n",
    "        frame_count+=1\n",
    "    input_img = np.array(frames)\n",
    "    ipt=np.rollaxis(np.rollaxis(input_img,2,0),2,0)\n",
    "    ipt=np.rollaxis(ipt,2,0)\n",
    "    X_tr.append(ipt)\n",
    "    label.append(labels_dict[vid_ID])\n",
    "\n",
    "print (ipt.shape)\n",
    "num_samples = len(X_tr) \n",
    "print (num_samples)\n",
    "X_tr_array = np.array(X_tr)   # convert the frames read into array\n",
    "\n",
    "train_data = [X_tr_array,label]\n",
    "(X_train, y_train) = (train_data[0],train_data[1])\n",
    "train_set = np.zeros((num_samples, nb_frames, img_cols,img_rows,2))\n",
    "for h in range(num_samples):\n",
    "    train_set[h][:][:][:][:]=X_train[h,:,:,:]\n",
    "Y_train = np_utils.to_categorical(y_train, nb_classes)"
   ]
  },
  {
   "cell_type": "code",
   "execution_count": null,
   "metadata": {
    "scrolled": false
   },
   "outputs": [],
   "source": [
    "test_pred =model1.predict(train_set[50:70])\n",
    "result = np.argmax(test_pred, axis =1)\n",
    "print(result)"
   ]
  },
  {
   "cell_type": "code",
   "execution_count": null,
   "metadata": {
    "scrolled": false
   },
   "outputs": [],
   "source": [
    "img_array = train_set[50]\n",
    "from sklearn.metrics import confusion_matrix\n",
    "met = confusion_matrix(np.argmax(Y_train,axis =1), np.argmax(model1.predict(train_set),axis =1))\n",
    "print(met)"
   ]
  },
  {
   "cell_type": "code",
   "execution_count": null,
   "metadata": {
    "scrolled": false
   },
   "outputs": [],
   "source": [
    "import itertools\n",
    "def confusion_matrix_plot(cm, classes, \n",
    "                          title='Normalized Confusion Matrix', \n",
    "                          normalize=True, \n",
    "                          cmap=plt.cm.Blues):\n",
    "    \"\"\"\n",
    "    This function prints and plots the confusion matrix.\n",
    "    Normalization can be applied by setting `normalize=True`.\n",
    "    \"\"\"\n",
    "    if normalize:\n",
    "        cm = cm.astype('float') / cm.sum(axis=1)[:, np.newaxis]\n",
    "        cm = np.around(cm, decimals=2)\n",
    "        cm[np.isnan(cm)] = 0.0\n",
    "    plt.subplots(1, 1, figsize=(8, 8))\n",
    "    plt.imshow(cm, interpolation='nearest', cmap=cmap)\n",
    "    plt.title(title)\n",
    "    #plt.colorbar()\n",
    "    tick_marks = np.arange(len(classes))\n",
    "    plt.xticks(tick_marks, classes, rotation=45)\n",
    "    plt.yticks(tick_marks, classes)\n",
    "\n",
    "    fmt = '.2f'\n",
    "    thresh = cm.max() / 2.\n",
    "    for i, j in itertools.product(range(cm.shape[0]), range(cm.shape[1])):\n",
    "        plt.text(j, i, format(cm[i, j], fmt),\n",
    "                 horizontalalignment=\"center\",\n",
    "                 color=\"white\" if cm[i, j] > thresh else \"black\")\n",
    "\n",
    "    plt.tight_layout()\n",
    "    plt.ylabel('True label')\n",
    "    plt.xlabel('Predicted label')"
   ]
  },
  {
   "cell_type": "code",
   "execution_count": null,
   "metadata": {
    "scrolled": false
   },
   "outputs": [],
   "source": [
    "confusion_matrix_plot(met, classes=labels[labels[\"Class\"].isin([\"No gesture\",\"Swiping Left\",\"Swiping Right\",\"Stop Sign\",\"Rolling Hand Forward\",\"Rolling Hand Backward\"])].sort_values(by=['Label'])['Class'].tolist())"
   ]
  },
  {
   "cell_type": "code",
   "execution_count": null,
   "metadata": {
    "scrolled": false
   },
   "outputs": [],
   "source": [
    "model1.evaluate(train_set,Y_train)"
   ]
  },
  {
   "cell_type": "code",
   "execution_count": null,
   "metadata": {
    "scrolled": false
   },
   "outputs": [],
   "source": [
    "model.evaluate(train_set,Y_train)"
   ]
  },
  {
   "cell_type": "code",
   "execution_count": null,
   "metadata": {},
   "outputs": [],
   "source": [
    "nb_epoch = 100\n",
    "batch_size = 32\n",
    "#steps_per_epoch=int((len(X_val_new)*1.5)/batch_size)\n",
    "lr_reducer = ReduceLROnPlateau(monitor='val_loss', factor=0.05, \n",
    "                               cooldown=0, patience=10, min_lr=0.005/(2^4),verbose=1)\n",
    "hist1 = model.fit_generator(data_gen(train[\"Video\"].tolist()[0:],batch_size),\n",
    "                           validation_data=data_gen(validation[\"Video\"].tolist()[0:],batch_size),\n",
    "                           steps_per_epoch=len(train[\"Video\"].tolist()[0:])//(16*batch_size),\n",
    "                           validation_steps=len(validation[\"Video\"].tolist()[0:])//(32*batch_size),\n",
    "                           epochs = nb_epoch,\n",
    "                           callbacks=[checkpoint,lr_reducer]\n",
    "                          )"
   ]
  },
  {
   "cell_type": "code",
   "execution_count": null,
   "metadata": {},
   "outputs": [],
   "source": [
    "for entry in hist1.history['loss']:\n",
    "    training_loss.append(entry)\n",
    "for entry in hist1.history['val_loss']:\n",
    "    val_loss.append(entry)\n",
    "for entry in hist1.history['acc']:\n",
    "    training_acc.append(entry)\n",
    "for entry in hist1.history['val_acc']:\n",
    "    val_acc.append(entry)"
   ]
  },
  {
   "cell_type": "code",
   "execution_count": null,
   "metadata": {},
   "outputs": [],
   "source": [
    "plt.plot(training_loss, label=\"training_loss\")\n",
    "plt.plot(val_loss, label=\"validation_loss\")\n",
    "plt.xlabel(\"Epochs\")\n",
    "plt.ylabel(\"Loss\")\n",
    "plt.title(\"Learning Curve\")\n",
    "plt.legend(loc='best')\n",
    "plt.show()"
   ]
  },
  {
   "cell_type": "code",
   "execution_count": null,
   "metadata": {},
   "outputs": [],
   "source": [
    "plt.plot(training_acc, label=\"training_accuracy\")\n",
    "plt.plot(val_acc, label=\"validation_accuracy\")\n",
    "plt.xlabel(\"Epochs\")\n",
    "plt.ylabel(\"accuracy\")\n",
    "plt.title(\"Learning Curve\")\n",
    "plt.legend(loc='best')\n",
    "plt.show()"
   ]
  },
  {
   "cell_type": "code",
   "execution_count": null,
   "metadata": {},
   "outputs": [],
   "source": [
    "img_array = train_set[50]\n",
    "from sklearn.metrics import confusion_matrix\n",
    "met = confusion_matrix(np.argmax(Y_train,axis =1), np.argmax(model1.predict(train_set),axis =1))\n",
    "print(met)"
   ]
  },
  {
   "cell_type": "code",
   "execution_count": null,
   "metadata": {},
   "outputs": [],
   "source": [
    "confusion_matrix_plot(met, classes=labels[labels[\"Class\"].isin([\"No gesture\",\"Swiping Left\",\"Swiping Right\",\"Stop Sign\",\"Rolling Hand Forward\",\"Rolling Hand Backward\"])].sort_values(by=['Label'])['Class'].tolist())"
   ]
  },
  {
   "cell_type": "code",
   "execution_count": null,
   "metadata": {},
   "outputs": [],
   "source": [
    "model1.evaluate(train_set,Y_train)"
   ]
  },
  {
   "cell_type": "code",
   "execution_count": null,
   "metadata": {},
   "outputs": [],
   "source": [
    "model.evaluate(train_set,Y_train)"
   ]
  },
  {
   "cell_type": "code",
   "execution_count": null,
   "metadata": {},
   "outputs": [],
   "source": []
  }
 ],
 "metadata": {
  "kernelspec": {
   "display_name": "Python 3",
   "language": "python",
   "name": "python3"
  },
  "language_info": {
   "codemirror_mode": {
    "name": "ipython",
    "version": 3
   },
   "file_extension": ".py",
   "mimetype": "text/x-python",
   "name": "python",
   "nbconvert_exporter": "python",
   "pygments_lexer": "ipython3",
   "version": "3.6.8"
  }
 },
 "nbformat": 4,
 "nbformat_minor": 2
}
