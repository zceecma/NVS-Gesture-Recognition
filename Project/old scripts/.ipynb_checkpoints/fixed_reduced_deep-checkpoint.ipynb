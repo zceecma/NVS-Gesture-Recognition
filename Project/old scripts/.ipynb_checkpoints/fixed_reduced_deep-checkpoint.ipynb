{
 "cells": [
  {
   "cell_type": "code",
   "execution_count": 1,
   "metadata": {
    "scrolled": false
   },
   "outputs": [
    {
     "name": "stderr",
     "output_type": "stream",
     "text": [
      "Using TensorFlow backend.\n"
     ]
    }
   ],
   "source": [
    "from keras.preprocessing.image import ImageDataGenerator\n",
    "from keras.models import Sequential\n",
    "from keras.layers.core import Dense, Dropout, Activation, Flatten, Reshape\n",
    "from keras.layers.convolutional import Conv3D, MaxPooling3D,Conv2D,AveragePooling2D,AveragePooling3D\n",
    "from keras.layers import Dense, GlobalAveragePooling3D,GlobalAveragePooling2D\n",
    "from keras.callbacks import EarlyStopping, ModelCheckpoint, LearningRateScheduler,ReduceLROnPlateau\n",
    "from keras.optimizers import SGD, RMSprop, Adadelta\n",
    "from keras.utils import np_utils, generic_utils, Sequence\n",
    "from keras.layers.normalization import BatchNormalization\n",
    "from keras.layers.convolutional_recurrent import ConvLSTM2D\n",
    "import keras\n",
    "\n",
    "import os\n",
    "import matplotlib\n",
    "import matplotlib.pyplot as plt\n",
    "import numpy as np\n",
    "import cv2\n",
    "from sklearn.model_selection import train_test_split\n",
    "from sklearn import model_selection\n",
    "from sklearn import preprocessing"
   ]
  },
  {
   "cell_type": "code",
   "execution_count": 2,
   "metadata": {
    "scrolled": false
   },
   "outputs": [],
   "source": [
    "# image specification\n",
    "img_cols,img_rows=100,176\n",
    "nb_frames = 64    # img_depth or number of frames used for each video\n",
    "# CNN Training parameters\n",
    "nb_classes = 27\n",
    "channels = 2"
   ]
  },
  {
   "cell_type": "code",
   "execution_count": 3,
   "metadata": {
    "scrolled": false
   },
   "outputs": [
    {
     "data": {
      "text/plain": [
       "118562"
      ]
     },
     "execution_count": 3,
     "metadata": {},
     "output_type": "execute_result"
    }
   ],
   "source": [
    "import pandas as pd\n",
    "from sklearn.preprocessing import LabelEncoder\n",
    "\n",
    "# integer encode\n",
    "labels = pd.read_csv('E:\\Jupyter\\Project\\jester-v1-labels.csv',sep=';',header=None,names=['Class'])     # reading the csv file\n",
    "label_encoder = LabelEncoder()\n",
    "labels['Label'] = label_encoder.fit_transform(labels['Class'])\n",
    "\n",
    "#train\n",
    "train = pd.read_csv('E:\\Jupyter\\Project\\jester-v1-train.csv',sep=';',header=None,names=['Video','Class'])     # reading the csv file\n",
    "train['Label'] = label_encoder.fit_transform(train['Class'])\n",
    "\n",
    "#validation\n",
    "validation = pd.read_csv('E:\\Jupyter\\Project\\jester-v1-validation.csv',sep=';',header=None,names=['Video','Class'])     # reading the csv file\n",
    "validation['Label'] = label_encoder.fit_transform(validation['Class'])\n",
    "\n",
    "#test\n",
    "#test = pd.read_csv('E:\\Jupyter\\Project\\jester-v1-test.csv',sep=';',header=None,names=['Video'])     # reading the csv file\n",
    "\n",
    "#print labels\n",
    "#labels\n",
    "\"\"\"\n",
    "partition_dict = {\n",
    "    \"train\": train[\"Video\"].tolist(),\n",
    "    \"validation\": validation[\"Video\"].tolist()\n",
    "}\"\"\"\n",
    "temp = pd.concat([train, validation])\n",
    "temp = temp.set_index(\"Video\")\n",
    "#temp = train.set_index(\"Video\")\n",
    "temp.transpose()\n",
    "labels_dict = temp[\"Label\"].to_dict()\n",
    "len(train)"
   ]
  },
  {
   "cell_type": "code",
   "execution_count": 4,
   "metadata": {
    "scrolled": false
   },
   "outputs": [
    {
     "data": {
      "text/plain": [
       "25025"
      ]
     },
     "execution_count": 4,
     "metadata": {},
     "output_type": "execute_result"
    }
   ],
   "source": [
    "#train\n",
    "train = train[train[\"Class\"].isin([\"No gesture\",\"Swiping Left\",\"Swiping Right\",\"Stop Sign\",\"Rolling Hand Forward\",\"Rolling Hand Backward\"])]\n",
    "train['Label'] = label_encoder.fit_transform(train['Class'])\n",
    "\n",
    "#validation\n",
    "validation = validation[validation[\"Class\"].isin([\"No gesture\",\"Swiping Left\",\"Swiping Right\",\"Stop Sign\",\"Rolling Hand Forward\",\"Rolling Hand Backward\"])]\n",
    "validation['Label'] = label_encoder.fit_transform(validation['Class'])\n",
    "\n",
    "#test\n",
    "#test = pd.read_csv('E:\\Jupyter\\Project\\jester-v1-test.csv',sep=';',header=None,names=['Video'])     # reading the csv file\n",
    "\n",
    "#print labels\n",
    "#labels\n",
    "\"\"\"\n",
    "partition_dict = {\n",
    "    \"train\": train[\"Video\"].tolist(),\n",
    "    \"validation\": validation[\"Video\"].tolist()\n",
    "}\"\"\"\n",
    "temp = pd.concat([train, validation])\n",
    "temp = temp.set_index(\"Video\")\n",
    "#temp = train.set_index(\"Video\")\n",
    "temp.transpose()\n",
    "labels_dict = {}\n",
    "labels_dict = temp[\"Label\"].to_dict()\n",
    "len(train)"
   ]
  },
  {
   "cell_type": "code",
   "execution_count": 5,
   "metadata": {
    "scrolled": false
   },
   "outputs": [],
   "source": [
    "import random\n",
    "def data_gen(train_list, batch_size=64):\n",
    "    while True:\n",
    "        X_tr=[]\n",
    "        label=[]\n",
    "        for vid_ID in random.sample(train_list,batch_size):\n",
    "            frames = []\n",
    "            frame_count=0\n",
    "            pos_dir = os.path.join(\"E:/Jupyter/Project/generated_images_timeSampled/pos\",str(vid_ID))\n",
    "            neg_dir = os.path.join(\"E:/Jupyter/Project/generated_images_timeSampled/neg\",str(vid_ID))\n",
    "            for img_ID in sorted(os.listdir(pos_dir)):\n",
    "                if frame_count < nb_frames:\n",
    "                    pos = os.path.join(pos_dir,img_ID)\n",
    "                    neg = os.path.join(neg_dir,img_ID)\n",
    "                    p_img = cv2.imread(pos,0)\n",
    "                    p_img = cv2.resize(p_img,(img_rows,img_cols),interpolation=cv2.INTER_AREA)\n",
    "                    n_img = cv2.imread(neg,0)\n",
    "                    n_img = cv2.resize(n_img,(img_rows,img_cols),interpolation=cv2.INTER_AREA)\n",
    "                    frame = cv2.merge((p_img,n_img))\n",
    "                    frames.append(frame)\n",
    "                    frame_count+=1\n",
    "                else:\n",
    "                    break\n",
    "            while frame_count < nb_frames:\n",
    "                frames.append(np.zeros((img_cols,img_rows,channels), np.uint8))\n",
    "                frame_count+=1\n",
    "            input_img = np.array(frames)\n",
    "            ipt=np.rollaxis(np.rollaxis(input_img,2,0),2,0)\n",
    "            ipt=np.rollaxis(ipt,2,0)\n",
    "            X_tr.append(ipt)\n",
    "            label.append(labels_dict[vid_ID])\n",
    "\n",
    "        X_tr_array = np.array(X_tr)   # convert the frames read into array\n",
    "\n",
    "        Y_train = np_utils.to_categorical(label, nb_classes)\n",
    "\n",
    "        yield X_tr_array,Y_train"
   ]
  },
  {
   "cell_type": "code",
   "execution_count": 6,
   "metadata": {
    "scrolled": false
   },
   "outputs": [
    {
     "name": "stdout",
     "output_type": "stream",
     "text": [
      "(64, 64, 100, 176, 2)\n"
     ]
    }
   ],
   "source": [
    "print(next(data_gen(train[\"Video\"].tolist()))[0].shape)"
   ]
  },
  {
   "cell_type": "code",
   "execution_count": 7,
   "metadata": {
    "scrolled": false
   },
   "outputs": [],
   "source": [
    "#low resolution network\n",
    "weight_decay = 0.005\n",
    "from keras import regularizers\n",
    "model = Sequential()\n",
    "model.add(MaxPooling3D(pool_size=(1, 2, 2),input_shape=(nb_frames,  img_cols, img_rows, channels)))\n",
    "\n",
    "model.add(Conv3D(8,(1,5,5),activation='relu',kernel_regularizer=regularizers.l2(weight_decay)))\n",
    "model.add(Conv3D(8,(5,1,1),activation='relu',kernel_regularizer=regularizers.l2(weight_decay)))\n",
    "model.add(MaxPooling3D(pool_size=(1, 2, 2)))\n",
    "\n",
    "model.add(Conv3D(32,(1,5,5), activation='relu',kernel_regularizer=regularizers.l2(weight_decay)))\n",
    "model.add(Conv3D(32,(3,1,1), activation='relu',kernel_regularizer=regularizers.l2(weight_decay)))\n",
    "model.add(MaxPooling3D(pool_size=(2, 2, 2)))\n",
    "\n",
    "model.add(Conv3D(64,(1,3,5), activation='relu',kernel_regularizer=regularizers.l2(weight_decay)))\n",
    "model.add(Conv3D(64,(3,1,1), activation='relu',kernel_regularizer=regularizers.l2(weight_decay)))\n",
    "model.add(MaxPooling3D(pool_size=(1, 1, 4 )))\n",
    "\n",
    "model.add(Flatten())\n",
    "model.add(Dense(512, activation='relu',kernel_regularizer=regularizers.l2(weight_decay)))\n",
    "model.add(Dropout(0.5))\n",
    "\n",
    "model.add(Dense(256, activation='relu',kernel_regularizer=regularizers.l2(weight_decay)))\n",
    "model.add(Dropout(0.5))\n",
    "\n",
    "model.add(Dense(nb_classes,kernel_initializer='normal',kernel_regularizer=regularizers.l2(weight_decay)))\n",
    "\n",
    "model.add(Activation('softmax'))"
   ]
  },
  {
   "cell_type": "code",
   "execution_count": 8,
   "metadata": {
    "scrolled": false
   },
   "outputs": [
    {
     "name": "stdout",
     "output_type": "stream",
     "text": [
      "_________________________________________________________________\n",
      "Layer (type)                 Output Shape              Param #   \n",
      "=================================================================\n",
      "max_pooling3d_1 (MaxPooling3 (None, 64, 50, 88, 2)     0         \n",
      "_________________________________________________________________\n",
      "conv3d_1 (Conv3D)            (None, 64, 46, 84, 8)     408       \n",
      "_________________________________________________________________\n",
      "conv3d_2 (Conv3D)            (None, 60, 46, 84, 8)     328       \n",
      "_________________________________________________________________\n",
      "max_pooling3d_2 (MaxPooling3 (None, 60, 23, 42, 8)     0         \n",
      "_________________________________________________________________\n",
      "conv3d_3 (Conv3D)            (None, 60, 19, 38, 32)    6432      \n",
      "_________________________________________________________________\n",
      "conv3d_4 (Conv3D)            (None, 58, 19, 38, 32)    3104      \n",
      "_________________________________________________________________\n",
      "max_pooling3d_3 (MaxPooling3 (None, 29, 9, 19, 32)     0         \n",
      "_________________________________________________________________\n",
      "conv3d_5 (Conv3D)            (None, 29, 7, 15, 64)     30784     \n",
      "_________________________________________________________________\n",
      "conv3d_6 (Conv3D)            (None, 27, 7, 15, 64)     12352     \n",
      "_________________________________________________________________\n",
      "max_pooling3d_4 (MaxPooling3 (None, 27, 7, 3, 64)      0         \n",
      "_________________________________________________________________\n",
      "flatten_1 (Flatten)          (None, 36288)             0         \n",
      "_________________________________________________________________\n",
      "dense_1 (Dense)              (None, 512)               18579968  \n",
      "_________________________________________________________________\n",
      "dropout_1 (Dropout)          (None, 512)               0         \n",
      "_________________________________________________________________\n",
      "dense_2 (Dense)              (None, 256)               131328    \n",
      "_________________________________________________________________\n",
      "dropout_2 (Dropout)          (None, 256)               0         \n",
      "_________________________________________________________________\n",
      "dense_3 (Dense)              (None, 27)                6939      \n",
      "_________________________________________________________________\n",
      "activation_1 (Activation)    (None, 27)                0         \n",
      "=================================================================\n",
      "Total params: 18,771,643\n",
      "Trainable params: 18,771,643\n",
      "Non-trainable params: 0\n",
      "_________________________________________________________________\n"
     ]
    }
   ],
   "source": [
    "model.summary()"
   ]
  },
  {
   "cell_type": "code",
   "execution_count": 9,
   "metadata": {
    "scrolled": false
   },
   "outputs": [
    {
     "name": "stdout",
     "output_type": "stream",
     "text": [
      "E:\\Jupyter\\Project\n"
     ]
    }
   ],
   "source": [
    "import os\n",
    "save_dir = os.path.join(os.getcwd(),'save_model')\n",
    "print(os.getcwd())\n",
    "model_name = \"76\"\n",
    "if not os.path.isdir(save_dir):\n",
    "    os.makedirs(save_dir)\n",
    "model_path = os.path.join(save_dir, model_name)\n",
    "checkpoint = ModelCheckpoint(model_path, monitor = 'val_acc', \n",
    "                            save_best_only=True, verbose=1)\n",
    "#earlystop\n",
    "earlystop = EarlyStopping(monitor='val_loss', patience=50, verbose =1)"
   ]
  },
  {
   "cell_type": "code",
   "execution_count": 10,
   "metadata": {
    "scrolled": false
   },
   "outputs": [],
   "source": [
    "sgd = SGD(lr=0.002,  momentum=0.9, nesterov=False)\n",
    "rms = RMSprop(decay=1e-6)\n",
    "ada = Adadelta(lr=0.1,decay=1e-6)\n",
    "model.compile(loss='categorical_crossentropy', \n",
    "              optimizer=sgd,\n",
    "              #optimizer=ada,\n",
    "              #optimizer = Adam(lr=0.0001),\n",
    "              metrics=['acc'])"
   ]
  },
  {
   "cell_type": "code",
   "execution_count": 11,
   "metadata": {
    "scrolled": true
   },
   "outputs": [
    {
     "name": "stdout",
     "output_type": "stream",
     "text": [
      "Epoch 1/100\n",
      "48/48 [==============================] - 159s 3s/step - loss: 10.4776 - acc: 0.2038 - val_loss: 9.4256 - val_acc: 0.3750\n",
      "\n",
      "Epoch 00001: val_acc improved from -inf to 0.37500, saving model to E:\\Jupyter\\Project\\save_model\\working\n",
      "Epoch 2/100\n",
      "48/48 [==============================] - 148s 3s/step - loss: 9.3337 - acc: 0.2227 - val_loss: 8.8774 - val_acc: 0.3906\n",
      "\n",
      "Epoch 00002: val_acc improved from 0.37500 to 0.39062, saving model to E:\\Jupyter\\Project\\save_model\\working\n",
      "Epoch 3/100\n",
      "48/48 [==============================] - 140s 3s/step - loss: 8.8665 - acc: 0.3379 - val_loss: 8.6196 - val_acc: 0.4531\n",
      "\n",
      "Epoch 00003: val_acc improved from 0.39062 to 0.45312, saving model to E:\\Jupyter\\Project\\save_model\\working\n",
      "Epoch 4/100\n",
      "48/48 [==============================] - 134s 3s/step - loss: 8.5899 - acc: 0.3711 - val_loss: 8.2878 - val_acc: 0.5469\n",
      "\n",
      "Epoch 00004: val_acc improved from 0.45312 to 0.54688, saving model to E:\\Jupyter\\Project\\save_model\\working\n",
      "Epoch 5/100\n",
      "48/48 [==============================] - 122s 3s/step - loss: 8.2889 - acc: 0.4518 - val_loss: 8.0249 - val_acc: 0.5469\n",
      "\n",
      "Epoch 00005: val_acc did not improve from 0.54688\n",
      "Epoch 6/100\n",
      "48/48 [==============================] - 124s 3s/step - loss: 7.9644 - acc: 0.5117 - val_loss: 7.7044 - val_acc: 0.5625\n",
      "\n",
      "Epoch 00006: val_acc improved from 0.54688 to 0.56250, saving model to E:\\Jupyter\\Project\\save_model\\working\n",
      "Epoch 7/100\n",
      "48/48 [==============================] - 120s 2s/step - loss: 7.6753 - acc: 0.5299 - val_loss: 7.4318 - val_acc: 0.6406\n",
      "\n",
      "Epoch 00007: val_acc improved from 0.56250 to 0.64062, saving model to E:\\Jupyter\\Project\\save_model\\working\n",
      "Epoch 8/100\n",
      "48/48 [==============================] - 129s 3s/step - loss: 7.4535 - acc: 0.5794 - val_loss: 7.2328 - val_acc: 0.7031\n",
      "\n",
      "Epoch 00008: val_acc improved from 0.64062 to 0.70312, saving model to E:\\Jupyter\\Project\\save_model\\working\n",
      "Epoch 9/100\n",
      "48/48 [==============================] - 125s 3s/step - loss: 7.2035 - acc: 0.6061 - val_loss: 7.2125 - val_acc: 0.5469\n",
      "\n",
      "Epoch 00009: val_acc did not improve from 0.70312\n",
      "Epoch 10/100\n",
      "48/48 [==============================] - 129s 3s/step - loss: 6.8897 - acc: 0.6471 - val_loss: 6.7688 - val_acc: 0.6094\n",
      "\n",
      "Epoch 00010: val_acc did not improve from 0.70312\n",
      "Epoch 11/100\n",
      "48/48 [==============================] - 120s 3s/step - loss: 6.7527 - acc: 0.6510 - val_loss: 6.6575 - val_acc: 0.6250\n",
      "\n",
      "Epoch 00011: val_acc did not improve from 0.70312\n",
      "Epoch 12/100\n",
      "48/48 [==============================] - 127s 3s/step - loss: 6.5413 - acc: 0.6693 - val_loss: 6.5051 - val_acc: 0.6562\n",
      "\n",
      "Epoch 00012: val_acc did not improve from 0.70312\n",
      "Epoch 13/100\n",
      "48/48 [==============================] - 122s 3s/step - loss: 6.3866 - acc: 0.6595 - val_loss: 5.8159 - val_acc: 0.8594\n",
      "\n",
      "Epoch 00013: val_acc improved from 0.70312 to 0.85938, saving model to E:\\Jupyter\\Project\\save_model\\working\n",
      "Epoch 14/100\n",
      "48/48 [==============================] - 124s 3s/step - loss: 6.1657 - acc: 0.6862 - val_loss: 6.0239 - val_acc: 0.7344\n",
      "\n",
      "Epoch 00014: val_acc did not improve from 0.85938\n",
      "Epoch 15/100\n",
      "48/48 [==============================] - 117s 2s/step - loss: 6.0014 - acc: 0.6934 - val_loss: 5.8548 - val_acc: 0.7500\n",
      "\n",
      "Epoch 00015: val_acc did not improve from 0.85938\n",
      "Epoch 16/100\n",
      "48/48 [==============================] - 115s 2s/step - loss: 5.8252 - acc: 0.7077 - val_loss: 5.5661 - val_acc: 0.7656\n",
      "\n",
      "Epoch 00016: val_acc did not improve from 0.85938\n",
      "Epoch 17/100\n",
      "48/48 [==============================] - 118s 2s/step - loss: 5.6813 - acc: 0.7279 - val_loss: 5.5802 - val_acc: 0.7344\n",
      "\n",
      "Epoch 00017: val_acc did not improve from 0.85938\n",
      "Epoch 18/100\n",
      "48/48 [==============================] - 123s 3s/step - loss: 5.4927 - acc: 0.7415 - val_loss: 5.3036 - val_acc: 0.7031\n",
      "\n",
      "Epoch 00018: val_acc did not improve from 0.85938\n",
      "Epoch 19/100\n",
      "48/48 [==============================] - 120s 2s/step - loss: 5.3660 - acc: 0.7493 - val_loss: 5.4640 - val_acc: 0.7188\n",
      "\n",
      "Epoch 00019: val_acc did not improve from 0.85938\n",
      "Epoch 20/100\n",
      "48/48 [==============================] - 124s 3s/step - loss: 5.2513 - acc: 0.7467 - val_loss: 5.1005 - val_acc: 0.7812\n",
      "\n",
      "Epoch 00020: val_acc did not improve from 0.85938\n",
      "Epoch 21/100\n",
      "48/48 [==============================] - 121s 3s/step - loss: 5.0849 - acc: 0.7643 - val_loss: 4.9300 - val_acc: 0.8281\n",
      "\n",
      "Epoch 00021: val_acc did not improve from 0.85938\n",
      "Epoch 22/100\n",
      "48/48 [==============================] - 120s 2s/step - loss: 4.9477 - acc: 0.7702 - val_loss: 5.1796 - val_acc: 0.7656\n",
      "\n",
      "Epoch 00022: val_acc did not improve from 0.85938\n",
      "Epoch 23/100\n",
      "48/48 [==============================] - 124s 3s/step - loss: 4.9029 - acc: 0.7435 - val_loss: 4.7105 - val_acc: 0.7344\n",
      "\n",
      "Epoch 00023: val_acc did not improve from 0.85938\n",
      "Epoch 24/100\n",
      "48/48 [==============================] - 116s 2s/step - loss: 4.7232 - acc: 0.7656 - val_loss: 4.5212 - val_acc: 0.8438\n",
      "\n",
      "Epoch 00024: val_acc did not improve from 0.85938\n",
      "Epoch 25/100\n",
      "48/48 [==============================] - 121s 3s/step - loss: 4.6162 - acc: 0.7565 - val_loss: 4.4764 - val_acc: 0.7812\n",
      "\n",
      "Epoch 00025: val_acc did not improve from 0.85938\n",
      "Epoch 26/100\n",
      "48/48 [==============================] - 123s 3s/step - loss: 4.4531 - acc: 0.7969 - val_loss: 4.4285 - val_acc: 0.7500\n",
      "\n",
      "Epoch 00026: val_acc did not improve from 0.85938\n",
      "Epoch 27/100\n",
      "48/48 [==============================] - 120s 2s/step - loss: 4.3687 - acc: 0.7845 - val_loss: 4.3117 - val_acc: 0.7500\n",
      "\n",
      "Epoch 00027: val_acc did not improve from 0.85938\n",
      "Epoch 28/100\n",
      "48/48 [==============================] - 117s 2s/step - loss: 4.2542 - acc: 0.7884 - val_loss: 4.1480 - val_acc: 0.7969\n",
      "\n",
      "Epoch 00028: val_acc did not improve from 0.85938\n",
      "Epoch 29/100\n",
      "48/48 [==============================] - 117s 2s/step - loss: 4.1709 - acc: 0.7995 - val_loss: 3.9452 - val_acc: 0.8594\n",
      "\n",
      "Epoch 00029: val_acc did not improve from 0.85938\n",
      "Epoch 30/100\n",
      "48/48 [==============================] - 118s 2s/step - loss: 4.0230 - acc: 0.8027 - val_loss: 4.1414 - val_acc: 0.8125\n",
      "\n",
      "Epoch 00030: val_acc did not improve from 0.85938\n",
      "Epoch 31/100\n",
      "48/48 [==============================] - 120s 2s/step - loss: 3.9231 - acc: 0.8118 - val_loss: 3.9927 - val_acc: 0.7969\n",
      "\n",
      "Epoch 00031: val_acc did not improve from 0.85938\n",
      "Epoch 32/100\n",
      "48/48 [==============================] - 117s 2s/step - loss: 3.8614 - acc: 0.7812 - val_loss: 3.7958 - val_acc: 0.7969\n",
      "\n",
      "Epoch 00032: val_acc did not improve from 0.85938\n",
      "Epoch 33/100\n",
      "48/48 [==============================] - 122s 3s/step - loss: 3.7120 - acc: 0.8242 - val_loss: 3.5960 - val_acc: 0.8281\n",
      "\n",
      "Epoch 00033: val_acc did not improve from 0.85938\n",
      "Epoch 34/100\n",
      "48/48 [==============================] - 117s 2s/step - loss: 3.7306 - acc: 0.7904 - val_loss: 3.5104 - val_acc: 0.8594\n",
      "\n",
      "Epoch 00034: val_acc did not improve from 0.85938\n",
      "Epoch 35/100\n",
      "48/48 [==============================] - 119s 2s/step - loss: 3.6310 - acc: 0.7884 - val_loss: 3.4589 - val_acc: 0.8906\n",
      "\n",
      "Epoch 00035: val_acc improved from 0.85938 to 0.89062, saving model to E:\\Jupyter\\Project\\save_model\\working\n",
      "Epoch 36/100\n",
      "48/48 [==============================] - 120s 2s/step - loss: 3.5069 - acc: 0.8066 - val_loss: 3.9954 - val_acc: 0.6719\n",
      "\n",
      "Epoch 00036: val_acc did not improve from 0.89062\n",
      "Epoch 37/100\n",
      "48/48 [==============================] - 120s 3s/step - loss: 3.4265 - acc: 0.8190 - val_loss: 3.4545 - val_acc: 0.7969\n",
      "\n",
      "Epoch 00037: val_acc did not improve from 0.89062\n",
      "Epoch 38/100\n",
      "48/48 [==============================] - 114s 2s/step - loss: 3.3356 - acc: 0.8216 - val_loss: 3.1480 - val_acc: 0.8438\n",
      "\n",
      "Epoch 00038: val_acc did not improve from 0.89062\n",
      "Epoch 39/100\n",
      "48/48 [==============================] - 123s 3s/step - loss: 3.2750 - acc: 0.8190 - val_loss: 3.2102 - val_acc: 0.8438\n",
      "\n",
      "Epoch 00039: val_acc did not improve from 0.89062\n",
      "Epoch 40/100\n",
      "48/48 [==============================] - 119s 2s/step - loss: 3.1990 - acc: 0.8164 - val_loss: 3.1794 - val_acc: 0.8125\n",
      "\n",
      "Epoch 00040: val_acc did not improve from 0.89062\n",
      "Epoch 41/100\n",
      "48/48 [==============================] - 120s 3s/step - loss: 3.1397 - acc: 0.8210 - val_loss: 3.0261 - val_acc: 0.8438\n",
      "\n",
      "Epoch 00041: val_acc did not improve from 0.89062\n",
      "Epoch 42/100\n",
      "48/48 [==============================] - 132s 3s/step - loss: 3.0932 - acc: 0.8125 - val_loss: 2.9044 - val_acc: 0.8594\n"
     ]
    },
    {
     "name": "stdout",
     "output_type": "stream",
     "text": [
      "\n",
      "Epoch 00042: val_acc did not improve from 0.89062\n",
      "Epoch 43/100\n",
      "48/48 [==============================] - 123s 3s/step - loss: 2.9379 - acc: 0.8333 - val_loss: 3.1400 - val_acc: 0.7969\n",
      "\n",
      "Epoch 00043: val_acc did not improve from 0.89062\n",
      "Epoch 44/100\n",
      "48/48 [==============================] - 123s 3s/step - loss: 2.8850 - acc: 0.8535 - val_loss: 2.9732 - val_acc: 0.8281\n",
      "\n",
      "Epoch 00044: val_acc did not improve from 0.89062\n",
      "Epoch 45/100\n",
      "48/48 [==============================] - 117s 2s/step - loss: 2.8070 - acc: 0.8470 - val_loss: 2.9005 - val_acc: 0.8125\n",
      "\n",
      "Epoch 00045: val_acc did not improve from 0.89062\n",
      "Epoch 46/100\n",
      "48/48 [==============================] - 116s 2s/step - loss: 2.7711 - acc: 0.8379 - val_loss: 2.8124 - val_acc: 0.8750\n",
      "\n",
      "Epoch 00046: val_acc did not improve from 0.89062\n",
      "Epoch 47/100\n",
      "48/48 [==============================] - 120s 3s/step - loss: 2.7178 - acc: 0.8366 - val_loss: 2.5859 - val_acc: 0.8906\n",
      "\n",
      "Epoch 00047: val_acc did not improve from 0.89062\n",
      "Epoch 48/100\n",
      "48/48 [==============================] - 119s 2s/step - loss: 2.6763 - acc: 0.8294 - val_loss: 2.8371 - val_acc: 0.7812\n",
      "\n",
      "Epoch 00048: val_acc did not improve from 0.89062\n",
      "Epoch 49/100\n",
      "48/48 [==============================] - 117s 2s/step - loss: 2.6026 - acc: 0.8359 - val_loss: 2.6187 - val_acc: 0.8125\n",
      "\n",
      "Epoch 00049: val_acc did not improve from 0.89062\n",
      "Epoch 50/100\n",
      "48/48 [==============================] - 119s 2s/step - loss: 2.5253 - acc: 0.8509 - val_loss: 2.4842 - val_acc: 0.8594\n",
      "\n",
      "Epoch 00050: val_acc did not improve from 0.89062\n",
      "Epoch 51/100\n",
      "48/48 [==============================] - 123s 3s/step - loss: 2.4897 - acc: 0.8503 - val_loss: 2.5140 - val_acc: 0.8438\n",
      "\n",
      "Epoch 00051: val_acc did not improve from 0.89062\n",
      "Epoch 52/100\n",
      "48/48 [==============================] - 120s 2s/step - loss: 2.4149 - acc: 0.8529 - val_loss: 2.4025 - val_acc: 0.8438\n",
      "\n",
      "Epoch 00052: val_acc did not improve from 0.89062\n",
      "Epoch 53/100\n",
      "48/48 [==============================] - 117s 2s/step - loss: 2.4035 - acc: 0.8424 - val_loss: 2.6393 - val_acc: 0.7812\n",
      "\n",
      "Epoch 00053: val_acc did not improve from 0.89062\n",
      "Epoch 54/100\n",
      "48/48 [==============================] - 131s 3s/step - loss: 2.3301 - acc: 0.8581 - val_loss: 2.2565 - val_acc: 0.8281\n",
      "\n",
      "Epoch 00054: val_acc did not improve from 0.89062\n",
      "Epoch 55/100\n",
      "48/48 [==============================] - 123s 3s/step - loss: 2.2775 - acc: 0.8477 - val_loss: 2.3299 - val_acc: 0.8438\n",
      "\n",
      "Epoch 00055: val_acc did not improve from 0.89062\n",
      "Epoch 56/100\n",
      "48/48 [==============================] - 122s 3s/step - loss: 2.2889 - acc: 0.8307 - val_loss: 2.2057 - val_acc: 0.8438\n",
      "\n",
      "Epoch 00056: val_acc did not improve from 0.89062\n",
      "Epoch 57/100\n",
      "48/48 [==============================] - 122s 3s/step - loss: 2.2157 - acc: 0.8431 - val_loss: 2.1216 - val_acc: 0.8906\n",
      "\n",
      "Epoch 00057: val_acc did not improve from 0.89062\n",
      "Epoch 58/100\n",
      "48/48 [==============================] - 123s 3s/step - loss: 2.1743 - acc: 0.8418 - val_loss: 2.0293 - val_acc: 0.8750\n",
      "\n",
      "Epoch 00058: val_acc did not improve from 0.89062\n",
      "Epoch 59/100\n",
      "48/48 [==============================] - 117s 2s/step - loss: 2.0978 - acc: 0.8509 - val_loss: 1.9776 - val_acc: 0.9062\n",
      "\n",
      "Epoch 00059: val_acc improved from 0.89062 to 0.90625, saving model to E:\\Jupyter\\Project\\save_model\\working\n",
      "Epoch 60/100\n",
      "48/48 [==============================] - 123s 3s/step - loss: 2.1130 - acc: 0.8340 - val_loss: 2.0217 - val_acc: 0.8438\n",
      "\n",
      "Epoch 00060: val_acc did not improve from 0.90625\n",
      "Epoch 61/100\n",
      "48/48 [==============================] - 120s 2s/step - loss: 2.0281 - acc: 0.8509 - val_loss: 1.8827 - val_acc: 0.8750\n",
      "\n",
      "Epoch 00061: val_acc did not improve from 0.90625\n",
      "Epoch 62/100\n",
      "48/48 [==============================] - 121s 3s/step - loss: 1.9182 - acc: 0.8841 - val_loss: 1.9794 - val_acc: 0.8438\n",
      "\n",
      "Epoch 00062: val_acc did not improve from 0.90625\n",
      "Epoch 63/100\n",
      "48/48 [==============================] - 121s 3s/step - loss: 1.9670 - acc: 0.8405 - val_loss: 1.9286 - val_acc: 0.8594\n",
      "\n",
      "Epoch 00063: val_acc did not improve from 0.90625\n",
      "Epoch 64/100\n",
      "48/48 [==============================] - 122s 3s/step - loss: 1.9102 - acc: 0.8594 - val_loss: 2.1487 - val_acc: 0.8594\n",
      "\n",
      "Epoch 00064: val_acc did not improve from 0.90625\n",
      "Epoch 65/100\n",
      "48/48 [==============================] - 120s 2s/step - loss: 1.8841 - acc: 0.8555 - val_loss: 1.8945 - val_acc: 0.8594\n",
      "\n",
      "Epoch 00065: val_acc did not improve from 0.90625\n",
      "Epoch 66/100\n",
      "48/48 [==============================] - 119s 2s/step - loss: 1.8255 - acc: 0.8639 - val_loss: 1.7030 - val_acc: 0.8750\n",
      "\n",
      "Epoch 00066: val_acc did not improve from 0.90625\n",
      "Epoch 67/100\n",
      "48/48 [==============================] - 120s 3s/step - loss: 1.7932 - acc: 0.8711 - val_loss: 1.9370 - val_acc: 0.8281\n",
      "\n",
      "Epoch 00067: val_acc did not improve from 0.90625\n",
      "Epoch 68/100\n",
      "48/48 [==============================] - 121s 3s/step - loss: 1.7930 - acc: 0.8581 - val_loss: 1.7411 - val_acc: 0.8594\n",
      "\n",
      "Epoch 00068: val_acc did not improve from 0.90625\n",
      "Epoch 69/100\n",
      "48/48 [==============================] - 124s 3s/step - loss: 1.7294 - acc: 0.8730 - val_loss: 1.7905 - val_acc: 0.8281\n",
      "\n",
      "Epoch 00069: val_acc did not improve from 0.90625\n",
      "Epoch 70/100\n",
      "48/48 [==============================] - 120s 3s/step - loss: 1.6993 - acc: 0.8711 - val_loss: 1.7278 - val_acc: 0.8906\n",
      "\n",
      "Epoch 00070: val_acc did not improve from 0.90625\n",
      "Epoch 71/100\n",
      "48/48 [==============================] - 114s 2s/step - loss: 1.6350 - acc: 0.8822 - val_loss: 1.8752 - val_acc: 0.7812\n",
      "\n",
      "Epoch 00071: val_acc did not improve from 0.90625\n",
      "Epoch 72/100\n",
      "48/48 [==============================] - 119s 2s/step - loss: 1.6363 - acc: 0.8770 - val_loss: 1.8362 - val_acc: 0.8594\n",
      "\n",
      "Epoch 00072: val_acc did not improve from 0.90625\n",
      "Epoch 73/100\n",
      "48/48 [==============================] - 125s 3s/step - loss: 1.5985 - acc: 0.8685 - val_loss: 1.7238 - val_acc: 0.8281\n",
      "\n",
      "Epoch 00073: val_acc did not improve from 0.90625\n",
      "Epoch 74/100\n",
      "48/48 [==============================] - 121s 3s/step - loss: 1.6243 - acc: 0.8646 - val_loss: 1.6144 - val_acc: 0.9062\n",
      "\n",
      "Epoch 00074: val_acc did not improve from 0.90625\n",
      "Epoch 75/100\n",
      "48/48 [==============================] - 124s 3s/step - loss: 1.5643 - acc: 0.8704 - val_loss: 1.3723 - val_acc: 0.9219\n",
      "\n",
      "Epoch 00075: val_acc improved from 0.90625 to 0.92188, saving model to E:\\Jupyter\\Project\\save_model\\working\n",
      "Epoch 76/100\n",
      "48/48 [==============================] - 123s 3s/step - loss: 1.5651 - acc: 0.8659 - val_loss: 1.3700 - val_acc: 0.9531\n",
      "\n",
      "Epoch 00076: val_acc improved from 0.92188 to 0.95312, saving model to E:\\Jupyter\\Project\\save_model\\working\n",
      "Epoch 77/100\n",
      "48/48 [==============================] - 121s 3s/step - loss: 1.5322 - acc: 0.8730 - val_loss: 1.5266 - val_acc: 0.8750\n",
      "\n",
      "Epoch 00077: val_acc did not improve from 0.95312\n",
      "Epoch 78/100\n",
      "48/48 [==============================] - 122s 3s/step - loss: 1.4924 - acc: 0.8685 - val_loss: 1.3203 - val_acc: 0.9531\n",
      "\n",
      "Epoch 00078: val_acc did not improve from 0.95312\n",
      "Epoch 79/100\n",
      "48/48 [==============================] - 119s 2s/step - loss: 1.4305 - acc: 0.8848 - val_loss: 1.6398 - val_acc: 0.8594\n",
      "\n",
      "Epoch 00079: val_acc did not improve from 0.95312\n",
      "Epoch 80/100\n",
      "48/48 [==============================] - 120s 3s/step - loss: 1.4392 - acc: 0.8783 - val_loss: 1.2718 - val_acc: 0.9375\n",
      "\n",
      "Epoch 00080: val_acc did not improve from 0.95312\n",
      "Epoch 81/100\n",
      "48/48 [==============================] - 116s 2s/step - loss: 1.3399 - acc: 0.8971 - val_loss: 1.4641 - val_acc: 0.8906\n",
      "\n",
      "Epoch 00081: val_acc did not improve from 0.95312\n",
      "Epoch 82/100\n",
      "48/48 [==============================] - 124s 3s/step - loss: 1.3875 - acc: 0.8776 - val_loss: 1.2531 - val_acc: 0.8594\n",
      "\n",
      "Epoch 00082: val_acc did not improve from 0.95312\n",
      "Epoch 83/100\n",
      "48/48 [==============================] - 121s 3s/step - loss: 1.3904 - acc: 0.8730 - val_loss: 1.3640 - val_acc: 0.9062\n",
      "\n",
      "Epoch 00083: val_acc did not improve from 0.95312\n",
      "Epoch 84/100\n",
      "48/48 [==============================] - 128s 3s/step - loss: 1.3731 - acc: 0.8913 - val_loss: 1.7432 - val_acc: 0.7812\n",
      "\n",
      "Epoch 00084: val_acc did not improve from 0.95312\n",
      "Epoch 85/100\n",
      "48/48 [==============================] - 119s 2s/step - loss: 1.3422 - acc: 0.8789 - val_loss: 1.3180 - val_acc: 0.9062\n",
      "\n",
      "Epoch 00085: val_acc did not improve from 0.95312\n",
      "Epoch 86/100\n"
     ]
    },
    {
     "name": "stdout",
     "output_type": "stream",
     "text": [
      "48/48 [==============================] - 122s 3s/step - loss: 1.3050 - acc: 0.8854 - val_loss: 1.4609 - val_acc: 0.8281\n",
      "\n",
      "Epoch 00086: val_acc did not improve from 0.95312\n",
      "Epoch 87/100\n",
      "48/48 [==============================] - 121s 3s/step - loss: 1.2802 - acc: 0.8900 - val_loss: 1.4968 - val_acc: 0.8281\n",
      "\n",
      "Epoch 00087: val_acc did not improve from 0.95312\n",
      "Epoch 88/100\n",
      "48/48 [==============================] - 118s 2s/step - loss: 1.2534 - acc: 0.8913 - val_loss: 1.2681 - val_acc: 0.8594\n",
      "\n",
      "Epoch 00088: val_acc did not improve from 0.95312\n",
      "Epoch 89/100\n",
      "48/48 [==============================] - 123s 3s/step - loss: 1.2399 - acc: 0.8887 - val_loss: 1.3076 - val_acc: 0.8750\n",
      "\n",
      "Epoch 00089: val_acc did not improve from 0.95312\n",
      "Epoch 90/100\n",
      "48/48 [==============================] - 122s 3s/step - loss: 1.2643 - acc: 0.8776 - val_loss: 1.2142 - val_acc: 0.9219\n",
      "\n",
      "Epoch 00090: val_acc did not improve from 0.95312\n",
      "Epoch 91/100\n",
      "48/48 [==============================] - 122s 3s/step - loss: 1.1886 - acc: 0.8939 - val_loss: 1.3476 - val_acc: 0.8438\n",
      "\n",
      "Epoch 00091: val_acc did not improve from 0.95312\n",
      "Epoch 92/100\n",
      "48/48 [==============================] - 121s 3s/step - loss: 1.2381 - acc: 0.8841 - val_loss: 1.3014 - val_acc: 0.9062\n",
      "\n",
      "Epoch 00092: val_acc did not improve from 0.95312\n",
      "Epoch 93/100\n",
      "48/48 [==============================] - 120s 3s/step - loss: 1.1974 - acc: 0.8841 - val_loss: 1.2132 - val_acc: 0.8906\n",
      "\n",
      "Epoch 00093: val_acc did not improve from 0.95312\n",
      "Epoch 94/100\n",
      "48/48 [==============================] - 120s 2s/step - loss: 1.2215 - acc: 0.8743 - val_loss: 1.5933 - val_acc: 0.7500\n",
      "\n",
      "Epoch 00094: val_acc did not improve from 0.95312\n",
      "Epoch 95/100\n",
      "48/48 [==============================] - 116s 2s/step - loss: 1.1468 - acc: 0.8939 - val_loss: 1.2034 - val_acc: 0.8906\n",
      "\n",
      "Epoch 00095: val_acc did not improve from 0.95312\n",
      "Epoch 96/100\n",
      "48/48 [==============================] - 122s 3s/step - loss: 1.1517 - acc: 0.8900 - val_loss: 1.0695 - val_acc: 0.8906\n",
      "\n",
      "Epoch 00096: val_acc did not improve from 0.95312\n",
      "Epoch 97/100\n",
      "48/48 [==============================] - 124s 3s/step - loss: 1.1676 - acc: 0.8659 - val_loss: 1.2516 - val_acc: 0.8125\n",
      "\n",
      "Epoch 00097: val_acc did not improve from 0.95312\n",
      "Epoch 98/100\n",
      "48/48 [==============================] - 122s 3s/step - loss: 1.1851 - acc: 0.8763 - val_loss: 1.1508 - val_acc: 0.9062\n",
      "\n",
      "Epoch 00098: val_acc did not improve from 0.95312\n",
      "Epoch 99/100\n",
      "48/48 [==============================] - 122s 3s/step - loss: 1.1490 - acc: 0.8822 - val_loss: 1.3132 - val_acc: 0.8438\n",
      "\n",
      "Epoch 00099: val_acc did not improve from 0.95312\n",
      "Epoch 100/100\n",
      "48/48 [==============================] - 120s 2s/step - loss: 1.0929 - acc: 0.8991 - val_loss: 1.0916 - val_acc: 0.8906\n",
      "\n",
      "Epoch 00100: val_acc did not improve from 0.95312\n"
     ]
    }
   ],
   "source": [
    "nb_epoch = 100\n",
    "batch_size = 32\n",
    "#steps_per_epoch=int((len(X_val_new)*1.5)/batch_size)\n",
    "lr_reducer = ReduceLROnPlateau(monitor='val_loss', factor=0.05, \n",
    "                               cooldown=0, patience=10, min_lr=0.005/(2^4),verbose=1)\n",
    "hist = model.fit_generator(data_gen(train[\"Video\"].tolist()[0:],batch_size),\n",
    "                           validation_data=data_gen(validation[\"Video\"].tolist()[0:],batch_size),\n",
    "                           steps_per_epoch=len(train[\"Video\"].tolist()[0:])//(16*batch_size),\n",
    "                           validation_steps=len(validation[\"Video\"].tolist()[0:])//(32*batch_size),\n",
    "                           epochs = nb_epoch,\n",
    "                           callbacks=[checkpoint,lr_reducer]\n",
    "                          )"
   ]
  },
  {
   "cell_type": "code",
   "execution_count": 12,
   "metadata": {
    "scrolled": true
   },
   "outputs": [],
   "source": [
    "training_loss = hist.history['loss']\n",
    "val_loss = hist.history['val_loss']\n",
    "training_acc = hist.history['acc']\n",
    "val_acc = hist.history['val_acc']"
   ]
  },
  {
   "cell_type": "code",
   "execution_count": 13,
   "metadata": {
    "scrolled": false
   },
   "outputs": [
    {
     "name": "stdout",
     "output_type": "stream",
     "text": [
      "100\n",
      "100\n",
      "100\n",
      "100\n"
     ]
    }
   ],
   "source": [
    "\"\"\"for entry in hist1.history['loss']:\n",
    "    training_loss.append(entry)\n",
    "for entry in hist1.history['val_loss']:\n",
    "    val_loss.append(entry)\n",
    "for entry in hist1.history['acc']:\n",
    "    training_acc.append(entry)\n",
    "for entry in hist1.history['val_acc']:\n",
    "    val_acc.append(entry)\"\"\"\n",
    "print(len(training_loss))\n",
    "print(len(val_loss))\n",
    "print(len(training_acc))\n",
    "print(len(val_acc))"
   ]
  },
  {
   "cell_type": "code",
   "execution_count": 33,
   "metadata": {
    "scrolled": false
   },
   "outputs": [
    {
     "data": {
      "image/png": "[encoded data removed]",
      "text/plain": [
       "<Figure size 432x288 with 1 Axes>"
      ]
     },
     "metadata": {
      "needs_background": "light"
     },
     "output_type": "display_data"
    },
    {
     "data": {
      "text/plain": [
       "\"with open('76loss_tr.pkl','rb') as fid:\\n    training_loss = pickle.load(fid)\""
      ]
     },
     "execution_count": 33,
     "metadata": {},
     "output_type": "execute_result"
    }
   ],
   "source": [
    "import pickle\n",
    "plt.plot(training_loss, label=\"training_loss\")\n",
    "plt.plot(val_loss, label=\"validation_loss\")\n",
    "plt.xlabel(\"Epochs\")\n",
    "plt.ylabel(\"Loss\")\n",
    "plt.title(\"Learning Curve\")\n",
    "plt.legend(loc='best')\n",
    "plt.show()\n",
    "\n",
    "with open('E:/Jupyter/Project/save_model/76loss_tr.pkl','wb') as fid:\n",
    "    pickle.dump(training_loss, fid)\n",
    "with open('E:/Jupyter/Project/save_model/76loss_val.pkl','wb') as fid:\n",
    "    pickle.dump(val_loss, fid)\n",
    "\"\"\"with open('76loss_tr.pkl','rb') as fid:\n",
    "    training_loss = pickle.load(fid)\"\"\""
   ]
  },
  {
   "cell_type": "code",
   "execution_count": 34,
   "metadata": {
    "scrolled": false
   },
   "outputs": [
    {
     "data": {
      "image/png": "[encoded data removed]",
      "text/plain": [
       "<Figure size 432x288 with 1 Axes>"
      ]
     },
     "metadata": {
      "needs_background": "light"
     },
     "output_type": "display_data"
    },
    {
     "data": {
      "text/plain": [
       "\"with open('76loss_tr.pkl','rb') as fid:\\n    training_loss = pickle.load(fid)\""
      ]
     },
     "execution_count": 34,
     "metadata": {},
     "output_type": "execute_result"
    }
   ],
   "source": [
    "\n",
    "plt.plot(training_acc, label=\"training_accuracy\")\n",
    "plt.plot(val_acc, label=\"validation_accuracy\")\n",
    "plt.xlabel(\"Epochs\")\n",
    "plt.ylabel(\"accuracy\")\n",
    "plt.title(\"Learning Curve\")\n",
    "plt.legend(loc='best')\n",
    "plt.show()\n",
    "\n",
    "with open('E:/Jupyter/Project/save_model/76acc_tr.pkl','wb') as fid:\n",
    "    pickle.dump(training_acc, fid)\n",
    "with open('E:/Jupyter/Project/save_model/76acc_val.pkl','wb') as fid:\n",
    "    pickle.dump(val_acc, fid)\n",
    "\"\"\"with open('76loss_tr.pkl','rb') as fid:\n",
    "    training_loss = pickle.load(fid)\"\"\""
   ]
  },
  {
   "cell_type": "code",
   "execution_count": 16,
   "metadata": {
    "scrolled": false
   },
   "outputs": [],
   "source": [
    "from keras.models import Model, load_model\n",
    "model1_name = \"76\"\n",
    "model1_path = os.path.join(save_dir, model1_name)\n",
    "model1 = load_model(model1_path)"
   ]
  },
  {
   "cell_type": "code",
   "execution_count": 18,
   "metadata": {
    "scrolled": false
   },
   "outputs": [
    {
     "name": "stderr",
     "output_type": "stream",
     "text": [
      "100%|██████████████████████████████████████████████████████████████████████████████| 1500/1500 [01:33<00:00, 16.03it/s]\n"
     ]
    },
    {
     "name": "stdout",
     "output_type": "stream",
     "text": [
      "(64, 100, 176, 2)\n",
      "1500\n"
     ]
    }
   ],
   "source": [
    "# Training data\n",
    "\n",
    "X_tr=[]           # variable to store entire dataset\n",
    "label=[]\n",
    "\n",
    "from tqdm import tqdm\n",
    "\n",
    "ls_path = os.path.join(\"E:/Jupyter/Project/generated_images_timeSampled\")\n",
    "\n",
    "for vid_ID in tqdm(validation[\"Video\"].tolist()[0:1500]):\n",
    "    frames = []\n",
    "    frame_count=0\n",
    "    pos_dir = os.path.join(os.path.join(ls_path,\"pos\"),str(vid_ID))\n",
    "    neg_dir = os.path.join(os.path.join(ls_path,\"pos\"),str(vid_ID))\n",
    "    for img_ID in sorted(os.listdir(pos_dir)):\n",
    "        if frame_count < nb_frames:\n",
    "            pos = os.path.join(pos_dir,img_ID)\n",
    "            neg = os.path.join(neg_dir,img_ID)\n",
    "            p_img = cv2.imread(pos,0)\n",
    "            p_img = cv2.resize(p_img,(img_rows,img_cols),interpolation=cv2.INTER_AREA)\n",
    "            n_img = cv2.imread(neg,0)\n",
    "            n_img = cv2.resize(n_img,(img_rows,img_cols),interpolation=cv2.INTER_AREA)\n",
    "            frame = cv2.merge((p_img,n_img))\n",
    "            frames.append(frame)\n",
    "            frame_count+=1\n",
    "        else:\n",
    "            break\n",
    "    while frame_count < nb_frames:\n",
    "        frames.append(np.zeros((img_cols,img_rows,channels), np.uint8))\n",
    "        frame_count+=1\n",
    "    input_img = np.array(frames)\n",
    "    ipt=np.rollaxis(np.rollaxis(input_img,2,0),2,0)\n",
    "    ipt=np.rollaxis(ipt,2,0)\n",
    "    X_tr.append(ipt)\n",
    "    label.append(labels_dict[vid_ID])\n",
    "\n",
    "print (ipt.shape)\n",
    "num_samples = len(X_tr) \n",
    "print (num_samples)\n",
    "X_tr_array = np.array(X_tr)   # convert the frames read into array\n",
    "\n",
    "train_data = [X_tr_array,label]\n",
    "(X_train, y_train) = (train_data[0],train_data[1])\n",
    "train_set = np.zeros((num_samples, nb_frames, img_cols,img_rows,2))\n",
    "for h in range(num_samples):\n",
    "    train_set[h][:][:][:][:]=X_train[h,:,:,:]\n",
    "Y_train = np_utils.to_categorical(y_train, nb_classes)"
   ]
  },
  {
   "cell_type": "code",
   "execution_count": 19,
   "metadata": {
    "scrolled": false
   },
   "outputs": [
    {
     "name": "stdout",
     "output_type": "stream",
     "text": [
      "[5 3 3 0 5 0 3 5 1 3 0 0 4 2 0 2 4 0 0 2]\n"
     ]
    }
   ],
   "source": [
    "test_pred =model1.predict(train_set[50:70])\n",
    "result = np.argmax(test_pred, axis =1)\n",
    "print(result)"
   ]
  },
  {
   "cell_type": "code",
   "execution_count": 20,
   "metadata": {
    "scrolled": false
   },
   "outputs": [
    {
     "name": "stdout",
     "output_type": "stream",
     "text": [
      "[[263   0   1   3   1   0]\n",
      " [  2  62 152  10   0   6]\n",
      " [  7  11 234   2   0   7]\n",
      " [ 32   0  14 187   3  20]\n",
      " [  3   0   3  35 178  26]\n",
      " [  2   0  11   7   3 215]]\n"
     ]
    }
   ],
   "source": [
    "img_array = train_set[50]\n",
    "from sklearn.metrics import confusion_matrix\n",
    "met = confusion_matrix(np.argmax(Y_train,axis =1), np.argmax(model1.predict(train_set),axis =1))\n",
    "print(met)"
   ]
  },
  {
   "cell_type": "code",
   "execution_count": 25,
   "metadata": {
    "scrolled": false
   },
   "outputs": [],
   "source": [
    "import itertools\n",
    "def confusion_matrix_plot(cm, classes, \n",
    "                          title='Normalized Confusion Matrix', \n",
    "                          normalize=True, \n",
    "                          cmap=plt.cm.Blues):\n",
    "    \"\"\"\n",
    "    This function prints and plots the confusion matrix.\n",
    "    Normalization can be applied by setting `normalize=True`.\n",
    "    \"\"\"\n",
    "    if normalize:\n",
    "        cm = cm.astype('float') / cm.sum(axis=1)[:, np.newaxis]\n",
    "        cm = np.around(cm, decimals=2)\n",
    "        cm[np.isnan(cm)] = 0.0\n",
    "    plt.subplots(1, 1, figsize=(8, 8))\n",
    "    plt.imshow(cm, interpolation='nearest', cmap=cmap)\n",
    "    plt.title(title)\n",
    "    #plt.colorbar()\n",
    "    tick_marks = np.arange(len(classes))\n",
    "    plt.xticks(tick_marks, classes, rotation=45)\n",
    "    plt.yticks(tick_marks, classes)\n",
    "\n",
    "    fmt = '.2f'\n",
    "    thresh = cm.max() / 2.\n",
    "    for i, j in itertools.product(range(cm.shape[0]), range(cm.shape[1])):\n",
    "        plt.text(j, i, format(cm[i, j], fmt),\n",
    "                 horizontalalignment=\"center\",\n",
    "                 color=\"white\" if cm[i, j] > thresh else \"black\")\n",
    "\n",
    "    plt.tight_layout()\n",
    "    plt.ylabel('True label')\n",
    "    plt.xlabel('Predicted label')"
   ]
  },
  {
   "cell_type": "code",
   "execution_count": 26,
   "metadata": {
    "scrolled": false
   },
   "outputs": [
    {
     "data": {
      "image/png": "[encoded data removed]",
      "text/plain": [
       "<Figure size 576x576 with 1 Axes>"
      ]
     },
     "metadata": {
      "needs_background": "light"
     },
     "output_type": "display_data"
    }
   ],
   "source": [
    "confusion_matrix_plot(met, classes=labels[labels[\"Class\"].isin([\"No gesture\",\"Swiping Left\",\"Swiping Right\",\"Stop Sign\",\"Rolling Hand Forward\",\"Rolling Hand Backward\"])].sort_values(by=['Label'])['Class'].tolist())"
   ]
  },
  {
   "cell_type": "code",
   "execution_count": 23,
   "metadata": {
    "scrolled": false
   },
   "outputs": [
    {
     "name": "stdout",
     "output_type": "stream",
     "text": [
      "1500/1500 [==============================] - ETA: 3: - ETA: 2: - ETA: 1: - ETA: 1: - ETA: 1: - ETA: 1: - ETA: 1: - ETA: 1: - ETA: 1: - ETA: 1: - ETA: 1: - ETA: 59s - ETA: 56 - ETA: 54 - ETA: 52 - ETA: 51 - ETA: 49 - ETA: 48 - ETA: 46 - ETA: 43 - ETA: 41 - ETA: 39 - ETA: 38 - ETA: 36 - ETA: 34 - ETA: 33 - ETA: 31 - ETA: 30 - ETA: 28 - ETA: 27 - ETA: 25 - ETA: 23 - ETA: 22 - ETA: 20 - ETA: 19 - ETA: 17 - ETA: 15 - ETA: 14 - ETA: 12 - ETA: 11 - ETA: 9 - ETA:  - ETA:  - ETA:  - ETA:  - ETA:  - 74s 50ms/step\n"
     ]
    },
    {
     "data": {
      "text/plain": [
       "[1.8065387131373087, 0.7593333333333333]"
      ]
     },
     "execution_count": 23,
     "metadata": {},
     "output_type": "execute_result"
    }
   ],
   "source": [
    "model1.evaluate(train_set,Y_train)"
   ]
  },
  {
   "cell_type": "code",
   "execution_count": 24,
   "metadata": {
    "scrolled": false
   },
   "outputs": [
    {
     "name": "stdout",
     "output_type": "stream",
     "text": [
      "1500/1500 [==============================] - ETA: 1: - ETA: 1: - ETA: 1: - ETA: 1: - ETA: 1: - ETA: 1: - ETA: 1: - ETA: 1: - ETA: 1: - ETA: 1: - ETA: 1: - ETA: 58s - ETA: 56 - ETA: 54 - ETA: 52 - ETA: 50 - ETA: 48 - ETA: 46 - ETA: 44 - ETA: 43 - ETA: 41 - ETA: 41 - ETA: 39 - ETA: 39 - ETA: 37 - ETA: 37 - ETA: 35 - ETA: 34 - ETA: 32 - ETA: 30 - ETA: 28 - ETA: 27 - ETA: 25 - ETA: 24 - ETA: 23 - ETA: 21 - ETA: 19 - ETA: 17 - ETA: 16 - ETA: 14 - ETA: 12 - ETA: 10 - ETA: 8 - ETA:  - ETA:  - ETA:  - 98s 65ms/step\n"
     ]
    },
    {
     "data": {
      "text/plain": [
       "[1.458736847559611, 0.7426666666666667]"
      ]
     },
     "execution_count": 24,
     "metadata": {},
     "output_type": "execute_result"
    }
   ],
   "source": [
    "model.evaluate(train_set,Y_train)"
   ]
  },
  {
   "cell_type": "code",
   "execution_count": null,
   "metadata": {},
   "outputs": [],
   "source": []
  }
 ],
 "metadata": {
  "kernelspec": {
   "display_name": "Python 3",
   "language": "python",
   "name": "python3"
  },
  "language_info": {
   "codemirror_mode": {
    "name": "ipython",
    "version": 3
   },
   "file_extension": ".py",
   "mimetype": "text/x-python",
   "name": "python",
   "nbconvert_exporter": "python",
   "pygments_lexer": "ipython3",
   "version": "3.6.8"
  }
 },
 "nbformat": 4,
 "nbformat_minor": 2
}
