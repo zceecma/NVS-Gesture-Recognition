{
 "cells": [
  {
   "cell_type": "code",
   "execution_count": 1,
   "metadata": {},
   "outputs": [
    {
     "name": "stderr",
     "output_type": "stream",
     "text": [
      "Using TensorFlow backend.\n"
     ]
    }
   ],
   "source": [
    "import pandas as pd\n",
    "import numpy as np    # for mathematical operations\n",
    "from skimage.transform import resize   # for resizing imagesfrom keras import layers\n",
    "from keras.layers import Input, Dense, Activation, ZeroPadding2D, BatchNormalization, Flatten, Conv2D\n",
    "from keras.layers import AveragePooling2D, MaxPooling2D, Dropout, GlobalMaxPooling2D, GlobalAveragePooling2D\n",
    "from keras.models import Model\n",
    "from keras.preprocessing import image\n",
    "from keras.utils import layer_utils\n",
    "from keras.utils.data_utils import get_file\n",
    "from keras.applications.imagenet_utils import preprocess_input\n",
    "import pydot\n",
    "from IPython.display import SVG\n",
    "from keras.utils.vis_utils import model_to_dot\n",
    "from keras.utils import plot_model\n",
    "from sklearn import metrics\n",
    "from keras.utils import to_categorical\n",
    "from sklearn.preprocessing import LabelEncoder\n",
    "import cv2\n",
    "from keras.preprocessing import image as image_utils\n",
    "\n",
    "import keras.backend as K\n",
    "K.set_image_data_format('channels_last')\n",
    "import matplotlib.pyplot as plt\n",
    "from matplotlib.pyplot import imshow\n",
    "\n",
    "%matplotlib inline\n",
    "\n",
    "import tensorflow as tf  \n",
    "from keras.backend.tensorflow_backend import set_session  \n",
    "config = tf.ConfigProto()  \n",
    "config.gpu_options.allow_growth = True  # dynamically grow the memory used on the GPU  \n",
    "config.log_device_placement = True  # to log device placement (on which device the operation ran)  \n",
    "                                    # (nothing gets printed in Jupyter, only if you run it standalone)\n",
    "sess = tf.Session(config=config)  \n",
    "set_session(sess)  # set this TensorFlow session as the default session for Keras  "
   ]
  },
  {
   "cell_type": "code",
   "execution_count": 2,
   "metadata": {},
   "outputs": [
    {
     "ename": "FileNotFoundError",
     "evalue": "File b'jester-v1-labels.csv' does not exist",
     "output_type": "error",
     "traceback": [
      "\u001b[1;31m---------------------------------------------------------------------------\u001b[0m",
      "\u001b[1;31mFileNotFoundError\u001b[0m                         Traceback (most recent call last)",
      "\u001b[1;32m<ipython-input-2-81598d5b7de2>\u001b[0m in \u001b[0;36m<module>\u001b[1;34m\u001b[0m\n\u001b[1;32m----> 1\u001b[1;33m \u001b[0mlabels\u001b[0m \u001b[1;33m=\u001b[0m \u001b[0mpd\u001b[0m\u001b[1;33m.\u001b[0m\u001b[0mread_csv\u001b[0m\u001b[1;33m(\u001b[0m\u001b[1;34m'jester-v1-labels.csv'\u001b[0m\u001b[1;33m,\u001b[0m\u001b[0msep\u001b[0m\u001b[1;33m=\u001b[0m\u001b[1;34m';'\u001b[0m\u001b[1;33m,\u001b[0m\u001b[0mheader\u001b[0m\u001b[1;33m=\u001b[0m\u001b[1;32mNone\u001b[0m\u001b[1;33m,\u001b[0m\u001b[0mnames\u001b[0m\u001b[1;33m=\u001b[0m\u001b[1;33m[\u001b[0m\u001b[1;34m'Class'\u001b[0m\u001b[1;33m]\u001b[0m\u001b[1;33m)\u001b[0m     \u001b[1;31m# reading the csv file\u001b[0m\u001b[1;33m\u001b[0m\u001b[1;33m\u001b[0m\u001b[0m\n\u001b[0m\u001b[0;32m      2\u001b[0m \u001b[1;31m# integer encode\u001b[0m\u001b[1;33m\u001b[0m\u001b[1;33m\u001b[0m\u001b[1;33m\u001b[0m\u001b[0m\n\u001b[0;32m      3\u001b[0m \u001b[0mlabel_encoder\u001b[0m \u001b[1;33m=\u001b[0m \u001b[0mLabelEncoder\u001b[0m\u001b[1;33m(\u001b[0m\u001b[1;33m)\u001b[0m\u001b[1;33m\u001b[0m\u001b[1;33m\u001b[0m\u001b[0m\n\u001b[0;32m      4\u001b[0m \u001b[0mlabels\u001b[0m\u001b[1;33m[\u001b[0m\u001b[1;34m'Label'\u001b[0m\u001b[1;33m]\u001b[0m \u001b[1;33m=\u001b[0m \u001b[0mlabel_encoder\u001b[0m\u001b[1;33m.\u001b[0m\u001b[0mfit_transform\u001b[0m\u001b[1;33m(\u001b[0m\u001b[0mlabels\u001b[0m\u001b[1;33m[\u001b[0m\u001b[1;34m'Class'\u001b[0m\u001b[1;33m]\u001b[0m\u001b[1;33m)\u001b[0m\u001b[1;33m\u001b[0m\u001b[1;33m\u001b[0m\u001b[0m\n\u001b[0;32m      5\u001b[0m \u001b[0mlabels\u001b[0m\u001b[1;33m\u001b[0m\u001b[1;33m\u001b[0m\u001b[0m\n",
      "\u001b[1;32mC:\\ProgramData\\Anaconda3\\lib\\site-packages\\pandas\\io\\parsers.py\u001b[0m in \u001b[0;36mparser_f\u001b[1;34m(filepath_or_buffer, sep, delimiter, header, names, index_col, usecols, squeeze, prefix, mangle_dupe_cols, dtype, engine, converters, true_values, false_values, skipinitialspace, skiprows, nrows, na_values, keep_default_na, na_filter, verbose, skip_blank_lines, parse_dates, infer_datetime_format, keep_date_col, date_parser, dayfirst, iterator, chunksize, compression, thousands, decimal, lineterminator, quotechar, quoting, escapechar, comment, encoding, dialect, tupleize_cols, error_bad_lines, warn_bad_lines, skipfooter, doublequote, delim_whitespace, low_memory, memory_map, float_precision)\u001b[0m\n\u001b[0;32m    676\u001b[0m                     skip_blank_lines=skip_blank_lines)\n\u001b[0;32m    677\u001b[0m \u001b[1;33m\u001b[0m\u001b[0m\n\u001b[1;32m--> 678\u001b[1;33m         \u001b[1;32mreturn\u001b[0m \u001b[0m_read\u001b[0m\u001b[1;33m(\u001b[0m\u001b[0mfilepath_or_buffer\u001b[0m\u001b[1;33m,\u001b[0m \u001b[0mkwds\u001b[0m\u001b[1;33m)\u001b[0m\u001b[1;33m\u001b[0m\u001b[1;33m\u001b[0m\u001b[0m\n\u001b[0m\u001b[0;32m    679\u001b[0m \u001b[1;33m\u001b[0m\u001b[0m\n\u001b[0;32m    680\u001b[0m     \u001b[0mparser_f\u001b[0m\u001b[1;33m.\u001b[0m\u001b[0m__name__\u001b[0m \u001b[1;33m=\u001b[0m \u001b[0mname\u001b[0m\u001b[1;33m\u001b[0m\u001b[1;33m\u001b[0m\u001b[0m\n",
      "\u001b[1;32mC:\\ProgramData\\Anaconda3\\lib\\site-packages\\pandas\\io\\parsers.py\u001b[0m in \u001b[0;36m_read\u001b[1;34m(filepath_or_buffer, kwds)\u001b[0m\n\u001b[0;32m    438\u001b[0m \u001b[1;33m\u001b[0m\u001b[0m\n\u001b[0;32m    439\u001b[0m     \u001b[1;31m# Create the parser.\u001b[0m\u001b[1;33m\u001b[0m\u001b[1;33m\u001b[0m\u001b[1;33m\u001b[0m\u001b[0m\n\u001b[1;32m--> 440\u001b[1;33m     \u001b[0mparser\u001b[0m \u001b[1;33m=\u001b[0m \u001b[0mTextFileReader\u001b[0m\u001b[1;33m(\u001b[0m\u001b[0mfilepath_or_buffer\u001b[0m\u001b[1;33m,\u001b[0m \u001b[1;33m**\u001b[0m\u001b[0mkwds\u001b[0m\u001b[1;33m)\u001b[0m\u001b[1;33m\u001b[0m\u001b[1;33m\u001b[0m\u001b[0m\n\u001b[0m\u001b[0;32m    441\u001b[0m \u001b[1;33m\u001b[0m\u001b[0m\n\u001b[0;32m    442\u001b[0m     \u001b[1;32mif\u001b[0m \u001b[0mchunksize\u001b[0m \u001b[1;32mor\u001b[0m \u001b[0miterator\u001b[0m\u001b[1;33m:\u001b[0m\u001b[1;33m\u001b[0m\u001b[1;33m\u001b[0m\u001b[0m\n",
      "\u001b[1;32mC:\\ProgramData\\Anaconda3\\lib\\site-packages\\pandas\\io\\parsers.py\u001b[0m in \u001b[0;36m__init__\u001b[1;34m(self, f, engine, **kwds)\u001b[0m\n\u001b[0;32m    785\u001b[0m             \u001b[0mself\u001b[0m\u001b[1;33m.\u001b[0m\u001b[0moptions\u001b[0m\u001b[1;33m[\u001b[0m\u001b[1;34m'has_index_names'\u001b[0m\u001b[1;33m]\u001b[0m \u001b[1;33m=\u001b[0m \u001b[0mkwds\u001b[0m\u001b[1;33m[\u001b[0m\u001b[1;34m'has_index_names'\u001b[0m\u001b[1;33m]\u001b[0m\u001b[1;33m\u001b[0m\u001b[1;33m\u001b[0m\u001b[0m\n\u001b[0;32m    786\u001b[0m \u001b[1;33m\u001b[0m\u001b[0m\n\u001b[1;32m--> 787\u001b[1;33m         \u001b[0mself\u001b[0m\u001b[1;33m.\u001b[0m\u001b[0m_make_engine\u001b[0m\u001b[1;33m(\u001b[0m\u001b[0mself\u001b[0m\u001b[1;33m.\u001b[0m\u001b[0mengine\u001b[0m\u001b[1;33m)\u001b[0m\u001b[1;33m\u001b[0m\u001b[1;33m\u001b[0m\u001b[0m\n\u001b[0m\u001b[0;32m    788\u001b[0m \u001b[1;33m\u001b[0m\u001b[0m\n\u001b[0;32m    789\u001b[0m     \u001b[1;32mdef\u001b[0m \u001b[0mclose\u001b[0m\u001b[1;33m(\u001b[0m\u001b[0mself\u001b[0m\u001b[1;33m)\u001b[0m\u001b[1;33m:\u001b[0m\u001b[1;33m\u001b[0m\u001b[1;33m\u001b[0m\u001b[0m\n",
      "\u001b[1;32mC:\\ProgramData\\Anaconda3\\lib\\site-packages\\pandas\\io\\parsers.py\u001b[0m in \u001b[0;36m_make_engine\u001b[1;34m(self, engine)\u001b[0m\n\u001b[0;32m   1012\u001b[0m     \u001b[1;32mdef\u001b[0m \u001b[0m_make_engine\u001b[0m\u001b[1;33m(\u001b[0m\u001b[0mself\u001b[0m\u001b[1;33m,\u001b[0m \u001b[0mengine\u001b[0m\u001b[1;33m=\u001b[0m\u001b[1;34m'c'\u001b[0m\u001b[1;33m)\u001b[0m\u001b[1;33m:\u001b[0m\u001b[1;33m\u001b[0m\u001b[1;33m\u001b[0m\u001b[0m\n\u001b[0;32m   1013\u001b[0m         \u001b[1;32mif\u001b[0m \u001b[0mengine\u001b[0m \u001b[1;33m==\u001b[0m \u001b[1;34m'c'\u001b[0m\u001b[1;33m:\u001b[0m\u001b[1;33m\u001b[0m\u001b[1;33m\u001b[0m\u001b[0m\n\u001b[1;32m-> 1014\u001b[1;33m             \u001b[0mself\u001b[0m\u001b[1;33m.\u001b[0m\u001b[0m_engine\u001b[0m \u001b[1;33m=\u001b[0m \u001b[0mCParserWrapper\u001b[0m\u001b[1;33m(\u001b[0m\u001b[0mself\u001b[0m\u001b[1;33m.\u001b[0m\u001b[0mf\u001b[0m\u001b[1;33m,\u001b[0m \u001b[1;33m**\u001b[0m\u001b[0mself\u001b[0m\u001b[1;33m.\u001b[0m\u001b[0moptions\u001b[0m\u001b[1;33m)\u001b[0m\u001b[1;33m\u001b[0m\u001b[1;33m\u001b[0m\u001b[0m\n\u001b[0m\u001b[0;32m   1015\u001b[0m         \u001b[1;32melse\u001b[0m\u001b[1;33m:\u001b[0m\u001b[1;33m\u001b[0m\u001b[1;33m\u001b[0m\u001b[0m\n\u001b[0;32m   1016\u001b[0m             \u001b[1;32mif\u001b[0m \u001b[0mengine\u001b[0m \u001b[1;33m==\u001b[0m \u001b[1;34m'python'\u001b[0m\u001b[1;33m:\u001b[0m\u001b[1;33m\u001b[0m\u001b[1;33m\u001b[0m\u001b[0m\n",
      "\u001b[1;32mC:\\ProgramData\\Anaconda3\\lib\\site-packages\\pandas\\io\\parsers.py\u001b[0m in \u001b[0;36m__init__\u001b[1;34m(self, src, **kwds)\u001b[0m\n\u001b[0;32m   1706\u001b[0m         \u001b[0mkwds\u001b[0m\u001b[1;33m[\u001b[0m\u001b[1;34m'usecols'\u001b[0m\u001b[1;33m]\u001b[0m \u001b[1;33m=\u001b[0m \u001b[0mself\u001b[0m\u001b[1;33m.\u001b[0m\u001b[0musecols\u001b[0m\u001b[1;33m\u001b[0m\u001b[1;33m\u001b[0m\u001b[0m\n\u001b[0;32m   1707\u001b[0m \u001b[1;33m\u001b[0m\u001b[0m\n\u001b[1;32m-> 1708\u001b[1;33m         \u001b[0mself\u001b[0m\u001b[1;33m.\u001b[0m\u001b[0m_reader\u001b[0m \u001b[1;33m=\u001b[0m \u001b[0mparsers\u001b[0m\u001b[1;33m.\u001b[0m\u001b[0mTextReader\u001b[0m\u001b[1;33m(\u001b[0m\u001b[0msrc\u001b[0m\u001b[1;33m,\u001b[0m \u001b[1;33m**\u001b[0m\u001b[0mkwds\u001b[0m\u001b[1;33m)\u001b[0m\u001b[1;33m\u001b[0m\u001b[1;33m\u001b[0m\u001b[0m\n\u001b[0m\u001b[0;32m   1709\u001b[0m \u001b[1;33m\u001b[0m\u001b[0m\n\u001b[0;32m   1710\u001b[0m         \u001b[0mpassed_names\u001b[0m \u001b[1;33m=\u001b[0m \u001b[0mself\u001b[0m\u001b[1;33m.\u001b[0m\u001b[0mnames\u001b[0m \u001b[1;32mis\u001b[0m \u001b[1;32mNone\u001b[0m\u001b[1;33m\u001b[0m\u001b[1;33m\u001b[0m\u001b[0m\n",
      "\u001b[1;32mpandas\\_libs\\parsers.pyx\u001b[0m in \u001b[0;36mpandas._libs.parsers.TextReader.__cinit__\u001b[1;34m()\u001b[0m\n",
      "\u001b[1;32mpandas\\_libs\\parsers.pyx\u001b[0m in \u001b[0;36mpandas._libs.parsers.TextReader._setup_parser_source\u001b[1;34m()\u001b[0m\n",
      "\u001b[1;31mFileNotFoundError\u001b[0m: File b'jester-v1-labels.csv' does not exist"
     ]
    }
   ],
   "source": [
    "labels = pd.read_csv('jester-v1-labels.csv',sep=';',header=None,names=['Class'])     # reading the csv file\n",
    "# integer encode\n",
    "label_encoder = LabelEncoder()\n",
    "labels['Label'] = label_encoder.fit_transform(labels['Class'])\n",
    "labels"
   ]
  },
  {
   "cell_type": "code",
   "execution_count": null,
   "metadata": {},
   "outputs": [],
   "source": [
    "train = pd.read_csv('jester-v1-train.csv',sep=';',header=None,names=['Video','Class'])     # reading the csv file\n",
    "train['Label'] = label_encoder.fit_transform(train['Class'])\n",
    "train.head()      # printing first five rows of the file"
   ]
  },
  {
   "cell_type": "code",
   "execution_count": null,
   "metadata": {},
   "outputs": [],
   "source": [
    "validation = pd.read_csv('jester-v1-validation.csv',sep=';',header=None,names=['Video','Class'])     # reading the csv file\n",
    "validation['Label'] = label_encoder.fit_transform(validation['Class'])\n",
    "validation.head()      # printing first five rows of the file"
   ]
  },
  {
   "cell_type": "code",
   "execution_count": null,
   "metadata": {},
   "outputs": [],
   "source": [
    "test = pd.read_csv('jester-v1-test.csv',sep=';',header=None,names=['Video'])     # reading the csv file\n",
    "test.head()      # printing first five rows of the file"
   ]
  },
  {
   "cell_type": "code",
   "execution_count": null,
   "metadata": {},
   "outputs": [],
   "source": [
    "def load_video(video):\n",
    "    file\n",
    "    \n",
    "    \n",
    "    \n",
    "load_video(train['Video'][1])"
   ]
  },
  {
   "cell_type": "code",
   "execution_count": null,
   "metadata": {},
   "outputs": [],
   "source": [
    "#load images into a array\n",
    "from keras.preprocessing.image import load_img, array_to_img, img_to_array\n",
    "img = load_img('generated_images512_timesampled/pos/1/0.png')\n",
    "print(type(img))\n",
    "x = img_to_array(img)\n",
    "print(type(x))\n",
    "print(x.shape)\n",
    "x = x.reshape((1,) + x.shape)\n",
    "print(type(x))\n",
    "print(x.shape)\n",
    "img = load_img('generated_images512_timesampled/pos/1/1.png')\n"
   ]
  },
  {
   "cell_type": "code",
   "execution_count": 10,
   "metadata": {},
   "outputs": [
    {
     "name": "stdout",
     "output_type": "stream",
     "text": [
      "<class 'numpy.ndarray'>\n",
      "[array([[0, 0, 0, ..., 0, 0, 0],\n",
      "       [0, 0, 0, ..., 0, 0, 0],\n",
      "       [0, 0, 0, ..., 0, 0, 0],\n",
      "       ...,\n",
      "       [0, 0, 0, ..., 0, 0, 0],\n",
      "       [0, 0, 0, ..., 0, 0, 0],\n",
      "       [0, 0, 0, ..., 0, 0, 0]], dtype=uint8), array([[0, 0, 0, ..., 0, 0, 0],\n",
      "       [0, 0, 0, ..., 0, 0, 0],\n",
      "       [0, 0, 0, ..., 0, 0, 0],\n",
      "       ...,\n",
      "       [0, 0, 0, ..., 0, 0, 0],\n",
      "       [0, 0, 0, ..., 0, 0, 0],\n",
      "       [0, 0, 0, ..., 0, 0, 0]], dtype=uint8)]\n",
      "(63, 173)\n"
     ]
    },
    {
     "data": {
      "image/png": "[encoded data removed]",
      "text/plain": [
       "<Figure size 432x288 with 1 Axes>"
      ]
     },
     "metadata": {
      "needs_background": "light"
     },
     "output_type": "display_data"
    }
   ],
   "source": [
    "#load images into a array\n",
    "img = cv2.imread('generated_images512_timesampled/pos/1/0.png',0)\n",
    "print(type(img))\n",
    "X = []\n",
    "X.append(img)\n",
    "img = cv2.imread('generated_images512_timesampled/pos/1/1.png',0)\n",
    "X.append(img)\n",
    "print(X)\n",
    "plt.imshow(X.pop())\n",
    "plt.imshow(X.pop())\n",
    "print(img.shape)"
   ]
  },
  {
   "cell_type": "code",
   "execution_count": null,
   "metadata": {},
   "outputs": [],
   "source": [
    "#iterate over data cases\n",
    "for index, row in df.iterrows():\n",
    "    print(row['c1'], row['c2'])"
   ]
  },
  {
   "cell_type": "code",
   "execution_count": 29,
   "metadata": {},
   "outputs": [
    {
     "name": "stdout",
     "output_type": "stream",
     "text": [
      "b'#!AER-DAT3.1\\r\\n#Format: RAW\\r\\n#Source 1: DVS128\\r\\n#Start-Time: 2016-06-14 15:26:24 (TZ-0700)\\r\\n#!END-HEADER\\r\\n'\n",
      "[[56, 78, 80046394, 1], [63, 78, 80046412, 1], [46, 90, 80046414, 1], [69, 87, 80046427, 1], [69, 89, 80046433, 1], [62, 71, 80046452, 1], [59, 88, 80046452, 1], [59, 122, 80046453, 1], [49, 89, 80046467, 1], [60, 77, 80046527, 1], [77, 92, 80046548, 1], [9, 67, 80046548, 1], [35, 81, 80046575, 1], [61, 83, 80046592, 1], [0, 9, 80046594, 0], [61, 91, 80046598, 1], [52, 91, 80046617, 1], [93, 93, 80046619, 1], [85, 100, 80046657, 1], [91, 96, 80046789, 1], [76, 92, 80046875, 1], [52, 87, 80046923, 1], [74, 93, 80046973, 1], [57, 88, 80046992, 0], [62, 79, 80046995, 1], [78, 92, 80046998, 0], [55, 92, 80047019, 0], [46, 100, 80047026, 0], [92, 101, 80047075, 1], [59, 88, 80047091, 0], [59, 88, 80047092, 0], [52, 96, 80047120, 0], [71, 107, 80047125, 1], [73, 84, 80047129, 1], [77, 95, 80047150, 0], [56, 88, 80047200, 0], [77, 92, 80047229, 0], [56, 77, 80047259, 1], [66, 93, 80047266, 1], [92, 94, 80047286, 1], [89, 100, 80047309, 0], [60, 72, 80047311, 1], [62, 75, 80047349, 0], [64, 96, 80047354, 1], [55, 71, 80047376, 1], [57, 88, 80047380, 1], [99, 80, 80047387, 0], [56, 96, 80047399, 0], [61, 42, 80047455, 1], [55, 92, 80047472, 1], [68, 96, 80047496, 1], [91, 95, 80047500, 1], [56, 88, 80047556, 1], [77, 95, 80047568, 1], [67, 98, 80047573, 1], [91, 78, 80047575, 0], [61, 95, 80047583, 1], [83, 52, 80047591, 1], [54, 104, 80047592, 1], [65, 95, 80047592, 1], [59, 88, 80047596, 1], [58, 76, 80047638, 0], [60, 78, 80047682, 1], [77, 92, 80047689, 1], [76, 90, 80047699, 1], [55, 84, 80047745, 1], [51, 88, 80047760, 1], [50, 82, 80047786, 0], [61, 71, 80047831, 1], [57, 88, 80047838, 0], [64, 73, 80047851, 0], [64, 73, 80047852, 0], [64, 73, 80047853, 0], [64, 73, 80047853, 0], [64, 73, 80047854, 0], [61, 82, 80047863, 0], [57, 74, 80047890, 1], [57, 86, 80047893, 0], [55, 83, 80047912, 1], [49, 82, 80047919, 0], [59, 83, 80047932, 0], [89, 100, 80047940, 1], [54, 75, 80047958, 0], [56, 92, 80047989, 0], [63, 81, 80048028, 0], [50, 91, 80048033, 0], [77, 95, 80048179, 0], [77, 95, 80048179, 0], [58, 95, 80048187, 1], [57, 88, 80048192, 1], [62, 93, 80048207, 1], [63, 75, 80048219, 0], [49, 82, 80048267, 1], [55, 92, 80048277, 0], [55, 92, 80048278, 0], [55, 92, 80048278, 0], [90, 99, 80048304, 1], [77, 92, 80048457, 0], [56, 96, 80048467, 1], [56, 92, 80048473, 1]]\n"
     ]
    }
   ],
   "source": [
    "import struct\n",
    "file = open(\"E:/Jupyter/Project/DvsGesture/user01_fluorescent.aedat\",'rb')\n",
    "print (file.read(105))\n",
    "events = []\n",
    "header=file.read(28)\n",
    "while len(header)>0:\n",
    "    (eventsource,eventsize,eventoffset,overflow,capacity,number,valid)=struct.unpack(\"iiiiiii\",header)\n",
    "    for n in range(number):\n",
    "        (data,time)=struct.unpack(\"ii\",file.read(8))\n",
    "        x=(data>>17)&0x00001FFF\n",
    "        y=(data>>2)&0x00001FFF\n",
    "        p=(data>>1)&0x00000001\n",
    "        events.append([x,y,time,p])\n",
    "    header=file.read(28)\n",
    "print (events[0:100])"
   ]
  },
  {
   "cell_type": "code",
   "execution_count": 12,
   "metadata": {},
   "outputs": [
    {
     "name": "stdout",
     "output_type": "stream",
     "text": [
      "1 80048239 85092709\n",
      "2 89431170 95231007\n",
      "3 95938861 103200075\n",
      "4 114845417 123499505\n",
      "5 124344363 131742581\n",
      "6 133660637 141880879\n",
      "7 142360393 149138239\n",
      "8 150717639 157362334\n",
      "8 157773346 164029864\n",
      "9 165057394 171518239\n",
      "10 172843790 179442817\n",
      "11 180675853 187389051\n"
     ]
    }
   ],
   "source": [
    "import pandas as pd\n",
    "asdf = pd.read_csv(\"E:/Jupyter/Project/DvsGesture/\"user01_fluorescent\"_labels.csv\")     # reading the csv file\n",
    "#asdf.head()      # printing first five rows of the file\n",
    "for __, row in asdf.iterrows():\n",
    "    print(row['class'],row['startTime_usec'],row['endTime_usec'])"
   ]
  },
  {
   "cell_type": "code",
   "execution_count": 1,
   "metadata": {},
   "outputs": [
    {
     "ename": "FileNotFoundError",
     "evalue": "[Errno 2] No such file or directory: 'E:/Jupyter/Project/DvsGesture/trials_to_test.txt'",
     "output_type": "error",
     "traceback": [
      "\u001b[1;31m---------------------------------------------------------------------------\u001b[0m",
      "\u001b[1;31mFileNotFoundError\u001b[0m                         Traceback (most recent call last)",
      "\u001b[1;32m<ipython-input-1-db1a80b8efe0>\u001b[0m in \u001b[0;36m<module>\u001b[1;34m\u001b[0m\n\u001b[0;32m      3\u001b[0m \u001b[0mvid_num\u001b[0m\u001b[1;33m=\u001b[0m\u001b[1;36m1\u001b[0m\u001b[1;33m\u001b[0m\u001b[1;33m\u001b[0m\u001b[0m\n\u001b[0;32m      4\u001b[0m \u001b[0mtrain_dict\u001b[0m\u001b[1;33m=\u001b[0m\u001b[1;33m{\u001b[0m\u001b[1;33m}\u001b[0m\u001b[1;33m\u001b[0m\u001b[1;33m\u001b[0m\u001b[0m\n\u001b[1;32m----> 5\u001b[1;33m \u001b[1;32mwith\u001b[0m \u001b[0mopen\u001b[0m\u001b[1;33m(\u001b[0m\u001b[1;34m\"E:/Jupyter/Project/DvsGesture/trials_to_test.txt\"\u001b[0m\u001b[1;33m)\u001b[0m \u001b[1;32mas\u001b[0m \u001b[0mfile\u001b[0m\u001b[1;33m:\u001b[0m\u001b[1;33m\u001b[0m\u001b[1;33m\u001b[0m\u001b[0m\n\u001b[0m\u001b[0;32m      6\u001b[0m     \u001b[1;32mfor\u001b[0m \u001b[0mline\u001b[0m \u001b[1;32min\u001b[0m \u001b[0mfile\u001b[0m\u001b[1;33m:\u001b[0m\u001b[1;33m\u001b[0m\u001b[1;33m\u001b[0m\u001b[0m\n\u001b[0;32m      7\u001b[0m         \u001b[0msetting\u001b[0m \u001b[1;33m=\u001b[0m \u001b[0mline\u001b[0m\u001b[1;33m.\u001b[0m\u001b[0mreplace\u001b[0m\u001b[1;33m(\u001b[0m\u001b[1;34m'.aedat\\n'\u001b[0m\u001b[1;33m,\u001b[0m\u001b[1;34m\"\"\u001b[0m\u001b[1;33m)\u001b[0m\u001b[1;33m\u001b[0m\u001b[1;33m\u001b[0m\u001b[0m\n",
      "\u001b[1;31mFileNotFoundError\u001b[0m: [Errno 2] No such file or directory: 'E:/Jupyter/Project/DvsGesture/trials_to_test.txt'"
     ]
    }
   ],
   "source": [
    "import pandas as pd\n",
    "import struct\n",
    "vid_num=1\n",
    "train_dict={}\n",
    "with open(\"E:/Jupyter/Project/DvsGesture/trials_to_test.txt\") as file:\n",
    "    for line in file:\n",
    "        setting = line.replace('.aedat\\n',\"\")\n",
    "        #print(setting)\n",
    "        asdf = pd.read_csv(\"E:/Jupyter/Project/DvsGesture/\"+setting+\"_labels.csv\")     # reading the csv file\n",
    "        #asdf.head()      # printing first five rows of the file\n",
    "        \n",
    "        file = open(\"E:/Jupyter/Project/DvsGesture/\"+setting+\".aedat\",'rb')\n",
    "        file.read(105)\n",
    "        all_events = []\n",
    "        header=file.read(28)\n",
    "        while len(header)>0:\n",
    "            (eventsource,eventsize,eventoffset,overflow,capacity,number,valid)=struct.unpack(\"iiiiiii\",header)\n",
    "            for n in range(number):\n",
    "                (data,t)=struct.unpack(\"ii\",file.read(8))\n",
    "                x=(data>>17)&0x00001FFF\n",
    "                y=(data>>2)&0x00001FFF\n",
    "                p=(data>>1)&0x00000001\n",
    "                all_events.append([x,y,t,p])\n",
    "            header=file.read(28)\n",
    "            \n",
    "            \n",
    "        for __, row in asdf.iterrows():\n",
    "            #print(row['class'],row['startTime_usec'],row['endTime_usec'])\n",
    "            \n",
    "            \n",
    "            events=[]\n",
    "            for event in all_events:\n",
    "                if event[2]<row['endTime_usec'] and event[2]>row['startTime_usec']:\n",
    "                    events.append(event)\n",
    "            \n",
    "            folder = \"D:/Project/eventbins/dvs_generated\"\n",
    "            if not os.path.exists(folder + \"/pos/\" + str(vid_num)):\n",
    "                os.makedirs(folder + \"/pos/\" + str(vid_num))\n",
    "            if not os.path.exists(folder + \"/neg/\" + str(vid_num)):\n",
    "                os.makedirs(folder + \"/neg/\" + str(vid_num))\n",
    "            frame_num = 0\n",
    "            generate_interval =  len(events)//64 +1\n",
    "            if generate_interval < 256:\n",
    "                generate_interval = 256\n",
    "            for start_entry in np.arange(generate_interval, len(events), generate_interval):\n",
    "                frame_start = events[start_entry][2] #time of start entry\n",
    "                pos = Image.new(\"L\", (128, 128),color=0)      # \"1 for single bit\"\n",
    "                neg = Image.new(\"L\", (128, 128),color=0)      # \"1 for single bit\"\n",
    "                curr_entry = start_entry\n",
    "                while curr_entry>0 and events[curr_entry+1][2]>frame_start-time_interval*255:\n",
    "                    curr_entry -=1\n",
    "                while curr_entry<start_entry:\n",
    "                    if events[curr_entry][3] == 1:\n",
    "                        pos.putpixel((events[curr_entry][0],events[curr_entry][1]),255-(frame_start-events[curr_entry][2])//time_interval)\n",
    "                    else:\n",
    "                        neg.putpixel((events[curr_entry][0],events[curr_entry][1]),255-(frame_start-events[curr_entry][2])//time_interval)\n",
    "                    curr_entry += 1\n",
    "                pos = pos.transpose(Image.FLIP_TOP_BOTTOM)\n",
    "                pos.save(folder + \"/pos/\" + str(vid_num) + \"/\" + str(int(frame_num)) + \".png\", \"PNG\")\n",
    "                neg = neg.transpose(Image.FLIP_TOP_BOTTOM)\n",
    "                neg.save(folder + \"/neg/\" + str(vid_num) + \"/\" + str(int(frame_num)) + \".png\", \"PNG\")\n",
    "                frame_num += 1\n",
    "            \n",
    "            train_dict[vid_num]=row['class']\n",
    "            vid_num+=1\n",
    "            \n",
    "    train = pd.DataFrame.from_dict(train_dict,orient='index')\n",
    "    train.to_csv('E:\\Jupyter\\Project\\dvs128validation.csv',sep=';',header=None)"
   ]
  },
  {
   "cell_type": "code",
   "execution_count": null,
   "metadata": {
    "scrolled": true
   },
   "outputs": [
    {
     "name": "stdout",
     "output_type": "stream",
     "text": [
      "8.17994236946106 read event stream\n",
      "54.153526306152344 end\n"
     ]
    }
   ],
   "source": [
    "import pandas as pd\n",
    "import struct\n",
    "import os\n",
    "from PIL import Image\n",
    "import numpy as np\n",
    "import time\n",
    "train_dict={}\n",
    "time_interval = 256\n",
    "with open(\"D:/Project/eventbins/DvsGesture/trials_to_train.txt\") as file:\n",
    "    for line in file:\n",
    "        setting = line.replace('.aedat\\n',\"\")\n",
    "        #print(setting)\n",
    "        asdf = pd.read_csv(\"D:/Project/eventbins/DvsGesture/\"+setting+\"_labels.csv\")     # reading the csv file\n",
    "        #asdf.head()      # printing first five rows of the file\n",
    "        \n",
    "        file = open(\"D:/Project/eventbins/DvsGesture/\"+setting+\".aedat\",'rb')\n",
    "        file.read(105)\n",
    "        all_events = []\n",
    "        header=file.read(28)\n",
    "        strtime=time.time()\n",
    "        while len(header)>0:\n",
    "            (eventsource,eventsize,eventoffset,overflow,capacity,number,valid)=struct.unpack(\"iiiiiii\",header)\n",
    "            for n in range(number):\n",
    "                (data,t)=struct.unpack(\"ii\",file.read(8))\n",
    "                x=(data>>17)&0x00001FFF\n",
    "                y=(data>>2)&0x00001FFF\n",
    "                p=(data>>1)&0x00000001\n",
    "                all_events.append([x,y,t,p])\n",
    "            header=file.read(28)\n",
    "        print(time.time()-strtime,\"read event stream\")\n",
    "            \n",
    "        for __, row in asdf.iterrows():\n",
    "            #print(row['class'],row['startTime_usec'],row['endTime_usec'])\n",
    "            \n",
    "            \n",
    "            strtime=time.time()\n",
    "            events=[]\n",
    "            for event in all_events:\n",
    "                if event[2]<row['endTime_usec'] and event[2]>row['startTime_usec']:\n",
    "                    events.append(event)\n",
    "            \n",
    "            folder = \"D:/Project/eventbins/dvs_generated\"\n",
    "            if not os.path.exists(folder + \"/pos/\" + str(vid_num)):\n",
    "                os.makedirs(folder + \"/pos/\" + str(vid_num))\n",
    "            if not os.path.exists(folder + \"/neg/\" + str(vid_num)):\n",
    "                os.makedirs(folder + \"/neg/\" + str(vid_num))\n",
    "            frame_num = 0\n",
    "            generate_interval =  len(events)//64 +1\n",
    "            if generate_interval < 256:\n",
    "                generate_interval = 256\n",
    "            for start_entry in np.arange(generate_interval, len(events), generate_interval):\n",
    "                frame_start = events[start_entry][2] #time of start entry\n",
    "                pos = Image.new(\"L\", (128, 128),color=0)      # \"1 for single bit\"\n",
    "                neg = Image.new(\"L\", (128, 128),color=0)      # \"1 for single bit\"\n",
    "                curr_entry = start_entry\n",
    "                while curr_entry>0 and events[curr_entry+1][2]>frame_start-time_interval*255:\n",
    "                    curr_entry -=1\n",
    "                while curr_entry<start_entry:\n",
    "                    if events[curr_entry][3] == 1:\n",
    "                        pos.putpixel((events[curr_entry][0],events[curr_entry][1]),255-(frame_start-events[curr_entry][2])//time_interval)\n",
    "                    else:\n",
    "                        neg.putpixel((events[curr_entry][0],events[curr_entry][1]),255-(frame_start-events[curr_entry][2])//time_interval)\n",
    "                    curr_entry += 1\n",
    "                pos = pos.transpose(Image.FLIP_TOP_BOTTOM)\n",
    "                pos.save(folder + \"/pos/\" + str(vid_num) + \"/\" + str(int(frame_num)) + \".png\", \"PNG\")\n",
    "                neg = neg.transpose(Image.FLIP_TOP_BOTTOM)\n",
    "                neg.save(folder + \"/neg/\" + str(vid_num) + \"/\" + str(int(frame_num)) + \".png\", \"PNG\")\n",
    "                frame_num += 1\n",
    "            \n",
    "            print(time.time()-strtime,\"end\")\n",
    "            \n",
    "            train_dict[vid_num]=row['class']\n",
    "            vid_num+=1\n",
    "            \n",
    "    train = pd.DataFrame.from_dict(train_dict,orient='index')\n",
    "    train.to_csv('E:\\Jupyter\\Project\\dvs128train.csv',sep=';',header=None)"
   ]
  },
  {
   "cell_type": "code",
   "execution_count": 41,
   "metadata": {},
   "outputs": [
    {
     "name": "stdout",
     "output_type": "stream",
     "text": [
      "{1: 1, 2: 2, 3: 3, 4: 4, 5: 5, 6: 6, 7: 7, 8: 8, 9: 8, 10: 9, 11: 10, 12: 11, 13: 1, 14: 2, 15: 3, 16: 4, 17: 5, 18: 6, 19: 7, 20: 8, 21: 8, 22: 9, 23: 10, 24: 11, 25: 1, 26: 2, 27: 3, 28: 4, 29: 5, 30: 6, 31: 7, 32: 8, 33: 8, 34: 9, 35: 10, 36: 11, 37: 1, 38: 2, 39: 3, 40: 4, 41: 5, 42: 6, 43: 7, 44: 8, 45: 8, 46: 9, 47: 10, 48: 11, 49: 1, 50: 2, 51: 3, 52: 4, 53: 5, 54: 6, 55: 7, 56: 8, 57: 8, 58: 9, 59: 10, 60: 11, 61: 1, 62: 2, 63: 3, 64: 4, 65: 5, 66: 6, 67: 7, 68: 8, 69: 8, 70: 9, 71: 10, 72: 11, 73: 1, 74: 2, 75: 3, 76: 5, 77: 4, 78: 6, 79: 7, 80: 8, 81: 8, 82: 9, 83: 10, 84: 11, 85: 1, 86: 2, 87: 3, 88: 4, 89: 5, 90: 6, 91: 7, 92: 8, 93: 8, 94: 9, 95: 10, 96: 11, 97: 1, 98: 2, 99: 3, 100: 4, 101: 5, 102: 6, 103: 7, 104: 8, 105: 8, 106: 9, 107: 10, 108: 11, 109: 1, 110: 2, 111: 3, 112: 4, 113: 5, 114: 6, 115: 7, 116: 8, 117: 8, 118: 9, 119: 10, 120: 11, 121: 1, 122: 2, 123: 3, 124: 4, 125: 5, 126: 6, 127: 7, 128: 8, 129: 8, 130: 9, 131: 10, 132: 11, 133: 1, 134: 2, 135: 3, 136: 4, 137: 5, 138: 6, 139: 7, 140: 8, 141: 8, 142: 9, 143: 10, 144: 11, 145: 1, 146: 2, 147: 3, 148: 4, 149: 5, 150: 6, 151: 7, 152: 8, 153: 8, 154: 9, 155: 10, 156: 11, 157: 1, 158: 2, 159: 3, 160: 4, 161: 5, 162: 6, 163: 7, 164: 8, 165: 8, 166: 9, 167: 10, 168: 11, 169: 1, 170: 2, 171: 3, 172: 4, 173: 5, 174: 6, 175: 7, 176: 8, 177: 8, 178: 9, 179: 10, 180: 11, 181: 1, 182: 2, 183: 3, 184: 4, 185: 5, 186: 6, 187: 7, 188: 8, 189: 8, 190: 9, 191: 10, 192: 11, 193: 1, 194: 2, 195: 3, 196: 4, 197: 5, 198: 6, 199: 7, 200: 8, 201: 8, 202: 9, 203: 10, 204: 11, 205: 1, 206: 2, 207: 3, 208: 4, 209: 5, 210: 6, 211: 7, 212: 8, 213: 8, 214: 9, 215: 10, 216: 11, 217: 1, 218: 2, 219: 3, 220: 4, 221: 5, 222: 6, 223: 7, 224: 8, 225: 8, 226: 9, 227: 10, 228: 11, 229: 1, 230: 2, 231: 3, 232: 4, 233: 5, 234: 6, 235: 7, 236: 8, 237: 8, 238: 9, 239: 10, 240: 11, 241: 1, 242: 2, 243: 3, 244: 4, 245: 5, 246: 6, 247: 7, 248: 8, 249: 8, 250: 9, 251: 10, 252: 11, 253: 1, 254: 2, 255: 3, 256: 4, 257: 5, 258: 6, 259: 7, 260: 8, 261: 8, 262: 9, 263: 10, 264: 11, 265: 1, 266: 2, 267: 3, 268: 4, 269: 5, 270: 6, 271: 7, 272: 8, 273: 8, 274: 9, 275: 10, 276: 11, 277: 1, 278: 2, 279: 3, 280: 4, 281: 5, 282: 6, 283: 7, 284: 8, 285: 8, 286: 9, 287: 10, 288: 11}\n"
     ]
    }
   ],
   "source": [
    "import pandas as pd\n",
    "import struct\n",
    "vid_num=1\n",
    "train_dict={}\n",
    "with open(\"E:/Jupyter/Project/DvsGesture/trials_to_test.txt\") as file:\n",
    "    for line in file:\n",
    "        setting = line.replace('.aedat\\n',\"\")\n",
    "        #print(setting)\n",
    "        asdf = pd.read_csv(\"E:/Jupyter/Project/DvsGesture/\"+setting+\"_labels.csv\")     # reading the csv file\n",
    "        #asdf.head()      # printing first five rows of the fil\n",
    "            \n",
    "            \n",
    "        for __, row in asdf.iterrows():\n",
    "            #print(row['class'],row['startTime_usec'],row['endTime_usec'])\n",
    "            train_dict[vid_num]=row['class']\n",
    "            vid_num+=1\n",
    "            \n",
    "    print(train_dict)\n",
    "    train = pd.DataFrame.from_dict(train_dict,orient='index')\n",
    "    train.head()\n",
    "    train.to_csv('E:\\Jupyter\\Project\\dvs128test.csv',sep=';',header=None)"
   ]
  },
  {
   "cell_type": "code",
   "execution_count": null,
   "metadata": {},
   "outputs": [],
   "source": [
    "import pandas as pd\n",
    "import struct\n",
    "vid_num=1\n",
    "train_dict={}\n",
    "with open(\"E:/Jupyter/Project/DvsGesture/trials_to_test.txt\") as file:\n",
    "    for line in file:\n",
    "        setting = line.replace('.aedat\\n',\"\")\n",
    "        #print(setting)\n",
    "        asdf = pd.read_csv(\"E:/Jupyter/Project/DvsGesture/\"+setting+\"_labels.csv\")     # reading the csv file\n",
    "        #asdf.head()      # printing first five rows of the fil\n",
    "            \n",
    "            \n",
    "        for __, row in asdf.iterrows():\n",
    "            #print(row['class'],row['startTime_usec'],row['endTime_usec'])\n",
    "            train_dict[vid_num]=row['class']\n",
    "            vid_num+=1\n",
    "            \n",
    "    print(train_dict)\n",
    "    train = pd.DataFrame.from_dict(train_dict,orient='index')\n",
    "    train.head()\n",
    "    train.to_csv('E:\\Jupyter\\Project\\dvs128test.csv',sep=';',header=None)"
   ]
  },
  {
   "cell_type": "code",
   "execution_count": 40,
   "metadata": {},
   "outputs": [
    {
     "name": "stdout",
     "output_type": "stream",
     "text": [
      "user24_fluorescent\n",
      "\n",
      "user24_fluorescent_led\n",
      "\n",
      "user24_led\n",
      "\n",
      "user25_fluorescent\n",
      "\n",
      "user25_led\n",
      "\n",
      "user26_fluorescent\n",
      "\n",
      "user26_fluorescent_led\n",
      "\n",
      "user26_lab\n",
      "\n",
      "user26_led\n",
      "\n",
      "user26_natural\n",
      "\n",
      "user27_fluorescent\n",
      "\n",
      "user27_fluorescent_led\n",
      "\n",
      "user27_led\n",
      "\n",
      "user27_natural\n",
      "\n",
      "user28_fluorescent\n",
      "\n",
      "user28_fluorescent_led\n",
      "\n",
      "user28_lab\n",
      "\n",
      "user28_led\n",
      "\n",
      "user28_natural\n",
      "\n",
      "user29_fluorescent\n",
      "\n",
      "user29_fluorescent_led\n",
      "\n",
      "user29_lab\n",
      "\n",
      "user29_led\n",
      "\n",
      "user29_natural\n"
     ]
    }
   ],
   "source": [
    "with open(\"E:/Jupyter/Project/DvsGesture/trials_to_test.txt\") as file:\n",
    "    for line in file:\n",
    "        setting = line.replace('.aedat\\n',\"\")\n",
    "        print(setting,)"
   ]
  },
  {
   "cell_type": "code",
   "execution_count": null,
   "metadata": {},
   "outputs": [],
   "source": []
  }
 ],
 "metadata": {
  "kernelspec": {
   "display_name": "Python 3",
   "language": "python",
   "name": "python3"
  },
  "language_info": {
   "codemirror_mode": {
    "name": "ipython",
    "version": 3
   },
   "file_extension": ".py",
   "mimetype": "text/x-python",
   "name": "python",
   "nbconvert_exporter": "python",
   "pygments_lexer": "ipython3",
   "version": "3.6.8"
  }
 },
 "nbformat": 4,
 "nbformat_minor": 2
}
