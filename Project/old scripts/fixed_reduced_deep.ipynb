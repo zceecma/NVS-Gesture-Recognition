{
 "cells": [
  {
   "cell_type": "code",
   "execution_count": 2,
   "metadata": {
    "scrolled": false
   },
   "outputs": [],
   "source": [
    "from keras.preprocessing.image import ImageDataGenerator\n",
    "from keras.models import Sequential\n",
    "from keras.layers.core import Dense, Dropout, Activation, Flatten, Reshape\n",
    "from keras.layers.convolutional import Conv3D, MaxPooling3D,Conv2D,AveragePooling2D,AveragePooling3D\n",
    "from keras.layers import Dense, GlobalAveragePooling3D,GlobalAveragePooling2D\n",
    "from keras.callbacks import EarlyStopping, ModelCheckpoint, LearningRateScheduler,ReduceLROnPlateau\n",
    "from keras.optimizers import SGD, RMSprop, Adadelta\n",
    "from keras.utils import np_utils, generic_utils, Sequence\n",
    "from keras.layers.normalization import BatchNormalization\n",
    "from keras.layers.convolutional_recurrent import ConvLSTM2D\n",
    "import keras\n",
    "\n",
    "import os\n",
    "import matplotlib\n",
    "import matplotlib.pyplot as plt\n",
    "import numpy as np\n",
    "import cv2\n",
    "from sklearn.model_selection import train_test_split\n",
    "from sklearn import model_selection\n",
    "from sklearn import preprocessing"
   ]
  },
  {
   "cell_type": "code",
   "execution_count": 3,
   "metadata": {
    "scrolled": false
   },
   "outputs": [],
   "source": [
    "# image specification\n",
    "img_cols,img_rows=100,176\n",
    "nb_frames = 64    # img_depth or number of frames used for each video\n",
    "# CNN Training parameters\n",
    "nb_classes = 27\n",
    "channels = 2"
   ]
  },
  {
   "cell_type": "code",
   "execution_count": 4,
   "metadata": {
    "scrolled": false
   },
   "outputs": [
    {
     "data": {
      "text/plain": [
       "118562"
      ]
     },
     "execution_count": 4,
     "metadata": {},
     "output_type": "execute_result"
    }
   ],
   "source": [
    "import pandas as pd\n",
    "from sklearn.preprocessing import LabelEncoder\n",
    "\n",
    "# integer encode\n",
    "labels = pd.read_csv('E:\\Jupyter\\Project\\jester-v1-labels.csv',sep=';',header=None,names=['Class'])     # reading the csv file\n",
    "label_encoder = LabelEncoder()\n",
    "labels['Label'] = label_encoder.fit_transform(labels['Class'])\n",
    "\n",
    "#train\n",
    "train = pd.read_csv('E:\\Jupyter\\Project\\jester-v1-train.csv',sep=';',header=None,names=['Video','Class'])     # reading the csv file\n",
    "train['Label'] = label_encoder.fit_transform(train['Class'])\n",
    "\n",
    "#validation\n",
    "validation = pd.read_csv('E:\\Jupyter\\Project\\jester-v1-validation.csv',sep=';',header=None,names=['Video','Class'])     # reading the csv file\n",
    "validation['Label'] = label_encoder.fit_transform(validation['Class'])\n",
    "\n",
    "#test\n",
    "#test = pd.read_csv('E:\\Jupyter\\Project\\jester-v1-test.csv',sep=';',header=None,names=['Video'])     # reading the csv file\n",
    "\n",
    "#print labels\n",
    "#labels\n",
    "\"\"\"\n",
    "partition_dict = {\n",
    "    \"train\": train[\"Video\"].tolist(),\n",
    "    \"validation\": validation[\"Video\"].tolist()\n",
    "}\"\"\"\n",
    "temp = pd.concat([train, validation])\n",
    "temp = temp.set_index(\"Video\")\n",
    "#temp = train.set_index(\"Video\")\n",
    "temp.transpose()\n",
    "labels_dict = temp[\"Label\"].to_dict()\n",
    "len(train)"
   ]
  },
  {
   "cell_type": "code",
   "execution_count": 5,
   "metadata": {
    "scrolled": false
   },
   "outputs": [
    {
     "data": {
      "text/plain": [
       "25025"
      ]
     },
     "execution_count": 5,
     "metadata": {},
     "output_type": "execute_result"
    }
   ],
   "source": [
    "#train\n",
    "train = train[train[\"Class\"].isin([\"No gesture\",\"Swiping Left\",\"Swiping Right\",\"Stop Sign\",\"Rolling Hand Forward\",\"Rolling Hand Backward\"])]\n",
    "train['Label'] = label_encoder.fit_transform(train['Class'])\n",
    "\n",
    "#validation\n",
    "validation = validation[validation[\"Class\"].isin([\"No gesture\",\"Swiping Left\",\"Swiping Right\",\"Stop Sign\",\"Rolling Hand Forward\",\"Rolling Hand Backward\"])]\n",
    "validation['Label'] = label_encoder.fit_transform(validation['Class'])\n",
    "\n",
    "#test\n",
    "#test = pd.read_csv('E:\\Jupyter\\Project\\jester-v1-test.csv',sep=';',header=None,names=['Video'])     # reading the csv file\n",
    "\n",
    "#print labels\n",
    "#labels\n",
    "\"\"\"\n",
    "partition_dict = {\n",
    "    \"train\": train[\"Video\"].tolist(),\n",
    "    \"validation\": validation[\"Video\"].tolist()\n",
    "}\"\"\"\n",
    "temp = pd.concat([train, validation])\n",
    "temp = temp.set_index(\"Video\")\n",
    "#temp = train.set_index(\"Video\")\n",
    "temp.transpose()\n",
    "labels_dict = {}\n",
    "labels_dict = temp[\"Label\"].to_dict()\n",
    "len(train)"
   ]
  },
  {
   "cell_type": "code",
   "execution_count": 5,
   "metadata": {
    "scrolled": false
   },
   "outputs": [],
   "source": [
    "import random\n",
    "def data_gen(train_list, batch_size=64):\n",
    "    while True:\n",
    "        X_tr=[]\n",
    "        label=[]\n",
    "        for vid_ID in random.sample(train_list,batch_size):\n",
    "            frames = []\n",
    "            frame_count=0\n",
    "            pos_dir = os.path.join(\"E:/Jupyter/Project/generated_images_timeSampled/pos\",str(vid_ID))\n",
    "            neg_dir = os.path.join(\"E:/Jupyter/Project/generated_images_timeSampled/neg\",str(vid_ID))\n",
    "            for img_ID in sorted(os.listdir(pos_dir)):\n",
    "                if frame_count < nb_frames:\n",
    "                    pos = os.path.join(pos_dir,img_ID)\n",
    "                    neg = os.path.join(neg_dir,img_ID)\n",
    "                    p_img = cv2.imread(pos,0)\n",
    "                    p_img = cv2.resize(p_img,(img_rows,img_cols),interpolation=cv2.INTER_AREA)\n",
    "                    n_img = cv2.imread(neg,0)\n",
    "                    n_img = cv2.resize(n_img,(img_rows,img_cols),interpolation=cv2.INTER_AREA)\n",
    "                    frame = cv2.merge((p_img,n_img))\n",
    "                    frames.append(frame)\n",
    "                    frame_count+=1\n",
    "                else:\n",
    "                    break\n",
    "            while frame_count < nb_frames:\n",
    "                frames.append(np.zeros((img_cols,img_rows,channels), np.uint8))\n",
    "                frame_count+=1\n",
    "            input_img = np.array(frames)\n",
    "            ipt=np.rollaxis(np.rollaxis(input_img,2,0),2,0)\n",
    "            ipt=np.rollaxis(ipt,2,0)\n",
    "            X_tr.append(ipt)\n",
    "            label.append(labels_dict[vid_ID])\n",
    "\n",
    "        X_tr_array = np.array(X_tr)   # convert the frames read into array\n",
    "\n",
    "        Y_train = np_utils.to_categorical(label, nb_classes)\n",
    "\n",
    "        yield X_tr_array,Y_train"
   ]
  },
  {
   "cell_type": "code",
   "execution_count": 6,
   "metadata": {
    "scrolled": false
   },
   "outputs": [
    {
     "name": "stdout",
     "output_type": "stream",
     "text": [
      "(64, 64, 100, 176, 2)\n"
     ]
    }
   ],
   "source": [
    "print(next(data_gen(train[\"Video\"].tolist()))[0].shape)"
   ]
  },
  {
   "cell_type": "code",
   "execution_count": 7,
   "metadata": {
    "scrolled": false
   },
   "outputs": [],
   "source": [
    "# Define model\n",
    "import tensorflow as tf\n",
    "keras=tf.contrib.keras\n",
    "l2=keras.regularizers.l2\n",
    "weight_decay = 0.00005\n",
    "from keras import regularizers\n",
    "\n",
    "model = Sequential()\n",
    "model.add(MaxPooling3D(pool_size=(1, 2, 2),input_shape=(nb_frames,  img_cols, img_rows, channels)))\n",
    "\n",
    "model.add(Conv3D(8,(1,5,5),activation='relu',kernel_regularizer=regularizers.l2(weight_decay)))\n",
    "model.add(Conv3D(8,(5,1,1),activation='relu',kernel_regularizer=regularizers.l2(weight_decay)))\n",
    "model.add(MaxPooling3D(pool_size=(1, 2, 2)))\n",
    "\n",
    "model.add(Conv3D(32,(1,5,5), activation='relu',kernel_regularizer=regularizers.l2(weight_decay)))\n",
    "model.add(Conv3D(32,(3,1,1), activation='relu',kernel_regularizer=regularizers.l2(weight_decay)))\n",
    "model.add(MaxPooling3D(pool_size=(2, 2, 2)))\n",
    "\n",
    "model.add(Conv3D(64,(1,3,5), activation='relu',kernel_regularizer=regularizers.l2(weight_decay)))\n",
    "model.add(Conv3D(64,(3,1,1), activation='relu',kernel_regularizer=regularizers.l2(weight_decay)))\n",
    "model.add(MaxPooling3D(pool_size=(1, 1, 4 )))\n",
    "\n",
    "model.add(ConvLSTM2D(filters=64, kernel_size=(3,3),\n",
    "                  strides=(1,1),padding='same',\n",
    "                      kernel_initializer='he_normal', recurrent_initializer='he_normal',\n",
    "                      kernel_regularizer=l2(weight_decay), recurrent_regularizer=l2(weight_decay),\n",
    "                      return_sequences=True, name='gatedclstm1'))\n",
    "\n",
    "model.add(ConvLSTM2D(filters=64, kernel_size=(3,3),\n",
    "                  strides=(1,1),padding='same',\n",
    "                      kernel_initializer='he_normal', recurrent_initializer='he_normal',\n",
    "                      kernel_regularizer=l2(weight_decay), recurrent_regularizer=l2(weight_decay),\n",
    "                      return_sequences=True, name='gatedclstm2'))\n",
    "\n",
    "model.add(ConvLSTM2D(filters=64, kernel_size=(3,3),\n",
    "                  strides=(1,1),padding='same',\n",
    "                      kernel_initializer='he_normal', recurrent_initializer='he_normal',\n",
    "                      kernel_regularizer=l2(weight_decay), recurrent_regularizer=l2(weight_decay),\n",
    "                      return_sequences=True, name='gatedclstm3'))\n",
    "\n",
    "\n",
    "model.add(Flatten())\n",
    "model.add(Dense(512, activation='relu',kernel_regularizer=regularizers.l2(weight_decay)))\n",
    "model.add(Dropout(0.5))\n",
    "\n",
    "model.add(Dense(256, activation='relu',kernel_regularizer=regularizers.l2(weight_decay)))\n",
    "model.add(Dropout(0.5))\n",
    "\n",
    "model.add(Dense(nb_classes,kernel_initializer='normal',kernel_regularizer=regularizers.l2(weight_decay)))\n",
    "\n",
    "model.add(Activation('softmax'))"
   ]
  },
  {
   "cell_type": "code",
   "execution_count": 8,
   "metadata": {
    "scrolled": false
   },
   "outputs": [
    {
     "name": "stdout",
     "output_type": "stream",
     "text": [
      "_________________________________________________________________\n",
      "Layer (type)                 Output Shape              Param #   \n",
      "=================================================================\n",
      "max_pooling3d_1 (MaxPooling3 (None, 64, 50, 88, 2)     0         \n",
      "_________________________________________________________________\n",
      "conv3d_1 (Conv3D)            (None, 64, 46, 84, 8)     408       \n",
      "_________________________________________________________________\n",
      "conv3d_2 (Conv3D)            (None, 60, 46, 84, 8)     328       \n",
      "_________________________________________________________________\n",
      "max_pooling3d_2 (MaxPooling3 (None, 60, 23, 42, 8)     0         \n",
      "_________________________________________________________________\n",
      "conv3d_3 (Conv3D)            (None, 60, 19, 38, 32)    6432      \n",
      "_________________________________________________________________\n",
      "conv3d_4 (Conv3D)            (None, 58, 19, 38, 32)    3104      \n",
      "_________________________________________________________________\n",
      "max_pooling3d_3 (MaxPooling3 (None, 29, 9, 19, 32)     0         \n",
      "_________________________________________________________________\n",
      "conv3d_5 (Conv3D)            (None, 29, 7, 15, 64)     30784     \n",
      "_________________________________________________________________\n",
      "conv3d_6 (Conv3D)            (None, 27, 7, 15, 64)     12352     \n",
      "_________________________________________________________________\n",
      "max_pooling3d_4 (MaxPooling3 (None, 27, 7, 3, 64)      0         \n",
      "_________________________________________________________________\n",
      "gatedclstm1 (ConvLSTM2D)     (None, 27, 7, 3, 64)      295168    \n",
      "_________________________________________________________________\n",
      "gatedclstm2 (ConvLSTM2D)     (None, 27, 7, 3, 64)      295168    \n",
      "_________________________________________________________________\n",
      "gatedclstm3 (ConvLSTM2D)     (None, 27, 7, 3, 64)      295168    \n",
      "_________________________________________________________________\n",
      "flatten_1 (Flatten)          (None, 36288)             0         \n",
      "_________________________________________________________________\n",
      "dense_1 (Dense)              (None, 512)               18579968  \n",
      "_________________________________________________________________\n",
      "dropout_1 (Dropout)          (None, 512)               0         \n",
      "_________________________________________________________________\n",
      "dense_2 (Dense)              (None, 256)               131328    \n",
      "_________________________________________________________________\n",
      "dropout_2 (Dropout)          (None, 256)               0         \n",
      "_________________________________________________________________\n",
      "dense_3 (Dense)              (None, 27)                6939      \n",
      "_________________________________________________________________\n",
      "activation_1 (Activation)    (None, 27)                0         \n",
      "=================================================================\n",
      "Total params: 19,657,147\n",
      "Trainable params: 19,657,147\n",
      "Non-trainable params: 0\n",
      "_________________________________________________________________\n"
     ]
    }
   ],
   "source": [
    "model.summary()"
   ]
  },
  {
   "cell_type": "code",
   "execution_count": 9,
   "metadata": {
    "scrolled": false
   },
   "outputs": [
    {
     "name": "stdout",
     "output_type": "stream",
     "text": [
      "E:\\Jupyter\\Project\n"
     ]
    }
   ],
   "source": [
    "import os\n",
    "save_dir = os.path.join(os.getcwd(),'save_model')\n",
    "print(os.getcwd())\n",
    "model_name = \"deep\"\n",
    "if not os.path.isdir(save_dir):\n",
    "    os.makedirs(save_dir)\n",
    "model_path = os.path.join(save_dir, model_name)\n",
    "checkpoint = ModelCheckpoint(model_path, monitor = 'val_acc', \n",
    "                            save_best_only=True, verbose=1)\n",
    "#earlystop\n",
    "earlystop = EarlyStopping(monitor='val_loss', patience=50, verbose =1)"
   ]
  },
  {
   "cell_type": "code",
   "execution_count": 10,
   "metadata": {
    "scrolled": false
   },
   "outputs": [],
   "source": [
    "sgd = SGD(lr=0.002,  momentum=0.9, nesterov=False)\n",
    "rms = RMSprop(decay=1e-6)\n",
    "ada = Adadelta(lr=0.1,decay=1e-6)\n",
    "model.compile(loss='categorical_crossentropy', \n",
    "              optimizer=sgd,\n",
    "              #optimizer=ada,\n",
    "              #optimizer = Adam(lr=0.0001),\n",
    "              metrics=['acc'])"
   ]
  },
  {
   "cell_type": "code",
   "execution_count": 11,
   "metadata": {
    "scrolled": true
   },
   "outputs": [
    {
     "name": "stdout",
     "output_type": "stream",
     "text": [
      "Epoch 1/150\n",
      "48/48 [==============================] - 138s 3s/step - loss: 2.4197 - acc: 0.2604 - val_loss: 1.6963 - val_acc: 0.3937\n",
      "\n",
      "Epoch 00001: val_acc improved from -inf to 0.39375, saving model to E:\\Jupyter\\Project\\save_model\\deep\n",
      "Epoch 2/150\n",
      "48/48 [==============================] - 129s 3s/step - loss: 1.8189 - acc: 0.3750 - val_loss: 1.5870 - val_acc: 0.4688\n",
      "\n",
      "Epoch 00002: val_acc improved from 0.39375 to 0.46875, saving model to E:\\Jupyter\\Project\\save_model\\deep\n",
      "Epoch 3/150\n",
      "48/48 [==============================] - 129s 3s/step - loss: 1.6361 - acc: 0.4388 - val_loss: 1.4875 - val_acc: 0.5188\n",
      "\n",
      "Epoch 00003: val_acc improved from 0.46875 to 0.51875, saving model to E:\\Jupyter\\Project\\save_model\\deep\n",
      "Epoch 4/150\n",
      "48/48 [==============================] - 128s 3s/step - loss: 1.5035 - acc: 0.5254 - val_loss: 1.3920 - val_acc: 0.5563\n",
      "\n",
      "Epoch 00004: val_acc improved from 0.51875 to 0.55625, saving model to E:\\Jupyter\\Project\\save_model\\deep\n",
      "Epoch 5/150\n",
      "48/48 [==============================] - 121s 3s/step - loss: 1.4431 - acc: 0.5488 - val_loss: 1.1865 - val_acc: 0.6375\n",
      "\n",
      "Epoch 00005: val_acc improved from 0.55625 to 0.63750, saving model to E:\\Jupyter\\Project\\save_model\\deep\n",
      "Epoch 6/150\n",
      "48/48 [==============================] - 121s 3s/step - loss: 1.3776 - acc: 0.5508 - val_loss: 1.2882 - val_acc: 0.5625\n",
      "\n",
      "Epoch 00006: val_acc did not improve from 0.63750\n",
      "Epoch 7/150\n",
      "48/48 [==============================] - 126s 3s/step - loss: 1.3196 - acc: 0.5938 - val_loss: 1.2899 - val_acc: 0.6125\n",
      "\n",
      "Epoch 00007: val_acc did not improve from 0.63750\n",
      "Epoch 8/150\n",
      "48/48 [==============================] - 126s 3s/step - loss: 1.2424 - acc: 0.5970 - val_loss: 1.0990 - val_acc: 0.6562\n",
      "\n",
      "Epoch 00008: val_acc improved from 0.63750 to 0.65625, saving model to E:\\Jupyter\\Project\\save_model\\deep\n",
      "Epoch 9/150\n",
      "48/48 [==============================] - 123s 3s/step - loss: 1.1251 - acc: 0.6348 - val_loss: 1.1048 - val_acc: 0.6312\n",
      "\n",
      "Epoch 00009: val_acc did not improve from 0.65625\n",
      "Epoch 10/150\n",
      "48/48 [==============================] - 119s 2s/step - loss: 1.0620 - acc: 0.6608 - val_loss: 0.8908 - val_acc: 0.6813\n",
      "\n",
      "Epoch 00010: val_acc improved from 0.65625 to 0.68125, saving model to E:\\Jupyter\\Project\\save_model\\deep\n",
      "Epoch 11/150\n",
      "48/48 [==============================] - 125s 3s/step - loss: 1.0298 - acc: 0.6875 - val_loss: 1.0886 - val_acc: 0.6750\n",
      "\n",
      "Epoch 00011: val_acc did not improve from 0.68125\n",
      "Epoch 12/150\n",
      "48/48 [==============================] - 123s 3s/step - loss: 1.0554 - acc: 0.6745 - val_loss: 0.9489 - val_acc: 0.7500\n",
      "\n",
      "Epoch 00012: val_acc improved from 0.68125 to 0.75000, saving model to E:\\Jupyter\\Project\\save_model\\deep\n",
      "Epoch 13/150\n",
      "48/48 [==============================] - 123s 3s/step - loss: 1.0487 - acc: 0.6836 - val_loss: 0.8724 - val_acc: 0.7750\n",
      "\n",
      "Epoch 00013: val_acc improved from 0.75000 to 0.77500, saving model to E:\\Jupyter\\Project\\save_model\\deep\n",
      "Epoch 14/150\n",
      "48/48 [==============================] - 123s 3s/step - loss: 0.9344 - acc: 0.7057 - val_loss: 0.9060 - val_acc: 0.7063\n",
      "\n",
      "Epoch 00014: val_acc did not improve from 0.77500\n",
      "Epoch 15/150\n",
      "48/48 [==============================] - 124s 3s/step - loss: 0.9174 - acc: 0.7181 - val_loss: 0.7724 - val_acc: 0.7875\n",
      "\n",
      "Epoch 00015: val_acc improved from 0.77500 to 0.78750, saving model to E:\\Jupyter\\Project\\save_model\\deep\n",
      "Epoch 16/150\n",
      "48/48 [==============================] - 124s 3s/step - loss: 0.9526 - acc: 0.7103 - val_loss: 0.8344 - val_acc: 0.7312\n",
      "\n",
      "Epoch 00016: val_acc did not improve from 0.78750\n",
      "Epoch 17/150\n",
      "48/48 [==============================] - 125s 3s/step - loss: 0.9043 - acc: 0.7240 - val_loss: 0.7613 - val_acc: 0.7750\n",
      "\n",
      "Epoch 00017: val_acc did not improve from 0.78750\n",
      "Epoch 18/150\n",
      "48/48 [==============================] - 123s 3s/step - loss: 0.8837 - acc: 0.7305 - val_loss: 0.9040 - val_acc: 0.7812\n",
      "\n",
      "Epoch 00018: val_acc did not improve from 0.78750\n",
      "Epoch 19/150\n",
      "48/48 [==============================] - 126s 3s/step - loss: 0.8860 - acc: 0.7480 - val_loss: 0.8499 - val_acc: 0.7375\n",
      "\n",
      "Epoch 00019: val_acc did not improve from 0.78750\n",
      "Epoch 20/150\n",
      "48/48 [==============================] - 124s 3s/step - loss: 0.8635 - acc: 0.7441 - val_loss: 0.8332 - val_acc: 0.7750\n",
      "\n",
      "Epoch 00020: val_acc did not improve from 0.78750\n",
      "Epoch 21/150\n",
      "48/48 [==============================] - 123s 3s/step - loss: 0.8702 - acc: 0.7454 - val_loss: 0.8291 - val_acc: 0.7688\n",
      "\n",
      "Epoch 00021: val_acc did not improve from 0.78750\n",
      "Epoch 22/150\n",
      "48/48 [==============================] - 124s 3s/step - loss: 0.7981 - acc: 0.7669 - val_loss: 0.7103 - val_acc: 0.7937\n",
      "\n",
      "Epoch 00022: val_acc improved from 0.78750 to 0.79375, saving model to E:\\Jupyter\\Project\\save_model\\deep\n",
      "Epoch 23/150\n",
      "48/48 [==============================] - 122s 3s/step - loss: 0.7617 - acc: 0.7936 - val_loss: 0.8683 - val_acc: 0.7500\n",
      "\n",
      "Epoch 00023: val_acc did not improve from 0.79375\n",
      "Epoch 24/150\n",
      "48/48 [==============================] - 122s 3s/step - loss: 0.7695 - acc: 0.7969 - val_loss: 0.6867 - val_acc: 0.7937\n",
      "\n",
      "Epoch 00024: val_acc did not improve from 0.79375\n",
      "Epoch 25/150\n",
      "48/48 [==============================] - 121s 3s/step - loss: 0.8181 - acc: 0.7767 - val_loss: 0.7545 - val_acc: 0.7688\n",
      "\n",
      "Epoch 00025: val_acc did not improve from 0.79375\n",
      "Epoch 26/150\n",
      "48/48 [==============================] - 124s 3s/step - loss: 0.8010 - acc: 0.7721 - val_loss: 0.7185 - val_acc: 0.8250\n",
      "\n",
      "Epoch 00026: val_acc improved from 0.79375 to 0.82500, saving model to E:\\Jupyter\\Project\\save_model\\deep\n",
      "Epoch 27/150\n",
      "48/48 [==============================] - 121s 3s/step - loss: 0.8150 - acc: 0.7734 - val_loss: 0.6546 - val_acc: 0.8250\n",
      "\n",
      "Epoch 00027: val_acc did not improve from 0.82500\n",
      "Epoch 28/150\n",
      "48/48 [==============================] - 123s 3s/step - loss: 0.8560 - acc: 0.7435 - val_loss: 0.7803 - val_acc: 0.7750\n",
      "\n",
      "Epoch 00028: val_acc did not improve from 0.82500\n",
      "Epoch 29/150\n",
      "48/48 [==============================] - 120s 3s/step - loss: 0.8005 - acc: 0.7734 - val_loss: 0.7435 - val_acc: 0.7750\n",
      "\n",
      "Epoch 00029: val_acc did not improve from 0.82500\n",
      "Epoch 30/150\n",
      "48/48 [==============================] - 125s 3s/step - loss: 0.7445 - acc: 0.8040 - val_loss: 0.6668 - val_acc: 0.8000\n",
      "\n",
      "Epoch 00030: val_acc did not improve from 0.82500\n",
      "Epoch 31/150\n",
      "48/48 [==============================] - 121s 3s/step - loss: 0.7361 - acc: 0.7936 - val_loss: 0.8068 - val_acc: 0.7875\n",
      "\n",
      "Epoch 00031: val_acc did not improve from 0.82500\n",
      "Epoch 32/150\n",
      "48/48 [==============================] - 123s 3s/step - loss: 0.7794 - acc: 0.7812 - val_loss: 0.7173 - val_acc: 0.8375\n",
      "\n",
      "Epoch 00032: val_acc improved from 0.82500 to 0.83750, saving model to E:\\Jupyter\\Project\\save_model\\deep\n",
      "Epoch 33/150\n",
      "48/48 [==============================] - 124s 3s/step - loss: 0.7216 - acc: 0.8060 - val_loss: 0.5988 - val_acc: 0.8625\n",
      "\n",
      "Epoch 00033: val_acc improved from 0.83750 to 0.86250, saving model to E:\\Jupyter\\Project\\save_model\\deep\n",
      "Epoch 34/150\n",
      "48/48 [==============================] - 123s 3s/step - loss: 0.7407 - acc: 0.7975 - val_loss: 0.7368 - val_acc: 0.7937\n",
      "\n",
      "Epoch 00034: val_acc did not improve from 0.86250\n",
      "Epoch 35/150\n",
      "48/48 [==============================] - 119s 2s/step - loss: 0.6954 - acc: 0.8216 - val_loss: 0.8138 - val_acc: 0.7562\n",
      "\n",
      "Epoch 00035: val_acc did not improve from 0.86250\n",
      "Epoch 36/150\n",
      "48/48 [==============================] - 121s 3s/step - loss: 0.7585 - acc: 0.7923 - val_loss: 0.7016 - val_acc: 0.8688\n",
      "\n",
      "Epoch 00036: val_acc improved from 0.86250 to 0.86875, saving model to E:\\Jupyter\\Project\\save_model\\deep\n",
      "Epoch 37/150\n",
      "48/48 [==============================] - 119s 2s/step - loss: 0.7176 - acc: 0.8060 - val_loss: 0.7969 - val_acc: 0.8000\n",
      "\n",
      "Epoch 00037: val_acc did not improve from 0.86875\n",
      "Epoch 38/150\n",
      "48/48 [==============================] - 122s 3s/step - loss: 0.7413 - acc: 0.8008 - val_loss: 0.6904 - val_acc: 0.8438\n",
      "\n",
      "Epoch 00038: val_acc did not improve from 0.86875\n",
      "Epoch 39/150\n",
      "48/48 [==============================] - 121s 3s/step - loss: 0.7371 - acc: 0.8079 - val_loss: 0.8151 - val_acc: 0.8250\n",
      "\n",
      "Epoch 00039: val_acc did not improve from 0.86875\n",
      "Epoch 40/150\n",
      "48/48 [==============================] - 121s 3s/step - loss: 0.7107 - acc: 0.8203 - val_loss: 0.6692 - val_acc: 0.8500\n",
      "\n",
      "Epoch 00040: val_acc did not improve from 0.86875\n",
      "Epoch 41/150\n"
     ]
    },
    {
     "name": "stdout",
     "output_type": "stream",
     "text": [
      "48/48 [==============================] - 121s 3s/step - loss: 0.6867 - acc: 0.8372 - val_loss: 0.7572 - val_acc: 0.8187\n",
      "\n",
      "Epoch 00041: val_acc did not improve from 0.86875\n",
      "Epoch 42/150\n",
      "48/48 [==============================] - 119s 2s/step - loss: 0.7298 - acc: 0.8112 - val_loss: 0.7668 - val_acc: 0.8063\n",
      "\n",
      "Epoch 00042: val_acc did not improve from 0.86875\n",
      "Epoch 43/150\n",
      "48/48 [==============================] - 118s 2s/step - loss: 0.7011 - acc: 0.8164 - val_loss: 0.7144 - val_acc: 0.8250\n",
      "\n",
      "Epoch 00043: val_acc did not improve from 0.86875\n",
      "\n",
      "Epoch 00043: ReduceLROnPlateau reducing learning rate to 0.0008333333333333334.\n",
      "Epoch 44/150\n",
      "48/48 [==============================] - 120s 3s/step - loss: 0.6449 - acc: 0.8457 - val_loss: 0.6444 - val_acc: 0.8438\n",
      "\n",
      "Epoch 00044: val_acc did not improve from 0.86875\n",
      "Epoch 45/150\n",
      "48/48 [==============================] - 126s 3s/step - loss: 0.6579 - acc: 0.8431 - val_loss: 0.7162 - val_acc: 0.8125\n",
      "\n",
      "Epoch 00045: val_acc did not improve from 0.86875\n",
      "Epoch 46/150\n",
      "48/48 [==============================] - 120s 3s/step - loss: 0.6534 - acc: 0.8503 - val_loss: 0.6662 - val_acc: 0.8375\n",
      "\n",
      "Epoch 00046: val_acc did not improve from 0.86875\n",
      "Epoch 47/150\n",
      "48/48 [==============================] - 124s 3s/step - loss: 0.6216 - acc: 0.8516 - val_loss: 0.5993 - val_acc: 0.8500\n",
      "\n",
      "Epoch 00047: val_acc did not improve from 0.86875\n",
      "Epoch 48/150\n",
      "48/48 [==============================] - 125s 3s/step - loss: 0.5817 - acc: 0.8815 - val_loss: 0.5615 - val_acc: 0.9000\n",
      "\n",
      "Epoch 00048: val_acc improved from 0.86875 to 0.90000, saving model to E:\\Jupyter\\Project\\save_model\\deep\n",
      "Epoch 49/150\n",
      "48/48 [==============================] - 120s 3s/step - loss: 0.5987 - acc: 0.8672 - val_loss: 0.6545 - val_acc: 0.8750\n",
      "\n",
      "Epoch 00049: val_acc did not improve from 0.90000\n",
      "Epoch 50/150\n",
      "48/48 [==============================] - 121s 3s/step - loss: 0.6149 - acc: 0.8581 - val_loss: 0.5348 - val_acc: 0.8875\n",
      "\n",
      "Epoch 00050: val_acc did not improve from 0.90000\n",
      "Epoch 51/150\n",
      "48/48 [==============================] - 120s 3s/step - loss: 0.6161 - acc: 0.8594 - val_loss: 0.5169 - val_acc: 0.8938\n",
      "\n",
      "Epoch 00051: val_acc did not improve from 0.90000\n",
      "Epoch 52/150\n",
      "48/48 [==============================] - 123s 3s/step - loss: 0.6137 - acc: 0.8704 - val_loss: 0.6501 - val_acc: 0.8313\n",
      "\n",
      "Epoch 00052: val_acc did not improve from 0.90000\n",
      "Epoch 53/150\n",
      "48/48 [==============================] - 120s 3s/step - loss: 0.6005 - acc: 0.8672 - val_loss: 0.7448 - val_acc: 0.8187\n",
      "\n",
      "Epoch 00053: val_acc did not improve from 0.90000\n",
      "Epoch 54/150\n",
      "48/48 [==============================] - 121s 3s/step - loss: 0.5921 - acc: 0.8685 - val_loss: 0.5570 - val_acc: 0.8313\n",
      "\n",
      "Epoch 00054: val_acc did not improve from 0.90000\n",
      "Epoch 55/150\n",
      "48/48 [==============================] - 120s 2s/step - loss: 0.5746 - acc: 0.8652 - val_loss: 0.5701 - val_acc: 0.8688\n",
      "\n",
      "Epoch 00055: val_acc did not improve from 0.90000\n",
      "Epoch 56/150\n",
      "48/48 [==============================] - 121s 3s/step - loss: 0.5627 - acc: 0.8828 - val_loss: 0.7249 - val_acc: 0.8187\n",
      "\n",
      "Epoch 00056: val_acc did not improve from 0.90000\n",
      "Epoch 57/150\n",
      "48/48 [==============================] - 120s 3s/step - loss: 0.6197 - acc: 0.8757 - val_loss: 0.7128 - val_acc: 0.8500\n",
      "\n",
      "Epoch 00057: val_acc did not improve from 0.90000\n",
      "Epoch 58/150\n",
      "48/48 [==============================] - 122s 3s/step - loss: 0.5681 - acc: 0.8802 - val_loss: 0.5743 - val_acc: 0.8812\n",
      "\n",
      "Epoch 00058: val_acc did not improve from 0.90000\n",
      "Epoch 59/150\n",
      "48/48 [==============================] - 121s 3s/step - loss: 0.5771 - acc: 0.8783 - val_loss: 0.5417 - val_acc: 0.8750\n",
      "\n",
      "Epoch 00059: val_acc did not improve from 0.90000\n",
      "Epoch 60/150\n",
      "48/48 [==============================] - 121s 3s/step - loss: 0.5517 - acc: 0.8841 - val_loss: 0.4882 - val_acc: 0.8938\n",
      "\n",
      "Epoch 00060: val_acc did not improve from 0.90000\n",
      "Epoch 61/150\n",
      "48/48 [==============================] - 123s 3s/step - loss: 0.5791 - acc: 0.8698 - val_loss: 0.6996 - val_acc: 0.8562\n",
      "\n",
      "Epoch 00061: val_acc did not improve from 0.90000\n",
      "Epoch 62/150\n",
      "48/48 [==============================] - 123s 3s/step - loss: 0.5588 - acc: 0.8757 - val_loss: 0.6821 - val_acc: 0.8938\n",
      "\n",
      "Epoch 00062: val_acc did not improve from 0.90000\n",
      "Epoch 63/150\n",
      "48/48 [==============================] - 119s 2s/step - loss: 0.6178 - acc: 0.8685 - val_loss: 0.5864 - val_acc: 0.8500\n",
      "\n",
      "Epoch 00063: val_acc did not improve from 0.90000\n",
      "Epoch 64/150\n",
      "48/48 [==============================] - 125s 3s/step - loss: 0.5850 - acc: 0.8763 - val_loss: 0.5211 - val_acc: 0.9062\n",
      "\n",
      "Epoch 00064: val_acc improved from 0.90000 to 0.90625, saving model to E:\\Jupyter\\Project\\save_model\\deep\n",
      "Epoch 65/150\n",
      "48/48 [==============================] - 120s 3s/step - loss: 0.5300 - acc: 0.8893 - val_loss: 0.5202 - val_acc: 0.8875\n",
      "\n",
      "Epoch 00065: val_acc did not improve from 0.90625\n",
      "Epoch 66/150\n",
      "48/48 [==============================] - 119s 2s/step - loss: 0.5622 - acc: 0.8835 - val_loss: 0.4867 - val_acc: 0.9313\n",
      "\n",
      "Epoch 00066: val_acc improved from 0.90625 to 0.93125, saving model to E:\\Jupyter\\Project\\save_model\\deep\n",
      "Epoch 67/150\n",
      "48/48 [==============================] - 122s 3s/step - loss: 0.5565 - acc: 0.8822 - val_loss: 0.7237 - val_acc: 0.8125\n",
      "\n",
      "Epoch 00067: val_acc did not improve from 0.93125\n",
      "Epoch 68/150\n",
      "48/48 [==============================] - 120s 3s/step - loss: 0.5578 - acc: 0.8906 - val_loss: 0.7684 - val_acc: 0.7875\n",
      "\n",
      "Epoch 00068: val_acc did not improve from 0.93125\n",
      "Epoch 69/150\n",
      "48/48 [==============================] - 120s 2s/step - loss: 0.5674 - acc: 0.8750 - val_loss: 0.6341 - val_acc: 0.8750\n",
      "\n",
      "Epoch 00069: val_acc did not improve from 0.93125\n",
      "Epoch 70/150\n",
      "48/48 [==============================] - 123s 3s/step - loss: 0.5822 - acc: 0.8704 - val_loss: 0.6294 - val_acc: 0.8562\n",
      "\n",
      "Epoch 00070: val_acc did not improve from 0.93125\n",
      "Epoch 71/150\n",
      "48/48 [==============================] - 121s 3s/step - loss: 0.5506 - acc: 0.8913 - val_loss: 0.7658 - val_acc: 0.8375\n",
      "\n",
      "Epoch 00071: val_acc did not improve from 0.93125\n",
      "Epoch 72/150\n",
      "48/48 [==============================] - 118s 2s/step - loss: 0.5263 - acc: 0.8945 - val_loss: 0.6567 - val_acc: 0.8500\n",
      "\n",
      "Epoch 00072: val_acc did not improve from 0.93125\n",
      "Epoch 73/150\n",
      "48/48 [==============================] - 121s 3s/step - loss: 0.5395 - acc: 0.8965 - val_loss: 0.5131 - val_acc: 0.8938\n",
      "\n",
      "Epoch 00073: val_acc did not improve from 0.93125\n",
      "Epoch 74/150\n",
      "48/48 [==============================] - 117s 2s/step - loss: 0.5288 - acc: 0.9017 - val_loss: 0.5221 - val_acc: 0.8875\n",
      "\n",
      "Epoch 00074: val_acc did not improve from 0.93125\n",
      "Epoch 75/150\n",
      "48/48 [==============================] - 122s 3s/step - loss: 0.5588 - acc: 0.8815 - val_loss: 0.6477 - val_acc: 0.8750\n",
      "\n",
      "Epoch 00075: val_acc did not improve from 0.93125\n",
      "Epoch 76/150\n",
      "48/48 [==============================] - 121s 3s/step - loss: 0.5764 - acc: 0.8730 - val_loss: 0.7293 - val_acc: 0.8500\n",
      "\n",
      "Epoch 00076: val_acc did not improve from 0.93125\n",
      "\n",
      "Epoch 00076: ReduceLROnPlateau reducing learning rate to 0.0008333333333333334.\n",
      "Epoch 77/150\n",
      "48/48 [==============================] - 122s 3s/step - loss: 0.5526 - acc: 0.8965 - val_loss: 0.6279 - val_acc: 0.8688\n",
      "\n",
      "Epoch 00077: val_acc did not improve from 0.93125\n",
      "Epoch 78/150\n",
      "48/48 [==============================] - 121s 3s/step - loss: 0.5558 - acc: 0.8835 - val_loss: 0.6773 - val_acc: 0.8688\n",
      "\n",
      "Epoch 00078: val_acc did not improve from 0.93125\n",
      "Epoch 79/150\n",
      "48/48 [==============================] - 121s 3s/step - loss: 0.5228 - acc: 0.8952 - val_loss: 0.5408 - val_acc: 0.9000\n",
      "\n",
      "Epoch 00079: val_acc did not improve from 0.93125\n",
      "Epoch 80/150\n",
      "48/48 [==============================] - 122s 3s/step - loss: 0.5346 - acc: 0.9010 - val_loss: 0.6235 - val_acc: 0.8875\n",
      "\n",
      "Epoch 00080: val_acc did not improve from 0.93125\n",
      "Epoch 81/150\n",
      "48/48 [==============================] - 122s 3s/step - loss: 0.5162 - acc: 0.9056 - val_loss: 0.5170 - val_acc: 0.8938\n",
      "\n",
      "Epoch 00081: val_acc did not improve from 0.93125\n",
      "Epoch 82/150\n",
      "48/48 [==============================] - 124s 3s/step - loss: 0.5301 - acc: 0.8991 - val_loss: 0.5544 - val_acc: 0.8938\n",
      "\n",
      "Epoch 00082: val_acc did not improve from 0.93125\n",
      "Epoch 83/150\n",
      "48/48 [==============================] - 122s 3s/step - loss: 0.5129 - acc: 0.9023 - val_loss: 0.8812 - val_acc: 0.8000\n",
      "\n",
      "Epoch 00083: val_acc did not improve from 0.93125\n",
      "Epoch 84/150\n"
     ]
    },
    {
     "name": "stdout",
     "output_type": "stream",
     "text": [
      "48/48 [==============================] - 121s 3s/step - loss: 0.5230 - acc: 0.8978 - val_loss: 0.5140 - val_acc: 0.8875\n",
      "\n",
      "Epoch 00084: val_acc did not improve from 0.93125\n",
      "Epoch 85/150\n",
      "48/48 [==============================] - 120s 2s/step - loss: 0.5453 - acc: 0.8861 - val_loss: 0.5904 - val_acc: 0.8812\n",
      "\n",
      "Epoch 00085: val_acc did not improve from 0.93125\n",
      "Epoch 86/150\n",
      "48/48 [==============================] - 121s 3s/step - loss: 0.5733 - acc: 0.8841 - val_loss: 0.7529 - val_acc: 0.8500\n",
      "\n",
      "Epoch 00086: val_acc did not improve from 0.93125\n",
      "\n",
      "Epoch 00086: ReduceLROnPlateau reducing learning rate to 0.0008333333333333334.\n",
      "Epoch 87/150\n",
      "48/48 [==============================] - 121s 3s/step - loss: 0.5591 - acc: 0.8893 - val_loss: 0.6833 - val_acc: 0.8313\n",
      "\n",
      "Epoch 00087: val_acc did not improve from 0.93125\n",
      "Epoch 88/150\n",
      "48/48 [==============================] - 119s 2s/step - loss: 0.5470 - acc: 0.8893 - val_loss: 0.6400 - val_acc: 0.8625\n",
      "\n",
      "Epoch 00088: val_acc did not improve from 0.93125\n",
      "Epoch 89/150\n",
      "48/48 [==============================] - 120s 3s/step - loss: 0.4785 - acc: 0.9160 - val_loss: 0.5223 - val_acc: 0.9125\n",
      "\n",
      "Epoch 00089: val_acc did not improve from 0.93125\n",
      "Epoch 90/150\n",
      "48/48 [==============================] - 121s 3s/step - loss: 0.5175 - acc: 0.8991 - val_loss: 0.6890 - val_acc: 0.8812\n",
      "\n",
      "Epoch 00090: val_acc did not improve from 0.93125\n",
      "Epoch 91/150\n",
      "48/48 [==============================] - 121s 3s/step - loss: 0.5222 - acc: 0.8984 - val_loss: 0.5189 - val_acc: 0.9125\n",
      "\n",
      "Epoch 00091: val_acc did not improve from 0.93125\n",
      "Epoch 92/150\n",
      "48/48 [==============================] - 122s 3s/step - loss: 0.5389 - acc: 0.8958 - val_loss: 0.6219 - val_acc: 0.8812\n",
      "\n",
      "Epoch 00092: val_acc did not improve from 0.93125\n",
      "Epoch 93/150\n",
      "48/48 [==============================] - 120s 3s/step - loss: 0.5306 - acc: 0.8939 - val_loss: 0.6152 - val_acc: 0.8875\n",
      "\n",
      "Epoch 00093: val_acc did not improve from 0.93125\n",
      "Epoch 94/150\n",
      "48/48 [==============================] - 119s 2s/step - loss: 0.5372 - acc: 0.8867 - val_loss: 0.6286 - val_acc: 0.9125\n",
      "\n",
      "Epoch 00094: val_acc did not improve from 0.93125\n",
      "Epoch 95/150\n",
      "48/48 [==============================] - 118s 2s/step - loss: 0.5207 - acc: 0.9010 - val_loss: 0.5487 - val_acc: 0.9000\n",
      "\n",
      "Epoch 00095: val_acc did not improve from 0.93125\n",
      "Epoch 96/150\n",
      "48/48 [==============================] - 121s 3s/step - loss: 0.5133 - acc: 0.9036 - val_loss: 0.6069 - val_acc: 0.8313\n",
      "\n",
      "Epoch 00096: val_acc did not improve from 0.93125\n",
      "\n",
      "Epoch 00096: ReduceLROnPlateau reducing learning rate to 0.0008333333333333334.\n",
      "Epoch 97/150\n",
      "48/48 [==============================] - 122s 3s/step - loss: 0.5346 - acc: 0.8880 - val_loss: 0.4675 - val_acc: 0.9313\n",
      "\n",
      "Epoch 00097: val_acc did not improve from 0.93125\n",
      "Epoch 98/150\n",
      "48/48 [==============================] - 123s 3s/step - loss: 0.5487 - acc: 0.8796 - val_loss: 0.5475 - val_acc: 0.8875\n",
      "\n",
      "Epoch 00098: val_acc did not improve from 0.93125\n",
      "Epoch 99/150\n",
      "48/48 [==============================] - 124s 3s/step - loss: 0.5549 - acc: 0.8861 - val_loss: 0.4742 - val_acc: 0.9125\n",
      "\n",
      "Epoch 00099: val_acc did not improve from 0.93125\n",
      "Epoch 100/150\n",
      "48/48 [==============================] - 123s 3s/step - loss: 0.5421 - acc: 0.8991 - val_loss: 0.5415 - val_acc: 0.8938\n",
      "\n",
      "Epoch 00100: val_acc did not improve from 0.93125\n",
      "Epoch 101/150\n",
      "48/48 [==============================] - 123s 3s/step - loss: 0.5380 - acc: 0.9010 - val_loss: 0.5774 - val_acc: 0.8938\n",
      "\n",
      "Epoch 00101: val_acc did not improve from 0.93125\n",
      "Epoch 102/150\n",
      "48/48 [==============================] - 121s 3s/step - loss: 0.5017 - acc: 0.9134 - val_loss: 0.5920 - val_acc: 0.8688\n",
      "\n",
      "Epoch 00102: val_acc did not improve from 0.93125\n",
      "Epoch 103/150\n",
      "48/48 [==============================] - 116s 2s/step - loss: 0.5033 - acc: 0.9076 - val_loss: 0.5139 - val_acc: 0.9000\n",
      "\n",
      "Epoch 00103: val_acc did not improve from 0.93125\n",
      "Epoch 104/150\n",
      "48/48 [==============================] - 123s 3s/step - loss: 0.5119 - acc: 0.8997 - val_loss: 0.5469 - val_acc: 0.9000\n",
      "\n",
      "Epoch 00104: val_acc did not improve from 0.93125\n",
      "Epoch 105/150\n",
      "48/48 [==============================] - 122s 3s/step - loss: 0.5361 - acc: 0.8945 - val_loss: 0.7314 - val_acc: 0.8250\n",
      "\n",
      "Epoch 00105: val_acc did not improve from 0.93125\n",
      "Epoch 106/150\n",
      "48/48 [==============================] - 130s 3s/step - loss: 0.5482 - acc: 0.8919 - val_loss: 0.4901 - val_acc: 0.9000\n",
      "\n",
      "Epoch 00106: val_acc did not improve from 0.93125\n",
      "Epoch 107/150\n",
      "48/48 [==============================] - 127s 3s/step - loss: 0.4907 - acc: 0.9134 - val_loss: 0.6521 - val_acc: 0.8750\n",
      "\n",
      "Epoch 00107: val_acc did not improve from 0.93125\n",
      "\n",
      "Epoch 00107: ReduceLROnPlateau reducing learning rate to 0.0008333333333333334.\n",
      "Epoch 108/150\n",
      "48/48 [==============================] - 119s 2s/step - loss: 0.4872 - acc: 0.9141 - val_loss: 0.5053 - val_acc: 0.9062\n",
      "\n",
      "Epoch 00108: val_acc did not improve from 0.93125\n",
      "Epoch 109/150\n",
      "48/48 [==============================] - 119s 2s/step - loss: 0.5015 - acc: 0.9030 - val_loss: 0.5680 - val_acc: 0.8875\n",
      "\n",
      "Epoch 00109: val_acc did not improve from 0.93125\n",
      "Epoch 110/150\n",
      "48/48 [==============================] - 117s 2s/step - loss: 0.4866 - acc: 0.9069 - val_loss: 0.6476 - val_acc: 0.8250\n",
      "\n",
      "Epoch 00110: val_acc did not improve from 0.93125\n",
      "Epoch 111/150\n",
      "48/48 [==============================] - 118s 2s/step - loss: 0.5400 - acc: 0.8997 - val_loss: 0.4777 - val_acc: 0.9187\n",
      "\n",
      "Epoch 00111: val_acc did not improve from 0.93125\n",
      "Epoch 112/150\n",
      "48/48 [==============================] - 119s 2s/step - loss: 0.4939 - acc: 0.9076 - val_loss: 0.6024 - val_acc: 0.8938\n",
      "\n",
      "Epoch 00112: val_acc did not improve from 0.93125\n",
      "Epoch 113/150\n",
      "48/48 [==============================] - 118s 2s/step - loss: 0.5024 - acc: 0.8997 - val_loss: 0.5620 - val_acc: 0.9062\n",
      "\n",
      "Epoch 00113: val_acc did not improve from 0.93125\n",
      "Epoch 114/150\n",
      "48/48 [==============================] - 119s 2s/step - loss: 0.4882 - acc: 0.9102 - val_loss: 0.5920 - val_acc: 0.9187\n",
      "\n",
      "Epoch 00114: val_acc did not improve from 0.93125\n",
      "Epoch 115/150\n",
      "48/48 [==============================] - 119s 2s/step - loss: 0.5253 - acc: 0.8958 - val_loss: 0.5358 - val_acc: 0.9062\n",
      "\n",
      "Epoch 00115: val_acc did not improve from 0.93125\n",
      "Epoch 116/150\n",
      "48/48 [==============================] - 120s 2s/step - loss: 0.5091 - acc: 0.9036 - val_loss: 0.4819 - val_acc: 0.9000\n",
      "\n",
      "Epoch 00116: val_acc did not improve from 0.93125\n",
      "Epoch 117/150\n",
      "48/48 [==============================] - 118s 2s/step - loss: 0.5087 - acc: 0.9141 - val_loss: 0.4776 - val_acc: 0.9062\n",
      "\n",
      "Epoch 00117: val_acc did not improve from 0.93125\n",
      "\n",
      "Epoch 00117: ReduceLROnPlateau reducing learning rate to 0.0008333333333333334.\n",
      "Epoch 118/150\n",
      "48/48 [==============================] - 123s 3s/step - loss: 0.4965 - acc: 0.9128 - val_loss: 0.5309 - val_acc: 0.9250\n",
      "\n",
      "Epoch 00118: val_acc did not improve from 0.93125\n",
      "Epoch 119/150\n",
      "48/48 [==============================] - 120s 3s/step - loss: 0.5222 - acc: 0.9049 - val_loss: 0.6639 - val_acc: 0.9000\n",
      "\n",
      "Epoch 00119: val_acc did not improve from 0.93125\n",
      "Epoch 120/150\n",
      "48/48 [==============================] - 123s 3s/step - loss: 0.5208 - acc: 0.9004 - val_loss: 0.5003 - val_acc: 0.9250\n",
      "\n",
      "Epoch 00120: val_acc did not improve from 0.93125\n",
      "Epoch 121/150\n",
      "48/48 [==============================] - 122s 3s/step - loss: 0.4821 - acc: 0.9102 - val_loss: 0.5392 - val_acc: 0.9062\n",
      "\n",
      "Epoch 00121: val_acc did not improve from 0.93125\n",
      "Epoch 122/150\n",
      "48/48 [==============================] - 121s 3s/step - loss: 0.5004 - acc: 0.9030 - val_loss: 0.7053 - val_acc: 0.8625\n",
      "\n",
      "Epoch 00122: val_acc did not improve from 0.93125\n",
      "Epoch 123/150\n",
      "48/48 [==============================] - 122s 3s/step - loss: 0.4990 - acc: 0.9095 - val_loss: 0.6664 - val_acc: 0.9125\n",
      "\n",
      "Epoch 00123: val_acc did not improve from 0.93125\n",
      "Epoch 124/150\n",
      "48/48 [==============================] - 124s 3s/step - loss: 0.4939 - acc: 0.9062 - val_loss: 0.5309 - val_acc: 0.9062\n",
      "\n",
      "Epoch 00124: val_acc did not improve from 0.93125\n",
      "Epoch 125/150\n",
      "48/48 [==============================] - 119s 2s/step - loss: 0.4735 - acc: 0.9128 - val_loss: 0.6313 - val_acc: 0.8938\n",
      "\n",
      "Epoch 00125: val_acc did not improve from 0.93125\n",
      "Epoch 126/150\n",
      "48/48 [==============================] - 123s 3s/step - loss: 0.4805 - acc: 0.9199 - val_loss: 0.4808 - val_acc: 0.9125\n"
     ]
    },
    {
     "name": "stdout",
     "output_type": "stream",
     "text": [
      "\n",
      "Epoch 00126: val_acc did not improve from 0.93125\n",
      "Epoch 127/150\n",
      "48/48 [==============================] - 121s 3s/step - loss: 0.4757 - acc: 0.9134 - val_loss: 0.5646 - val_acc: 0.9000\n",
      "\n",
      "Epoch 00127: val_acc did not improve from 0.93125\n",
      "\n",
      "Epoch 00127: ReduceLROnPlateau reducing learning rate to 0.0008333333333333334.\n",
      "Epoch 128/150\n",
      "48/48 [==============================] - 121s 3s/step - loss: 0.5084 - acc: 0.9043 - val_loss: 0.5869 - val_acc: 0.9062\n",
      "\n",
      "Epoch 00128: val_acc did not improve from 0.93125\n",
      "Epoch 129/150\n",
      "48/48 [==============================] - 124s 3s/step - loss: 0.4776 - acc: 0.9219 - val_loss: 0.5458 - val_acc: 0.8938\n",
      "\n",
      "Epoch 00129: val_acc did not improve from 0.93125\n",
      "Epoch 130/150\n",
      "48/48 [==============================] - 123s 3s/step - loss: 0.5029 - acc: 0.9141 - val_loss: 0.4113 - val_acc: 0.9563\n",
      "\n",
      "Epoch 00130: val_acc improved from 0.93125 to 0.95625, saving model to E:\\Jupyter\\Project\\save_model\\deep\n",
      "Epoch 131/150\n",
      "48/48 [==============================] - 119s 2s/step - loss: 0.4996 - acc: 0.9180 - val_loss: 0.4925 - val_acc: 0.9250\n",
      "\n",
      "Epoch 00131: val_acc did not improve from 0.95625\n",
      "Epoch 132/150\n",
      "48/48 [==============================] - 122s 3s/step - loss: 0.4757 - acc: 0.9167 - val_loss: 0.4725 - val_acc: 0.9000\n",
      "\n",
      "Epoch 00132: val_acc did not improve from 0.95625\n",
      "Epoch 133/150\n",
      "48/48 [==============================] - 119s 2s/step - loss: 0.4479 - acc: 0.9199 - val_loss: 0.6672 - val_acc: 0.8938\n",
      "\n",
      "Epoch 00133: val_acc did not improve from 0.95625\n",
      "Epoch 134/150\n",
      "48/48 [==============================] - 121s 3s/step - loss: 0.5151 - acc: 0.9030 - val_loss: 0.5910 - val_acc: 0.9000\n",
      "\n",
      "Epoch 00134: val_acc did not improve from 0.95625\n",
      "Epoch 135/150\n",
      "48/48 [==============================] - 121s 3s/step - loss: 0.4598 - acc: 0.9160 - val_loss: 0.6430 - val_acc: 0.8625\n",
      "\n",
      "Epoch 00135: val_acc did not improve from 0.95625\n",
      "Epoch 136/150\n",
      "48/48 [==============================] - 119s 2s/step - loss: 0.4859 - acc: 0.9147 - val_loss: 0.6161 - val_acc: 0.8750\n",
      "\n",
      "Epoch 00136: val_acc did not improve from 0.95625\n",
      "Epoch 137/150\n",
      "48/48 [==============================] - 118s 2s/step - loss: 0.4851 - acc: 0.9160 - val_loss: 0.5487 - val_acc: 0.9062\n",
      "\n",
      "Epoch 00137: val_acc did not improve from 0.95625\n",
      "Epoch 138/150\n",
      "48/48 [==============================] - 124s 3s/step - loss: 0.4633 - acc: 0.9186 - val_loss: 0.6946 - val_acc: 0.8313\n",
      "\n",
      "Epoch 00138: val_acc did not improve from 0.95625\n",
      "Epoch 139/150\n",
      "48/48 [==============================] - 122s 3s/step - loss: 0.4403 - acc: 0.9232 - val_loss: 0.5259 - val_acc: 0.8750\n",
      "\n",
      "Epoch 00139: val_acc did not improve from 0.95625\n",
      "Epoch 140/150\n",
      "48/48 [==============================] - 117s 2s/step - loss: 0.4611 - acc: 0.9160 - val_loss: 0.5364 - val_acc: 0.9000\n",
      "\n",
      "Epoch 00140: val_acc did not improve from 0.95625\n",
      "\n",
      "Epoch 00140: ReduceLROnPlateau reducing learning rate to 0.0008333333333333334.\n",
      "Epoch 141/150\n",
      "48/48 [==============================] - 121s 3s/step - loss: 0.4550 - acc: 0.9141 - val_loss: 0.7659 - val_acc: 0.8812\n",
      "\n",
      "Epoch 00141: val_acc did not improve from 0.95625\n",
      "Epoch 142/150\n",
      "48/48 [==============================] - 121s 3s/step - loss: 0.4455 - acc: 0.9297 - val_loss: 0.6298 - val_acc: 0.8875\n",
      "\n",
      "Epoch 00142: val_acc did not improve from 0.95625\n",
      "Epoch 143/150\n",
      "48/48 [==============================] - 117s 2s/step - loss: 0.4780 - acc: 0.9115 - val_loss: 0.5439 - val_acc: 0.8938\n",
      "\n",
      "Epoch 00143: val_acc did not improve from 0.95625\n",
      "Epoch 144/150\n",
      "48/48 [==============================] - 121s 3s/step - loss: 0.4831 - acc: 0.9108 - val_loss: 0.6865 - val_acc: 0.8750\n",
      "\n",
      "Epoch 00144: val_acc did not improve from 0.95625\n",
      "Epoch 145/150\n",
      "48/48 [==============================] - 117s 2s/step - loss: 0.4616 - acc: 0.9232 - val_loss: 0.6077 - val_acc: 0.8812\n",
      "\n",
      "Epoch 00145: val_acc did not improve from 0.95625\n",
      "Epoch 146/150\n",
      "48/48 [==============================] - 117s 2s/step - loss: 0.4388 - acc: 0.9245 - val_loss: 0.7074 - val_acc: 0.8812\n",
      "\n",
      "Epoch 00146: val_acc did not improve from 0.95625\n",
      "Epoch 147/150\n",
      "48/48 [==============================] - 120s 3s/step - loss: 0.4829 - acc: 0.9134 - val_loss: 0.5618 - val_acc: 0.8625\n",
      "\n",
      "Epoch 00147: val_acc did not improve from 0.95625\n",
      "Epoch 148/150\n",
      "48/48 [==============================] - 122s 3s/step - loss: 0.4546 - acc: 0.9199 - val_loss: 0.6980 - val_acc: 0.8500\n",
      "\n",
      "Epoch 00148: val_acc did not improve from 0.95625\n",
      "Epoch 149/150\n",
      "48/48 [==============================] - 116s 2s/step - loss: 0.4829 - acc: 0.9147 - val_loss: 0.8784 - val_acc: 0.8812\n",
      "\n",
      "Epoch 00149: val_acc did not improve from 0.95625\n",
      "Epoch 150/150\n",
      "48/48 [==============================] - 117s 2s/step - loss: 0.4734 - acc: 0.9232 - val_loss: 0.5487 - val_acc: 0.9062\n",
      "\n",
      "Epoch 00150: val_acc did not improve from 0.95625\n",
      "\n",
      "Epoch 00150: ReduceLROnPlateau reducing learning rate to 0.0008333333333333334.\n"
     ]
    }
   ],
   "source": [
    "nb_epoch = 150\n",
    "batch_size = 32\n",
    "#steps_per_epoch=int((len(X_val_new)*1.5)/batch_size)\n",
    "lr_reducer = ReduceLROnPlateau(monitor='val_loss', factor=0.05, \n",
    "                               cooldown=0, patience=10, min_lr=0.005/(2^4),verbose=1)\n",
    "hist = model.fit_generator(data_gen(train[\"Video\"].tolist()[0:],batch_size),\n",
    "                           validation_data=data_gen(validation[\"Video\"].tolist()[0:],batch_size),\n",
    "                           steps_per_epoch=len(train[\"Video\"].tolist()[0:])//(16*batch_size),\n",
    "                           validation_steps=len(validation[\"Video\"].tolist()[0:])//(16*batch_size),\n",
    "                           epochs = nb_epoch,\n",
    "                           callbacks=[checkpoint,lr_reducer]\n",
    "                          )"
   ]
  },
  {
   "cell_type": "code",
   "execution_count": 31,
   "metadata": {},
   "outputs": [
    {
     "data": {
      "text/plain": [
       "[0.5514316449039861, 0.9]"
      ]
     },
     "execution_count": 31,
     "metadata": {},
     "output_type": "execute_result"
    }
   ],
   "source": [
    "model.evaluate_generator(data_gen(validation[\"Video\"].tolist()[0:],batch_size),\n",
    "                         len(validation[\"Video\"].tolist()[0:])//(batch_size))"
   ]
  },
  {
   "cell_type": "code",
   "execution_count": 14,
   "metadata": {
    "scrolled": true
   },
   "outputs": [],
   "source": [
    "training_loss = hist.history['loss']\n",
    "val_loss = hist.history['val_loss']\n",
    "training_acc = hist.history['acc']\n",
    "val_acc = hist.history['val_acc']"
   ]
  },
  {
   "cell_type": "code",
   "execution_count": 15,
   "metadata": {
    "scrolled": false
   },
   "outputs": [
    {
     "data": {
      "text/plain": [
       "\"for entry in hist1.history['loss']:\\n    training_loss.append(entry)\\nfor entry in hist1.history['val_loss']:\\n    val_loss.append(entry)\\nfor entry in hist1.history['acc']:\\n    training_acc.append(entry)\\nfor entry in hist1.history['val_acc']:\\n    val_acc.append(entry)\""
      ]
     },
     "execution_count": 15,
     "metadata": {},
     "output_type": "execute_result"
    }
   ],
   "source": [
    "\"\"\"for entry in hist1.history['loss']:\n",
    "    training_loss.append(entry)\n",
    "for entry in hist1.history['val_loss']:\n",
    "    val_loss.append(entry)\n",
    "for entry in hist1.history['acc']:\n",
    "    training_acc.append(entry)\n",
    "for entry in hist1.history['val_acc']:\n",
    "    val_acc.append(entry)\"\"\""
   ]
  },
  {
   "cell_type": "code",
   "execution_count": 16,
   "metadata": {
    "scrolled": false
   },
   "outputs": [
    {
     "data": {
      "image/png": "[encoded data removed]",
      "text/plain": [
       "<Figure size 432x288 with 1 Axes>"
      ]
     },
     "metadata": {
      "needs_background": "light"
     },
     "output_type": "display_data"
    },
    {
     "data": {
      "text/plain": [
       "\"with open('deeploss_tr.pkl','rb') as fid:\\n    training_loss = pickle.load(fid)\""
      ]
     },
     "execution_count": 16,
     "metadata": {},
     "output_type": "execute_result"
    }
   ],
   "source": [
    "import pickle\n",
    "plt.plot(training_loss, label=\"training_loss\")\n",
    "plt.plot(val_loss, label=\"validation_loss\")\n",
    "plt.xlabel(\"Epochs\")\n",
    "plt.ylabel(\"Loss\")\n",
    "plt.title(\"Learning Curve\")\n",
    "plt.legend(loc='best')\n",
    "plt.show()\n",
    "\n",
    "with open('E:/Jupyter/Project/save_model/deeploss_tr.pkl','wb') as fid:\n",
    "    pickle.dump(training_loss, fid)\n",
    "with open('E:/Jupyter/Project/save_model/deeploss_val.pkl','wb') as fid:\n",
    "    pickle.dump(val_loss, fid)\n",
    "\"\"\"with open('deeploss_tr.pkl','rb') as fid:\n",
    "    training_loss = pickle.load(fid)\"\"\""
   ]
  },
  {
   "cell_type": "code",
   "execution_count": 17,
   "metadata": {
    "scrolled": false
   },
   "outputs": [
    {
     "data": {
      "image/png": "[encoded data removed]",
      "text/plain": [
       "<Figure size 432x288 with 1 Axes>"
      ]
     },
     "metadata": {
      "needs_background": "light"
     },
     "output_type": "display_data"
    }
   ],
   "source": [
    "\n",
    "plt.plot(training_acc, label=\"training_accuracy\")\n",
    "plt.plot(val_acc, label=\"validation_accuracy\")\n",
    "plt.xlabel(\"Epochs\")\n",
    "plt.ylabel(\"accuracy\")\n",
    "plt.title(\"Learning Curve\")\n",
    "plt.legend(loc='best')\n",
    "plt.show()\n",
    "\n",
    "with open('E:/Jupyter/Project/save_model/deepacc_tr.pkl','wb') as fid:\n",
    "    pickle.dump(training_acc, fid)\n",
    "with open('E:/Jupyter/Project/save_model/deepacc_val.pkl','wb') as fid:\n",
    "    pickle.dump(val_acc, fid)"
   ]
  },
  {
   "cell_type": "code",
   "execution_count": 6,
   "metadata": {
    "scrolled": false
   },
   "outputs": [
    {
     "ename": "NameError",
     "evalue": "name 'save_dir' is not defined",
     "output_type": "error",
     "traceback": [
      "\u001b[1;31m---------------------------------------------------------------------------\u001b[0m",
      "\u001b[1;31mNameError\u001b[0m                                 Traceback (most recent call last)",
      "\u001b[1;32m<ipython-input-6-b1d3405f2e03>\u001b[0m in \u001b[0;36m<module>\u001b[1;34m\u001b[0m\n\u001b[0;32m      1\u001b[0m \u001b[1;32mfrom\u001b[0m \u001b[0mkeras\u001b[0m\u001b[1;33m.\u001b[0m\u001b[0mmodels\u001b[0m \u001b[1;32mimport\u001b[0m \u001b[0mModel\u001b[0m\u001b[1;33m,\u001b[0m \u001b[0mload_model\u001b[0m\u001b[1;33m\u001b[0m\u001b[1;33m\u001b[0m\u001b[0m\n\u001b[0;32m      2\u001b[0m \u001b[0mmodel1_name\u001b[0m \u001b[1;33m=\u001b[0m \u001b[1;34m\"deep\"\u001b[0m\u001b[1;33m\u001b[0m\u001b[1;33m\u001b[0m\u001b[0m\n\u001b[1;32m----> 3\u001b[1;33m \u001b[0mmodel1_path\u001b[0m \u001b[1;33m=\u001b[0m \u001b[0mos\u001b[0m\u001b[1;33m.\u001b[0m\u001b[0mpath\u001b[0m\u001b[1;33m.\u001b[0m\u001b[0mjoin\u001b[0m\u001b[1;33m(\u001b[0m\u001b[0msave_dir\u001b[0m\u001b[1;33m,\u001b[0m \u001b[0mmodel1_name\u001b[0m\u001b[1;33m)\u001b[0m\u001b[1;33m\u001b[0m\u001b[1;33m\u001b[0m\u001b[0m\n\u001b[0m\u001b[0;32m      4\u001b[0m \u001b[0mmodel1\u001b[0m \u001b[1;33m=\u001b[0m \u001b[0mload_model\u001b[0m\u001b[1;33m(\u001b[0m\u001b[0mmodel1_path\u001b[0m\u001b[1;33m)\u001b[0m\u001b[1;33m\u001b[0m\u001b[1;33m\u001b[0m\u001b[0m\n",
      "\u001b[1;31mNameError\u001b[0m: name 'save_dir' is not defined"
     ]
    }
   ],
   "source": [
    "from keras.models import Model, load_model\n",
    "model1_name = \"deep\"\n",
    "model1_path = os.path.join(save_dir, model1_name)\n",
    "model1 = load_model(model1_path)"
   ]
  },
  {
   "cell_type": "code",
   "execution_count": 20,
   "metadata": {
    "scrolled": false
   },
   "outputs": [
    {
     "name": "stdout",
     "output_type": "stream",
     "text": [
      "[0 0 0 0 0 0 0 0 3 0 0 0 4 3 0 0 0 0 0 3]\n"
     ]
    }
   ],
   "source": [
    "test_pred =model1.predict(train_set[50:70])\n",
    "result = np.argmax(test_pred, axis =1)\n",
    "print(result)"
   ]
  },
  {
   "cell_type": "code",
   "execution_count": 21,
   "metadata": {
    "scrolled": false
   },
   "outputs": [
    {
     "name": "stdout",
     "output_type": "stream",
     "text": [
      "[[267   0   0   1   0   0]\n",
      " [141   6   6  71   3   5]\n",
      " [145   2  23  88   2   1]\n",
      " [215   0   0  40   1   0]\n",
      " [150   0   0  53  41   1]\n",
      " [135   0   0  48   4  51]]\n"
     ]
    }
   ],
   "source": [
    "img_array = train_set[50]\n",
    "from sklearn.metrics import confusion_matrix\n",
    "met = confusion_matrix(np.argmax(Y_train,axis =1), np.argmax(model1.predict(train_set),axis =1))\n",
    "print(met)\n",
    "met = [[]]"
   ]
  },
  {
   "cell_type": "code",
   "execution_count": 22,
   "metadata": {
    "scrolled": false
   },
   "outputs": [],
   "source": [
    "import itertools\n",
    "def confusion_matrix_plot(cm, classes, \n",
    "                          title='Normalized Confusion Matrix', \n",
    "                          normalize=True, \n",
    "                          cmap=plt.cm.Blues):\n",
    "    \"\"\"\n",
    "    This function prints and plots the confusion matrix.\n",
    "    Normalization can be applied by setting `normalize=True`.\n",
    "    \"\"\"\n",
    "    if normalize:\n",
    "        cm = cm.astype('float') / cm.sum(axis=1)[:, np.newaxis]\n",
    "        cm = np.around(cm, decimals=2)\n",
    "        cm[np.isnan(cm)] = 0.0\n",
    "    plt.subplots(1, 1, figsize=(8, 8))\n",
    "    plt.imshow(cm, interpolation='nearest', cmap=cmap)\n",
    "    plt.title(title)\n",
    "    #plt.colorbar()\n",
    "    tick_marks = np.arange(len(classes))\n",
    "    plt.xticks(tick_marks, classes, rotation=45)\n",
    "    plt.yticks(tick_marks, classes)\n",
    "\n",
    "    fmt = '.2f'\n",
    "    thresh = cm.max() / 2.\n",
    "    for i, j in itertools.product(range(cm.shape[0]), range(cm.shape[1])):\n",
    "        plt.text(j, i, format(cm[i, j], fmt),\n",
    "                 horizontalalignment=\"center\",\n",
    "                 color=\"white\" if cm[i, j] > thresh else \"black\")\n",
    "\n",
    "    plt.tight_layout()\n",
    "    plt.ylabel('True label')\n",
    "    plt.xlabel('Predicted label')"
   ]
  },
  {
   "cell_type": "code",
   "execution_count": 23,
   "metadata": {
    "scrolled": false
   },
   "outputs": [
    {
     "data": {
      "image/png": "[encoded data removed]",
      "text/plain": [
       "<Figure size 576x576 with 1 Axes>"
      ]
     },
     "metadata": {
      "needs_background": "light"
     },
     "output_type": "display_data"
    }
   ],
   "source": [
    "confusion_matrix_plot(met, classes=labels[labels[\"Class\"].isin([\"No gesture\",\"Swiping Left\",\"Swiping Right\",\"Stop Sign\",\"Rolling Hand Forward\",\"Rolling Hand Backward\"])].sort_values(by=['Label'])['Class'].tolist())"
   ]
  },
  {
   "cell_type": "code",
   "execution_count": 24,
   "metadata": {
    "scrolled": false
   },
   "outputs": [
    {
     "name": "stdout",
     "output_type": "stream",
     "text": [
      "1500/1500 [==============================] - ETA: 2: - ETA: 1: - ETA: 1: - ETA: 1: - ETA: 1: - ETA: 1: - ETA: 1: - ETA: 1: - ETA: 1: - ETA: 1: - ETA: 1: - ETA: 1: - ETA: 1: - ETA: 1: - ETA: 1: - ETA: 1: - ETA: 59s - ETA: 57 - ETA: 56 - ETA: 53 - ETA: 51 - ETA: 49 - ETA: 47 - ETA: 44 - ETA: 42 - ETA: 40 - ETA: 38 - ETA: 36 - ETA: 34 - ETA: 32 - ETA: 30 - ETA: 28 - ETA: 26 - ETA: 24 - ETA: 22 - ETA: 20 - ETA: 18 - ETA: 16 - ETA: 14 - ETA: 13 - ETA: 11 - ETA: 9 - ETA:  - ETA:  - ETA:  - ETA:  - 89s 59ms/step\n"
     ]
    },
    {
     "data": {
      "text/plain": [
       "[4.131080926259359, 0.28533333317438764]"
      ]
     },
     "execution_count": 24,
     "metadata": {},
     "output_type": "execute_result"
    }
   ],
   "source": [
    "model1.evaluate(train_set,Y_train)"
   ]
  },
  {
   "cell_type": "code",
   "execution_count": 25,
   "metadata": {
    "scrolled": false
   },
   "outputs": [
    {
     "name": "stdout",
     "output_type": "stream",
     "text": [
      "1500/1500 [==============================] - ETA: 1: - ETA: 1: - ETA: 1: - ETA: 1: - ETA: 1: - ETA: 1: - ETA: 1: - ETA: 1: - ETA: 1: - ETA: 1: - ETA: 1: - ETA: 1: - ETA: 1: - ETA: 1: - ETA: 1: - ETA: 1: - ETA: 57s - ETA: 55 - ETA: 53 - ETA: 52 - ETA: 50 - ETA: 48 - ETA: 46 - ETA: 44 - ETA: 41 - ETA: 39 - ETA: 37 - ETA: 36 - ETA: 34 - ETA: 32 - ETA: 30 - ETA: 28 - ETA: 26 - ETA: 24 - ETA: 22 - ETA: 21 - ETA: 19 - ETA: 17 - ETA: 15 - ETA: 13 - ETA: 11 - ETA: 9 - ETA:  - ETA:  - ETA:  - ETA:  - 90s 60ms/step\n"
     ]
    },
    {
     "data": {
      "text/plain": [
       "[3.1296281255086265, 0.4259999997615814]"
      ]
     },
     "execution_count": 25,
     "metadata": {},
     "output_type": "execute_result"
    }
   ],
   "source": [
    "model.evaluate(train_set,Y_train)"
   ]
  },
  {
   "cell_type": "code",
   "execution_count": 26,
   "metadata": {},
   "outputs": [
    {
     "name": "stdout",
     "output_type": "stream",
     "text": [
      "(1, 64, 100, 176, 2)\n",
      "(1, 64, 50, 88, 2) max_pooling3d_1\n",
      "(1, 64, 46, 84, 8) conv3d_1\n",
      "(1, 60, 46, 84, 8) conv3d_2\n",
      "(1, 60, 23, 42, 8) max_pooling3d_2\n",
      "(1, 60, 19, 38, 32) conv3d_3\n",
      "(1, 58, 19, 38, 32) conv3d_4\n",
      "(1, 29, 9, 19, 32) max_pooling3d_3\n",
      "(1, 29, 7, 15, 64) conv3d_5\n",
      "(1, 27, 7, 15, 64) conv3d_6\n",
      "(1, 27, 7, 3, 64) max_pooling3d_4\n",
      "(1, 27, 7, 3, 64) gatedclstm1\n",
      "(1, 27, 7, 3, 64) gatedclstm2\n"
     ]
    },
    {
     "data": {
      "image/png": "[encoded data removed]",
      "text/plain": [
       "<Figure size 432x288 with 1 Axes>"
      ]
     },
     "metadata": {
      "needs_background": "light"
     },
     "output_type": "display_data"
    },
    {
     "data": {
      "image/png": "[encoded data removed]",
      "text/plain": [
       "<Figure size 432x288 with 1 Axes>"
      ]
     },
     "metadata": {
      "needs_background": "light"
     },
     "output_type": "display_data"
    },
    {
     "data": {
      "image/png": "[encoded data removed]",
      "text/plain": [
       "<Figure size 432x288 with 1 Axes>"
      ]
     },
     "metadata": {
      "needs_background": "light"
     },
     "output_type": "display_data"
    },
    {
     "data": {
      "image/png": "[encoded data removed]",
      "text/plain": [
       "<Figure size 432x288 with 1 Axes>"
      ]
     },
     "metadata": {
      "needs_background": "light"
     },
     "output_type": "display_data"
    },
    {
     "data": {
      "image/png": "[encoded data removed]",
      "text/plain": [
       "<Figure size 432x288 with 1 Axes>"
      ]
     },
     "metadata": {
      "needs_background": "light"
     },
     "output_type": "display_data"
    },
    {
     "data": {
      "image/png": "[encoded data removed]",
      "text/plain": [
       "<Figure size 432x288 with 1 Axes>"
      ]
     },
     "metadata": {
      "needs_background": "light"
     },
     "output_type": "display_data"
    },
    {
     "data": {
      "image/png": "[encoded data removed]",
      "text/plain": [
       "<Figure size 432x288 with 1 Axes>"
      ]
     },
     "metadata": {
      "needs_background": "light"
     },
     "output_type": "display_data"
    },
    {
     "data": {
      "image/png": "[encoded data removed]",
      "text/plain": [
       "<Figure size 432x288 with 1 Axes>"
      ]
     },
     "metadata": {
      "needs_background": "light"
     },
     "output_type": "display_data"
    },
    {
     "data": {
      "image/png": "[encoded data removed]",
      "text/plain": [
       "<Figure size 432x288 with 1 Axes>"
      ]
     },
     "metadata": {
      "needs_background": "light"
     },
     "output_type": "display_data"
    },
    {
     "data": {
      "image/png": "[encoded data removed]",
      "text/plain": [
       "<Figure size 432x288 with 1 Axes>"
      ]
     },
     "metadata": {
      "needs_background": "light"
     },
     "output_type": "display_data"
    },
    {
     "data": {
      "image/png": "[encoded data removed]",
      "text/plain": [
       "<Figure size 432x288 with 1 Axes>"
      ]
     },
     "metadata": {
      "needs_background": "light"
     },
     "output_type": "display_data"
    },
    {
     "data": {
      "text/plain": [
       "<Figure size 432x288 with 0 Axes>"
      ]
     },
     "metadata": {},
     "output_type": "display_data"
    },
    {
     "data": {
      "text/plain": [
       "<Figure size 432x288 with 0 Axes>"
      ]
     },
     "metadata": {},
     "output_type": "display_data"
    }
   ],
   "source": [
    "import numpy as np\n",
    "import matplotlib.pyplot as plt\n",
    "import matplotlib.animation as animation\n",
    "\n",
    "layer_outputs = [layer.output for layer in model1.layers[:12]]\n",
    "activation_model = Model(inputs=model1.input, outputs=layer_outputs)\n",
    "activations=activation_model.predict(train_set[50:51])\n",
    "print(train_set[50:51].shape)\n",
    "fig = plt.figure()\n",
    "\n",
    "# ims is a list of lists, each row is a list of artists to draw in the\n",
    "# current frame; here we are just animating one artist, the image, in\n",
    "# each frame\n",
    "ims = []\n",
    "for i in range(train_set[50:51].shape[1]):\n",
    "    im = plt.imshow(train_set[50:51][0, i, :,:, 0], cmap='viridis')\n",
    "    ims.append([im])\n",
    "\n",
    "ani = animation.ArtistAnimation(fig, ims, interval=50, blit=True,\n",
    "                                repeat_delay=1000)\n",
    "\n",
    "ani.save('input' + '.mp4')\n",
    "\n",
    "layer_num = 0\n",
    "layer_names=[]\n",
    "for layer in model1.layers[:15]:\n",
    "    layer_names.append(layer.name)\n",
    "for layer_name, layer_activation in zip(layer_names, activations):\n",
    "\n",
    "    fig = plt.figure()\n",
    "\n",
    "    # ims is a list of lists, each row is a list of artists to draw in the\n",
    "    # current frame; here we are just animating one artist, the image, in\n",
    "    # each frame\n",
    "    ims = []\n",
    "    print(layer_activation.shape,layer_name)\n",
    "    if layer_num<10:\n",
    "        for i in range(layer_activation.shape[1]):\n",
    "            im = plt.imshow(layer_activation[0, i, :,:, 0], cmap='viridis')\n",
    "            ims.append([im])\n",
    "     \n",
    "        ani = animation.ArtistAnimation(fig, ims, interval=50, blit=True,\n",
    "                                        repeat_delay=1000)\n",
    "        ani.save('activation' + str(layer_num) + layer_name + '.mp4')\n",
    "        layer_num +=1"
   ]
  },
  {
   "cell_type": "code",
   "execution_count": 27,
   "metadata": {},
   "outputs": [
    {
     "name": "stdout",
     "output_type": "stream",
     "text": [
      "(1, 64, 50, 88, 2)\n"
     ]
    },
    {
     "name": "stderr",
     "output_type": "stream",
     "text": [
      "C:\\ProgramData\\Anaconda3\\lib\\site-packages\\matplotlib\\image.py:865: UserWarning: Attempting to set identical bottom==top results\n",
      "in singular transformations; automatically expanding.\n",
      "bottom=-0.5, top=-0.5\n",
      "  self.axes.set_ylim((ymin, ymax), auto=None)\n"
     ]
    },
    {
     "ename": "ValueError",
     "evalue": "could not broadcast input array from shape (60,19,32) into shape (60,60)",
     "output_type": "error",
     "traceback": [
      "\u001b[1;31m---------------------------------------------------------------------------\u001b[0m",
      "\u001b[1;31mValueError\u001b[0m                                Traceback (most recent call last)",
      "\u001b[1;32m<ipython-input-27-d198cce1236f>\u001b[0m in \u001b[0;36m<module>\u001b[1;34m\u001b[0m\n\u001b[0;32m     29\u001b[0m             \u001b[0mchannel_image\u001b[0m \u001b[1;33m=\u001b[0m \u001b[0mnp\u001b[0m\u001b[1;33m.\u001b[0m\u001b[0mclip\u001b[0m\u001b[1;33m(\u001b[0m\u001b[0mchannel_image\u001b[0m\u001b[1;33m,\u001b[0m \u001b[1;36m0\u001b[0m\u001b[1;33m,\u001b[0m \u001b[1;36m255\u001b[0m\u001b[1;33m)\u001b[0m\u001b[1;33m.\u001b[0m\u001b[0mastype\u001b[0m\u001b[1;33m(\u001b[0m\u001b[1;34m'uint8'\u001b[0m\u001b[1;33m)\u001b[0m\u001b[1;33m\u001b[0m\u001b[1;33m\u001b[0m\u001b[0m\n\u001b[0;32m     30\u001b[0m             display_grid[col * size : (col + 1) * size, # Displays the grid\n\u001b[1;32m---> 31\u001b[1;33m                          row * size : (row + 1) * size] = channel_image\n\u001b[0m\u001b[0;32m     32\u001b[0m     \u001b[0mscale\u001b[0m \u001b[1;33m=\u001b[0m \u001b[1;36m1.\u001b[0m \u001b[1;33m/\u001b[0m \u001b[0msize\u001b[0m\u001b[1;33m\u001b[0m\u001b[1;33m\u001b[0m\u001b[0m\n\u001b[0;32m     33\u001b[0m     plt.figure(figsize=(scale * display_grid.shape[1],\n",
      "\u001b[1;31mValueError\u001b[0m: could not broadcast input array from shape (60,19,32) into shape (60,60)"
     ]
    },
    {
     "name": "stderr",
     "output_type": "stream",
     "text": [
      "C:\\ProgramData\\Anaconda3\\lib\\site-packages\\matplotlib\\axis.py:1081: UserWarning: Unable to find pixel distance along axis for interval padding of ticks; assuming no interval padding needed.\n",
      "  warnings.warn(\"Unable to find pixel distance along axis \"\n",
      "C:\\ProgramData\\Anaconda3\\lib\\site-packages\\matplotlib\\axis.py:1091: UserWarning: Unable to find pixel distance along axis for interval padding of ticks; assuming no interval padding needed.\n",
      "  warnings.warn(\"Unable to find pixel distance along axis \"\n"
     ]
    },
    {
     "data": {
      "image/png": "[encoded data removed]",
      "text/plain": [
       "<Figure size 506.88x288 with 1 Axes>"
      ]
     },
     "metadata": {
      "needs_background": "light"
     },
     "output_type": "display_data"
    },
    {
     "ename": "RuntimeError",
     "evalue": "libpng signaled error",
     "output_type": "error",
     "traceback": [
      "\u001b[1;31m---------------------------------------------------------------------------\u001b[0m",
      "\u001b[1;31mRuntimeError\u001b[0m                              Traceback (most recent call last)",
      "\u001b[1;32mC:\\ProgramData\\Anaconda3\\lib\\site-packages\\IPython\\core\\formatters.py\u001b[0m in \u001b[0;36m__call__\u001b[1;34m(self, obj)\u001b[0m\n\u001b[0;32m    339\u001b[0m                 \u001b[1;32mpass\u001b[0m\u001b[1;33m\u001b[0m\u001b[1;33m\u001b[0m\u001b[0m\n\u001b[0;32m    340\u001b[0m             \u001b[1;32melse\u001b[0m\u001b[1;33m:\u001b[0m\u001b[1;33m\u001b[0m\u001b[1;33m\u001b[0m\u001b[0m\n\u001b[1;32m--> 341\u001b[1;33m                 \u001b[1;32mreturn\u001b[0m \u001b[0mprinter\u001b[0m\u001b[1;33m(\u001b[0m\u001b[0mobj\u001b[0m\u001b[1;33m)\u001b[0m\u001b[1;33m\u001b[0m\u001b[1;33m\u001b[0m\u001b[0m\n\u001b[0m\u001b[0;32m    342\u001b[0m             \u001b[1;31m# Finally look for special method names\u001b[0m\u001b[1;33m\u001b[0m\u001b[1;33m\u001b[0m\u001b[1;33m\u001b[0m\u001b[0m\n\u001b[0;32m    343\u001b[0m             \u001b[0mmethod\u001b[0m \u001b[1;33m=\u001b[0m \u001b[0mget_real_method\u001b[0m\u001b[1;33m(\u001b[0m\u001b[0mobj\u001b[0m\u001b[1;33m,\u001b[0m \u001b[0mself\u001b[0m\u001b[1;33m.\u001b[0m\u001b[0mprint_method\u001b[0m\u001b[1;33m)\u001b[0m\u001b[1;33m\u001b[0m\u001b[1;33m\u001b[0m\u001b[0m\n",
      "\u001b[1;32mC:\\ProgramData\\Anaconda3\\lib\\site-packages\\IPython\\core\\pylabtools.py\u001b[0m in \u001b[0;36m<lambda>\u001b[1;34m(fig)\u001b[0m\n\u001b[0;32m    242\u001b[0m \u001b[1;33m\u001b[0m\u001b[0m\n\u001b[0;32m    243\u001b[0m     \u001b[1;32mif\u001b[0m \u001b[1;34m'png'\u001b[0m \u001b[1;32min\u001b[0m \u001b[0mformats\u001b[0m\u001b[1;33m:\u001b[0m\u001b[1;33m\u001b[0m\u001b[1;33m\u001b[0m\u001b[0m\n\u001b[1;32m--> 244\u001b[1;33m         \u001b[0mpng_formatter\u001b[0m\u001b[1;33m.\u001b[0m\u001b[0mfor_type\u001b[0m\u001b[1;33m(\u001b[0m\u001b[0mFigure\u001b[0m\u001b[1;33m,\u001b[0m \u001b[1;32mlambda\u001b[0m \u001b[0mfig\u001b[0m\u001b[1;33m:\u001b[0m \u001b[0mprint_figure\u001b[0m\u001b[1;33m(\u001b[0m\u001b[0mfig\u001b[0m\u001b[1;33m,\u001b[0m \u001b[1;34m'png'\u001b[0m\u001b[1;33m,\u001b[0m \u001b[1;33m**\u001b[0m\u001b[0mkwargs\u001b[0m\u001b[1;33m)\u001b[0m\u001b[1;33m)\u001b[0m\u001b[1;33m\u001b[0m\u001b[1;33m\u001b[0m\u001b[0m\n\u001b[0m\u001b[0;32m    245\u001b[0m     \u001b[1;32mif\u001b[0m \u001b[1;34m'retina'\u001b[0m \u001b[1;32min\u001b[0m \u001b[0mformats\u001b[0m \u001b[1;32mor\u001b[0m \u001b[1;34m'png2x'\u001b[0m \u001b[1;32min\u001b[0m \u001b[0mformats\u001b[0m\u001b[1;33m:\u001b[0m\u001b[1;33m\u001b[0m\u001b[1;33m\u001b[0m\u001b[0m\n\u001b[0;32m    246\u001b[0m         \u001b[0mpng_formatter\u001b[0m\u001b[1;33m.\u001b[0m\u001b[0mfor_type\u001b[0m\u001b[1;33m(\u001b[0m\u001b[0mFigure\u001b[0m\u001b[1;33m,\u001b[0m \u001b[1;32mlambda\u001b[0m \u001b[0mfig\u001b[0m\u001b[1;33m:\u001b[0m \u001b[0mretina_figure\u001b[0m\u001b[1;33m(\u001b[0m\u001b[0mfig\u001b[0m\u001b[1;33m,\u001b[0m \u001b[1;33m**\u001b[0m\u001b[0mkwargs\u001b[0m\u001b[1;33m)\u001b[0m\u001b[1;33m)\u001b[0m\u001b[1;33m\u001b[0m\u001b[1;33m\u001b[0m\u001b[0m\n",
      "\u001b[1;32mC:\\ProgramData\\Anaconda3\\lib\\site-packages\\IPython\\core\\pylabtools.py\u001b[0m in \u001b[0;36mprint_figure\u001b[1;34m(fig, fmt, bbox_inches, **kwargs)\u001b[0m\n\u001b[0;32m    126\u001b[0m \u001b[1;33m\u001b[0m\u001b[0m\n\u001b[0;32m    127\u001b[0m     \u001b[0mbytes_io\u001b[0m \u001b[1;33m=\u001b[0m \u001b[0mBytesIO\u001b[0m\u001b[1;33m(\u001b[0m\u001b[1;33m)\u001b[0m\u001b[1;33m\u001b[0m\u001b[1;33m\u001b[0m\u001b[0m\n\u001b[1;32m--> 128\u001b[1;33m     \u001b[0mfig\u001b[0m\u001b[1;33m.\u001b[0m\u001b[0mcanvas\u001b[0m\u001b[1;33m.\u001b[0m\u001b[0mprint_figure\u001b[0m\u001b[1;33m(\u001b[0m\u001b[0mbytes_io\u001b[0m\u001b[1;33m,\u001b[0m \u001b[1;33m**\u001b[0m\u001b[0mkw\u001b[0m\u001b[1;33m)\u001b[0m\u001b[1;33m\u001b[0m\u001b[1;33m\u001b[0m\u001b[0m\n\u001b[0m\u001b[0;32m    129\u001b[0m     \u001b[0mdata\u001b[0m \u001b[1;33m=\u001b[0m \u001b[0mbytes_io\u001b[0m\u001b[1;33m.\u001b[0m\u001b[0mgetvalue\u001b[0m\u001b[1;33m(\u001b[0m\u001b[1;33m)\u001b[0m\u001b[1;33m\u001b[0m\u001b[1;33m\u001b[0m\u001b[0m\n\u001b[0;32m    130\u001b[0m     \u001b[1;32mif\u001b[0m \u001b[0mfmt\u001b[0m \u001b[1;33m==\u001b[0m \u001b[1;34m'svg'\u001b[0m\u001b[1;33m:\u001b[0m\u001b[1;33m\u001b[0m\u001b[1;33m\u001b[0m\u001b[0m\n",
      "\u001b[1;32mC:\\ProgramData\\Anaconda3\\lib\\site-packages\\matplotlib\\backend_bases.py\u001b[0m in \u001b[0;36mprint_figure\u001b[1;34m(self, filename, dpi, facecolor, edgecolor, orientation, format, bbox_inches, **kwargs)\u001b[0m\n\u001b[0;32m   2047\u001b[0m                         \u001b[0morientation\u001b[0m\u001b[1;33m=\u001b[0m\u001b[0morientation\u001b[0m\u001b[1;33m,\u001b[0m\u001b[1;33m\u001b[0m\u001b[1;33m\u001b[0m\u001b[0m\n\u001b[0;32m   2048\u001b[0m                         \u001b[0mdryrun\u001b[0m\u001b[1;33m=\u001b[0m\u001b[1;32mTrue\u001b[0m\u001b[1;33m,\u001b[0m\u001b[1;33m\u001b[0m\u001b[1;33m\u001b[0m\u001b[0m\n\u001b[1;32m-> 2049\u001b[1;33m                         **kwargs)\n\u001b[0m\u001b[0;32m   2050\u001b[0m                     \u001b[0mrenderer\u001b[0m \u001b[1;33m=\u001b[0m \u001b[0mself\u001b[0m\u001b[1;33m.\u001b[0m\u001b[0mfigure\u001b[0m\u001b[1;33m.\u001b[0m\u001b[0m_cachedRenderer\u001b[0m\u001b[1;33m\u001b[0m\u001b[1;33m\u001b[0m\u001b[0m\n\u001b[0;32m   2051\u001b[0m                     \u001b[0mbbox_artists\u001b[0m \u001b[1;33m=\u001b[0m \u001b[0mkwargs\u001b[0m\u001b[1;33m.\u001b[0m\u001b[0mpop\u001b[0m\u001b[1;33m(\u001b[0m\u001b[1;34m\"bbox_extra_artists\"\u001b[0m\u001b[1;33m,\u001b[0m \u001b[1;32mNone\u001b[0m\u001b[1;33m)\u001b[0m\u001b[1;33m\u001b[0m\u001b[1;33m\u001b[0m\u001b[0m\n",
      "\u001b[1;32mC:\\ProgramData\\Anaconda3\\lib\\site-packages\\matplotlib\\backends\\backend_agg.py\u001b[0m in \u001b[0;36mprint_png\u001b[1;34m(self, filename_or_obj, *args, **kwargs)\u001b[0m\n\u001b[0;32m    521\u001b[0m                 \u001b[0mcbook\u001b[0m\u001b[1;33m.\u001b[0m\u001b[0mopen_file_cm\u001b[0m\u001b[1;33m(\u001b[0m\u001b[0mfilename_or_obj\u001b[0m\u001b[1;33m,\u001b[0m \u001b[1;34m\"wb\"\u001b[0m\u001b[1;33m)\u001b[0m \u001b[1;32mas\u001b[0m \u001b[0mfh\u001b[0m\u001b[1;33m:\u001b[0m\u001b[1;33m\u001b[0m\u001b[1;33m\u001b[0m\u001b[0m\n\u001b[0;32m    522\u001b[0m             _png.write_png(renderer._renderer, fh,\n\u001b[1;32m--> 523\u001b[1;33m                             self.figure.dpi, metadata=metadata)\n\u001b[0m\u001b[0;32m    524\u001b[0m \u001b[1;33m\u001b[0m\u001b[0m\n\u001b[0;32m    525\u001b[0m     \u001b[1;32mdef\u001b[0m \u001b[0mprint_to_buffer\u001b[0m\u001b[1;33m(\u001b[0m\u001b[0mself\u001b[0m\u001b[1;33m)\u001b[0m\u001b[1;33m:\u001b[0m\u001b[1;33m\u001b[0m\u001b[1;33m\u001b[0m\u001b[0m\n",
      "\u001b[1;31mRuntimeError\u001b[0m: libpng signaled error"
     ]
    },
    {
     "data": {
      "text/plain": [
       "<Figure size 1152x0 with 1 Axes>"
      ]
     },
     "metadata": {
      "needs_background": "light"
     },
     "output_type": "display_data"
    },
    {
     "ename": "RuntimeError",
     "evalue": "libpng signaled error",
     "output_type": "error",
     "traceback": [
      "\u001b[1;31m---------------------------------------------------------------------------\u001b[0m",
      "\u001b[1;31mRuntimeError\u001b[0m                              Traceback (most recent call last)",
      "\u001b[1;32mC:\\ProgramData\\Anaconda3\\lib\\site-packages\\IPython\\core\\formatters.py\u001b[0m in \u001b[0;36m__call__\u001b[1;34m(self, obj)\u001b[0m\n\u001b[0;32m    339\u001b[0m                 \u001b[1;32mpass\u001b[0m\u001b[1;33m\u001b[0m\u001b[1;33m\u001b[0m\u001b[0m\n\u001b[0;32m    340\u001b[0m             \u001b[1;32melse\u001b[0m\u001b[1;33m:\u001b[0m\u001b[1;33m\u001b[0m\u001b[1;33m\u001b[0m\u001b[0m\n\u001b[1;32m--> 341\u001b[1;33m                 \u001b[1;32mreturn\u001b[0m \u001b[0mprinter\u001b[0m\u001b[1;33m(\u001b[0m\u001b[0mobj\u001b[0m\u001b[1;33m)\u001b[0m\u001b[1;33m\u001b[0m\u001b[1;33m\u001b[0m\u001b[0m\n\u001b[0m\u001b[0;32m    342\u001b[0m             \u001b[1;31m# Finally look for special method names\u001b[0m\u001b[1;33m\u001b[0m\u001b[1;33m\u001b[0m\u001b[1;33m\u001b[0m\u001b[0m\n\u001b[0;32m    343\u001b[0m             \u001b[0mmethod\u001b[0m \u001b[1;33m=\u001b[0m \u001b[0mget_real_method\u001b[0m\u001b[1;33m(\u001b[0m\u001b[0mobj\u001b[0m\u001b[1;33m,\u001b[0m \u001b[0mself\u001b[0m\u001b[1;33m.\u001b[0m\u001b[0mprint_method\u001b[0m\u001b[1;33m)\u001b[0m\u001b[1;33m\u001b[0m\u001b[1;33m\u001b[0m\u001b[0m\n",
      "\u001b[1;32mC:\\ProgramData\\Anaconda3\\lib\\site-packages\\IPython\\core\\pylabtools.py\u001b[0m in \u001b[0;36m<lambda>\u001b[1;34m(fig)\u001b[0m\n\u001b[0;32m    242\u001b[0m \u001b[1;33m\u001b[0m\u001b[0m\n\u001b[0;32m    243\u001b[0m     \u001b[1;32mif\u001b[0m \u001b[1;34m'png'\u001b[0m \u001b[1;32min\u001b[0m \u001b[0mformats\u001b[0m\u001b[1;33m:\u001b[0m\u001b[1;33m\u001b[0m\u001b[1;33m\u001b[0m\u001b[0m\n\u001b[1;32m--> 244\u001b[1;33m         \u001b[0mpng_formatter\u001b[0m\u001b[1;33m.\u001b[0m\u001b[0mfor_type\u001b[0m\u001b[1;33m(\u001b[0m\u001b[0mFigure\u001b[0m\u001b[1;33m,\u001b[0m \u001b[1;32mlambda\u001b[0m \u001b[0mfig\u001b[0m\u001b[1;33m:\u001b[0m \u001b[0mprint_figure\u001b[0m\u001b[1;33m(\u001b[0m\u001b[0mfig\u001b[0m\u001b[1;33m,\u001b[0m \u001b[1;34m'png'\u001b[0m\u001b[1;33m,\u001b[0m \u001b[1;33m**\u001b[0m\u001b[0mkwargs\u001b[0m\u001b[1;33m)\u001b[0m\u001b[1;33m)\u001b[0m\u001b[1;33m\u001b[0m\u001b[1;33m\u001b[0m\u001b[0m\n\u001b[0m\u001b[0;32m    245\u001b[0m     \u001b[1;32mif\u001b[0m \u001b[1;34m'retina'\u001b[0m \u001b[1;32min\u001b[0m \u001b[0mformats\u001b[0m \u001b[1;32mor\u001b[0m \u001b[1;34m'png2x'\u001b[0m \u001b[1;32min\u001b[0m \u001b[0mformats\u001b[0m\u001b[1;33m:\u001b[0m\u001b[1;33m\u001b[0m\u001b[1;33m\u001b[0m\u001b[0m\n\u001b[0;32m    246\u001b[0m         \u001b[0mpng_formatter\u001b[0m\u001b[1;33m.\u001b[0m\u001b[0mfor_type\u001b[0m\u001b[1;33m(\u001b[0m\u001b[0mFigure\u001b[0m\u001b[1;33m,\u001b[0m \u001b[1;32mlambda\u001b[0m \u001b[0mfig\u001b[0m\u001b[1;33m:\u001b[0m \u001b[0mretina_figure\u001b[0m\u001b[1;33m(\u001b[0m\u001b[0mfig\u001b[0m\u001b[1;33m,\u001b[0m \u001b[1;33m**\u001b[0m\u001b[0mkwargs\u001b[0m\u001b[1;33m)\u001b[0m\u001b[1;33m)\u001b[0m\u001b[1;33m\u001b[0m\u001b[1;33m\u001b[0m\u001b[0m\n",
      "\u001b[1;32mC:\\ProgramData\\Anaconda3\\lib\\site-packages\\IPython\\core\\pylabtools.py\u001b[0m in \u001b[0;36mprint_figure\u001b[1;34m(fig, fmt, bbox_inches, **kwargs)\u001b[0m\n\u001b[0;32m    126\u001b[0m \u001b[1;33m\u001b[0m\u001b[0m\n\u001b[0;32m    127\u001b[0m     \u001b[0mbytes_io\u001b[0m \u001b[1;33m=\u001b[0m \u001b[0mBytesIO\u001b[0m\u001b[1;33m(\u001b[0m\u001b[1;33m)\u001b[0m\u001b[1;33m\u001b[0m\u001b[1;33m\u001b[0m\u001b[0m\n\u001b[1;32m--> 128\u001b[1;33m     \u001b[0mfig\u001b[0m\u001b[1;33m.\u001b[0m\u001b[0mcanvas\u001b[0m\u001b[1;33m.\u001b[0m\u001b[0mprint_figure\u001b[0m\u001b[1;33m(\u001b[0m\u001b[0mbytes_io\u001b[0m\u001b[1;33m,\u001b[0m \u001b[1;33m**\u001b[0m\u001b[0mkw\u001b[0m\u001b[1;33m)\u001b[0m\u001b[1;33m\u001b[0m\u001b[1;33m\u001b[0m\u001b[0m\n\u001b[0m\u001b[0;32m    129\u001b[0m     \u001b[0mdata\u001b[0m \u001b[1;33m=\u001b[0m \u001b[0mbytes_io\u001b[0m\u001b[1;33m.\u001b[0m\u001b[0mgetvalue\u001b[0m\u001b[1;33m(\u001b[0m\u001b[1;33m)\u001b[0m\u001b[1;33m\u001b[0m\u001b[1;33m\u001b[0m\u001b[0m\n\u001b[0;32m    130\u001b[0m     \u001b[1;32mif\u001b[0m \u001b[0mfmt\u001b[0m \u001b[1;33m==\u001b[0m \u001b[1;34m'svg'\u001b[0m\u001b[1;33m:\u001b[0m\u001b[1;33m\u001b[0m\u001b[1;33m\u001b[0m\u001b[0m\n",
      "\u001b[1;32mC:\\ProgramData\\Anaconda3\\lib\\site-packages\\matplotlib\\backend_bases.py\u001b[0m in \u001b[0;36mprint_figure\u001b[1;34m(self, filename, dpi, facecolor, edgecolor, orientation, format, bbox_inches, **kwargs)\u001b[0m\n\u001b[0;32m   2047\u001b[0m                         \u001b[0morientation\u001b[0m\u001b[1;33m=\u001b[0m\u001b[0morientation\u001b[0m\u001b[1;33m,\u001b[0m\u001b[1;33m\u001b[0m\u001b[1;33m\u001b[0m\u001b[0m\n\u001b[0;32m   2048\u001b[0m                         \u001b[0mdryrun\u001b[0m\u001b[1;33m=\u001b[0m\u001b[1;32mTrue\u001b[0m\u001b[1;33m,\u001b[0m\u001b[1;33m\u001b[0m\u001b[1;33m\u001b[0m\u001b[0m\n\u001b[1;32m-> 2049\u001b[1;33m                         **kwargs)\n\u001b[0m\u001b[0;32m   2050\u001b[0m                     \u001b[0mrenderer\u001b[0m \u001b[1;33m=\u001b[0m \u001b[0mself\u001b[0m\u001b[1;33m.\u001b[0m\u001b[0mfigure\u001b[0m\u001b[1;33m.\u001b[0m\u001b[0m_cachedRenderer\u001b[0m\u001b[1;33m\u001b[0m\u001b[1;33m\u001b[0m\u001b[0m\n\u001b[0;32m   2051\u001b[0m                     \u001b[0mbbox_artists\u001b[0m \u001b[1;33m=\u001b[0m \u001b[0mkwargs\u001b[0m\u001b[1;33m.\u001b[0m\u001b[0mpop\u001b[0m\u001b[1;33m(\u001b[0m\u001b[1;34m\"bbox_extra_artists\"\u001b[0m\u001b[1;33m,\u001b[0m \u001b[1;32mNone\u001b[0m\u001b[1;33m)\u001b[0m\u001b[1;33m\u001b[0m\u001b[1;33m\u001b[0m\u001b[0m\n",
      "\u001b[1;32mC:\\ProgramData\\Anaconda3\\lib\\site-packages\\matplotlib\\backends\\backend_agg.py\u001b[0m in \u001b[0;36mprint_png\u001b[1;34m(self, filename_or_obj, *args, **kwargs)\u001b[0m\n\u001b[0;32m    521\u001b[0m                 \u001b[0mcbook\u001b[0m\u001b[1;33m.\u001b[0m\u001b[0mopen_file_cm\u001b[0m\u001b[1;33m(\u001b[0m\u001b[0mfilename_or_obj\u001b[0m\u001b[1;33m,\u001b[0m \u001b[1;34m\"wb\"\u001b[0m\u001b[1;33m)\u001b[0m \u001b[1;32mas\u001b[0m \u001b[0mfh\u001b[0m\u001b[1;33m:\u001b[0m\u001b[1;33m\u001b[0m\u001b[1;33m\u001b[0m\u001b[0m\n\u001b[0;32m    522\u001b[0m             _png.write_png(renderer._renderer, fh,\n\u001b[1;32m--> 523\u001b[1;33m                             self.figure.dpi, metadata=metadata)\n\u001b[0m\u001b[0;32m    524\u001b[0m \u001b[1;33m\u001b[0m\u001b[0m\n\u001b[0;32m    525\u001b[0m     \u001b[1;32mdef\u001b[0m \u001b[0mprint_to_buffer\u001b[0m\u001b[1;33m(\u001b[0m\u001b[0mself\u001b[0m\u001b[1;33m)\u001b[0m\u001b[1;33m:\u001b[0m\u001b[1;33m\u001b[0m\u001b[1;33m\u001b[0m\u001b[0m\n",
      "\u001b[1;31mRuntimeError\u001b[0m: libpng signaled error"
     ]
    },
    {
     "data": {
      "text/plain": [
       "<Figure size 1152x0 with 1 Axes>"
      ]
     },
     "metadata": {
      "needs_background": "light"
     },
     "output_type": "display_data"
    },
    {
     "ename": "RuntimeError",
     "evalue": "libpng signaled error",
     "output_type": "error",
     "traceback": [
      "\u001b[1;31m---------------------------------------------------------------------------\u001b[0m",
      "\u001b[1;31mRuntimeError\u001b[0m                              Traceback (most recent call last)",
      "\u001b[1;32mC:\\ProgramData\\Anaconda3\\lib\\site-packages\\IPython\\core\\formatters.py\u001b[0m in \u001b[0;36m__call__\u001b[1;34m(self, obj)\u001b[0m\n\u001b[0;32m    339\u001b[0m                 \u001b[1;32mpass\u001b[0m\u001b[1;33m\u001b[0m\u001b[1;33m\u001b[0m\u001b[0m\n\u001b[0;32m    340\u001b[0m             \u001b[1;32melse\u001b[0m\u001b[1;33m:\u001b[0m\u001b[1;33m\u001b[0m\u001b[1;33m\u001b[0m\u001b[0m\n\u001b[1;32m--> 341\u001b[1;33m                 \u001b[1;32mreturn\u001b[0m \u001b[0mprinter\u001b[0m\u001b[1;33m(\u001b[0m\u001b[0mobj\u001b[0m\u001b[1;33m)\u001b[0m\u001b[1;33m\u001b[0m\u001b[1;33m\u001b[0m\u001b[0m\n\u001b[0m\u001b[0;32m    342\u001b[0m             \u001b[1;31m# Finally look for special method names\u001b[0m\u001b[1;33m\u001b[0m\u001b[1;33m\u001b[0m\u001b[1;33m\u001b[0m\u001b[0m\n\u001b[0;32m    343\u001b[0m             \u001b[0mmethod\u001b[0m \u001b[1;33m=\u001b[0m \u001b[0mget_real_method\u001b[0m\u001b[1;33m(\u001b[0m\u001b[0mobj\u001b[0m\u001b[1;33m,\u001b[0m \u001b[0mself\u001b[0m\u001b[1;33m.\u001b[0m\u001b[0mprint_method\u001b[0m\u001b[1;33m)\u001b[0m\u001b[1;33m\u001b[0m\u001b[1;33m\u001b[0m\u001b[0m\n",
      "\u001b[1;32mC:\\ProgramData\\Anaconda3\\lib\\site-packages\\IPython\\core\\pylabtools.py\u001b[0m in \u001b[0;36m<lambda>\u001b[1;34m(fig)\u001b[0m\n\u001b[0;32m    242\u001b[0m \u001b[1;33m\u001b[0m\u001b[0m\n\u001b[0;32m    243\u001b[0m     \u001b[1;32mif\u001b[0m \u001b[1;34m'png'\u001b[0m \u001b[1;32min\u001b[0m \u001b[0mformats\u001b[0m\u001b[1;33m:\u001b[0m\u001b[1;33m\u001b[0m\u001b[1;33m\u001b[0m\u001b[0m\n\u001b[1;32m--> 244\u001b[1;33m         \u001b[0mpng_formatter\u001b[0m\u001b[1;33m.\u001b[0m\u001b[0mfor_type\u001b[0m\u001b[1;33m(\u001b[0m\u001b[0mFigure\u001b[0m\u001b[1;33m,\u001b[0m \u001b[1;32mlambda\u001b[0m \u001b[0mfig\u001b[0m\u001b[1;33m:\u001b[0m \u001b[0mprint_figure\u001b[0m\u001b[1;33m(\u001b[0m\u001b[0mfig\u001b[0m\u001b[1;33m,\u001b[0m \u001b[1;34m'png'\u001b[0m\u001b[1;33m,\u001b[0m \u001b[1;33m**\u001b[0m\u001b[0mkwargs\u001b[0m\u001b[1;33m)\u001b[0m\u001b[1;33m)\u001b[0m\u001b[1;33m\u001b[0m\u001b[1;33m\u001b[0m\u001b[0m\n\u001b[0m\u001b[0;32m    245\u001b[0m     \u001b[1;32mif\u001b[0m \u001b[1;34m'retina'\u001b[0m \u001b[1;32min\u001b[0m \u001b[0mformats\u001b[0m \u001b[1;32mor\u001b[0m \u001b[1;34m'png2x'\u001b[0m \u001b[1;32min\u001b[0m \u001b[0mformats\u001b[0m\u001b[1;33m:\u001b[0m\u001b[1;33m\u001b[0m\u001b[1;33m\u001b[0m\u001b[0m\n\u001b[0;32m    246\u001b[0m         \u001b[0mpng_formatter\u001b[0m\u001b[1;33m.\u001b[0m\u001b[0mfor_type\u001b[0m\u001b[1;33m(\u001b[0m\u001b[0mFigure\u001b[0m\u001b[1;33m,\u001b[0m \u001b[1;32mlambda\u001b[0m \u001b[0mfig\u001b[0m\u001b[1;33m:\u001b[0m \u001b[0mretina_figure\u001b[0m\u001b[1;33m(\u001b[0m\u001b[0mfig\u001b[0m\u001b[1;33m,\u001b[0m \u001b[1;33m**\u001b[0m\u001b[0mkwargs\u001b[0m\u001b[1;33m)\u001b[0m\u001b[1;33m)\u001b[0m\u001b[1;33m\u001b[0m\u001b[1;33m\u001b[0m\u001b[0m\n",
      "\u001b[1;32mC:\\ProgramData\\Anaconda3\\lib\\site-packages\\IPython\\core\\pylabtools.py\u001b[0m in \u001b[0;36mprint_figure\u001b[1;34m(fig, fmt, bbox_inches, **kwargs)\u001b[0m\n\u001b[0;32m    126\u001b[0m \u001b[1;33m\u001b[0m\u001b[0m\n\u001b[0;32m    127\u001b[0m     \u001b[0mbytes_io\u001b[0m \u001b[1;33m=\u001b[0m \u001b[0mBytesIO\u001b[0m\u001b[1;33m(\u001b[0m\u001b[1;33m)\u001b[0m\u001b[1;33m\u001b[0m\u001b[1;33m\u001b[0m\u001b[0m\n\u001b[1;32m--> 128\u001b[1;33m     \u001b[0mfig\u001b[0m\u001b[1;33m.\u001b[0m\u001b[0mcanvas\u001b[0m\u001b[1;33m.\u001b[0m\u001b[0mprint_figure\u001b[0m\u001b[1;33m(\u001b[0m\u001b[0mbytes_io\u001b[0m\u001b[1;33m,\u001b[0m \u001b[1;33m**\u001b[0m\u001b[0mkw\u001b[0m\u001b[1;33m)\u001b[0m\u001b[1;33m\u001b[0m\u001b[1;33m\u001b[0m\u001b[0m\n\u001b[0m\u001b[0;32m    129\u001b[0m     \u001b[0mdata\u001b[0m \u001b[1;33m=\u001b[0m \u001b[0mbytes_io\u001b[0m\u001b[1;33m.\u001b[0m\u001b[0mgetvalue\u001b[0m\u001b[1;33m(\u001b[0m\u001b[1;33m)\u001b[0m\u001b[1;33m\u001b[0m\u001b[1;33m\u001b[0m\u001b[0m\n\u001b[0;32m    130\u001b[0m     \u001b[1;32mif\u001b[0m \u001b[0mfmt\u001b[0m \u001b[1;33m==\u001b[0m \u001b[1;34m'svg'\u001b[0m\u001b[1;33m:\u001b[0m\u001b[1;33m\u001b[0m\u001b[1;33m\u001b[0m\u001b[0m\n",
      "\u001b[1;32mC:\\ProgramData\\Anaconda3\\lib\\site-packages\\matplotlib\\backend_bases.py\u001b[0m in \u001b[0;36mprint_figure\u001b[1;34m(self, filename, dpi, facecolor, edgecolor, orientation, format, bbox_inches, **kwargs)\u001b[0m\n\u001b[0;32m   2047\u001b[0m                         \u001b[0morientation\u001b[0m\u001b[1;33m=\u001b[0m\u001b[0morientation\u001b[0m\u001b[1;33m,\u001b[0m\u001b[1;33m\u001b[0m\u001b[1;33m\u001b[0m\u001b[0m\n\u001b[0;32m   2048\u001b[0m                         \u001b[0mdryrun\u001b[0m\u001b[1;33m=\u001b[0m\u001b[1;32mTrue\u001b[0m\u001b[1;33m,\u001b[0m\u001b[1;33m\u001b[0m\u001b[1;33m\u001b[0m\u001b[0m\n\u001b[1;32m-> 2049\u001b[1;33m                         **kwargs)\n\u001b[0m\u001b[0;32m   2050\u001b[0m                     \u001b[0mrenderer\u001b[0m \u001b[1;33m=\u001b[0m \u001b[0mself\u001b[0m\u001b[1;33m.\u001b[0m\u001b[0mfigure\u001b[0m\u001b[1;33m.\u001b[0m\u001b[0m_cachedRenderer\u001b[0m\u001b[1;33m\u001b[0m\u001b[1;33m\u001b[0m\u001b[0m\n\u001b[0;32m   2051\u001b[0m                     \u001b[0mbbox_artists\u001b[0m \u001b[1;33m=\u001b[0m \u001b[0mkwargs\u001b[0m\u001b[1;33m.\u001b[0m\u001b[0mpop\u001b[0m\u001b[1;33m(\u001b[0m\u001b[1;34m\"bbox_extra_artists\"\u001b[0m\u001b[1;33m,\u001b[0m \u001b[1;32mNone\u001b[0m\u001b[1;33m)\u001b[0m\u001b[1;33m\u001b[0m\u001b[1;33m\u001b[0m\u001b[0m\n",
      "\u001b[1;32mC:\\ProgramData\\Anaconda3\\lib\\site-packages\\matplotlib\\backends\\backend_agg.py\u001b[0m in \u001b[0;36mprint_png\u001b[1;34m(self, filename_or_obj, *args, **kwargs)\u001b[0m\n\u001b[0;32m    521\u001b[0m                 \u001b[0mcbook\u001b[0m\u001b[1;33m.\u001b[0m\u001b[0mopen_file_cm\u001b[0m\u001b[1;33m(\u001b[0m\u001b[0mfilename_or_obj\u001b[0m\u001b[1;33m,\u001b[0m \u001b[1;34m\"wb\"\u001b[0m\u001b[1;33m)\u001b[0m \u001b[1;32mas\u001b[0m \u001b[0mfh\u001b[0m\u001b[1;33m:\u001b[0m\u001b[1;33m\u001b[0m\u001b[1;33m\u001b[0m\u001b[0m\n\u001b[0;32m    522\u001b[0m             _png.write_png(renderer._renderer, fh,\n\u001b[1;32m--> 523\u001b[1;33m                             self.figure.dpi, metadata=metadata)\n\u001b[0m\u001b[0;32m    524\u001b[0m \u001b[1;33m\u001b[0m\u001b[0m\n\u001b[0;32m    525\u001b[0m     \u001b[1;32mdef\u001b[0m \u001b[0mprint_to_buffer\u001b[0m\u001b[1;33m(\u001b[0m\u001b[0mself\u001b[0m\u001b[1;33m)\u001b[0m\u001b[1;33m:\u001b[0m\u001b[1;33m\u001b[0m\u001b[1;33m\u001b[0m\u001b[0m\n",
      "\u001b[1;31mRuntimeError\u001b[0m: libpng signaled error"
     ]
    },
    {
     "data": {
      "text/plain": [
       "<Figure size 1152x0 with 1 Axes>"
      ]
     },
     "metadata": {
      "needs_background": "light"
     },
     "output_type": "display_data"
    },
    {
     "ename": "RuntimeError",
     "evalue": "libpng signaled error",
     "output_type": "error",
     "traceback": [
      "\u001b[1;31m---------------------------------------------------------------------------\u001b[0m",
      "\u001b[1;31mRuntimeError\u001b[0m                              Traceback (most recent call last)",
      "\u001b[1;32mC:\\ProgramData\\Anaconda3\\lib\\site-packages\\IPython\\core\\formatters.py\u001b[0m in \u001b[0;36m__call__\u001b[1;34m(self, obj)\u001b[0m\n\u001b[0;32m    339\u001b[0m                 \u001b[1;32mpass\u001b[0m\u001b[1;33m\u001b[0m\u001b[1;33m\u001b[0m\u001b[0m\n\u001b[0;32m    340\u001b[0m             \u001b[1;32melse\u001b[0m\u001b[1;33m:\u001b[0m\u001b[1;33m\u001b[0m\u001b[1;33m\u001b[0m\u001b[0m\n\u001b[1;32m--> 341\u001b[1;33m                 \u001b[1;32mreturn\u001b[0m \u001b[0mprinter\u001b[0m\u001b[1;33m(\u001b[0m\u001b[0mobj\u001b[0m\u001b[1;33m)\u001b[0m\u001b[1;33m\u001b[0m\u001b[1;33m\u001b[0m\u001b[0m\n\u001b[0m\u001b[0;32m    342\u001b[0m             \u001b[1;31m# Finally look for special method names\u001b[0m\u001b[1;33m\u001b[0m\u001b[1;33m\u001b[0m\u001b[1;33m\u001b[0m\u001b[0m\n\u001b[0;32m    343\u001b[0m             \u001b[0mmethod\u001b[0m \u001b[1;33m=\u001b[0m \u001b[0mget_real_method\u001b[0m\u001b[1;33m(\u001b[0m\u001b[0mobj\u001b[0m\u001b[1;33m,\u001b[0m \u001b[0mself\u001b[0m\u001b[1;33m.\u001b[0m\u001b[0mprint_method\u001b[0m\u001b[1;33m)\u001b[0m\u001b[1;33m\u001b[0m\u001b[1;33m\u001b[0m\u001b[0m\n",
      "\u001b[1;32mC:\\ProgramData\\Anaconda3\\lib\\site-packages\\IPython\\core\\pylabtools.py\u001b[0m in \u001b[0;36m<lambda>\u001b[1;34m(fig)\u001b[0m\n\u001b[0;32m    242\u001b[0m \u001b[1;33m\u001b[0m\u001b[0m\n\u001b[0;32m    243\u001b[0m     \u001b[1;32mif\u001b[0m \u001b[1;34m'png'\u001b[0m \u001b[1;32min\u001b[0m \u001b[0mformats\u001b[0m\u001b[1;33m:\u001b[0m\u001b[1;33m\u001b[0m\u001b[1;33m\u001b[0m\u001b[0m\n\u001b[1;32m--> 244\u001b[1;33m         \u001b[0mpng_formatter\u001b[0m\u001b[1;33m.\u001b[0m\u001b[0mfor_type\u001b[0m\u001b[1;33m(\u001b[0m\u001b[0mFigure\u001b[0m\u001b[1;33m,\u001b[0m \u001b[1;32mlambda\u001b[0m \u001b[0mfig\u001b[0m\u001b[1;33m:\u001b[0m \u001b[0mprint_figure\u001b[0m\u001b[1;33m(\u001b[0m\u001b[0mfig\u001b[0m\u001b[1;33m,\u001b[0m \u001b[1;34m'png'\u001b[0m\u001b[1;33m,\u001b[0m \u001b[1;33m**\u001b[0m\u001b[0mkwargs\u001b[0m\u001b[1;33m)\u001b[0m\u001b[1;33m)\u001b[0m\u001b[1;33m\u001b[0m\u001b[1;33m\u001b[0m\u001b[0m\n\u001b[0m\u001b[0;32m    245\u001b[0m     \u001b[1;32mif\u001b[0m \u001b[1;34m'retina'\u001b[0m \u001b[1;32min\u001b[0m \u001b[0mformats\u001b[0m \u001b[1;32mor\u001b[0m \u001b[1;34m'png2x'\u001b[0m \u001b[1;32min\u001b[0m \u001b[0mformats\u001b[0m\u001b[1;33m:\u001b[0m\u001b[1;33m\u001b[0m\u001b[1;33m\u001b[0m\u001b[0m\n\u001b[0;32m    246\u001b[0m         \u001b[0mpng_formatter\u001b[0m\u001b[1;33m.\u001b[0m\u001b[0mfor_type\u001b[0m\u001b[1;33m(\u001b[0m\u001b[0mFigure\u001b[0m\u001b[1;33m,\u001b[0m \u001b[1;32mlambda\u001b[0m \u001b[0mfig\u001b[0m\u001b[1;33m:\u001b[0m \u001b[0mretina_figure\u001b[0m\u001b[1;33m(\u001b[0m\u001b[0mfig\u001b[0m\u001b[1;33m,\u001b[0m \u001b[1;33m**\u001b[0m\u001b[0mkwargs\u001b[0m\u001b[1;33m)\u001b[0m\u001b[1;33m)\u001b[0m\u001b[1;33m\u001b[0m\u001b[1;33m\u001b[0m\u001b[0m\n",
      "\u001b[1;32mC:\\ProgramData\\Anaconda3\\lib\\site-packages\\IPython\\core\\pylabtools.py\u001b[0m in \u001b[0;36mprint_figure\u001b[1;34m(fig, fmt, bbox_inches, **kwargs)\u001b[0m\n\u001b[0;32m    126\u001b[0m \u001b[1;33m\u001b[0m\u001b[0m\n\u001b[0;32m    127\u001b[0m     \u001b[0mbytes_io\u001b[0m \u001b[1;33m=\u001b[0m \u001b[0mBytesIO\u001b[0m\u001b[1;33m(\u001b[0m\u001b[1;33m)\u001b[0m\u001b[1;33m\u001b[0m\u001b[1;33m\u001b[0m\u001b[0m\n\u001b[1;32m--> 128\u001b[1;33m     \u001b[0mfig\u001b[0m\u001b[1;33m.\u001b[0m\u001b[0mcanvas\u001b[0m\u001b[1;33m.\u001b[0m\u001b[0mprint_figure\u001b[0m\u001b[1;33m(\u001b[0m\u001b[0mbytes_io\u001b[0m\u001b[1;33m,\u001b[0m \u001b[1;33m**\u001b[0m\u001b[0mkw\u001b[0m\u001b[1;33m)\u001b[0m\u001b[1;33m\u001b[0m\u001b[1;33m\u001b[0m\u001b[0m\n\u001b[0m\u001b[0;32m    129\u001b[0m     \u001b[0mdata\u001b[0m \u001b[1;33m=\u001b[0m \u001b[0mbytes_io\u001b[0m\u001b[1;33m.\u001b[0m\u001b[0mgetvalue\u001b[0m\u001b[1;33m(\u001b[0m\u001b[1;33m)\u001b[0m\u001b[1;33m\u001b[0m\u001b[1;33m\u001b[0m\u001b[0m\n\u001b[0;32m    130\u001b[0m     \u001b[1;32mif\u001b[0m \u001b[0mfmt\u001b[0m \u001b[1;33m==\u001b[0m \u001b[1;34m'svg'\u001b[0m\u001b[1;33m:\u001b[0m\u001b[1;33m\u001b[0m\u001b[1;33m\u001b[0m\u001b[0m\n",
      "\u001b[1;32mC:\\ProgramData\\Anaconda3\\lib\\site-packages\\matplotlib\\backend_bases.py\u001b[0m in \u001b[0;36mprint_figure\u001b[1;34m(self, filename, dpi, facecolor, edgecolor, orientation, format, bbox_inches, **kwargs)\u001b[0m\n\u001b[0;32m   2047\u001b[0m                         \u001b[0morientation\u001b[0m\u001b[1;33m=\u001b[0m\u001b[0morientation\u001b[0m\u001b[1;33m,\u001b[0m\u001b[1;33m\u001b[0m\u001b[1;33m\u001b[0m\u001b[0m\n\u001b[0;32m   2048\u001b[0m                         \u001b[0mdryrun\u001b[0m\u001b[1;33m=\u001b[0m\u001b[1;32mTrue\u001b[0m\u001b[1;33m,\u001b[0m\u001b[1;33m\u001b[0m\u001b[1;33m\u001b[0m\u001b[0m\n\u001b[1;32m-> 2049\u001b[1;33m                         **kwargs)\n\u001b[0m\u001b[0;32m   2050\u001b[0m                     \u001b[0mrenderer\u001b[0m \u001b[1;33m=\u001b[0m \u001b[0mself\u001b[0m\u001b[1;33m.\u001b[0m\u001b[0mfigure\u001b[0m\u001b[1;33m.\u001b[0m\u001b[0m_cachedRenderer\u001b[0m\u001b[1;33m\u001b[0m\u001b[1;33m\u001b[0m\u001b[0m\n\u001b[0;32m   2051\u001b[0m                     \u001b[0mbbox_artists\u001b[0m \u001b[1;33m=\u001b[0m \u001b[0mkwargs\u001b[0m\u001b[1;33m.\u001b[0m\u001b[0mpop\u001b[0m\u001b[1;33m(\u001b[0m\u001b[1;34m\"bbox_extra_artists\"\u001b[0m\u001b[1;33m,\u001b[0m \u001b[1;32mNone\u001b[0m\u001b[1;33m)\u001b[0m\u001b[1;33m\u001b[0m\u001b[1;33m\u001b[0m\u001b[0m\n",
      "\u001b[1;32mC:\\ProgramData\\Anaconda3\\lib\\site-packages\\matplotlib\\backends\\backend_agg.py\u001b[0m in \u001b[0;36mprint_png\u001b[1;34m(self, filename_or_obj, *args, **kwargs)\u001b[0m\n\u001b[0;32m    521\u001b[0m                 \u001b[0mcbook\u001b[0m\u001b[1;33m.\u001b[0m\u001b[0mopen_file_cm\u001b[0m\u001b[1;33m(\u001b[0m\u001b[0mfilename_or_obj\u001b[0m\u001b[1;33m,\u001b[0m \u001b[1;34m\"wb\"\u001b[0m\u001b[1;33m)\u001b[0m \u001b[1;32mas\u001b[0m \u001b[0mfh\u001b[0m\u001b[1;33m:\u001b[0m\u001b[1;33m\u001b[0m\u001b[1;33m\u001b[0m\u001b[0m\n\u001b[0;32m    522\u001b[0m             _png.write_png(renderer._renderer, fh,\n\u001b[1;32m--> 523\u001b[1;33m                             self.figure.dpi, metadata=metadata)\n\u001b[0m\u001b[0;32m    524\u001b[0m \u001b[1;33m\u001b[0m\u001b[0m\n\u001b[0;32m    525\u001b[0m     \u001b[1;32mdef\u001b[0m \u001b[0mprint_to_buffer\u001b[0m\u001b[1;33m(\u001b[0m\u001b[0mself\u001b[0m\u001b[1;33m)\u001b[0m\u001b[1;33m:\u001b[0m\u001b[1;33m\u001b[0m\u001b[1;33m\u001b[0m\u001b[0m\n",
      "\u001b[1;31mRuntimeError\u001b[0m: libpng signaled error"
     ]
    },
    {
     "data": {
      "text/plain": [
       "<Figure size 1152x0 with 1 Axes>"
      ]
     },
     "metadata": {
      "needs_background": "light"
     },
     "output_type": "display_data"
    }
   ],
   "source": [
    "layer_outputs = [layer.output for layer in model1.layers[:12]]\n",
    "activation_model = Model(inputs=model1.input, outputs=layer_outputs)\n",
    "activations=activation_model.predict(train_set[0:1])\n",
    "\n",
    "first_layer_activation = activations[0]\n",
    "print(first_layer_activation.shape)\n",
    "plt.matshow(first_layer_activation[0, 0, :,:, 0], cmap='viridis')\n",
    "\n",
    "layer_names = []\n",
    "for layer in model1.layers[:12]:\n",
    "    layer_names.append(layer.name) # Names of the layers, so you can have them as part of your plot\n",
    "    \n",
    "images_per_row = 16\n",
    "\n",
    "for layer_name, layer_activation in zip(layer_names, activations): # Displays the feature maps\n",
    "    n_features = layer_activation.shape[-1] # Number of features in the feature map\n",
    "    size = layer_activation.shape[1] #The feature map has shape (1, size, size, n_features).\n",
    "    n_cols = n_features // images_per_row # Tiles the activation channels in this matrix\n",
    "    display_grid = np.zeros((size * n_cols, images_per_row * size))\n",
    "    for col in range(n_cols): # Tiles each filter into a big horizontal grid\n",
    "        for row in range(images_per_row):\n",
    "            channel_image = layer_activation[0,\n",
    "                                             :, :,\n",
    "                                             col * images_per_row + row]\n",
    "            channel_image -= channel_image.mean() # Post-processes the feature to make it visually palatable\n",
    "            channel_image /= channel_image.std()\n",
    "            channel_image *= 64\n",
    "            channel_image += 128\n",
    "            channel_image = np.clip(channel_image, 0, 255).astype('uint8')\n",
    "            display_grid[col * size : (col + 1) * size, # Displays the grid\n",
    "                         row * size : (row + 1) * size] = channel_image\n",
    "    scale = 1. / size\n",
    "    plt.figure(figsize=(scale * display_grid.shape[1],\n",
    "                        scale * display_grid.shape[0]))\n",
    "    plt.title(layer_name)\n",
    "    plt.grid(False)\n",
    "    plt.imshow(display_grid, aspect='auto', cmap='viridis')"
   ]
  },
  {
   "cell_type": "code",
   "execution_count": null,
   "metadata": {},
   "outputs": [],
   "source": []
  }
 ],
 "metadata": {
  "kernelspec": {
   "display_name": "Python 3",
   "language": "python",
   "name": "python3"
  },
  "language_info": {
   "codemirror_mode": {
    "name": "ipython",
    "version": 3
   },
   "file_extension": ".py",
   "mimetype": "text/x-python",
   "name": "python",
   "nbconvert_exporter": "python",
   "pygments_lexer": "ipython3",
   "version": "3.6.8"
  }
 },
 "nbformat": 4,
 "nbformat_minor": 2
}
